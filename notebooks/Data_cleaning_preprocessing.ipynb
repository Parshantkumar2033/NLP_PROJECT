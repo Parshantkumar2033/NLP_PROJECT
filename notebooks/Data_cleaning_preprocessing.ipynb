{
 "cells": [
  {
   "cell_type": "code",
   "execution_count": 14,
   "id": "0b1dd60b",
   "metadata": {},
   "outputs": [],
   "source": [
    "import numpy as np \n",
    "import pandas as pd\n",
    "import matplotlib.pyplot as plt\n",
    "import nltk\n",
    "from sklearn.utils import shuffle\n",
    "import string\n",
    "import re\n",
    "import os\n",
    "from tqdm import tqdm\n",
    "from nltk.corpus import stopwords\n",
    "from nltk.tokenize import word_tokenize, sent_tokenize\n",
    "from nltk.stem import PorterStemmer, WordNetLemmatizer\n",
    "from sklearn.feature_extraction.text import CountVectorizer\n",
    "from sklearn.feature_extraction.text import TfidfVectorizer\n",
    "from sklearn.linear_model import LogisticRegressionCV, LogisticRegression\n",
    "from sklearn.model_selection import StratifiedKFold\n",
    "from sklearn.metrics import confusion_matrix, ConfusionMatrixDisplay, classification_report\n",
    "from sklearn.pipeline import Pipeline, make_pipeline\n",
    "from sklearn.preprocessing import FunctionTransformer\n",
    "from sklearn.compose import ColumnTransformer\n",
    "from sklearn.base import BaseEstimator, TransformerMixin"
   ]
  },
  {
   "cell_type": "code",
   "execution_count": 13,
   "id": "35eece42",
   "metadata": {
    "collapsed": true
   },
   "outputs": [
    {
     "name": "stdout",
     "output_type": "stream",
     "text": [
      "Collecting nltk\n",
      "  Downloading nltk-3.9.1-py3-none-any.whl.metadata (2.9 kB)\n",
      "Requirement already satisfied: click in c:\\users\\prashant kajal\\.conda\\envs\\tensorflow2\\lib\\site-packages (from nltk) (8.1.7)\n",
      "Requirement already satisfied: joblib in c:\\users\\prashant kajal\\.conda\\envs\\tensorflow2\\lib\\site-packages (from nltk) (1.2.0)\n",
      "Collecting regex>=2021.8.3 (from nltk)\n",
      "  Downloading regex-2024.9.11-cp39-cp39-win_amd64.whl.metadata (41 kB)\n",
      "     ---------------------------------------- 0.0/41.5 kB ? eta -:--:--\n",
      "     ---------------------------------------- 41.5/41.5 kB 2.0 MB/s eta 0:00:00\n",
      "Requirement already satisfied: tqdm in c:\\users\\prashant kajal\\.conda\\envs\\tensorflow2\\lib\\site-packages (from nltk) (4.66.2)\n",
      "Requirement already satisfied: colorama in c:\\users\\prashant kajal\\.conda\\envs\\tensorflow2\\lib\\site-packages (from click->nltk) (0.4.6)\n",
      "Downloading nltk-3.9.1-py3-none-any.whl (1.5 MB)\n",
      "   ---------------------------------------- 0.0/1.5 MB ? eta -:--:--\n",
      "   --- ------------------------------------ 0.1/1.5 MB 4.2 MB/s eta 0:00:01\n",
      "   ------- -------------------------------- 0.3/1.5 MB 3.5 MB/s eta 0:00:01\n",
      "   ------------- -------------------------- 0.5/1.5 MB 3.9 MB/s eta 0:00:01\n",
      "   ------------------ --------------------- 0.7/1.5 MB 4.0 MB/s eta 0:00:01\n",
      "   ------------------------ --------------- 0.9/1.5 MB 4.1 MB/s eta 0:00:01\n",
      "   ----------------------------- ---------- 1.1/1.5 MB 4.2 MB/s eta 0:00:01\n",
      "   ------------------------------------- -- 1.4/1.5 MB 4.2 MB/s eta 0:00:01\n",
      "   ---------------------------------------- 1.5/1.5 MB 4.2 MB/s eta 0:00:00\n",
      "Downloading regex-2024.9.11-cp39-cp39-win_amd64.whl (274 kB)\n",
      "   ---------------------------------------- 0.0/274.1 kB ? eta -:--:--\n",
      "   ---------------------------- ----------- 194.6/274.1 kB 5.9 MB/s eta 0:00:01\n",
      "   ---------------------------------------- 274.1/274.1 kB 4.3 MB/s eta 0:00:00\n",
      "Installing collected packages: regex, nltk\n",
      "Successfully installed nltk-3.9.1 regex-2024.9.11\n"
     ]
    }
   ],
   "source": [
    "!pip install nltk"
   ]
  },
  {
   "cell_type": "code",
   "execution_count": 300,
   "id": "73e7d0b5",
   "metadata": {
    "collapsed": true
   },
   "outputs": [
    {
     "name": "stdout",
     "output_type": "stream",
     "text": [
      "Requirement already satisfied: dask[dataframe] in c:\\users\\prashant kajal\\.conda\\envs\\preprocess_env\\lib\\site-packages (2024.8.0)\n",
      "Requirement already satisfied: click>=8.1 in c:\\users\\prashant kajal\\.conda\\envs\\preprocess_env\\lib\\site-packages (from dask[dataframe]) (8.1.7)\n",
      "Requirement already satisfied: cloudpickle>=1.5.0 in c:\\users\\prashant kajal\\.conda\\envs\\preprocess_env\\lib\\site-packages (from dask[dataframe]) (3.0.0)\n",
      "Requirement already satisfied: fsspec>=2021.09.0 in c:\\users\\prashant kajal\\.conda\\envs\\preprocess_env\\lib\\site-packages (from dask[dataframe]) (2024.9.0)\n",
      "Requirement already satisfied: packaging>=20.0 in c:\\users\\prashant kajal\\.conda\\envs\\preprocess_env\\lib\\site-packages (from dask[dataframe]) (23.2)\n",
      "Requirement already satisfied: partd>=1.4.0 in c:\\users\\prashant kajal\\.conda\\envs\\preprocess_env\\lib\\site-packages (from dask[dataframe]) (1.4.2)\n",
      "Requirement already satisfied: pyyaml>=5.3.1 in c:\\users\\prashant kajal\\.conda\\envs\\preprocess_env\\lib\\site-packages (from dask[dataframe]) (6.0.1)\n",
      "Requirement already satisfied: toolz>=0.10.0 in c:\\users\\prashant kajal\\.conda\\envs\\preprocess_env\\lib\\site-packages (from dask[dataframe]) (0.12.1)\n",
      "Requirement already satisfied: importlib-metadata>=4.13.0 in c:\\users\\prashant kajal\\.conda\\envs\\preprocess_env\\lib\\site-packages (from dask[dataframe]) (7.0.1)\n",
      "Requirement already satisfied: pandas>=2.0 in c:\\users\\prashant kajal\\.conda\\envs\\preprocess_env\\lib\\site-packages (from dask[dataframe]) (2.2.3)\n",
      "Requirement already satisfied: dask-expr<1.2,>=1.1 in c:\\users\\prashant kajal\\.conda\\envs\\preprocess_env\\lib\\site-packages (from dask[dataframe]) (1.1.10)\n",
      "Requirement already satisfied: colorama in c:\\users\\prashant kajal\\.conda\\envs\\preprocess_env\\lib\\site-packages (from click>=8.1->dask[dataframe]) (0.4.6)\n",
      "Requirement already satisfied: pyarrow>=7.0.0 in c:\\users\\prashant kajal\\.conda\\envs\\preprocess_env\\lib\\site-packages (from dask-expr<1.2,>=1.1->dask[dataframe]) (17.0.0)\n",
      "Requirement already satisfied: zipp>=0.5 in c:\\users\\prashant kajal\\.conda\\envs\\preprocess_env\\lib\\site-packages (from importlib-metadata>=4.13.0->dask[dataframe]) (3.17.0)\n",
      "Requirement already satisfied: numpy>=1.22.4 in c:\\users\\prashant kajal\\.conda\\envs\\preprocess_env\\lib\\site-packages (from pandas>=2.0->dask[dataframe]) (1.23.5)\n",
      "Requirement already satisfied: python-dateutil>=2.8.2 in c:\\users\\prashant kajal\\.conda\\envs\\preprocess_env\\lib\\site-packages (from pandas>=2.0->dask[dataframe]) (2.8.2)\n",
      "Requirement already satisfied: pytz>=2020.1 in c:\\users\\prashant kajal\\.conda\\envs\\preprocess_env\\lib\\site-packages (from pandas>=2.0->dask[dataframe]) (2023.3.post1)\n",
      "Requirement already satisfied: tzdata>=2022.7 in c:\\users\\prashant kajal\\.conda\\envs\\preprocess_env\\lib\\site-packages (from pandas>=2.0->dask[dataframe]) (2024.2)\n",
      "Requirement already satisfied: locket in c:\\users\\prashant kajal\\.conda\\envs\\preprocess_env\\lib\\site-packages (from partd>=1.4.0->dask[dataframe]) (1.0.0)\n",
      "Requirement already satisfied: six>=1.5 in c:\\users\\prashant kajal\\.conda\\envs\\preprocess_env\\lib\\site-packages (from python-dateutil>=2.8.2->pandas>=2.0->dask[dataframe]) (1.16.0)\n"
     ]
    }
   ],
   "source": [
    "!pip install dask[dataframe]"
   ]
  },
  {
   "cell_type": "code",
   "execution_count": 301,
   "id": "ed6df200",
   "metadata": {
    "collapsed": true
   },
   "outputs": [
    {
     "name": "stdout",
     "output_type": "stream",
     "text": [
      "Requirement already satisfied: pandas in c:\\users\\prashant kajal\\.conda\\envs\\preprocess_env\\lib\\site-packages (2.2.3)\n",
      "Requirement already satisfied: numpy>=1.22.4 in c:\\users\\prashant kajal\\.conda\\envs\\preprocess_env\\lib\\site-packages (from pandas) (1.23.5)\n",
      "Requirement already satisfied: python-dateutil>=2.8.2 in c:\\users\\prashant kajal\\.conda\\envs\\preprocess_env\\lib\\site-packages (from pandas) (2.8.2)\n",
      "Requirement already satisfied: pytz>=2020.1 in c:\\users\\prashant kajal\\.conda\\envs\\preprocess_env\\lib\\site-packages (from pandas) (2023.3.post1)\n",
      "Requirement already satisfied: tzdata>=2022.7 in c:\\users\\prashant kajal\\.conda\\envs\\preprocess_env\\lib\\site-packages (from pandas) (2024.2)\n",
      "Requirement already satisfied: six>=1.5 in c:\\users\\prashant kajal\\.conda\\envs\\preprocess_env\\lib\\site-packages (from python-dateutil>=2.8.2->pandas) (1.16.0)\n"
     ]
    }
   ],
   "source": [
    "!pip install --upgrade pandas"
   ]
  },
  {
   "cell_type": "code",
   "execution_count": null,
   "id": "e58af3c3",
   "metadata": {},
   "outputs": [],
   "source": []
  },
  {
   "cell_type": "markdown",
   "id": "ed644cbd",
   "metadata": {},
   "source": [
    "### Fetchine Data"
   ]
  },
  {
   "cell_type": "code",
   "execution_count": 15,
   "id": "eabf2d42",
   "metadata": {},
   "outputs": [
    {
     "name": "stdout",
     "output_type": "stream",
     "text": [
      "entities\n",
      "entities_similar\n",
      "highlights\n",
      "highlights_similar\n",
      "metadata\n",
      "metadata_similar\n"
     ]
    }
   ],
   "source": [
    "data_dir = os.path.join(\"..\", \"Data\", \"sbi_csv\")\n",
    "\n",
    "list_files = os.listdir(data_dir)\n",
    "\n",
    "csv_files = [file for file in list_files if file.endswith('.csv')]\n",
    "\n",
    "data_frames = {}\n",
    "for file in csv_files:\n",
    "    data_frames[file[:-4]] = pd.read_csv(os.path.join(data_dir, file))\n",
    "\n",
    "for key in data_frames:\n",
    "    print(key)"
   ]
  },
  {
   "cell_type": "code",
   "execution_count": 16,
   "id": "6500d1cc",
   "metadata": {},
   "outputs": [],
   "source": [
    "entities = data_frames['entities']\n",
    "entities_similar = data_frames['entities_similar']\n",
    "highlights = data_frames['highlights']\n",
    "highlights_similar = data_frames['highlights_similar']\n",
    "metadata = data_frames['metadata']\n",
    "metadata_similar = data_frames['metadata_similar']"
   ]
  },
  {
   "cell_type": "code",
   "execution_count": 17,
   "id": "29798ec8",
   "metadata": {},
   "outputs": [],
   "source": [
    "metadata.drop(columns = ['Unnamed: 0'], inplace = True)"
   ]
  },
  {
   "cell_type": "code",
   "execution_count": 18,
   "id": "d0cb060f",
   "metadata": {},
   "outputs": [
    {
     "data": {
      "text/html": [
       "<div>\n",
       "<style scoped>\n",
       "    .dataframe tbody tr th:only-of-type {\n",
       "        vertical-align: middle;\n",
       "    }\n",
       "\n",
       "    .dataframe tbody tr th {\n",
       "        vertical-align: top;\n",
       "    }\n",
       "\n",
       "    .dataframe thead th {\n",
       "        text-align: right;\n",
       "    }\n",
       "</style>\n",
       "<table border=\"1\" class=\"dataframe\">\n",
       "  <thead>\n",
       "    <tr style=\"text-align: right;\">\n",
       "      <th></th>\n",
       "      <th>published_at</th>\n",
       "      <th>uuid</th>\n",
       "      <th>title</th>\n",
       "      <th>description</th>\n",
       "      <th>snippet</th>\n",
       "      <th>url</th>\n",
       "      <th>image_url</th>\n",
       "      <th>language</th>\n",
       "      <th>source</th>\n",
       "      <th>relevance_score</th>\n",
       "    </tr>\n",
       "  </thead>\n",
       "  <tbody>\n",
       "    <tr>\n",
       "      <th>0</th>\n",
       "      <td>2024-09-18 12:45:04+00:00</td>\n",
       "      <td>bb5429b2-be36-4088-b04c-9f17e9003d2d</td>\n",
       "      <td>Banking system low-cost deposits could decline...</td>\n",
       "      <td>SBI’s Casa ratio stood at 40.7% as on 30 June,...</td>\n",
       "      <td>Mumbai: The share of low-cost deposits in the ...</td>\n",
       "      <td>https://www.livemint.com/industry/banking/bank...</td>\n",
       "      <td>https://www.livemint.com/lm-img/img/2024/09/18...</td>\n",
       "      <td>en</td>\n",
       "      <td>livemint.com</td>\n",
       "      <td>NaN</td>\n",
       "    </tr>\n",
       "    <tr>\n",
       "      <th>1</th>\n",
       "      <td>2024-09-18 12:37:42+00:00</td>\n",
       "      <td>0b24d613-2705-4283-b45e-3b8942fc5762</td>\n",
       "      <td>State Bank of India raises Rs 7,500 cr at 7.33...</td>\n",
       "      <td>Tier-2 bond issuance: This issuance follows a ...</td>\n",
       "      <td>The State Bank of India (SBI) raised Rs 7,500 ...</td>\n",
       "      <td>https://www.business-standard.com/companies/ne...</td>\n",
       "      <td>https://bsmedia.business-standard.com/_media/b...</td>\n",
       "      <td>en</td>\n",
       "      <td>business-standard.com</td>\n",
       "      <td>NaN</td>\n",
       "    </tr>\n",
       "    <tr>\n",
       "      <th>2</th>\n",
       "      <td>2024-09-18 11:56:10+00:00</td>\n",
       "      <td>9bcbd8e3-7f97-4d00-aae8-1f08f1a674fd</td>\n",
       "      <td>SBI raises ₹15,000 cr via Basel III bonds in a...</td>\n",
       "      <td>In less than a month, State Bank of India rais...</td>\n",
       "      <td>Shares of State Bank of India (SBI) ended 1% h...</td>\n",
       "      <td>https://www.fortuneindia.com/investing/sbi-rai...</td>\n",
       "      <td>https://media.assettype.com/fortuneindia/2022-...</td>\n",
       "      <td>en</td>\n",
       "      <td>fortuneindia.com</td>\n",
       "      <td>NaN</td>\n",
       "    </tr>\n",
       "    <tr>\n",
       "      <th>3</th>\n",
       "      <td>2024-09-18 11:36:14+00:00</td>\n",
       "      <td>0d05c075-706d-4a5e-920c-ae39a41b420b</td>\n",
       "      <td>Stock Market Sectors: Stock market update: Min...</td>\n",
       "      <td>The 30-share BSE Sensex closed  down  131.43 p...</td>\n",
       "      <td>\\n\\n\\n\\n(You can now subscribe to our\\n\\n(You ...</td>\n",
       "      <td>https://economictimes.indiatimes.com/markets/s...</td>\n",
       "      <td>https://img.etimg.com/thumb/msid-82697732,widt...</td>\n",
       "      <td>en</td>\n",
       "      <td>economictimes.indiatimes.com</td>\n",
       "      <td>NaN</td>\n",
       "    </tr>\n",
       "    <tr>\n",
       "      <th>4</th>\n",
       "      <td>2024-09-18 11:27:31+00:00</td>\n",
       "      <td>6bf48528-aaf6-4c9d-93b8-303c23033b91</td>\n",
       "      <td>Banks’ CASA ratio may fall further as cos, gov...</td>\n",
       "      <td>SBI Chairman discusses impact of enhanced cash...</td>\n",
       "      <td>The enhanced cash management efficiency of gov...</td>\n",
       "      <td>https://www.thehindubusinessline.com/money-and...</td>\n",
       "      <td>https://bl-i.thgim.com/public/incoming/em0t96/...</td>\n",
       "      <td>en</td>\n",
       "      <td>thehindubusinessline.com</td>\n",
       "      <td>NaN</td>\n",
       "    </tr>\n",
       "  </tbody>\n",
       "</table>\n",
       "</div>"
      ],
      "text/plain": [
       "                published_at                                  uuid  \\\n",
       "0  2024-09-18 12:45:04+00:00  bb5429b2-be36-4088-b04c-9f17e9003d2d   \n",
       "1  2024-09-18 12:37:42+00:00  0b24d613-2705-4283-b45e-3b8942fc5762   \n",
       "2  2024-09-18 11:56:10+00:00  9bcbd8e3-7f97-4d00-aae8-1f08f1a674fd   \n",
       "3  2024-09-18 11:36:14+00:00  0d05c075-706d-4a5e-920c-ae39a41b420b   \n",
       "4  2024-09-18 11:27:31+00:00  6bf48528-aaf6-4c9d-93b8-303c23033b91   \n",
       "\n",
       "                                               title  \\\n",
       "0  Banking system low-cost deposits could decline...   \n",
       "1  State Bank of India raises Rs 7,500 cr at 7.33...   \n",
       "2  SBI raises ₹15,000 cr via Basel III bonds in a...   \n",
       "3  Stock Market Sectors: Stock market update: Min...   \n",
       "4  Banks’ CASA ratio may fall further as cos, gov...   \n",
       "\n",
       "                                         description  \\\n",
       "0  SBI’s Casa ratio stood at 40.7% as on 30 June,...   \n",
       "1  Tier-2 bond issuance: This issuance follows a ...   \n",
       "2  In less than a month, State Bank of India rais...   \n",
       "3  The 30-share BSE Sensex closed  down  131.43 p...   \n",
       "4  SBI Chairman discusses impact of enhanced cash...   \n",
       "\n",
       "                                             snippet  \\\n",
       "0  Mumbai: The share of low-cost deposits in the ...   \n",
       "1  The State Bank of India (SBI) raised Rs 7,500 ...   \n",
       "2  Shares of State Bank of India (SBI) ended 1% h...   \n",
       "3  \\n\\n\\n\\n(You can now subscribe to our\\n\\n(You ...   \n",
       "4  The enhanced cash management efficiency of gov...   \n",
       "\n",
       "                                                 url  \\\n",
       "0  https://www.livemint.com/industry/banking/bank...   \n",
       "1  https://www.business-standard.com/companies/ne...   \n",
       "2  https://www.fortuneindia.com/investing/sbi-rai...   \n",
       "3  https://economictimes.indiatimes.com/markets/s...   \n",
       "4  https://www.thehindubusinessline.com/money-and...   \n",
       "\n",
       "                                           image_url language  \\\n",
       "0  https://www.livemint.com/lm-img/img/2024/09/18...       en   \n",
       "1  https://bsmedia.business-standard.com/_media/b...       en   \n",
       "2  https://media.assettype.com/fortuneindia/2022-...       en   \n",
       "3  https://img.etimg.com/thumb/msid-82697732,widt...       en   \n",
       "4  https://bl-i.thgim.com/public/incoming/em0t96/...       en   \n",
       "\n",
       "                         source  relevance_score  \n",
       "0                  livemint.com              NaN  \n",
       "1         business-standard.com              NaN  \n",
       "2              fortuneindia.com              NaN  \n",
       "3  economictimes.indiatimes.com              NaN  \n",
       "4      thehindubusinessline.com              NaN  "
      ]
     },
     "execution_count": 18,
     "metadata": {},
     "output_type": "execute_result"
    }
   ],
   "source": [
    "metadata.head()"
   ]
  },
  {
   "cell_type": "code",
   "execution_count": 19,
   "id": "16b3707d",
   "metadata": {},
   "outputs": [
    {
     "data": {
      "text/plain": [
       "(12579, 10)"
      ]
     },
     "execution_count": 19,
     "metadata": {},
     "output_type": "execute_result"
    }
   ],
   "source": [
    "metadata.shape"
   ]
  },
  {
   "cell_type": "code",
   "execution_count": 20,
   "id": "73464322",
   "metadata": {},
   "outputs": [
    {
     "data": {
      "text/plain": [
       "12579"
      ]
     },
     "execution_count": 20,
     "metadata": {},
     "output_type": "execute_result"
    }
   ],
   "source": [
    "metadata['uuid'].nunique()"
   ]
  },
  {
   "cell_type": "markdown",
   "id": "63e436bd",
   "metadata": {},
   "source": [
    "### 'metadata' dataset contains 'uuid' for those articles which are from 'State Bank of India'"
   ]
  },
  {
   "cell_type": "code",
   "execution_count": 21,
   "id": "f1bbcce9",
   "metadata": {},
   "outputs": [
    {
     "data": {
      "text/plain": [
       "name\n",
       "State Bank of India    12579\n",
       "Name: count, dtype: int64"
      ]
     },
     "execution_count": 21,
     "metadata": {},
     "output_type": "execute_result"
    }
   ],
   "source": [
    "entities['name'].value_counts()"
   ]
  },
  {
   "cell_type": "markdown",
   "id": "7eb984b6",
   "metadata": {},
   "source": [
    "### meta_similar_unique contains those samples whose 'uuid's are not present in the 'metadata' dataset\n",
    "### Taking out the data for those 'uuid's which are not present in 'metadata' "
   ]
  },
  {
   "cell_type": "code",
   "execution_count": 22,
   "id": "9f1ead0b",
   "metadata": {
    "scrolled": true
   },
   "outputs": [],
   "source": [
    "meta_similar_unique = metadata_similar[metadata_similar['uuid'].isin(metadata['uuid']) == False].reset_index().drop(columns = ['index', 'Unnamed: 0'])"
   ]
  },
  {
   "cell_type": "code",
   "execution_count": 23,
   "id": "e33d414f",
   "metadata": {
    "scrolled": true
   },
   "outputs": [
    {
     "data": {
      "text/html": [
       "<div>\n",
       "<style scoped>\n",
       "    .dataframe tbody tr th:only-of-type {\n",
       "        vertical-align: middle;\n",
       "    }\n",
       "\n",
       "    .dataframe tbody tr th {\n",
       "        vertical-align: top;\n",
       "    }\n",
       "\n",
       "    .dataframe thead th {\n",
       "        text-align: right;\n",
       "    }\n",
       "</style>\n",
       "<table border=\"1\" class=\"dataframe\">\n",
       "  <thead>\n",
       "    <tr style=\"text-align: right;\">\n",
       "      <th></th>\n",
       "      <th>published_at</th>\n",
       "      <th>uuid</th>\n",
       "      <th>title</th>\n",
       "      <th>description</th>\n",
       "      <th>snippet</th>\n",
       "      <th>url</th>\n",
       "      <th>image_url</th>\n",
       "      <th>language</th>\n",
       "      <th>source</th>\n",
       "      <th>relevance_score</th>\n",
       "    </tr>\n",
       "  </thead>\n",
       "  <tbody>\n",
       "    <tr>\n",
       "      <th>0</th>\n",
       "      <td>2024-09-18T12:02:18.000000Z</td>\n",
       "      <td>e75cdefa-a7e0-46ba-8a0c-d2574e7bfc8f</td>\n",
       "      <td>Rise In Unsecured Small Ticket Loans Not Alarm...</td>\n",
       "      <td>The rise in small value unsecured loans with a...</td>\n",
       "      <td>The rise in small-value unsecured loans with a...</td>\n",
       "      <td>https://www.ndtvprofit.com/economy-finance/sbi...</td>\n",
       "      <td>https://media.assettype.com/bloombergquint%2F2...</td>\n",
       "      <td>en</td>\n",
       "      <td>bloombergquint.com</td>\n",
       "      <td>NaN</td>\n",
       "    </tr>\n",
       "    <tr>\n",
       "      <th>1</th>\n",
       "      <td>2024-09-18T12:02:18.000000Z</td>\n",
       "      <td>7126ca9f-90cf-4a03-b6e9-5ee6d0a0ec9c</td>\n",
       "      <td>SBI Raises Rs 7,500 Crore Via Second Tranche O...</td>\n",
       "      <td>State Bank of India bagged Rs 7,500 crore thro...</td>\n",
       "      <td>State Bank of India bagged Rs 7,500 crore thro...</td>\n",
       "      <td>https://www.ndtvprofit.com/business/sbi-raises...</td>\n",
       "      <td>https://media.assettype.com/bloombergquint%2F2...</td>\n",
       "      <td>en</td>\n",
       "      <td>bloombergquint.com</td>\n",
       "      <td>NaN</td>\n",
       "    </tr>\n",
       "    <tr>\n",
       "      <th>2</th>\n",
       "      <td>2024-09-18T11:26:00.000000Z</td>\n",
       "      <td>78644d24-249e-40a2-8151-5320d71eee4f</td>\n",
       "      <td>Stock Market Sectors: Stock market update: Sug...</td>\n",
       "      <td>The 30-share BSE Sensex closed  down  131.43 p...</td>\n",
       "      <td>\\n\\n\\n\\n(You can now subscribe to our\\n\\n(You ...</td>\n",
       "      <td>https://economictimes.indiatimes.com/markets/s...</td>\n",
       "      <td>https://img.etimg.com/thumb/msid-83515267,widt...</td>\n",
       "      <td>en</td>\n",
       "      <td>economictimes.indiatimes.com</td>\n",
       "      <td>NaN</td>\n",
       "    </tr>\n",
       "    <tr>\n",
       "      <th>3</th>\n",
       "      <td>2024-09-15T05:40:15.000000Z</td>\n",
       "      <td>986ea556-7b6a-458c-86ad-e7c1b9687a60</td>\n",
       "      <td>Mcap: Nine of top-10 most valued firms jump ₹2...</td>\n",
       "      <td>Reliance Industries led the chart of the top-1...</td>\n",
       "      <td>Nine of the top-10 most valued firms together ...</td>\n",
       "      <td>https://www.thehindubusinessline.com/markets/m...</td>\n",
       "      <td>https://bl-i.thgim.com/public/incoming/4vvb0i/...</td>\n",
       "      <td>en</td>\n",
       "      <td>thehindubusinessline.com</td>\n",
       "      <td>NaN</td>\n",
       "    </tr>\n",
       "    <tr>\n",
       "      <th>4</th>\n",
       "      <td>2024-09-13T10:50:30.000000Z</td>\n",
       "      <td>2b0ceca0-0641-4c05-a24f-a989dddc8c6e</td>\n",
       "      <td>Stock Market Sectors: Stock market update: FMC...</td>\n",
       "      <td>The 30-share BSE Sensex closed  down  71.77 po...</td>\n",
       "      <td>\\n\\n\\n\\n(You can now subscribe to our\\n\\n(You ...</td>\n",
       "      <td>https://economictimes.indiatimes.com/markets/s...</td>\n",
       "      <td>https://img.etimg.com/thumb/msid-83800143,widt...</td>\n",
       "      <td>en</td>\n",
       "      <td>economictimes.indiatimes.com</td>\n",
       "      <td>NaN</td>\n",
       "    </tr>\n",
       "    <tr>\n",
       "      <th>...</th>\n",
       "      <td>...</td>\n",
       "      <td>...</td>\n",
       "      <td>...</td>\n",
       "      <td>...</td>\n",
       "      <td>...</td>\n",
       "      <td>...</td>\n",
       "      <td>...</td>\n",
       "      <td>...</td>\n",
       "      <td>...</td>\n",
       "      <td>...</td>\n",
       "    </tr>\n",
       "    <tr>\n",
       "      <th>728</th>\n",
       "      <td>2022-09-14T11:41:45.000000Z</td>\n",
       "      <td>0a6f3830-86a7-4911-b785-a538f5d394d1</td>\n",
       "      <td>Stock Market Sectors: Stock market update: Fer...</td>\n",
       "      <td>The 30-share BSE Sensex closed  down  224.11 p...</td>\n",
       "      <td>NEW DELHI: Fertilisers shares closed lower in ...</td>\n",
       "      <td>https://economictimes.indiatimes.com/markets/s...</td>\n",
       "      <td>https://img.etimg.com/thumb/msid-83209716,widt...</td>\n",
       "      <td>en</td>\n",
       "      <td>economictimes.indiatimes.com</td>\n",
       "      <td>NaN</td>\n",
       "    </tr>\n",
       "    <tr>\n",
       "      <th>729</th>\n",
       "      <td>2022-09-14T08:19:07.000000Z</td>\n",
       "      <td>af86695f-0983-40be-b4b9-eba62c116c75</td>\n",
       "      <td>SBI becomes third bank to cross Rs 5 lakh cror...</td>\n",
       "      <td>SBI market cap: Market watchers believe that S...</td>\n",
       "      <td>Country’s biggest lender by assets State Bank ...</td>\n",
       "      <td>https://www.businesstoday.in/markets/story/sbi...</td>\n",
       "      <td>https://akm-img-a-in.tosshub.com/businesstoday...</td>\n",
       "      <td>en</td>\n",
       "      <td>businesstoday.in</td>\n",
       "      <td>NaN</td>\n",
       "    </tr>\n",
       "    <tr>\n",
       "      <th>730</th>\n",
       "      <td>2022-09-14T04:49:31.000000Z</td>\n",
       "      <td>33d7d348-9c03-4c28-95fc-ee956a9f4f5b</td>\n",
       "      <td>Stock Market Sectors: Stock market update: Min...</td>\n",
       "      <td>The 30-share BSE Sensex was  down  566.16 poin...</td>\n",
       "      <td>NEW DELHI: Mining stocks were trading lower on...</td>\n",
       "      <td>https://economictimes.indiatimes.com/markets/s...</td>\n",
       "      <td>https://img.etimg.com/thumb/msid-83608600,widt...</td>\n",
       "      <td>en</td>\n",
       "      <td>economictimes.indiatimes.com</td>\n",
       "      <td>NaN</td>\n",
       "    </tr>\n",
       "    <tr>\n",
       "      <th>731</th>\n",
       "      <td>2022-09-13T15:09:41.000000Z</td>\n",
       "      <td>fe80ab58-39cc-41df-8425-3f15a2db4e42</td>\n",
       "      <td>BharatPe appoints two new independent directors</td>\n",
       "      <td>The two appointed independent directors are BP...</td>\n",
       "      <td>After months-long tussle between Ashneer Grove...</td>\n",
       "      <td>https://www.thehindubusinessline.com/companies...</td>\n",
       "      <td>https://bl-i.thgim.com/public/incoming/une67m/...</td>\n",
       "      <td>en</td>\n",
       "      <td>thehindubusinessline.com</td>\n",
       "      <td>NaN</td>\n",
       "    </tr>\n",
       "    <tr>\n",
       "      <th>732</th>\n",
       "      <td>2021-02-20T11:38:00.000000Z</td>\n",
       "      <td>222f0794-c344-4ce4-911a-2df28b55b969</td>\n",
       "      <td>SBI Payments to launch YONO Merchant app for l...</td>\n",
       "      <td>Read more about SBI Payments to launch YONO Me...</td>\n",
       "      <td>SBI Payments, a subsidiary of India's largest ...</td>\n",
       "      <td>https://www.business-standard.com/article/comp...</td>\n",
       "      <td>https://bsmedia.business-standard.com/_media/b...</td>\n",
       "      <td>en</td>\n",
       "      <td>business-standard.com</td>\n",
       "      <td>NaN</td>\n",
       "    </tr>\n",
       "  </tbody>\n",
       "</table>\n",
       "<p>733 rows × 10 columns</p>\n",
       "</div>"
      ],
      "text/plain": [
       "                    published_at                                  uuid  \\\n",
       "0    2024-09-18T12:02:18.000000Z  e75cdefa-a7e0-46ba-8a0c-d2574e7bfc8f   \n",
       "1    2024-09-18T12:02:18.000000Z  7126ca9f-90cf-4a03-b6e9-5ee6d0a0ec9c   \n",
       "2    2024-09-18T11:26:00.000000Z  78644d24-249e-40a2-8151-5320d71eee4f   \n",
       "3    2024-09-15T05:40:15.000000Z  986ea556-7b6a-458c-86ad-e7c1b9687a60   \n",
       "4    2024-09-13T10:50:30.000000Z  2b0ceca0-0641-4c05-a24f-a989dddc8c6e   \n",
       "..                           ...                                   ...   \n",
       "728  2022-09-14T11:41:45.000000Z  0a6f3830-86a7-4911-b785-a538f5d394d1   \n",
       "729  2022-09-14T08:19:07.000000Z  af86695f-0983-40be-b4b9-eba62c116c75   \n",
       "730  2022-09-14T04:49:31.000000Z  33d7d348-9c03-4c28-95fc-ee956a9f4f5b   \n",
       "731  2022-09-13T15:09:41.000000Z  fe80ab58-39cc-41df-8425-3f15a2db4e42   \n",
       "732  2021-02-20T11:38:00.000000Z  222f0794-c344-4ce4-911a-2df28b55b969   \n",
       "\n",
       "                                                 title  \\\n",
       "0    Rise In Unsecured Small Ticket Loans Not Alarm...   \n",
       "1    SBI Raises Rs 7,500 Crore Via Second Tranche O...   \n",
       "2    Stock Market Sectors: Stock market update: Sug...   \n",
       "3    Mcap: Nine of top-10 most valued firms jump ₹2...   \n",
       "4    Stock Market Sectors: Stock market update: FMC...   \n",
       "..                                                 ...   \n",
       "728  Stock Market Sectors: Stock market update: Fer...   \n",
       "729  SBI becomes third bank to cross Rs 5 lakh cror...   \n",
       "730  Stock Market Sectors: Stock market update: Min...   \n",
       "731    BharatPe appoints two new independent directors   \n",
       "732  SBI Payments to launch YONO Merchant app for l...   \n",
       "\n",
       "                                           description  \\\n",
       "0    The rise in small value unsecured loans with a...   \n",
       "1    State Bank of India bagged Rs 7,500 crore thro...   \n",
       "2    The 30-share BSE Sensex closed  down  131.43 p...   \n",
       "3    Reliance Industries led the chart of the top-1...   \n",
       "4    The 30-share BSE Sensex closed  down  71.77 po...   \n",
       "..                                                 ...   \n",
       "728  The 30-share BSE Sensex closed  down  224.11 p...   \n",
       "729  SBI market cap: Market watchers believe that S...   \n",
       "730  The 30-share BSE Sensex was  down  566.16 poin...   \n",
       "731  The two appointed independent directors are BP...   \n",
       "732  Read more about SBI Payments to launch YONO Me...   \n",
       "\n",
       "                                               snippet  \\\n",
       "0    The rise in small-value unsecured loans with a...   \n",
       "1    State Bank of India bagged Rs 7,500 crore thro...   \n",
       "2    \\n\\n\\n\\n(You can now subscribe to our\\n\\n(You ...   \n",
       "3    Nine of the top-10 most valued firms together ...   \n",
       "4    \\n\\n\\n\\n(You can now subscribe to our\\n\\n(You ...   \n",
       "..                                                 ...   \n",
       "728  NEW DELHI: Fertilisers shares closed lower in ...   \n",
       "729  Country’s biggest lender by assets State Bank ...   \n",
       "730  NEW DELHI: Mining stocks were trading lower on...   \n",
       "731  After months-long tussle between Ashneer Grove...   \n",
       "732  SBI Payments, a subsidiary of India's largest ...   \n",
       "\n",
       "                                                   url  \\\n",
       "0    https://www.ndtvprofit.com/economy-finance/sbi...   \n",
       "1    https://www.ndtvprofit.com/business/sbi-raises...   \n",
       "2    https://economictimes.indiatimes.com/markets/s...   \n",
       "3    https://www.thehindubusinessline.com/markets/m...   \n",
       "4    https://economictimes.indiatimes.com/markets/s...   \n",
       "..                                                 ...   \n",
       "728  https://economictimes.indiatimes.com/markets/s...   \n",
       "729  https://www.businesstoday.in/markets/story/sbi...   \n",
       "730  https://economictimes.indiatimes.com/markets/s...   \n",
       "731  https://www.thehindubusinessline.com/companies...   \n",
       "732  https://www.business-standard.com/article/comp...   \n",
       "\n",
       "                                             image_url language  \\\n",
       "0    https://media.assettype.com/bloombergquint%2F2...       en   \n",
       "1    https://media.assettype.com/bloombergquint%2F2...       en   \n",
       "2    https://img.etimg.com/thumb/msid-83515267,widt...       en   \n",
       "3    https://bl-i.thgim.com/public/incoming/4vvb0i/...       en   \n",
       "4    https://img.etimg.com/thumb/msid-83800143,widt...       en   \n",
       "..                                                 ...      ...   \n",
       "728  https://img.etimg.com/thumb/msid-83209716,widt...       en   \n",
       "729  https://akm-img-a-in.tosshub.com/businesstoday...       en   \n",
       "730  https://img.etimg.com/thumb/msid-83608600,widt...       en   \n",
       "731  https://bl-i.thgim.com/public/incoming/une67m/...       en   \n",
       "732  https://bsmedia.business-standard.com/_media/b...       en   \n",
       "\n",
       "                           source  relevance_score  \n",
       "0              bloombergquint.com              NaN  \n",
       "1              bloombergquint.com              NaN  \n",
       "2    economictimes.indiatimes.com              NaN  \n",
       "3        thehindubusinessline.com              NaN  \n",
       "4    economictimes.indiatimes.com              NaN  \n",
       "..                            ...              ...  \n",
       "728  economictimes.indiatimes.com              NaN  \n",
       "729              businesstoday.in              NaN  \n",
       "730  economictimes.indiatimes.com              NaN  \n",
       "731      thehindubusinessline.com              NaN  \n",
       "732         business-standard.com              NaN  \n",
       "\n",
       "[733 rows x 10 columns]"
      ]
     },
     "execution_count": 23,
     "metadata": {},
     "output_type": "execute_result"
    }
   ],
   "source": [
    "meta_similar_unique"
   ]
  },
  {
   "cell_type": "markdown",
   "id": "21b9ac65",
   "metadata": {},
   "source": [
    "#### time correction"
   ]
  },
  {
   "cell_type": "code",
   "execution_count": 24,
   "id": "5ac9a9a0",
   "metadata": {},
   "outputs": [],
   "source": [
    "def correct_time(data):\n",
    "    data['published_at'] = data['published_at'].apply(lambda x: x[:19])\n",
    "    data['published_at'] = pd.to_datetime(data['published_at'])"
   ]
  },
  {
   "cell_type": "code",
   "execution_count": 25,
   "id": "cdaa5e70",
   "metadata": {},
   "outputs": [],
   "source": [
    "correct_time(meta_similar_unique)\n",
    "correct_time(metadata)"
   ]
  },
  {
   "cell_type": "code",
   "execution_count": 26,
   "id": "fa461672",
   "metadata": {},
   "outputs": [
    {
     "data": {
      "text/plain": [
       "0     2024-09-18 12:02:18\n",
       "1     2024-09-18 12:02:18\n",
       "2     2024-09-18 11:26:00\n",
       "3     2024-09-15 05:40:15\n",
       "4     2024-09-13 10:50:30\n",
       "              ...        \n",
       "728   2022-09-14 11:41:45\n",
       "729   2022-09-14 08:19:07\n",
       "730   2022-09-14 04:49:31\n",
       "731   2022-09-13 15:09:41\n",
       "732   2021-02-20 11:38:00\n",
       "Name: published_at, Length: 733, dtype: datetime64[ns]"
      ]
     },
     "execution_count": 26,
     "metadata": {},
     "output_type": "execute_result"
    }
   ],
   "source": [
    "meta_similar_unique['published_at']"
   ]
  },
  {
   "cell_type": "markdown",
   "id": "6c431042",
   "metadata": {},
   "source": [
    "#### Data for State Bank of India in 'entities_similar'\n",
    "keeping only those samples which have name = 'State Bank of India'"
   ]
  },
  {
   "cell_type": "code",
   "execution_count": 27,
   "id": "690fe8ea",
   "metadata": {},
   "outputs": [
    {
     "data": {
      "text/plain": [
       "name\n",
       "State Bank of India               5657\n",
       "Bank of India Limited             1745\n",
       "Tata Motors Limited               1041\n",
       "HDFC Bank Limited                  739\n",
       "NTPC Limited                       718\n",
       "                                  ... \n",
       "Solar Industries India Limited       1\n",
       "GRM Overseas Limited                 1\n",
       "Poonawalla Fincorp Limited           1\n",
       "Suprajit Engineering Limited         1\n",
       "STATE BANK OF INDIA                  1\n",
       "Name: count, Length: 586, dtype: int64"
      ]
     },
     "execution_count": 27,
     "metadata": {},
     "output_type": "execute_result"
    }
   ],
   "source": [
    "entities_similar['name'].value_counts()"
   ]
  },
  {
   "cell_type": "code",
   "execution_count": 28,
   "id": "2bb176b7",
   "metadata": {},
   "outputs": [],
   "source": [
    "entities_similar = entities_similar[entities_similar['name'] == 'State Bank of India'].reset_index().drop(columns = ['index', 'Unnamed: 0'])"
   ]
  },
  {
   "cell_type": "code",
   "execution_count": 29,
   "id": "598b0231",
   "metadata": {},
   "outputs": [
    {
     "data": {
      "text/plain": [
       "(5657, 10)"
      ]
     },
     "execution_count": 29,
     "metadata": {},
     "output_type": "execute_result"
    }
   ],
   "source": [
    "entities_similar.shape"
   ]
  },
  {
   "cell_type": "code",
   "execution_count": 30,
   "id": "ddfcb31d",
   "metadata": {},
   "outputs": [
    {
     "data": {
      "text/plain": [
       "1887"
      ]
     },
     "execution_count": 30,
     "metadata": {},
     "output_type": "execute_result"
    }
   ],
   "source": [
    "entities_similar['uuid'].nunique()"
   ]
  },
  {
   "cell_type": "markdown",
   "id": "a1ca6264",
   "metadata": {},
   "source": [
    "Out of 5657, 2197 uuid in entities_similar are not present in metadata['uuid']"
   ]
  },
  {
   "cell_type": "code",
   "execution_count": 31,
   "id": "de3f3aba",
   "metadata": {},
   "outputs": [
    {
     "data": {
      "text/plain": [
       "2197"
      ]
     },
     "execution_count": 31,
     "metadata": {},
     "output_type": "execute_result"
    }
   ],
   "source": [
    "sum(entities_similar['uuid'].isin(metadata['uuid']) == False)"
   ]
  },
  {
   "cell_type": "code",
   "execution_count": 32,
   "id": "d7201388",
   "metadata": {},
   "outputs": [
    {
     "data": {
      "text/plain": [
       "3460"
      ]
     },
     "execution_count": 32,
     "metadata": {},
     "output_type": "execute_result"
    }
   ],
   "source": [
    "sum(entities_similar['uuid'].isin(metadata['uuid']) == True)"
   ]
  },
  {
   "cell_type": "markdown",
   "id": "c808f57b",
   "metadata": {},
   "source": [
    " \n",
    "    \n",
    "    \n",
    "    "
   ]
  },
  {
   "cell_type": "markdown",
   "id": "4c14411e",
   "metadata": {},
   "source": [
    "### from 'entities_similar' taking out those 'uuid' which are present in 'entities_similar' but not present in 'metadata'"
   ]
  },
  {
   "cell_type": "code",
   "execution_count": 33,
   "id": "931182c7",
   "metadata": {},
   "outputs": [],
   "source": [
    "uuidinsbi_entities_similar = entities_similar[entities_similar['uuid'].isin(metadata['uuid']) == False]"
   ]
  },
  {
   "cell_type": "code",
   "execution_count": 34,
   "id": "c2c2add5",
   "metadata": {},
   "outputs": [
    {
     "data": {
      "text/html": [
       "<div>\n",
       "<style scoped>\n",
       "    .dataframe tbody tr th:only-of-type {\n",
       "        vertical-align: middle;\n",
       "    }\n",
       "\n",
       "    .dataframe tbody tr th {\n",
       "        vertical-align: top;\n",
       "    }\n",
       "\n",
       "    .dataframe thead th {\n",
       "        text-align: right;\n",
       "    }\n",
       "</style>\n",
       "<table border=\"1\" class=\"dataframe\">\n",
       "  <thead>\n",
       "    <tr style=\"text-align: right;\">\n",
       "      <th></th>\n",
       "      <th>symbol</th>\n",
       "      <th>name</th>\n",
       "      <th>exchange</th>\n",
       "      <th>exchange_long</th>\n",
       "      <th>country</th>\n",
       "      <th>type</th>\n",
       "      <th>industry</th>\n",
       "      <th>match_score</th>\n",
       "      <th>sentiment_score</th>\n",
       "      <th>uuid</th>\n",
       "    </tr>\n",
       "  </thead>\n",
       "  <tbody>\n",
       "    <tr>\n",
       "      <th>0</th>\n",
       "      <td>SBKFF</td>\n",
       "      <td>State Bank of India</td>\n",
       "      <td>NaN</td>\n",
       "      <td>NaN</td>\n",
       "      <td>us</td>\n",
       "      <td>equity</td>\n",
       "      <td>Financial Services</td>\n",
       "      <td>31.545517</td>\n",
       "      <td>-0.4452</td>\n",
       "      <td>e75cdefa-a7e0-46ba-8a0c-d2574e7bfc8f</td>\n",
       "    </tr>\n",
       "    <tr>\n",
       "      <th>1</th>\n",
       "      <td>SBIN.NS</td>\n",
       "      <td>State Bank of India</td>\n",
       "      <td>NaN</td>\n",
       "      <td>NaN</td>\n",
       "      <td>in</td>\n",
       "      <td>equity</td>\n",
       "      <td>Financial Services</td>\n",
       "      <td>31.545378</td>\n",
       "      <td>-0.4452</td>\n",
       "      <td>e75cdefa-a7e0-46ba-8a0c-d2574e7bfc8f</td>\n",
       "    </tr>\n",
       "    <tr>\n",
       "      <th>2</th>\n",
       "      <td>SBIN.BO</td>\n",
       "      <td>State Bank of India</td>\n",
       "      <td>NaN</td>\n",
       "      <td>NaN</td>\n",
       "      <td>in</td>\n",
       "      <td>equity</td>\n",
       "      <td>Financial Services</td>\n",
       "      <td>31.544556</td>\n",
       "      <td>-0.4452</td>\n",
       "      <td>e75cdefa-a7e0-46ba-8a0c-d2574e7bfc8f</td>\n",
       "    </tr>\n",
       "  </tbody>\n",
       "</table>\n",
       "</div>"
      ],
      "text/plain": [
       "    symbol                 name  exchange  exchange_long country    type  \\\n",
       "0    SBKFF  State Bank of India       NaN            NaN      us  equity   \n",
       "1  SBIN.NS  State Bank of India       NaN            NaN      in  equity   \n",
       "2  SBIN.BO  State Bank of India       NaN            NaN      in  equity   \n",
       "\n",
       "             industry  match_score  sentiment_score  \\\n",
       "0  Financial Services    31.545517          -0.4452   \n",
       "1  Financial Services    31.545378          -0.4452   \n",
       "2  Financial Services    31.544556          -0.4452   \n",
       "\n",
       "                                   uuid  \n",
       "0  e75cdefa-a7e0-46ba-8a0c-d2574e7bfc8f  \n",
       "1  e75cdefa-a7e0-46ba-8a0c-d2574e7bfc8f  \n",
       "2  e75cdefa-a7e0-46ba-8a0c-d2574e7bfc8f  "
      ]
     },
     "execution_count": 34,
     "metadata": {},
     "output_type": "execute_result"
    }
   ],
   "source": [
    "uuidinsbi_entities_similar.head(3)"
   ]
  },
  {
   "cell_type": "markdown",
   "id": "e71523a5",
   "metadata": {},
   "source": [
    "### All the 'uuid's which are present in 'entities_similar' and 'name' = 'State Bank of India' are same as the 'uuid's which we got from 'meta_similar_unique'"
   ]
  },
  {
   "cell_type": "code",
   "execution_count": 35,
   "id": "68eefff2",
   "metadata": {},
   "outputs": [
    {
     "data": {
      "text/plain": [
       "0"
      ]
     },
     "execution_count": 35,
     "metadata": {},
     "output_type": "execute_result"
    }
   ],
   "source": [
    "sum(uuidinsbi_entities_similar['uuid'].isin(meta_similar_unique['uuid']) == False)"
   ]
  },
  {
   "cell_type": "code",
   "execution_count": 36,
   "id": "ef46a942",
   "metadata": {},
   "outputs": [],
   "source": [
    "highlights = highlights.drop(columns = ['Unnamed: 0'])"
   ]
  },
  {
   "cell_type": "markdown",
   "id": "c791b7a1",
   "metadata": {},
   "source": [
    "### Checking for duplicates "
   ]
  },
  {
   "cell_type": "code",
   "execution_count": 37,
   "id": "246268c1",
   "metadata": {},
   "outputs": [
    {
     "data": {
      "text/plain": [
       "highlight         Ltd., Citigroup Inc., Finbud Financial Service...\n",
       "sentiment                                                    0.4019\n",
       "highlighted_in                                            main_text\n",
       "uuid                           aa628d63-04b6-406f-8bfd-02e68114aa1f\n",
       "Name: 7584, dtype: object"
      ]
     },
     "execution_count": 37,
     "metadata": {},
     "output_type": "execute_result"
    }
   ],
   "source": [
    "highlights.iloc[7584, :]"
   ]
  },
  {
   "cell_type": "code",
   "execution_count": 38,
   "id": "e2eaf3c1",
   "metadata": {},
   "outputs": [
    {
     "data": {
      "text/html": [
       "<div>\n",
       "<style scoped>\n",
       "    .dataframe tbody tr th:only-of-type {\n",
       "        vertical-align: middle;\n",
       "    }\n",
       "\n",
       "    .dataframe tbody tr th {\n",
       "        vertical-align: top;\n",
       "    }\n",
       "\n",
       "    .dataframe thead th {\n",
       "        text-align: right;\n",
       "    }\n",
       "</style>\n",
       "<table border=\"1\" class=\"dataframe\">\n",
       "  <thead>\n",
       "    <tr style=\"text-align: right;\">\n",
       "      <th></th>\n",
       "      <th>highlight</th>\n",
       "      <th>sentiment</th>\n",
       "      <th>highlighted_in</th>\n",
       "      <th>uuid</th>\n",
       "    </tr>\n",
       "  </thead>\n",
       "  <tbody>\n",
       "    <tr>\n",
       "      <th>5355</th>\n",
       "      <td>A few years ago, when five associate banks of ...</td>\n",
       "      <td>0.0000</td>\n",
       "      <td>main_text</td>\n",
       "      <td>e73c1d80-e502-4bac-a8f1-962f92c11bc6</td>\n",
       "    </tr>\n",
       "    <tr>\n",
       "      <th>7585</th>\n",
       "      <td>Ltd., Citigroup Inc., Finbud Financial Service...</td>\n",
       "      <td>0.4019</td>\n",
       "      <td>main_text</td>\n",
       "      <td>aa628d63-04b6-406f-8bfd-02e68114aa1f</td>\n",
       "    </tr>\n",
       "    <tr>\n",
       "      <th>7981</th>\n",
       "      <td>For instance, &lt;em&gt;State&lt;/em&gt; &lt;em&gt;Bank&lt;/em&gt; &lt;em...</td>\n",
       "      <td>0.6908</td>\n",
       "      <td>main_text</td>\n",
       "      <td>4a572cff-8615-4e26-a492-8a1531926b88</td>\n",
       "    </tr>\n",
       "    <tr>\n",
       "      <th>12091</th>\n",
       "      <td>the Securitization and Reconstruction of Finan...</td>\n",
       "      <td>0.8720</td>\n",
       "      <td>main_text</td>\n",
       "      <td>3107e093-b3b4-40bd-ad28-3218d13949b7</td>\n",
       "    </tr>\n",
       "    <tr>\n",
       "      <th>12092</th>\n",
       "      <td>&lt;em&gt;Bank&lt;/em&gt; &lt;em&gt;of&lt;/em&gt; &lt;em&gt;India&lt;/em&gt;) as s...</td>\n",
       "      <td>0.6369</td>\n",
       "      <td>main_text</td>\n",
       "      <td>3107e093-b3b4-40bd-ad28-3218d13949b7</td>\n",
       "    </tr>\n",
       "    <tr>\n",
       "      <th>12093</th>\n",
       "      <td>For detailed terms and conditions of the sale,...</td>\n",
       "      <td>0.6124</td>\n",
       "      <td>main_text</td>\n",
       "      <td>3107e093-b3b4-40bd-ad28-3218d13949b7</td>\n",
       "    </tr>\n",
       "  </tbody>\n",
       "</table>\n",
       "</div>"
      ],
      "text/plain": [
       "                                               highlight  sentiment  \\\n",
       "5355   A few years ago, when five associate banks of ...     0.0000   \n",
       "7585   Ltd., Citigroup Inc., Finbud Financial Service...     0.4019   \n",
       "7981   For instance, <em>State</em> <em>Bank</em> <em...     0.6908   \n",
       "12091  the Securitization and Reconstruction of Finan...     0.8720   \n",
       "12092  <em>Bank</em> <em>of</em> <em>India</em>) as s...     0.6369   \n",
       "12093  For detailed terms and conditions of the sale,...     0.6124   \n",
       "\n",
       "      highlighted_in                                  uuid  \n",
       "5355       main_text  e73c1d80-e502-4bac-a8f1-962f92c11bc6  \n",
       "7585       main_text  aa628d63-04b6-406f-8bfd-02e68114aa1f  \n",
       "7981       main_text  4a572cff-8615-4e26-a492-8a1531926b88  \n",
       "12091      main_text  3107e093-b3b4-40bd-ad28-3218d13949b7  \n",
       "12092      main_text  3107e093-b3b4-40bd-ad28-3218d13949b7  \n",
       "12093      main_text  3107e093-b3b4-40bd-ad28-3218d13949b7  "
      ]
     },
     "execution_count": 38,
     "metadata": {},
     "output_type": "execute_result"
    }
   ],
   "source": [
    "highlights[highlights.duplicated() == True]"
   ]
  },
  {
   "cell_type": "code",
   "execution_count": 39,
   "id": "dcb7d05d",
   "metadata": {},
   "outputs": [],
   "source": [
    "highlights.drop_duplicates(inplace = True)"
   ]
  },
  {
   "cell_type": "code",
   "execution_count": 42,
   "id": "22d3e2f6",
   "metadata": {},
   "outputs": [
    {
     "name": "stdout",
     "output_type": "stream",
     "text": [
      "Ltd., Citigroup Inc., Finbud Financial Services Pvt Ltd, HDFC Bank Ltd., HSBC Holdings Plc, ICICI Bank Ltd., IDBI Bank Ltd., Indian Overseas Bank, Mahindra and Mahindra Financial Services Ltd., PPF Group, Punjab National Bank, <em>State</em> <em>Bank</em> <em>of</em> <em>India</em>, Tata Sons Pvt. Ltd., UCO BANK, Union Bank of India, Whizdm Innovations Pvt. Ltd., and Yes Bank Ltd.\n"
     ]
    }
   ],
   "source": [
    "print(highlights['highlight'][7584])"
   ]
  },
  {
   "cell_type": "markdown",
   "id": "93c421dd",
   "metadata": {},
   "source": [
    "### Taking the 'title' from 'metadata' dataset with it sentiment score from the 'entities' dataset"
   ]
  },
  {
   "cell_type": "code",
   "execution_count": 43,
   "id": "ba2af87f",
   "metadata": {},
   "outputs": [
    {
     "data": {
      "text/plain": [
       "0       2024-09-18 12:45:04\n",
       "1       2024-09-18 12:37:42\n",
       "2       2024-09-18 11:56:10\n",
       "3       2024-09-18 11:36:14\n",
       "4       2024-09-18 11:27:31\n",
       "                ...        \n",
       "12574   2021-01-01 14:55:00\n",
       "12575   2021-01-01 11:00:40\n",
       "12576   2021-01-01 10:45:00\n",
       "12577   2021-01-01 07:40:29\n",
       "12578   2021-01-01 04:59:03\n",
       "Name: published_at, Length: 12579, dtype: datetime64[ns]"
      ]
     },
     "execution_count": 43,
     "metadata": {},
     "output_type": "execute_result"
    }
   ],
   "source": [
    "metadata['published_at']"
   ]
  },
  {
   "cell_type": "code",
   "execution_count": 44,
   "id": "0b94d505",
   "metadata": {},
   "outputs": [],
   "source": [
    "temp_df = metadata[['published_at', 'uuid', 'title', 'description']]\n",
    "# temp_df = metadata[['uuid', 'title', 'description']] # originally(for your need)"
   ]
  },
  {
   "cell_type": "code",
   "execution_count": 45,
   "id": "a04daba9",
   "metadata": {},
   "outputs": [
    {
     "data": {
      "text/plain": [
       "(12579, 4)"
      ]
     },
     "execution_count": 45,
     "metadata": {},
     "output_type": "execute_result"
    }
   ],
   "source": [
    "temp_df.shape"
   ]
  },
  {
   "cell_type": "code",
   "execution_count": 46,
   "id": "26589dbc",
   "metadata": {},
   "outputs": [
    {
     "data": {
      "text/html": [
       "<div>\n",
       "<style scoped>\n",
       "    .dataframe tbody tr th:only-of-type {\n",
       "        vertical-align: middle;\n",
       "    }\n",
       "\n",
       "    .dataframe tbody tr th {\n",
       "        vertical-align: top;\n",
       "    }\n",
       "\n",
       "    .dataframe thead th {\n",
       "        text-align: right;\n",
       "    }\n",
       "</style>\n",
       "<table border=\"1\" class=\"dataframe\">\n",
       "  <thead>\n",
       "    <tr style=\"text-align: right;\">\n",
       "      <th></th>\n",
       "      <th>published_at</th>\n",
       "      <th>uuid</th>\n",
       "      <th>title</th>\n",
       "      <th>description</th>\n",
       "    </tr>\n",
       "  </thead>\n",
       "  <tbody>\n",
       "    <tr>\n",
       "      <th>0</th>\n",
       "      <td>2024-09-18 12:45:04</td>\n",
       "      <td>bb5429b2-be36-4088-b04c-9f17e9003d2d</td>\n",
       "      <td>Banking system low-cost deposits could decline...</td>\n",
       "      <td>SBI’s Casa ratio stood at 40.7% as on 30 June,...</td>\n",
       "    </tr>\n",
       "    <tr>\n",
       "      <th>1</th>\n",
       "      <td>2024-09-18 12:37:42</td>\n",
       "      <td>0b24d613-2705-4283-b45e-3b8942fc5762</td>\n",
       "      <td>State Bank of India raises Rs 7,500 cr at 7.33...</td>\n",
       "      <td>Tier-2 bond issuance: This issuance follows a ...</td>\n",
       "    </tr>\n",
       "  </tbody>\n",
       "</table>\n",
       "</div>"
      ],
      "text/plain": [
       "         published_at                                  uuid  \\\n",
       "0 2024-09-18 12:45:04  bb5429b2-be36-4088-b04c-9f17e9003d2d   \n",
       "1 2024-09-18 12:37:42  0b24d613-2705-4283-b45e-3b8942fc5762   \n",
       "\n",
       "                                               title  \\\n",
       "0  Banking system low-cost deposits could decline...   \n",
       "1  State Bank of India raises Rs 7,500 cr at 7.33...   \n",
       "\n",
       "                                         description  \n",
       "0  SBI’s Casa ratio stood at 40.7% as on 30 June,...  \n",
       "1  Tier-2 bond issuance: This issuance follows a ...  "
      ]
     },
     "execution_count": 46,
     "metadata": {},
     "output_type": "execute_result"
    }
   ],
   "source": [
    "temp_df.head(2)"
   ]
  },
  {
   "cell_type": "code",
   "execution_count": 47,
   "id": "f3e2efe6",
   "metadata": {},
   "outputs": [
    {
     "data": {
      "text/html": [
       "<div>\n",
       "<style scoped>\n",
       "    .dataframe tbody tr th:only-of-type {\n",
       "        vertical-align: middle;\n",
       "    }\n",
       "\n",
       "    .dataframe tbody tr th {\n",
       "        vertical-align: top;\n",
       "    }\n",
       "\n",
       "    .dataframe thead th {\n",
       "        text-align: right;\n",
       "    }\n",
       "</style>\n",
       "<table border=\"1\" class=\"dataframe\">\n",
       "  <thead>\n",
       "    <tr style=\"text-align: right;\">\n",
       "      <th></th>\n",
       "      <th>published_at</th>\n",
       "      <th>uuid</th>\n",
       "      <th>title</th>\n",
       "      <th>description</th>\n",
       "      <th>sentiment_score</th>\n",
       "    </tr>\n",
       "  </thead>\n",
       "  <tbody>\n",
       "    <tr>\n",
       "      <th>0</th>\n",
       "      <td>2024-09-18 12:45:04</td>\n",
       "      <td>bb5429b2-be36-4088-b04c-9f17e9003d2d</td>\n",
       "      <td>Banking system low-cost deposits could decline...</td>\n",
       "      <td>SBI’s Casa ratio stood at 40.7% as on 30 June,...</td>\n",
       "      <td>0.612400</td>\n",
       "    </tr>\n",
       "    <tr>\n",
       "      <th>1</th>\n",
       "      <td>2024-09-18 12:37:42</td>\n",
       "      <td>0b24d613-2705-4283-b45e-3b8942fc5762</td>\n",
       "      <td>State Bank of India raises Rs 7,500 cr at 7.33...</td>\n",
       "      <td>Tier-2 bond issuance: This issuance follows a ...</td>\n",
       "      <td>0.000000</td>\n",
       "    </tr>\n",
       "    <tr>\n",
       "      <th>2</th>\n",
       "      <td>2024-09-18 11:56:10</td>\n",
       "      <td>9bcbd8e3-7f97-4d00-aae8-1f08f1a674fd</td>\n",
       "      <td>SBI raises ₹15,000 cr via Basel III bonds in a...</td>\n",
       "      <td>In less than a month, State Bank of India rais...</td>\n",
       "      <td>0.296000</td>\n",
       "    </tr>\n",
       "    <tr>\n",
       "      <th>3</th>\n",
       "      <td>2024-09-18 11:36:14</td>\n",
       "      <td>0d05c075-706d-4a5e-920c-ae39a41b420b</td>\n",
       "      <td>Stock Market Sectors: Stock market update: Min...</td>\n",
       "      <td>The 30-share BSE Sensex closed  down  131.43 p...</td>\n",
       "      <td>0.771700</td>\n",
       "    </tr>\n",
       "    <tr>\n",
       "      <th>4</th>\n",
       "      <td>2024-09-18 11:27:31</td>\n",
       "      <td>6bf48528-aaf6-4c9d-93b8-303c23033b91</td>\n",
       "      <td>Banks’ CASA ratio may fall further as cos, gov...</td>\n",
       "      <td>SBI Chairman discusses impact of enhanced cash...</td>\n",
       "      <td>0.361200</td>\n",
       "    </tr>\n",
       "    <tr>\n",
       "      <th>...</th>\n",
       "      <td>...</td>\n",
       "      <td>...</td>\n",
       "      <td>...</td>\n",
       "      <td>...</td>\n",
       "      <td>...</td>\n",
       "    </tr>\n",
       "    <tr>\n",
       "      <th>12574</th>\n",
       "      <td>2021-01-01 14:55:00</td>\n",
       "      <td>acf77079-622e-471d-9dc9-7fb9eace9311</td>\n",
       "      <td>CBI books Shakti Bhog Foods in alleged Rs 3,26...</td>\n",
       "      <td>Read more about CBI books Shakti Bhog Foods in...</td>\n",
       "      <td>-0.630733</td>\n",
       "    </tr>\n",
       "    <tr>\n",
       "      <th>12575</th>\n",
       "      <td>2021-01-01 11:00:40</td>\n",
       "      <td>e833cd42-e31b-4d5f-9790-24f6046cbb47</td>\n",
       "      <td>Sensex Gains For Eighth Straight Day; Nifty En...</td>\n",
       "      <td>Eight of 11 sector gauges compiled by the Nati...</td>\n",
       "      <td>0.007800</td>\n",
       "    </tr>\n",
       "    <tr>\n",
       "      <th>12576</th>\n",
       "      <td>2021-01-01 10:45:00</td>\n",
       "      <td>b26b2c4f-7831-498f-92b2-462b7083df58</td>\n",
       "      <td>Sensex begins 2021 with gains, Nifty closes ab...</td>\n",
       "      <td>The first trading session of 2021 was not much...</td>\n",
       "      <td>0.202300</td>\n",
       "    </tr>\n",
       "    <tr>\n",
       "      <th>12577</th>\n",
       "      <td>2021-01-01 07:40:29</td>\n",
       "      <td>b9619902-1d57-4a0d-9da6-75138ff6e4c9</td>\n",
       "      <td>Stock Markets Will Remain Closed On These Days...</td>\n",
       "      <td>In calendar year 2020, the Sensex rose 15.75 p...</td>\n",
       "      <td>0.784500</td>\n",
       "    </tr>\n",
       "    <tr>\n",
       "      <th>12578</th>\n",
       "      <td>2021-01-01 04:59:03</td>\n",
       "      <td>e59cab16-5ccc-400f-9511-59333c58a40a</td>\n",
       "      <td>Sensex, Nifty Open New Year On Bright Note</td>\n",
       "      <td>(RTTNews) - The Indian stock market opened the...</td>\n",
       "      <td>0.865800</td>\n",
       "    </tr>\n",
       "  </tbody>\n",
       "</table>\n",
       "<p>12579 rows × 5 columns</p>\n",
       "</div>"
      ],
      "text/plain": [
       "             published_at                                  uuid  \\\n",
       "0     2024-09-18 12:45:04  bb5429b2-be36-4088-b04c-9f17e9003d2d   \n",
       "1     2024-09-18 12:37:42  0b24d613-2705-4283-b45e-3b8942fc5762   \n",
       "2     2024-09-18 11:56:10  9bcbd8e3-7f97-4d00-aae8-1f08f1a674fd   \n",
       "3     2024-09-18 11:36:14  0d05c075-706d-4a5e-920c-ae39a41b420b   \n",
       "4     2024-09-18 11:27:31  6bf48528-aaf6-4c9d-93b8-303c23033b91   \n",
       "...                   ...                                   ...   \n",
       "12574 2021-01-01 14:55:00  acf77079-622e-471d-9dc9-7fb9eace9311   \n",
       "12575 2021-01-01 11:00:40  e833cd42-e31b-4d5f-9790-24f6046cbb47   \n",
       "12576 2021-01-01 10:45:00  b26b2c4f-7831-498f-92b2-462b7083df58   \n",
       "12577 2021-01-01 07:40:29  b9619902-1d57-4a0d-9da6-75138ff6e4c9   \n",
       "12578 2021-01-01 04:59:03  e59cab16-5ccc-400f-9511-59333c58a40a   \n",
       "\n",
       "                                                   title  \\\n",
       "0      Banking system low-cost deposits could decline...   \n",
       "1      State Bank of India raises Rs 7,500 cr at 7.33...   \n",
       "2      SBI raises ₹15,000 cr via Basel III bonds in a...   \n",
       "3      Stock Market Sectors: Stock market update: Min...   \n",
       "4      Banks’ CASA ratio may fall further as cos, gov...   \n",
       "...                                                  ...   \n",
       "12574  CBI books Shakti Bhog Foods in alleged Rs 3,26...   \n",
       "12575  Sensex Gains For Eighth Straight Day; Nifty En...   \n",
       "12576  Sensex begins 2021 with gains, Nifty closes ab...   \n",
       "12577  Stock Markets Will Remain Closed On These Days...   \n",
       "12578         Sensex, Nifty Open New Year On Bright Note   \n",
       "\n",
       "                                             description  sentiment_score  \n",
       "0      SBI’s Casa ratio stood at 40.7% as on 30 June,...         0.612400  \n",
       "1      Tier-2 bond issuance: This issuance follows a ...         0.000000  \n",
       "2      In less than a month, State Bank of India rais...         0.296000  \n",
       "3      The 30-share BSE Sensex closed  down  131.43 p...         0.771700  \n",
       "4      SBI Chairman discusses impact of enhanced cash...         0.361200  \n",
       "...                                                  ...              ...  \n",
       "12574  Read more about CBI books Shakti Bhog Foods in...        -0.630733  \n",
       "12575  Eight of 11 sector gauges compiled by the Nati...         0.007800  \n",
       "12576  The first trading session of 2021 was not much...         0.202300  \n",
       "12577  In calendar year 2020, the Sensex rose 15.75 p...         0.784500  \n",
       "12578  (RTTNews) - The Indian stock market opened the...         0.865800  \n",
       "\n",
       "[12579 rows x 5 columns]"
      ]
     },
     "execution_count": 47,
     "metadata": {},
     "output_type": "execute_result"
    }
   ],
   "source": [
    "# temp_df.merge(entities[['uuid', 'sentiment_score']], how = 'left', on = 'uuid') #originally\n",
    "temp_df.merge(entities[['uuid', 'sentiment_score']], how = 'left', on = 'uuid')"
   ]
  },
  {
   "cell_type": "code",
   "execution_count": 48,
   "id": "00773237",
   "metadata": {},
   "outputs": [],
   "source": [
    "temp_df = temp_df.merge(entities[['uuid', 'sentiment_score']], how = 'left', on = 'uuid')"
   ]
  },
  {
   "cell_type": "code",
   "execution_count": 49,
   "id": "6ed0912c",
   "metadata": {},
   "outputs": [
    {
     "data": {
      "text/html": [
       "<div>\n",
       "<style scoped>\n",
       "    .dataframe tbody tr th:only-of-type {\n",
       "        vertical-align: middle;\n",
       "    }\n",
       "\n",
       "    .dataframe tbody tr th {\n",
       "        vertical-align: top;\n",
       "    }\n",
       "\n",
       "    .dataframe thead th {\n",
       "        text-align: right;\n",
       "    }\n",
       "</style>\n",
       "<table border=\"1\" class=\"dataframe\">\n",
       "  <thead>\n",
       "    <tr style=\"text-align: right;\">\n",
       "      <th></th>\n",
       "      <th>highlight</th>\n",
       "      <th>sentiment</th>\n",
       "      <th>highlighted_in</th>\n",
       "      <th>uuid</th>\n",
       "    </tr>\n",
       "  </thead>\n",
       "  <tbody>\n",
       "    <tr>\n",
       "      <th>0</th>\n",
       "      <td>Mumbai: The share of low-cost deposits in the ...</td>\n",
       "      <td>0.6124</td>\n",
       "      <td>main_text</td>\n",
       "      <td>bb5429b2-be36-4088-b04c-9f17e9003d2d</td>\n",
       "    </tr>\n",
       "    <tr>\n",
       "      <th>1</th>\n",
       "      <td>The &lt;em&gt;State&lt;/em&gt; &lt;em&gt;Bank&lt;/em&gt; &lt;em&gt;of&lt;/em&gt; &lt;...</td>\n",
       "      <td>0.0000</td>\n",
       "      <td>main_text</td>\n",
       "      <td>0b24d613-2705-4283-b45e-3b8942fc5762</td>\n",
       "    </tr>\n",
       "  </tbody>\n",
       "</table>\n",
       "</div>"
      ],
      "text/plain": [
       "                                           highlight  sentiment  \\\n",
       "0  Mumbai: The share of low-cost deposits in the ...     0.6124   \n",
       "1  The <em>State</em> <em>Bank</em> <em>of</em> <...     0.0000   \n",
       "\n",
       "  highlighted_in                                  uuid  \n",
       "0      main_text  bb5429b2-be36-4088-b04c-9f17e9003d2d  \n",
       "1      main_text  0b24d613-2705-4283-b45e-3b8942fc5762  "
      ]
     },
     "execution_count": 49,
     "metadata": {},
     "output_type": "execute_result"
    }
   ],
   "source": [
    "highlights.head(2)"
   ]
  },
  {
   "cell_type": "code",
   "execution_count": 50,
   "id": "06d08c08",
   "metadata": {},
   "outputs": [
    {
     "data": {
      "text/html": [
       "<div>\n",
       "<style scoped>\n",
       "    .dataframe tbody tr th:only-of-type {\n",
       "        vertical-align: middle;\n",
       "    }\n",
       "\n",
       "    .dataframe tbody tr th {\n",
       "        vertical-align: top;\n",
       "    }\n",
       "\n",
       "    .dataframe thead th {\n",
       "        text-align: right;\n",
       "    }\n",
       "</style>\n",
       "<table border=\"1\" class=\"dataframe\">\n",
       "  <thead>\n",
       "    <tr style=\"text-align: right;\">\n",
       "      <th></th>\n",
       "      <th>uuid</th>\n",
       "      <th>highlight</th>\n",
       "    </tr>\n",
       "  </thead>\n",
       "  <tbody>\n",
       "    <tr>\n",
       "      <th>0</th>\n",
       "      <td>00100e6b-81d5-4af3-92c2-e792778f9d1a</td>\n",
       "      <td>HDFC Bank, &lt;em&gt;State&lt;/em&gt; &lt;em&gt;Bank&lt;/em&gt; &lt;em&gt;of...</td>\n",
       "    </tr>\n",
       "    <tr>\n",
       "      <th>1</th>\n",
       "      <td>0014fafb-638c-42bb-9649-6c5e37f50255</td>\n",
       "      <td>While competitive home loan interest rates und...</td>\n",
       "    </tr>\n",
       "    <tr>\n",
       "      <th>2</th>\n",
       "      <td>0016b2bf-0c23-43a7-a354-19434d316124</td>\n",
       "      <td>Several large banks such as &lt;em&gt;State&lt;/em&gt; &lt;em...</td>\n",
       "    </tr>\n",
       "    <tr>\n",
       "      <th>3</th>\n",
       "      <td>0018ff17-343c-4b65-ab37-f054ec025c47</td>\n",
       "      <td>professor.Following directives from Chintu, Pi...</td>\n",
       "    </tr>\n",
       "    <tr>\n",
       "      <th>4</th>\n",
       "      <td>001bd1a1-a4b4-4e33-891e-548b6e9aa73f</td>\n",
       "      <td>&lt;em&gt;State&lt;/em&gt; &lt;em&gt;Bank&lt;/em&gt; &lt;em&gt;of&lt;/em&gt; &lt;em&gt;I...</td>\n",
       "    </tr>\n",
       "    <tr>\n",
       "      <th>...</th>\n",
       "      <td>...</td>\n",
       "      <td>...</td>\n",
       "    </tr>\n",
       "    <tr>\n",
       "      <th>12574</th>\n",
       "      <td>ffde1b9c-b498-4e60-b715-d83e360734ea</td>\n",
       "      <td>Axis Securities likes stocks such as ICICI Ban...</td>\n",
       "    </tr>\n",
       "    <tr>\n",
       "      <th>12575</th>\n",
       "      <td>ffe80339-c14d-4145-87ff-bb5a75f88275</td>\n",
       "      <td>firms suffered erosion from their market capit...</td>\n",
       "    </tr>\n",
       "    <tr>\n",
       "      <th>12576</th>\n",
       "      <td>ffe939f1-a6be-484b-90a3-7c01b543f31d</td>\n",
       "      <td>Dinesh Kumar Khara, Chairman, &lt;em&gt;State&lt;/em&gt; &lt;...</td>\n",
       "    </tr>\n",
       "    <tr>\n",
       "      <th>12577</th>\n",
       "      <td>fff550a2-dfed-44c3-80be-187d3b381178</td>\n",
       "      <td>New Delhi: &lt;em&gt;State&lt;/em&gt; &lt;em&gt;Bank&lt;/em&gt; &lt;em&gt;of...</td>\n",
       "    </tr>\n",
       "    <tr>\n",
       "      <th>12578</th>\n",
       "      <td>fffc16a8-efc9-429c-bba4-93bdd7558d4c</td>\n",
       "      <td>The country's largest public sector bank, &lt;em&gt;...</td>\n",
       "    </tr>\n",
       "  </tbody>\n",
       "</table>\n",
       "<p>12579 rows × 2 columns</p>\n",
       "</div>"
      ],
      "text/plain": [
       "                                       uuid  \\\n",
       "0      00100e6b-81d5-4af3-92c2-e792778f9d1a   \n",
       "1      0014fafb-638c-42bb-9649-6c5e37f50255   \n",
       "2      0016b2bf-0c23-43a7-a354-19434d316124   \n",
       "3      0018ff17-343c-4b65-ab37-f054ec025c47   \n",
       "4      001bd1a1-a4b4-4e33-891e-548b6e9aa73f   \n",
       "...                                     ...   \n",
       "12574  ffde1b9c-b498-4e60-b715-d83e360734ea   \n",
       "12575  ffe80339-c14d-4145-87ff-bb5a75f88275   \n",
       "12576  ffe939f1-a6be-484b-90a3-7c01b543f31d   \n",
       "12577  fff550a2-dfed-44c3-80be-187d3b381178   \n",
       "12578  fffc16a8-efc9-429c-bba4-93bdd7558d4c   \n",
       "\n",
       "                                               highlight  \n",
       "0      HDFC Bank, <em>State</em> <em>Bank</em> <em>of...  \n",
       "1      While competitive home loan interest rates und...  \n",
       "2      Several large banks such as <em>State</em> <em...  \n",
       "3      professor.Following directives from Chintu, Pi...  \n",
       "4      <em>State</em> <em>Bank</em> <em>of</em> <em>I...  \n",
       "...                                                  ...  \n",
       "12574  Axis Securities likes stocks such as ICICI Ban...  \n",
       "12575  firms suffered erosion from their market capit...  \n",
       "12576  Dinesh Kumar Khara, Chairman, <em>State</em> <...  \n",
       "12577  New Delhi: <em>State</em> <em>Bank</em> <em>of...  \n",
       "12578  The country's largest public sector bank, <em>...  \n",
       "\n",
       "[12579 rows x 2 columns]"
      ]
     },
     "execution_count": 50,
     "metadata": {},
     "output_type": "execute_result"
    }
   ],
   "source": [
    "highlights.groupby('uuid').agg({\n",
    "    'highlight' : \" \".join\n",
    "}).reset_index()"
   ]
  },
  {
   "cell_type": "code",
   "execution_count": 51,
   "id": "8be73e31",
   "metadata": {},
   "outputs": [],
   "source": [
    "temp_highlights = highlights.groupby('uuid').agg({\n",
    "    'highlight' : \" \".join\n",
    "}).reset_index()"
   ]
  },
  {
   "cell_type": "markdown",
   "id": "2c216eac",
   "metadata": {},
   "source": [
    "### merging 'temp_df' and 'temp_highlights' on 'uuid' field"
   ]
  },
  {
   "cell_type": "code",
   "execution_count": 52,
   "id": "5aeed61c",
   "metadata": {},
   "outputs": [
    {
     "data": {
      "text/html": [
       "<div>\n",
       "<style scoped>\n",
       "    .dataframe tbody tr th:only-of-type {\n",
       "        vertical-align: middle;\n",
       "    }\n",
       "\n",
       "    .dataframe tbody tr th {\n",
       "        vertical-align: top;\n",
       "    }\n",
       "\n",
       "    .dataframe thead th {\n",
       "        text-align: right;\n",
       "    }\n",
       "</style>\n",
       "<table border=\"1\" class=\"dataframe\">\n",
       "  <thead>\n",
       "    <tr style=\"text-align: right;\">\n",
       "      <th></th>\n",
       "      <th>published_at</th>\n",
       "      <th>uuid</th>\n",
       "      <th>title</th>\n",
       "      <th>description</th>\n",
       "      <th>sentiment_score</th>\n",
       "      <th>highlight</th>\n",
       "    </tr>\n",
       "  </thead>\n",
       "  <tbody>\n",
       "    <tr>\n",
       "      <th>0</th>\n",
       "      <td>2024-09-18 12:45:04</td>\n",
       "      <td>bb5429b2-be36-4088-b04c-9f17e9003d2d</td>\n",
       "      <td>Banking system low-cost deposits could decline...</td>\n",
       "      <td>SBI’s Casa ratio stood at 40.7% as on 30 June,...</td>\n",
       "      <td>0.6124</td>\n",
       "      <td>Mumbai: The share of low-cost deposits in the ...</td>\n",
       "    </tr>\n",
       "    <tr>\n",
       "      <th>1</th>\n",
       "      <td>2024-09-18 12:37:42</td>\n",
       "      <td>0b24d613-2705-4283-b45e-3b8942fc5762</td>\n",
       "      <td>State Bank of India raises Rs 7,500 cr at 7.33...</td>\n",
       "      <td>Tier-2 bond issuance: This issuance follows a ...</td>\n",
       "      <td>0.0000</td>\n",
       "      <td>The &lt;em&gt;State&lt;/em&gt; &lt;em&gt;Bank&lt;/em&gt; &lt;em&gt;of&lt;/em&gt; &lt;...</td>\n",
       "    </tr>\n",
       "    <tr>\n",
       "      <th>2</th>\n",
       "      <td>2024-09-18 11:56:10</td>\n",
       "      <td>9bcbd8e3-7f97-4d00-aae8-1f08f1a674fd</td>\n",
       "      <td>SBI raises ₹15,000 cr via Basel III bonds in a...</td>\n",
       "      <td>In less than a month, State Bank of India rais...</td>\n",
       "      <td>0.2960</td>\n",
       "      <td>Shares of &lt;em&gt;State&lt;/em&gt; &lt;em&gt;Bank&lt;/em&gt; &lt;em&gt;of&lt;...</td>\n",
       "    </tr>\n",
       "  </tbody>\n",
       "</table>\n",
       "</div>"
      ],
      "text/plain": [
       "         published_at                                  uuid  \\\n",
       "0 2024-09-18 12:45:04  bb5429b2-be36-4088-b04c-9f17e9003d2d   \n",
       "1 2024-09-18 12:37:42  0b24d613-2705-4283-b45e-3b8942fc5762   \n",
       "2 2024-09-18 11:56:10  9bcbd8e3-7f97-4d00-aae8-1f08f1a674fd   \n",
       "\n",
       "                                               title  \\\n",
       "0  Banking system low-cost deposits could decline...   \n",
       "1  State Bank of India raises Rs 7,500 cr at 7.33...   \n",
       "2  SBI raises ₹15,000 cr via Basel III bonds in a...   \n",
       "\n",
       "                                         description  sentiment_score  \\\n",
       "0  SBI’s Casa ratio stood at 40.7% as on 30 June,...           0.6124   \n",
       "1  Tier-2 bond issuance: This issuance follows a ...           0.0000   \n",
       "2  In less than a month, State Bank of India rais...           0.2960   \n",
       "\n",
       "                                           highlight  \n",
       "0  Mumbai: The share of low-cost deposits in the ...  \n",
       "1  The <em>State</em> <em>Bank</em> <em>of</em> <...  \n",
       "2  Shares of <em>State</em> <em>Bank</em> <em>of<...  "
      ]
     },
     "execution_count": 52,
     "metadata": {},
     "output_type": "execute_result"
    }
   ],
   "source": [
    "temp_df.merge(temp_highlights, on = 'uuid').head(3)"
   ]
  },
  {
   "cell_type": "code",
   "execution_count": 53,
   "id": "ee9e2756",
   "metadata": {},
   "outputs": [],
   "source": [
    "df = temp_df.merge(temp_highlights, on = 'uuid')"
   ]
  },
  {
   "cell_type": "code",
   "execution_count": 54,
   "id": "2869529a",
   "metadata": {},
   "outputs": [],
   "source": [
    "df['article'] = df['title'] +' '+ df['description'] +' '+ df['highlight']"
   ]
  },
  {
   "cell_type": "code",
   "execution_count": 55,
   "id": "134f3e1f",
   "metadata": {},
   "outputs": [],
   "source": [
    "df.drop(columns = ['title', 'description', 'highlight'], inplace = True)"
   ]
  },
  {
   "cell_type": "markdown",
   "id": "91a56a4f",
   "metadata": {},
   "source": [
    "### Dataset ready for normal data"
   ]
  },
  {
   "cell_type": "code",
   "execution_count": 56,
   "id": "5008f70c",
   "metadata": {},
   "outputs": [
    {
     "data": {
      "text/html": [
       "<div>\n",
       "<style scoped>\n",
       "    .dataframe tbody tr th:only-of-type {\n",
       "        vertical-align: middle;\n",
       "    }\n",
       "\n",
       "    .dataframe tbody tr th {\n",
       "        vertical-align: top;\n",
       "    }\n",
       "\n",
       "    .dataframe thead th {\n",
       "        text-align: right;\n",
       "    }\n",
       "</style>\n",
       "<table border=\"1\" class=\"dataframe\">\n",
       "  <thead>\n",
       "    <tr style=\"text-align: right;\">\n",
       "      <th></th>\n",
       "      <th>published_at</th>\n",
       "      <th>uuid</th>\n",
       "      <th>sentiment_score</th>\n",
       "      <th>article</th>\n",
       "    </tr>\n",
       "  </thead>\n",
       "  <tbody>\n",
       "    <tr>\n",
       "      <th>0</th>\n",
       "      <td>2024-09-18 12:45:04</td>\n",
       "      <td>bb5429b2-be36-4088-b04c-9f17e9003d2d</td>\n",
       "      <td>0.6124</td>\n",
       "      <td>Banking system low-cost deposits could decline...</td>\n",
       "    </tr>\n",
       "    <tr>\n",
       "      <th>1</th>\n",
       "      <td>2024-09-18 12:37:42</td>\n",
       "      <td>0b24d613-2705-4283-b45e-3b8942fc5762</td>\n",
       "      <td>0.0000</td>\n",
       "      <td>State Bank of India raises Rs 7,500 cr at 7.33...</td>\n",
       "    </tr>\n",
       "    <tr>\n",
       "      <th>2</th>\n",
       "      <td>2024-09-18 11:56:10</td>\n",
       "      <td>9bcbd8e3-7f97-4d00-aae8-1f08f1a674fd</td>\n",
       "      <td>0.2960</td>\n",
       "      <td>SBI raises ₹15,000 cr via Basel III bonds in a...</td>\n",
       "    </tr>\n",
       "  </tbody>\n",
       "</table>\n",
       "</div>"
      ],
      "text/plain": [
       "         published_at                                  uuid  sentiment_score  \\\n",
       "0 2024-09-18 12:45:04  bb5429b2-be36-4088-b04c-9f17e9003d2d           0.6124   \n",
       "1 2024-09-18 12:37:42  0b24d613-2705-4283-b45e-3b8942fc5762           0.0000   \n",
       "2 2024-09-18 11:56:10  9bcbd8e3-7f97-4d00-aae8-1f08f1a674fd           0.2960   \n",
       "\n",
       "                                             article  \n",
       "0  Banking system low-cost deposits could decline...  \n",
       "1  State Bank of India raises Rs 7,500 cr at 7.33...  \n",
       "2  SBI raises ₹15,000 cr via Basel III bonds in a...  "
      ]
     },
     "execution_count": 56,
     "metadata": {},
     "output_type": "execute_result"
    }
   ],
   "source": [
    "df.head(3)"
   ]
  },
  {
   "cell_type": "markdown",
   "id": "dd8f899a",
   "metadata": {},
   "source": [
    "#### aakash"
   ]
  },
  {
   "cell_type": "code",
   "execution_count": 57,
   "id": "1ad1f89b",
   "metadata": {},
   "outputs": [],
   "source": [
    "# df_sorted = df.sort_values(by = 'published_at', ascending = True).reset_index(drop = True)"
   ]
  },
  {
   "cell_type": "code",
   "execution_count": 58,
   "id": "9fa285d9",
   "metadata": {},
   "outputs": [],
   "source": [
    "# df_sorted"
   ]
  },
  {
   "cell_type": "code",
   "execution_count": 59,
   "id": "621de230",
   "metadata": {},
   "outputs": [],
   "source": [
    "# df_sorted.to_csv('dataset.csv', index = False)"
   ]
  },
  {
   "cell_type": "markdown",
   "id": "c60860ab",
   "metadata": {},
   "source": [
    "### doing the same thing for datasets under 'similar'"
   ]
  },
  {
   "cell_type": "code",
   "execution_count": 60,
   "id": "055698a5",
   "metadata": {},
   "outputs": [
    {
     "data": {
      "text/html": [
       "<div>\n",
       "<style scoped>\n",
       "    .dataframe tbody tr th:only-of-type {\n",
       "        vertical-align: middle;\n",
       "    }\n",
       "\n",
       "    .dataframe tbody tr th {\n",
       "        vertical-align: top;\n",
       "    }\n",
       "\n",
       "    .dataframe thead th {\n",
       "        text-align: right;\n",
       "    }\n",
       "</style>\n",
       "<table border=\"1\" class=\"dataframe\">\n",
       "  <thead>\n",
       "    <tr style=\"text-align: right;\">\n",
       "      <th></th>\n",
       "      <th>published_at</th>\n",
       "      <th>uuid</th>\n",
       "      <th>title</th>\n",
       "      <th>description</th>\n",
       "      <th>snippet</th>\n",
       "      <th>url</th>\n",
       "      <th>image_url</th>\n",
       "      <th>language</th>\n",
       "      <th>source</th>\n",
       "      <th>relevance_score</th>\n",
       "    </tr>\n",
       "  </thead>\n",
       "  <tbody>\n",
       "    <tr>\n",
       "      <th>0</th>\n",
       "      <td>2024-09-18 12:02:18</td>\n",
       "      <td>e75cdefa-a7e0-46ba-8a0c-d2574e7bfc8f</td>\n",
       "      <td>Rise In Unsecured Small Ticket Loans Not Alarm...</td>\n",
       "      <td>The rise in small value unsecured loans with a...</td>\n",
       "      <td>The rise in small-value unsecured loans with a...</td>\n",
       "      <td>https://www.ndtvprofit.com/economy-finance/sbi...</td>\n",
       "      <td>https://media.assettype.com/bloombergquint%2F2...</td>\n",
       "      <td>en</td>\n",
       "      <td>bloombergquint.com</td>\n",
       "      <td>NaN</td>\n",
       "    </tr>\n",
       "    <tr>\n",
       "      <th>1</th>\n",
       "      <td>2024-09-18 12:02:18</td>\n",
       "      <td>7126ca9f-90cf-4a03-b6e9-5ee6d0a0ec9c</td>\n",
       "      <td>SBI Raises Rs 7,500 Crore Via Second Tranche O...</td>\n",
       "      <td>State Bank of India bagged Rs 7,500 crore thro...</td>\n",
       "      <td>State Bank of India bagged Rs 7,500 crore thro...</td>\n",
       "      <td>https://www.ndtvprofit.com/business/sbi-raises...</td>\n",
       "      <td>https://media.assettype.com/bloombergquint%2F2...</td>\n",
       "      <td>en</td>\n",
       "      <td>bloombergquint.com</td>\n",
       "      <td>NaN</td>\n",
       "    </tr>\n",
       "  </tbody>\n",
       "</table>\n",
       "</div>"
      ],
      "text/plain": [
       "         published_at                                  uuid  \\\n",
       "0 2024-09-18 12:02:18  e75cdefa-a7e0-46ba-8a0c-d2574e7bfc8f   \n",
       "1 2024-09-18 12:02:18  7126ca9f-90cf-4a03-b6e9-5ee6d0a0ec9c   \n",
       "\n",
       "                                               title  \\\n",
       "0  Rise In Unsecured Small Ticket Loans Not Alarm...   \n",
       "1  SBI Raises Rs 7,500 Crore Via Second Tranche O...   \n",
       "\n",
       "                                         description  \\\n",
       "0  The rise in small value unsecured loans with a...   \n",
       "1  State Bank of India bagged Rs 7,500 crore thro...   \n",
       "\n",
       "                                             snippet  \\\n",
       "0  The rise in small-value unsecured loans with a...   \n",
       "1  State Bank of India bagged Rs 7,500 crore thro...   \n",
       "\n",
       "                                                 url  \\\n",
       "0  https://www.ndtvprofit.com/economy-finance/sbi...   \n",
       "1  https://www.ndtvprofit.com/business/sbi-raises...   \n",
       "\n",
       "                                           image_url language  \\\n",
       "0  https://media.assettype.com/bloombergquint%2F2...       en   \n",
       "1  https://media.assettype.com/bloombergquint%2F2...       en   \n",
       "\n",
       "               source  relevance_score  \n",
       "0  bloombergquint.com              NaN  \n",
       "1  bloombergquint.com              NaN  "
      ]
     },
     "execution_count": 60,
     "metadata": {},
     "output_type": "execute_result"
    }
   ],
   "source": [
    "meta_similar_unique.head(2)"
   ]
  },
  {
   "cell_type": "code",
   "execution_count": 61,
   "id": "cc0546f9",
   "metadata": {},
   "outputs": [
    {
     "data": {
      "text/plain": [
       "(733, 10)"
      ]
     },
     "execution_count": 61,
     "metadata": {},
     "output_type": "execute_result"
    }
   ],
   "source": [
    "meta_similar_unique.shape"
   ]
  },
  {
   "cell_type": "code",
   "execution_count": 62,
   "id": "dc2d9ed7",
   "metadata": {},
   "outputs": [
    {
     "data": {
      "text/html": [
       "<div>\n",
       "<style scoped>\n",
       "    .dataframe tbody tr th:only-of-type {\n",
       "        vertical-align: middle;\n",
       "    }\n",
       "\n",
       "    .dataframe tbody tr th {\n",
       "        vertical-align: top;\n",
       "    }\n",
       "\n",
       "    .dataframe thead th {\n",
       "        text-align: right;\n",
       "    }\n",
       "</style>\n",
       "<table border=\"1\" class=\"dataframe\">\n",
       "  <thead>\n",
       "    <tr style=\"text-align: right;\">\n",
       "      <th></th>\n",
       "      <th>symbol</th>\n",
       "      <th>name</th>\n",
       "      <th>exchange</th>\n",
       "      <th>exchange_long</th>\n",
       "      <th>country</th>\n",
       "      <th>type</th>\n",
       "      <th>industry</th>\n",
       "      <th>match_score</th>\n",
       "      <th>sentiment_score</th>\n",
       "      <th>uuid</th>\n",
       "    </tr>\n",
       "  </thead>\n",
       "  <tbody>\n",
       "    <tr>\n",
       "      <th>0</th>\n",
       "      <td>SBKFF</td>\n",
       "      <td>State Bank of India</td>\n",
       "      <td>NaN</td>\n",
       "      <td>NaN</td>\n",
       "      <td>us</td>\n",
       "      <td>equity</td>\n",
       "      <td>Financial Services</td>\n",
       "      <td>31.545517</td>\n",
       "      <td>-0.4452</td>\n",
       "      <td>e75cdefa-a7e0-46ba-8a0c-d2574e7bfc8f</td>\n",
       "    </tr>\n",
       "    <tr>\n",
       "      <th>1</th>\n",
       "      <td>SBIN.NS</td>\n",
       "      <td>State Bank of India</td>\n",
       "      <td>NaN</td>\n",
       "      <td>NaN</td>\n",
       "      <td>in</td>\n",
       "      <td>equity</td>\n",
       "      <td>Financial Services</td>\n",
       "      <td>31.545378</td>\n",
       "      <td>-0.4452</td>\n",
       "      <td>e75cdefa-a7e0-46ba-8a0c-d2574e7bfc8f</td>\n",
       "    </tr>\n",
       "    <tr>\n",
       "      <th>2</th>\n",
       "      <td>SBIN.BO</td>\n",
       "      <td>State Bank of India</td>\n",
       "      <td>NaN</td>\n",
       "      <td>NaN</td>\n",
       "      <td>in</td>\n",
       "      <td>equity</td>\n",
       "      <td>Financial Services</td>\n",
       "      <td>31.544556</td>\n",
       "      <td>-0.4452</td>\n",
       "      <td>e75cdefa-a7e0-46ba-8a0c-d2574e7bfc8f</td>\n",
       "    </tr>\n",
       "    <tr>\n",
       "      <th>3</th>\n",
       "      <td>SBKFF</td>\n",
       "      <td>State Bank of India</td>\n",
       "      <td>NaN</td>\n",
       "      <td>NaN</td>\n",
       "      <td>us</td>\n",
       "      <td>equity</td>\n",
       "      <td>Financial Services</td>\n",
       "      <td>32.144750</td>\n",
       "      <td>0.4588</td>\n",
       "      <td>7126ca9f-90cf-4a03-b6e9-5ee6d0a0ec9c</td>\n",
       "    </tr>\n",
       "    <tr>\n",
       "      <th>4</th>\n",
       "      <td>SBIN.NS</td>\n",
       "      <td>State Bank of India</td>\n",
       "      <td>NaN</td>\n",
       "      <td>NaN</td>\n",
       "      <td>in</td>\n",
       "      <td>equity</td>\n",
       "      <td>Financial Services</td>\n",
       "      <td>32.144630</td>\n",
       "      <td>0.4588</td>\n",
       "      <td>7126ca9f-90cf-4a03-b6e9-5ee6d0a0ec9c</td>\n",
       "    </tr>\n",
       "  </tbody>\n",
       "</table>\n",
       "</div>"
      ],
      "text/plain": [
       "    symbol                 name  exchange  exchange_long country    type  \\\n",
       "0    SBKFF  State Bank of India       NaN            NaN      us  equity   \n",
       "1  SBIN.NS  State Bank of India       NaN            NaN      in  equity   \n",
       "2  SBIN.BO  State Bank of India       NaN            NaN      in  equity   \n",
       "3    SBKFF  State Bank of India       NaN            NaN      us  equity   \n",
       "4  SBIN.NS  State Bank of India       NaN            NaN      in  equity   \n",
       "\n",
       "             industry  match_score  sentiment_score  \\\n",
       "0  Financial Services    31.545517          -0.4452   \n",
       "1  Financial Services    31.545378          -0.4452   \n",
       "2  Financial Services    31.544556          -0.4452   \n",
       "3  Financial Services    32.144750           0.4588   \n",
       "4  Financial Services    32.144630           0.4588   \n",
       "\n",
       "                                   uuid  \n",
       "0  e75cdefa-a7e0-46ba-8a0c-d2574e7bfc8f  \n",
       "1  e75cdefa-a7e0-46ba-8a0c-d2574e7bfc8f  \n",
       "2  e75cdefa-a7e0-46ba-8a0c-d2574e7bfc8f  \n",
       "3  7126ca9f-90cf-4a03-b6e9-5ee6d0a0ec9c  \n",
       "4  7126ca9f-90cf-4a03-b6e9-5ee6d0a0ec9c  "
      ]
     },
     "execution_count": 62,
     "metadata": {},
     "output_type": "execute_result"
    }
   ],
   "source": [
    "uuidinsbi_entities_similar.head(5)"
   ]
  },
  {
   "cell_type": "code",
   "execution_count": 63,
   "id": "3ef0fd9b",
   "metadata": {},
   "outputs": [
    {
     "data": {
      "text/plain": [
       "(2197, 10)"
      ]
     },
     "execution_count": 63,
     "metadata": {},
     "output_type": "execute_result"
    }
   ],
   "source": [
    "uuidinsbi_entities_similar.shape"
   ]
  },
  {
   "cell_type": "code",
   "execution_count": 64,
   "id": "71a7def6",
   "metadata": {},
   "outputs": [
    {
     "data": {
      "text/plain": [
       "733"
      ]
     },
     "execution_count": 64,
     "metadata": {},
     "output_type": "execute_result"
    }
   ],
   "source": [
    "uuidinsbi_entities_similar['uuid'].nunique()"
   ]
  },
  {
   "cell_type": "code",
   "execution_count": 65,
   "id": "6e5aa834",
   "metadata": {},
   "outputs": [
    {
     "data": {
      "text/plain": [
       "0        True\n",
       "1        True\n",
       "2        True\n",
       "3       False\n",
       "4       False\n",
       "        ...  \n",
       "2568    False\n",
       "2569    False\n",
       "2570     True\n",
       "2571    False\n",
       "2572     True\n",
       "Name: uuid, Length: 2573, dtype: bool"
      ]
     },
     "execution_count": 65,
     "metadata": {},
     "output_type": "execute_result"
    }
   ],
   "source": [
    "highlights_similar['uuid'].isin(uuidinsbi_entities_similar['uuid'])"
   ]
  },
  {
   "cell_type": "code",
   "execution_count": 66,
   "id": "ffa9f6d9",
   "metadata": {},
   "outputs": [
    {
     "data": {
      "text/html": [
       "<div>\n",
       "<style scoped>\n",
       "    .dataframe tbody tr th:only-of-type {\n",
       "        vertical-align: middle;\n",
       "    }\n",
       "\n",
       "    .dataframe tbody tr th {\n",
       "        vertical-align: top;\n",
       "    }\n",
       "\n",
       "    .dataframe thead th {\n",
       "        text-align: right;\n",
       "    }\n",
       "</style>\n",
       "<table border=\"1\" class=\"dataframe\">\n",
       "  <thead>\n",
       "    <tr style=\"text-align: right;\">\n",
       "      <th></th>\n",
       "      <th>Unnamed: 0</th>\n",
       "      <th>highlight</th>\n",
       "      <th>sentiment</th>\n",
       "      <th>highlighted_in</th>\n",
       "      <th>uuid</th>\n",
       "    </tr>\n",
       "  </thead>\n",
       "  <tbody>\n",
       "    <tr>\n",
       "      <th>0</th>\n",
       "      <td>0</td>\n",
       "      <td>The rise in small-value unsecured loans with a...</td>\n",
       "      <td>-0.4452</td>\n",
       "      <td>main_text</td>\n",
       "      <td>e75cdefa-a7e0-46ba-8a0c-d2574e7bfc8f</td>\n",
       "    </tr>\n",
       "    <tr>\n",
       "      <th>1</th>\n",
       "      <td>1</td>\n",
       "      <td>&lt;em&gt;State&lt;/em&gt; &lt;em&gt;Bank&lt;/em&gt; &lt;em&gt;of&lt;/em&gt; &lt;em&gt;I...</td>\n",
       "      <td>0.4588</td>\n",
       "      <td>main_text</td>\n",
       "      <td>7126ca9f-90cf-4a03-b6e9-5ee6d0a0ec9c</td>\n",
       "    </tr>\n",
       "    <tr>\n",
       "      <th>2</th>\n",
       "      <td>2</td>\n",
       "      <td>(up 1.29%), &lt;em&gt;State&lt;/em&gt; &lt;em&gt;Bank&lt;/em&gt; &lt;em&gt;o...</td>\n",
       "      <td>0.7717</td>\n",
       "      <td>main_text</td>\n",
       "      <td>78644d24-249e-40a2-8151-5320d71eee4f</td>\n",
       "    </tr>\n",
       "    <tr>\n",
       "      <th>6</th>\n",
       "      <td>6</td>\n",
       "      <td>Reliance Industries was leading the chart of t...</td>\n",
       "      <td>0.4877</td>\n",
       "      <td>main_text</td>\n",
       "      <td>986ea556-7b6a-458c-86ad-e7c1b9687a60</td>\n",
       "    </tr>\n",
       "    <tr>\n",
       "      <th>7</th>\n",
       "      <td>7</td>\n",
       "      <td>The valuation of Reliance Industries jumped ₹9...</td>\n",
       "      <td>0.0000</td>\n",
       "      <td>main_text</td>\n",
       "      <td>986ea556-7b6a-458c-86ad-e7c1b9687a60</td>\n",
       "    </tr>\n",
       "    <tr>\n",
       "      <th>...</th>\n",
       "      <td>...</td>\n",
       "      <td>...</td>\n",
       "      <td>...</td>\n",
       "      <td>...</td>\n",
       "      <td>...</td>\n",
       "    </tr>\n",
       "    <tr>\n",
       "      <th>2561</th>\n",
       "      <td>2561</td>\n",
       "      <td>Also Read: &lt;em&gt;Axis&lt;/em&gt; &lt;em&gt;Bank&lt;/em&gt; Fixed D...</td>\n",
       "      <td>0.5719</td>\n",
       "      <td>main_text</td>\n",
       "      <td>af86695f-0983-40be-b4b9-eba62c116c75</td>\n",
       "    </tr>\n",
       "    <tr>\n",
       "      <th>2566</th>\n",
       "      <td>2566</td>\n",
       "      <td>NMDC Ltd(down 0.28%) and KIOCL(down 0.20%) wer...</td>\n",
       "      <td>0.2023</td>\n",
       "      <td>main_text</td>\n",
       "      <td>33d7d348-9c03-4c28-95fc-ee956a9f4f5b</td>\n",
       "    </tr>\n",
       "    <tr>\n",
       "      <th>2567</th>\n",
       "      <td>2567</td>\n",
       "      <td>&lt;em&gt;Auto&lt;/em&gt;(up 0.55%), Mahindra &amp; Mahindra(u...</td>\n",
       "      <td>0.7717</td>\n",
       "      <td>main_text</td>\n",
       "      <td>33d7d348-9c03-4c28-95fc-ee956a9f4f5b</td>\n",
       "    </tr>\n",
       "    <tr>\n",
       "      <th>2570</th>\n",
       "      <td>2570</td>\n",
       "      <td>The board of directors of BharatPe now include...</td>\n",
       "      <td>0.0000</td>\n",
       "      <td>main_text</td>\n",
       "      <td>fe80ab58-39cc-41df-8425-3f15a2db4e42</td>\n",
       "    </tr>\n",
       "    <tr>\n",
       "      <th>2572</th>\n",
       "      <td>2572</td>\n",
       "      <td>SBI Payments, a subsidiary of India's largest ...</td>\n",
       "      <td>0.3182</td>\n",
       "      <td>main_text</td>\n",
       "      <td>222f0794-c344-4ce4-911a-2df28b55b969</td>\n",
       "    </tr>\n",
       "  </tbody>\n",
       "</table>\n",
       "<p>1019 rows × 5 columns</p>\n",
       "</div>"
      ],
      "text/plain": [
       "      Unnamed: 0                                          highlight  \\\n",
       "0              0  The rise in small-value unsecured loans with a...   \n",
       "1              1  <em>State</em> <em>Bank</em> <em>of</em> <em>I...   \n",
       "2              2  (up 1.29%), <em>State</em> <em>Bank</em> <em>o...   \n",
       "6              6  Reliance Industries was leading the chart of t...   \n",
       "7              7  The valuation of Reliance Industries jumped ₹9...   \n",
       "...          ...                                                ...   \n",
       "2561        2561  Also Read: <em>Axis</em> <em>Bank</em> Fixed D...   \n",
       "2566        2566  NMDC Ltd(down 0.28%) and KIOCL(down 0.20%) wer...   \n",
       "2567        2567  <em>Auto</em>(up 0.55%), Mahindra & Mahindra(u...   \n",
       "2570        2570  The board of directors of BharatPe now include...   \n",
       "2572        2572  SBI Payments, a subsidiary of India's largest ...   \n",
       "\n",
       "      sentiment highlighted_in                                  uuid  \n",
       "0       -0.4452      main_text  e75cdefa-a7e0-46ba-8a0c-d2574e7bfc8f  \n",
       "1        0.4588      main_text  7126ca9f-90cf-4a03-b6e9-5ee6d0a0ec9c  \n",
       "2        0.7717      main_text  78644d24-249e-40a2-8151-5320d71eee4f  \n",
       "6        0.4877      main_text  986ea556-7b6a-458c-86ad-e7c1b9687a60  \n",
       "7        0.0000      main_text  986ea556-7b6a-458c-86ad-e7c1b9687a60  \n",
       "...         ...            ...                                   ...  \n",
       "2561     0.5719      main_text  af86695f-0983-40be-b4b9-eba62c116c75  \n",
       "2566     0.2023      main_text  33d7d348-9c03-4c28-95fc-ee956a9f4f5b  \n",
       "2567     0.7717      main_text  33d7d348-9c03-4c28-95fc-ee956a9f4f5b  \n",
       "2570     0.0000      main_text  fe80ab58-39cc-41df-8425-3f15a2db4e42  \n",
       "2572     0.3182      main_text  222f0794-c344-4ce4-911a-2df28b55b969  \n",
       "\n",
       "[1019 rows x 5 columns]"
      ]
     },
     "execution_count": 66,
     "metadata": {},
     "output_type": "execute_result"
    }
   ],
   "source": [
    "highlights_similar[highlights_similar['uuid'].isin(uuidinsbi_entities_similar['uuid']) == True]"
   ]
  },
  {
   "cell_type": "code",
   "execution_count": 67,
   "id": "f582a0d4",
   "metadata": {},
   "outputs": [],
   "source": [
    "highlights_similar = highlights_similar[highlights_similar['uuid'].isin(uuidinsbi_entities_similar['uuid']) == True]"
   ]
  },
  {
   "cell_type": "code",
   "execution_count": 68,
   "id": "65354d87",
   "metadata": {},
   "outputs": [
    {
     "data": {
      "text/html": [
       "<div>\n",
       "<style scoped>\n",
       "    .dataframe tbody tr th:only-of-type {\n",
       "        vertical-align: middle;\n",
       "    }\n",
       "\n",
       "    .dataframe tbody tr th {\n",
       "        vertical-align: top;\n",
       "    }\n",
       "\n",
       "    .dataframe thead th {\n",
       "        text-align: right;\n",
       "    }\n",
       "</style>\n",
       "<table border=\"1\" class=\"dataframe\">\n",
       "  <thead>\n",
       "    <tr style=\"text-align: right;\">\n",
       "      <th></th>\n",
       "      <th>uuid</th>\n",
       "      <th>highlight</th>\n",
       "    </tr>\n",
       "  </thead>\n",
       "  <tbody>\n",
       "    <tr>\n",
       "      <th>0</th>\n",
       "      <td>0072285b-bc1d-481b-a6be-e3b2bc72dbc2</td>\n",
       "      <td>He has also worked at the Industrial Developme...</td>\n",
       "    </tr>\n",
       "    <tr>\n",
       "      <th>1</th>\n",
       "      <td>009f04c9-aea3-4071-944f-7e280c5c3eeb</td>\n",
       "      <td>gainers in the Nifty pack.On the other hand, A...</td>\n",
       "    </tr>\n",
       "    <tr>\n",
       "      <th>2</th>\n",
       "      <td>00a13e9c-dc75-4a1a-b226-26c11006adf5</td>\n",
       "      <td>SBI's ex-chief and chairman, BharatPe, Rajnish...</td>\n",
       "    </tr>\n",
       "    <tr>\n",
       "      <th>3</th>\n",
       "      <td>00f0c29e-3f23-4e0f-b383-f0eb36fa771c</td>\n",
       "      <td>Bajaj Finance was the biggest gainer in the Se...</td>\n",
       "    </tr>\n",
       "    <tr>\n",
       "      <th>4</th>\n",
       "      <td>011d361e-62b8-49da-8672-01be9bedba17</td>\n",
       "      <td>(down 1.53%), State Bank of India(down 1.46%),...</td>\n",
       "    </tr>\n",
       "    <tr>\n",
       "      <th>...</th>\n",
       "      <td>...</td>\n",
       "      <td>...</td>\n",
       "    </tr>\n",
       "    <tr>\n",
       "      <th>728</th>\n",
       "      <td>fe4d2ea9-a7d8-44e1-9050-27bd4809f83c</td>\n",
       "      <td>(up 3.63 per cent), &lt;em&gt;State&lt;/em&gt; &lt;em&gt;Bank&lt;/e...</td>\n",
       "    </tr>\n",
       "    <tr>\n",
       "      <th>729</th>\n",
       "      <td>fe80ab58-39cc-41df-8425-3f15a2db4e42</td>\n",
       "      <td>The board of directors of BharatPe now include...</td>\n",
       "    </tr>\n",
       "    <tr>\n",
       "      <th>730</th>\n",
       "      <td>ff7f48db-7e19-4d19-b1dc-4b0d4aba5b83</td>\n",
       "      <td>Amid the ongoing unrest in Manipur, &lt;em&gt;State&lt;...</td>\n",
       "    </tr>\n",
       "    <tr>\n",
       "      <th>731</th>\n",
       "      <td>ff956f23-d2a8-4554-a36a-99044489daa5</td>\n",
       "      <td>Nestle India(up 1.15%), HCL Technologies(up 0....</td>\n",
       "    </tr>\n",
       "    <tr>\n",
       "      <th>732</th>\n",
       "      <td>ffe0804d-a8c0-4ed0-a543-50f272675331</td>\n",
       "      <td>between ONDC and Swiggy-Zomato, which has so f...</td>\n",
       "    </tr>\n",
       "  </tbody>\n",
       "</table>\n",
       "<p>733 rows × 2 columns</p>\n",
       "</div>"
      ],
      "text/plain": [
       "                                     uuid  \\\n",
       "0    0072285b-bc1d-481b-a6be-e3b2bc72dbc2   \n",
       "1    009f04c9-aea3-4071-944f-7e280c5c3eeb   \n",
       "2    00a13e9c-dc75-4a1a-b226-26c11006adf5   \n",
       "3    00f0c29e-3f23-4e0f-b383-f0eb36fa771c   \n",
       "4    011d361e-62b8-49da-8672-01be9bedba17   \n",
       "..                                    ...   \n",
       "728  fe4d2ea9-a7d8-44e1-9050-27bd4809f83c   \n",
       "729  fe80ab58-39cc-41df-8425-3f15a2db4e42   \n",
       "730  ff7f48db-7e19-4d19-b1dc-4b0d4aba5b83   \n",
       "731  ff956f23-d2a8-4554-a36a-99044489daa5   \n",
       "732  ffe0804d-a8c0-4ed0-a543-50f272675331   \n",
       "\n",
       "                                             highlight  \n",
       "0    He has also worked at the Industrial Developme...  \n",
       "1    gainers in the Nifty pack.On the other hand, A...  \n",
       "2    SBI's ex-chief and chairman, BharatPe, Rajnish...  \n",
       "3    Bajaj Finance was the biggest gainer in the Se...  \n",
       "4    (down 1.53%), State Bank of India(down 1.46%),...  \n",
       "..                                                 ...  \n",
       "728  (up 3.63 per cent), <em>State</em> <em>Bank</e...  \n",
       "729  The board of directors of BharatPe now include...  \n",
       "730  Amid the ongoing unrest in Manipur, <em>State<...  \n",
       "731  Nestle India(up 1.15%), HCL Technologies(up 0....  \n",
       "732  between ONDC and Swiggy-Zomato, which has so f...  \n",
       "\n",
       "[733 rows x 2 columns]"
      ]
     },
     "execution_count": 68,
     "metadata": {},
     "output_type": "execute_result"
    }
   ],
   "source": [
    "highlights_similar.groupby('uuid').agg({\n",
    "    'highlight' : \" \".join\n",
    "}).reset_index()"
   ]
  },
  {
   "cell_type": "markdown",
   "id": "86c90d1c",
   "metadata": {},
   "source": [
    "### temp_high_similar"
   ]
  },
  {
   "cell_type": "code",
   "execution_count": 69,
   "id": "e6c7e80f",
   "metadata": {},
   "outputs": [],
   "source": [
    "temp_high_similar = highlights_similar.groupby('uuid').agg({\n",
    "    'highlight' : \" \".join\n",
    "}).reset_index()"
   ]
  },
  {
   "cell_type": "code",
   "execution_count": 70,
   "id": "ceb29884",
   "metadata": {},
   "outputs": [
    {
     "data": {
      "text/plain": [
       "Index(['uuid', 'highlight'], dtype='object')"
      ]
     },
     "execution_count": 70,
     "metadata": {},
     "output_type": "execute_result"
    }
   ],
   "source": [
    "temp_high_similar.columns"
   ]
  },
  {
   "cell_type": "markdown",
   "id": "48ede903",
   "metadata": {},
   "source": [
    "### temp_ent_similar"
   ]
  },
  {
   "cell_type": "code",
   "execution_count": 71,
   "id": "330cb900",
   "metadata": {},
   "outputs": [],
   "source": [
    "temp_ent_similar = uuidinsbi_entities_similar.groupby('uuid').agg({\n",
    "    'sentiment_score' : 'mean'\n",
    "}).reset_index()"
   ]
  },
  {
   "cell_type": "code",
   "execution_count": 72,
   "id": "fecaa45c",
   "metadata": {},
   "outputs": [
    {
     "data": {
      "text/html": [
       "<div>\n",
       "<style scoped>\n",
       "    .dataframe tbody tr th:only-of-type {\n",
       "        vertical-align: middle;\n",
       "    }\n",
       "\n",
       "    .dataframe tbody tr th {\n",
       "        vertical-align: top;\n",
       "    }\n",
       "\n",
       "    .dataframe thead th {\n",
       "        text-align: right;\n",
       "    }\n",
       "</style>\n",
       "<table border=\"1\" class=\"dataframe\">\n",
       "  <thead>\n",
       "    <tr style=\"text-align: right;\">\n",
       "      <th></th>\n",
       "      <th>uuid</th>\n",
       "      <th>sentiment_score</th>\n",
       "    </tr>\n",
       "  </thead>\n",
       "  <tbody>\n",
       "    <tr>\n",
       "      <th>0</th>\n",
       "      <td>0072285b-bc1d-481b-a6be-e3b2bc72dbc2</td>\n",
       "      <td>0.0000</td>\n",
       "    </tr>\n",
       "    <tr>\n",
       "      <th>1</th>\n",
       "      <td>009f04c9-aea3-4071-944f-7e280c5c3eeb</td>\n",
       "      <td>0.3548</td>\n",
       "    </tr>\n",
       "  </tbody>\n",
       "</table>\n",
       "</div>"
      ],
      "text/plain": [
       "                                   uuid  sentiment_score\n",
       "0  0072285b-bc1d-481b-a6be-e3b2bc72dbc2           0.0000\n",
       "1  009f04c9-aea3-4071-944f-7e280c5c3eeb           0.3548"
      ]
     },
     "execution_count": 72,
     "metadata": {},
     "output_type": "execute_result"
    }
   ],
   "source": [
    "temp_ent_similar.head(2)"
   ]
  },
  {
   "cell_type": "code",
   "execution_count": 73,
   "id": "e6f5dc3e",
   "metadata": {},
   "outputs": [
    {
     "data": {
      "text/html": [
       "<div>\n",
       "<style scoped>\n",
       "    .dataframe tbody tr th:only-of-type {\n",
       "        vertical-align: middle;\n",
       "    }\n",
       "\n",
       "    .dataframe tbody tr th {\n",
       "        vertical-align: top;\n",
       "    }\n",
       "\n",
       "    .dataframe thead th {\n",
       "        text-align: right;\n",
       "    }\n",
       "</style>\n",
       "<table border=\"1\" class=\"dataframe\">\n",
       "  <thead>\n",
       "    <tr style=\"text-align: right;\">\n",
       "      <th></th>\n",
       "      <th>uuid</th>\n",
       "      <th>sentiment_score</th>\n",
       "      <th>highlight</th>\n",
       "    </tr>\n",
       "  </thead>\n",
       "  <tbody>\n",
       "    <tr>\n",
       "      <th>0</th>\n",
       "      <td>0072285b-bc1d-481b-a6be-e3b2bc72dbc2</td>\n",
       "      <td>0.00000</td>\n",
       "      <td>He has also worked at the Industrial Developme...</td>\n",
       "    </tr>\n",
       "    <tr>\n",
       "      <th>1</th>\n",
       "      <td>009f04c9-aea3-4071-944f-7e280c5c3eeb</td>\n",
       "      <td>0.35480</td>\n",
       "      <td>gainers in the Nifty pack.On the other hand, A...</td>\n",
       "    </tr>\n",
       "    <tr>\n",
       "      <th>2</th>\n",
       "      <td>00a13e9c-dc75-4a1a-b226-26c11006adf5</td>\n",
       "      <td>0.53670</td>\n",
       "      <td>SBI's ex-chief and chairman, BharatPe, Rajnish...</td>\n",
       "    </tr>\n",
       "    <tr>\n",
       "      <th>3</th>\n",
       "      <td>00f0c29e-3f23-4e0f-b383-f0eb36fa771c</td>\n",
       "      <td>0.00000</td>\n",
       "      <td>Bajaj Finance was the biggest gainer in the Se...</td>\n",
       "    </tr>\n",
       "    <tr>\n",
       "      <th>4</th>\n",
       "      <td>011d361e-62b8-49da-8672-01be9bedba17</td>\n",
       "      <td>0.00000</td>\n",
       "      <td>(down 1.53%), State Bank of India(down 1.46%),...</td>\n",
       "    </tr>\n",
       "    <tr>\n",
       "      <th>...</th>\n",
       "      <td>...</td>\n",
       "      <td>...</td>\n",
       "      <td>...</td>\n",
       "    </tr>\n",
       "    <tr>\n",
       "      <th>728</th>\n",
       "      <td>fe4d2ea9-a7d8-44e1-9050-27bd4809f83c</td>\n",
       "      <td>0.20230</td>\n",
       "      <td>(up 3.63 per cent), &lt;em&gt;State&lt;/em&gt; &lt;em&gt;Bank&lt;/e...</td>\n",
       "    </tr>\n",
       "    <tr>\n",
       "      <th>729</th>\n",
       "      <td>fe80ab58-39cc-41df-8425-3f15a2db4e42</td>\n",
       "      <td>0.00000</td>\n",
       "      <td>The board of directors of BharatPe now include...</td>\n",
       "    </tr>\n",
       "    <tr>\n",
       "      <th>730</th>\n",
       "      <td>ff7f48db-7e19-4d19-b1dc-4b0d4aba5b83</td>\n",
       "      <td>0.16525</td>\n",
       "      <td>Amid the ongoing unrest in Manipur, &lt;em&gt;State&lt;...</td>\n",
       "    </tr>\n",
       "    <tr>\n",
       "      <th>731</th>\n",
       "      <td>ff956f23-d2a8-4554-a36a-99044489daa5</td>\n",
       "      <td>0.66455</td>\n",
       "      <td>Nestle India(up 1.15%), HCL Technologies(up 0....</td>\n",
       "    </tr>\n",
       "    <tr>\n",
       "      <th>732</th>\n",
       "      <td>ffe0804d-a8c0-4ed0-a543-50f272675331</td>\n",
       "      <td>0.59860</td>\n",
       "      <td>between ONDC and Swiggy-Zomato, which has so f...</td>\n",
       "    </tr>\n",
       "  </tbody>\n",
       "</table>\n",
       "<p>733 rows × 3 columns</p>\n",
       "</div>"
      ],
      "text/plain": [
       "                                     uuid  sentiment_score  \\\n",
       "0    0072285b-bc1d-481b-a6be-e3b2bc72dbc2          0.00000   \n",
       "1    009f04c9-aea3-4071-944f-7e280c5c3eeb          0.35480   \n",
       "2    00a13e9c-dc75-4a1a-b226-26c11006adf5          0.53670   \n",
       "3    00f0c29e-3f23-4e0f-b383-f0eb36fa771c          0.00000   \n",
       "4    011d361e-62b8-49da-8672-01be9bedba17          0.00000   \n",
       "..                                    ...              ...   \n",
       "728  fe4d2ea9-a7d8-44e1-9050-27bd4809f83c          0.20230   \n",
       "729  fe80ab58-39cc-41df-8425-3f15a2db4e42          0.00000   \n",
       "730  ff7f48db-7e19-4d19-b1dc-4b0d4aba5b83          0.16525   \n",
       "731  ff956f23-d2a8-4554-a36a-99044489daa5          0.66455   \n",
       "732  ffe0804d-a8c0-4ed0-a543-50f272675331          0.59860   \n",
       "\n",
       "                                             highlight  \n",
       "0    He has also worked at the Industrial Developme...  \n",
       "1    gainers in the Nifty pack.On the other hand, A...  \n",
       "2    SBI's ex-chief and chairman, BharatPe, Rajnish...  \n",
       "3    Bajaj Finance was the biggest gainer in the Se...  \n",
       "4    (down 1.53%), State Bank of India(down 1.46%),...  \n",
       "..                                                 ...  \n",
       "728  (up 3.63 per cent), <em>State</em> <em>Bank</e...  \n",
       "729  The board of directors of BharatPe now include...  \n",
       "730  Amid the ongoing unrest in Manipur, <em>State<...  \n",
       "731  Nestle India(up 1.15%), HCL Technologies(up 0....  \n",
       "732  between ONDC and Swiggy-Zomato, which has so f...  \n",
       "\n",
       "[733 rows x 3 columns]"
      ]
     },
     "execution_count": 73,
     "metadata": {},
     "output_type": "execute_result"
    }
   ],
   "source": [
    "temp_ent_similar.merge(temp_high_similar, on = 'uuid')"
   ]
  },
  {
   "cell_type": "code",
   "execution_count": 74,
   "id": "b8cba194",
   "metadata": {},
   "outputs": [],
   "source": [
    "temp = temp_ent_similar.merge(temp_high_similar, on = 'uuid')"
   ]
  },
  {
   "cell_type": "markdown",
   "id": "65873dc3",
   "metadata": {},
   "source": [
    "### meta_similar_unique"
   ]
  },
  {
   "cell_type": "code",
   "execution_count": 75,
   "id": "2b759ced",
   "metadata": {},
   "outputs": [
    {
     "data": {
      "text/html": [
       "<div>\n",
       "<style scoped>\n",
       "    .dataframe tbody tr th:only-of-type {\n",
       "        vertical-align: middle;\n",
       "    }\n",
       "\n",
       "    .dataframe tbody tr th {\n",
       "        vertical-align: top;\n",
       "    }\n",
       "\n",
       "    .dataframe thead th {\n",
       "        text-align: right;\n",
       "    }\n",
       "</style>\n",
       "<table border=\"1\" class=\"dataframe\">\n",
       "  <thead>\n",
       "    <tr style=\"text-align: right;\">\n",
       "      <th></th>\n",
       "      <th>published_at</th>\n",
       "      <th>uuid</th>\n",
       "      <th>title</th>\n",
       "      <th>description</th>\n",
       "      <th>snippet</th>\n",
       "      <th>url</th>\n",
       "      <th>image_url</th>\n",
       "      <th>language</th>\n",
       "      <th>source</th>\n",
       "      <th>relevance_score</th>\n",
       "    </tr>\n",
       "  </thead>\n",
       "  <tbody>\n",
       "    <tr>\n",
       "      <th>0</th>\n",
       "      <td>2024-09-18 12:02:18</td>\n",
       "      <td>e75cdefa-a7e0-46ba-8a0c-d2574e7bfc8f</td>\n",
       "      <td>Rise In Unsecured Small Ticket Loans Not Alarm...</td>\n",
       "      <td>The rise in small value unsecured loans with a...</td>\n",
       "      <td>The rise in small-value unsecured loans with a...</td>\n",
       "      <td>https://www.ndtvprofit.com/economy-finance/sbi...</td>\n",
       "      <td>https://media.assettype.com/bloombergquint%2F2...</td>\n",
       "      <td>en</td>\n",
       "      <td>bloombergquint.com</td>\n",
       "      <td>NaN</td>\n",
       "    </tr>\n",
       "    <tr>\n",
       "      <th>1</th>\n",
       "      <td>2024-09-18 12:02:18</td>\n",
       "      <td>7126ca9f-90cf-4a03-b6e9-5ee6d0a0ec9c</td>\n",
       "      <td>SBI Raises Rs 7,500 Crore Via Second Tranche O...</td>\n",
       "      <td>State Bank of India bagged Rs 7,500 crore thro...</td>\n",
       "      <td>State Bank of India bagged Rs 7,500 crore thro...</td>\n",
       "      <td>https://www.ndtvprofit.com/business/sbi-raises...</td>\n",
       "      <td>https://media.assettype.com/bloombergquint%2F2...</td>\n",
       "      <td>en</td>\n",
       "      <td>bloombergquint.com</td>\n",
       "      <td>NaN</td>\n",
       "    </tr>\n",
       "  </tbody>\n",
       "</table>\n",
       "</div>"
      ],
      "text/plain": [
       "         published_at                                  uuid  \\\n",
       "0 2024-09-18 12:02:18  e75cdefa-a7e0-46ba-8a0c-d2574e7bfc8f   \n",
       "1 2024-09-18 12:02:18  7126ca9f-90cf-4a03-b6e9-5ee6d0a0ec9c   \n",
       "\n",
       "                                               title  \\\n",
       "0  Rise In Unsecured Small Ticket Loans Not Alarm...   \n",
       "1  SBI Raises Rs 7,500 Crore Via Second Tranche O...   \n",
       "\n",
       "                                         description  \\\n",
       "0  The rise in small value unsecured loans with a...   \n",
       "1  State Bank of India bagged Rs 7,500 crore thro...   \n",
       "\n",
       "                                             snippet  \\\n",
       "0  The rise in small-value unsecured loans with a...   \n",
       "1  State Bank of India bagged Rs 7,500 crore thro...   \n",
       "\n",
       "                                                 url  \\\n",
       "0  https://www.ndtvprofit.com/economy-finance/sbi...   \n",
       "1  https://www.ndtvprofit.com/business/sbi-raises...   \n",
       "\n",
       "                                           image_url language  \\\n",
       "0  https://media.assettype.com/bloombergquint%2F2...       en   \n",
       "1  https://media.assettype.com/bloombergquint%2F2...       en   \n",
       "\n",
       "               source  relevance_score  \n",
       "0  bloombergquint.com              NaN  \n",
       "1  bloombergquint.com              NaN  "
      ]
     },
     "execution_count": 75,
     "metadata": {},
     "output_type": "execute_result"
    }
   ],
   "source": [
    "meta_similar_unique.head(2)"
   ]
  },
  {
   "cell_type": "code",
   "execution_count": 76,
   "id": "76a53a3b",
   "metadata": {},
   "outputs": [
    {
     "data": {
      "text/html": [
       "<div>\n",
       "<style scoped>\n",
       "    .dataframe tbody tr th:only-of-type {\n",
       "        vertical-align: middle;\n",
       "    }\n",
       "\n",
       "    .dataframe tbody tr th {\n",
       "        vertical-align: top;\n",
       "    }\n",
       "\n",
       "    .dataframe thead th {\n",
       "        text-align: right;\n",
       "    }\n",
       "</style>\n",
       "<table border=\"1\" class=\"dataframe\">\n",
       "  <thead>\n",
       "    <tr style=\"text-align: right;\">\n",
       "      <th></th>\n",
       "      <th>uuid</th>\n",
       "      <th>sentiment_score</th>\n",
       "      <th>highlight</th>\n",
       "      <th>title</th>\n",
       "      <th>description</th>\n",
       "    </tr>\n",
       "  </thead>\n",
       "  <tbody>\n",
       "    <tr>\n",
       "      <th>0</th>\n",
       "      <td>0072285b-bc1d-481b-a6be-e3b2bc72dbc2</td>\n",
       "      <td>0.00000</td>\n",
       "      <td>He has also worked at the Industrial Developme...</td>\n",
       "      <td>Sundararaman Ramamurthy takes charge as managi...</td>\n",
       "      <td>Sundararaman Ramamurthy has assumed charge as ...</td>\n",
       "    </tr>\n",
       "    <tr>\n",
       "      <th>1</th>\n",
       "      <td>009f04c9-aea3-4071-944f-7e280c5c3eeb</td>\n",
       "      <td>0.35480</td>\n",
       "      <td>gainers in the Nifty pack.On the other hand, A...</td>\n",
       "      <td>Stock Market Sectors: Stock market update: FMC...</td>\n",
       "      <td>The 30-share BSE Sensex was  up  267.64 points...</td>\n",
       "    </tr>\n",
       "    <tr>\n",
       "      <th>2</th>\n",
       "      <td>00a13e9c-dc75-4a1a-b226-26c11006adf5</td>\n",
       "      <td>0.53670</td>\n",
       "      <td>SBI's ex-chief and chairman, BharatPe, Rajnish...</td>\n",
       "      <td>'Peeche Dekho, Aage Badho': How ex-SBI chief R...</td>\n",
       "      <td>NaN</td>\n",
       "    </tr>\n",
       "    <tr>\n",
       "      <th>3</th>\n",
       "      <td>00f0c29e-3f23-4e0f-b383-f0eb36fa771c</td>\n",
       "      <td>0.00000</td>\n",
       "      <td>Bajaj Finance was the biggest gainer in the Se...</td>\n",
       "      <td>Sensex gains 267 pts, Nifty ends at 19,393 on ...</td>\n",
       "      <td>Equity indices Sensex &amp; Nifty rose on Mon. due...</td>\n",
       "    </tr>\n",
       "    <tr>\n",
       "      <th>4</th>\n",
       "      <td>011d361e-62b8-49da-8672-01be9bedba17</td>\n",
       "      <td>0.00000</td>\n",
       "      <td>(down 1.53%), State Bank of India(down 1.46%),...</td>\n",
       "      <td>Stock Market Sectors: Stock market update: Sug...</td>\n",
       "      <td>The 30-share BSE Sensex was  down  284.45 poin...</td>\n",
       "    </tr>\n",
       "    <tr>\n",
       "      <th>...</th>\n",
       "      <td>...</td>\n",
       "      <td>...</td>\n",
       "      <td>...</td>\n",
       "      <td>...</td>\n",
       "      <td>...</td>\n",
       "    </tr>\n",
       "    <tr>\n",
       "      <th>728</th>\n",
       "      <td>fe4d2ea9-a7d8-44e1-9050-27bd4809f83c</td>\n",
       "      <td>0.20230</td>\n",
       "      <td>(up 3.63 per cent), &lt;em&gt;State&lt;/em&gt; &lt;em&gt;Bank&lt;/e...</td>\n",
       "      <td>Share market update: Most active stocks on D-S...</td>\n",
       "      <td>The NSE Nifty index was trading 31.35 points  ...</td>\n",
       "    </tr>\n",
       "    <tr>\n",
       "      <th>729</th>\n",
       "      <td>fe80ab58-39cc-41df-8425-3f15a2db4e42</td>\n",
       "      <td>0.00000</td>\n",
       "      <td>The board of directors of BharatPe now include...</td>\n",
       "      <td>BharatPe appoints two new independent directors</td>\n",
       "      <td>The two appointed independent directors are BP...</td>\n",
       "    </tr>\n",
       "    <tr>\n",
       "      <th>730</th>\n",
       "      <td>ff7f48db-7e19-4d19-b1dc-4b0d4aba5b83</td>\n",
       "      <td>0.16525</td>\n",
       "      <td>Amid the ongoing unrest in Manipur, &lt;em&gt;State&lt;...</td>\n",
       "      <td>Manipur violence: State Bank of India offers s...</td>\n",
       "      <td>Amid the ongoing unrest in Manipur, State Bank...</td>\n",
       "    </tr>\n",
       "    <tr>\n",
       "      <th>731</th>\n",
       "      <td>ff956f23-d2a8-4554-a36a-99044489daa5</td>\n",
       "      <td>0.66455</td>\n",
       "      <td>Nestle India(up 1.15%), HCL Technologies(up 0....</td>\n",
       "      <td>Stock Market Sectors: Stock market update: Pow...</td>\n",
       "      <td>The 30-share BSE Sensex was  down  166.47 poin...</td>\n",
       "    </tr>\n",
       "    <tr>\n",
       "      <th>732</th>\n",
       "      <td>ffe0804d-a8c0-4ed0-a543-50f272675331</td>\n",
       "      <td>0.59860</td>\n",
       "      <td>between ONDC and Swiggy-Zomato, which has so f...</td>\n",
       "      <td>ONDC caps incentives for sellers; price differ...</td>\n",
       "      <td>So far, ONDC was offering an incentive of up t...</td>\n",
       "    </tr>\n",
       "  </tbody>\n",
       "</table>\n",
       "<p>733 rows × 5 columns</p>\n",
       "</div>"
      ],
      "text/plain": [
       "                                     uuid  sentiment_score  \\\n",
       "0    0072285b-bc1d-481b-a6be-e3b2bc72dbc2          0.00000   \n",
       "1    009f04c9-aea3-4071-944f-7e280c5c3eeb          0.35480   \n",
       "2    00a13e9c-dc75-4a1a-b226-26c11006adf5          0.53670   \n",
       "3    00f0c29e-3f23-4e0f-b383-f0eb36fa771c          0.00000   \n",
       "4    011d361e-62b8-49da-8672-01be9bedba17          0.00000   \n",
       "..                                    ...              ...   \n",
       "728  fe4d2ea9-a7d8-44e1-9050-27bd4809f83c          0.20230   \n",
       "729  fe80ab58-39cc-41df-8425-3f15a2db4e42          0.00000   \n",
       "730  ff7f48db-7e19-4d19-b1dc-4b0d4aba5b83          0.16525   \n",
       "731  ff956f23-d2a8-4554-a36a-99044489daa5          0.66455   \n",
       "732  ffe0804d-a8c0-4ed0-a543-50f272675331          0.59860   \n",
       "\n",
       "                                             highlight  \\\n",
       "0    He has also worked at the Industrial Developme...   \n",
       "1    gainers in the Nifty pack.On the other hand, A...   \n",
       "2    SBI's ex-chief and chairman, BharatPe, Rajnish...   \n",
       "3    Bajaj Finance was the biggest gainer in the Se...   \n",
       "4    (down 1.53%), State Bank of India(down 1.46%),...   \n",
       "..                                                 ...   \n",
       "728  (up 3.63 per cent), <em>State</em> <em>Bank</e...   \n",
       "729  The board of directors of BharatPe now include...   \n",
       "730  Amid the ongoing unrest in Manipur, <em>State<...   \n",
       "731  Nestle India(up 1.15%), HCL Technologies(up 0....   \n",
       "732  between ONDC and Swiggy-Zomato, which has so f...   \n",
       "\n",
       "                                                 title  \\\n",
       "0    Sundararaman Ramamurthy takes charge as managi...   \n",
       "1    Stock Market Sectors: Stock market update: FMC...   \n",
       "2    'Peeche Dekho, Aage Badho': How ex-SBI chief R...   \n",
       "3    Sensex gains 267 pts, Nifty ends at 19,393 on ...   \n",
       "4    Stock Market Sectors: Stock market update: Sug...   \n",
       "..                                                 ...   \n",
       "728  Share market update: Most active stocks on D-S...   \n",
       "729    BharatPe appoints two new independent directors   \n",
       "730  Manipur violence: State Bank of India offers s...   \n",
       "731  Stock Market Sectors: Stock market update: Pow...   \n",
       "732  ONDC caps incentives for sellers; price differ...   \n",
       "\n",
       "                                           description  \n",
       "0    Sundararaman Ramamurthy has assumed charge as ...  \n",
       "1    The 30-share BSE Sensex was  up  267.64 points...  \n",
       "2                                                  NaN  \n",
       "3    Equity indices Sensex & Nifty rose on Mon. due...  \n",
       "4    The 30-share BSE Sensex was  down  284.45 poin...  \n",
       "..                                                 ...  \n",
       "728  The NSE Nifty index was trading 31.35 points  ...  \n",
       "729  The two appointed independent directors are BP...  \n",
       "730  Amid the ongoing unrest in Manipur, State Bank...  \n",
       "731  The 30-share BSE Sensex was  down  166.47 poin...  \n",
       "732  So far, ONDC was offering an incentive of up t...  \n",
       "\n",
       "[733 rows x 5 columns]"
      ]
     },
     "execution_count": 76,
     "metadata": {},
     "output_type": "execute_result"
    }
   ],
   "source": [
    "temp.merge(meta_similar_unique[['uuid', 'title', 'description']], on = 'uuid')"
   ]
  },
  {
   "cell_type": "code",
   "execution_count": 77,
   "id": "78ff49f6",
   "metadata": {},
   "outputs": [],
   "source": [
    "t = temp.merge(meta_similar_unique[['uuid', 'title', 'description']], on = 'uuid')"
   ]
  },
  {
   "cell_type": "code",
   "execution_count": 78,
   "id": "fac9a5fb",
   "metadata": {},
   "outputs": [],
   "source": [
    "t['article'] = t['title']+' '+t['description']+' '+t['highlight']"
   ]
  },
  {
   "cell_type": "code",
   "execution_count": 79,
   "id": "6566690a",
   "metadata": {},
   "outputs": [],
   "source": [
    "t.drop(columns = ['highlight', 'title', 'description'], axis = 1, inplace = True)"
   ]
  },
  {
   "cell_type": "code",
   "execution_count": 80,
   "id": "cee0716e",
   "metadata": {},
   "outputs": [
    {
     "data": {
      "text/html": [
       "<div>\n",
       "<style scoped>\n",
       "    .dataframe tbody tr th:only-of-type {\n",
       "        vertical-align: middle;\n",
       "    }\n",
       "\n",
       "    .dataframe tbody tr th {\n",
       "        vertical-align: top;\n",
       "    }\n",
       "\n",
       "    .dataframe thead th {\n",
       "        text-align: right;\n",
       "    }\n",
       "</style>\n",
       "<table border=\"1\" class=\"dataframe\">\n",
       "  <thead>\n",
       "    <tr style=\"text-align: right;\">\n",
       "      <th></th>\n",
       "      <th>uuid</th>\n",
       "      <th>sentiment_score</th>\n",
       "      <th>article</th>\n",
       "    </tr>\n",
       "  </thead>\n",
       "  <tbody>\n",
       "    <tr>\n",
       "      <th>0</th>\n",
       "      <td>0072285b-bc1d-481b-a6be-e3b2bc72dbc2</td>\n",
       "      <td>0.0000</td>\n",
       "      <td>Sundararaman Ramamurthy takes charge as managi...</td>\n",
       "    </tr>\n",
       "    <tr>\n",
       "      <th>1</th>\n",
       "      <td>009f04c9-aea3-4071-944f-7e280c5c3eeb</td>\n",
       "      <td>0.3548</td>\n",
       "      <td>Stock Market Sectors: Stock market update: FMC...</td>\n",
       "    </tr>\n",
       "    <tr>\n",
       "      <th>2</th>\n",
       "      <td>00a13e9c-dc75-4a1a-b226-26c11006adf5</td>\n",
       "      <td>0.5367</td>\n",
       "      <td>NaN</td>\n",
       "    </tr>\n",
       "    <tr>\n",
       "      <th>3</th>\n",
       "      <td>00f0c29e-3f23-4e0f-b383-f0eb36fa771c</td>\n",
       "      <td>0.0000</td>\n",
       "      <td>Sensex gains 267 pts, Nifty ends at 19,393 on ...</td>\n",
       "    </tr>\n",
       "    <tr>\n",
       "      <th>4</th>\n",
       "      <td>011d361e-62b8-49da-8672-01be9bedba17</td>\n",
       "      <td>0.0000</td>\n",
       "      <td>Stock Market Sectors: Stock market update: Sug...</td>\n",
       "    </tr>\n",
       "  </tbody>\n",
       "</table>\n",
       "</div>"
      ],
      "text/plain": [
       "                                   uuid  sentiment_score  \\\n",
       "0  0072285b-bc1d-481b-a6be-e3b2bc72dbc2           0.0000   \n",
       "1  009f04c9-aea3-4071-944f-7e280c5c3eeb           0.3548   \n",
       "2  00a13e9c-dc75-4a1a-b226-26c11006adf5           0.5367   \n",
       "3  00f0c29e-3f23-4e0f-b383-f0eb36fa771c           0.0000   \n",
       "4  011d361e-62b8-49da-8672-01be9bedba17           0.0000   \n",
       "\n",
       "                                             article  \n",
       "0  Sundararaman Ramamurthy takes charge as managi...  \n",
       "1  Stock Market Sectors: Stock market update: FMC...  \n",
       "2                                                NaN  \n",
       "3  Sensex gains 267 pts, Nifty ends at 19,393 on ...  \n",
       "4  Stock Market Sectors: Stock market update: Sug...  "
      ]
     },
     "execution_count": 80,
     "metadata": {},
     "output_type": "execute_result"
    }
   ],
   "source": [
    "t.head()"
   ]
  },
  {
   "cell_type": "markdown",
   "id": "d85993a8",
   "metadata": {},
   "source": [
    "### Forming the final dataset"
   ]
  },
  {
   "cell_type": "code",
   "execution_count": 81,
   "id": "0f0769cd",
   "metadata": {},
   "outputs": [],
   "source": [
    "df = pd.concat([df, t], axis = 0)"
   ]
  },
  {
   "cell_type": "code",
   "execution_count": 82,
   "id": "cbc52883",
   "metadata": {},
   "outputs": [
    {
     "data": {
      "text/plain": [
       "published_at       733\n",
       "uuid                 0\n",
       "sentiment_score      0\n",
       "article             81\n",
       "dtype: int64"
      ]
     },
     "execution_count": 82,
     "metadata": {},
     "output_type": "execute_result"
    }
   ],
   "source": [
    "df.isnull().sum()"
   ]
  },
  {
   "cell_type": "code",
   "execution_count": 83,
   "id": "d3a08c52",
   "metadata": {},
   "outputs": [],
   "source": [
    "df = df.dropna().drop_duplicates()"
   ]
  },
  {
   "cell_type": "code",
   "execution_count": 84,
   "id": "d7150118",
   "metadata": {},
   "outputs": [],
   "source": [
    "df = df.reset_index()"
   ]
  },
  {
   "cell_type": "code",
   "execution_count": 85,
   "id": "2599a4bb",
   "metadata": {},
   "outputs": [],
   "source": [
    "df.drop(columns = 'index', inplace = True)"
   ]
  },
  {
   "cell_type": "code",
   "execution_count": 86,
   "id": "7e5ac8d9",
   "metadata": {},
   "outputs": [
    {
     "data": {
      "text/plain": [
       "'Banking system low-cost deposits could decline further, says SBI chairman Setty SBI’s Casa ratio stood at 40.7% as on 30 June, down from 42.9% from the same period last year. Its loan book expanded by a robust 15.4% year-on-year, outpacing deposit growth of 8.2% in the June quarter. Mumbai: The share of low-cost deposits in the banking system could decline further and go below the levels seen before covid-19 on the back of efficient cash management by the government, the chairman of India’s largest lender <em>State</em> <em>Bank</em> <em>of</em> <em>India</em> (SBI) C.S. Setty said.'"
      ]
     },
     "execution_count": 86,
     "metadata": {},
     "output_type": "execute_result"
    }
   ],
   "source": [
    "df['article'][0]"
   ]
  },
  {
   "cell_type": "markdown",
   "id": "0b12c1c1",
   "metadata": {},
   "source": [
    "# Cleaning"
   ]
  },
  {
   "cell_type": "markdown",
   "id": "ebf6328c",
   "metadata": {},
   "source": [
    "### Lemmatization using NLTK"
   ]
  },
  {
   "cell_type": "code",
   "execution_count": 87,
   "id": "2e66dc4f",
   "metadata": {},
   "outputs": [
    {
     "name": "stderr",
     "output_type": "stream",
     "text": [
      "[nltk_data] Downloading package wordnet to C:\\Users\\PRASHANT\n",
      "[nltk_data]     KAJAL\\AppData\\Roaming\\nltk_data...\n",
      "[nltk_data]   Package wordnet is already up-to-date!\n",
      "[nltk_data] Downloading package omw-1.4 to C:\\Users\\PRASHANT\n",
      "[nltk_data]     KAJAL\\AppData\\Roaming\\nltk_data...\n",
      "[nltk_data]   Package omw-1.4 is already up-to-date!\n",
      "[nltk_data] Downloading package averaged_perceptron_tagger to\n",
      "[nltk_data]     C:\\Users\\PRASHANT KAJAL\\AppData\\Roaming\\nltk_data...\n",
      "[nltk_data]   Package averaged_perceptron_tagger is already up-to-\n",
      "[nltk_data]       date!\n",
      "[nltk_data] Downloading package averaged_perceptron_tagger_eng to\n",
      "[nltk_data]     C:\\Users\\PRASHANT KAJAL\\AppData\\Roaming\\nltk_data...\n",
      "[nltk_data]   Package averaged_perceptron_tagger_eng is already up-to-\n",
      "[nltk_data]       date!\n"
     ]
    },
    {
     "data": {
      "text/plain": [
       "'Banking system low-cost deposit could decline far , say SBI chairman Setty SBI ’ s Casa ratio stood at 40.7 % a on 30 June , down from 42.9 % from the same period last year . Its loan book expand by a robust 15.4 % year-on-year , outpace deposit growth of 8.2 % in the June quarter . Mumbai : The share of low-cost deposit in the banking system could decline far and go below the level see before covid-19 on the back of efficient cash management by the government , the chairman of India ’ s large lender < em > State < /em > < em > Bank < /em > < em > of < /em > < em > India < /em > ( SBI ) C.S . Setty say .'"
      ]
     },
     "execution_count": 87,
     "metadata": {},
     "output_type": "execute_result"
    }
   ],
   "source": [
    "from nltk.stem import WordNetLemmatizer\n",
    "from nltk.corpus import wordnet\n",
    "\n",
    "nltk.download('wordnet')\n",
    "nltk.download('omw-1.4')\n",
    "nltk.download('averaged_perceptron_tagger')\n",
    "nltk.download('averaged_perceptron_tagger_eng')\n",
    "\n",
    "lemmatizer = WordNetLemmatizer()\n",
    "\n",
    "def get_wordnet_pos(word):\n",
    "    tag = nltk.pos_tag([word])[0][1][0].upper()\n",
    "    tag_dict = {\n",
    "        'J' : wordnet.ADJ, \n",
    "        'N' : wordnet.NOUN,\n",
    "        'V' : wordnet.VERB,\n",
    "        'R' : wordnet.ADV\n",
    "    }\n",
    "    return tag_dict.get(tag, wordnet.NOUN)\n",
    "\n",
    "sentence = 'Banking system low-cost deposit could decline far , say SBI chairman Setty SBI ’ s Casa ratio stood at 40.7 % a on 30 June , down from 42.9 % from the same period last year . Its loan book expand by a robust 15.4 % year-on-year , outpace deposit growth of 8.2 % in the June quarter . Mumbai : The share of low-cost deposit in the banking system could decline far and go below the level see before covid-19 on the back of efficient cash management by the government , the chairman of India ’ s large lender < em > State < /em > < em > Bank < /em > < em > of < /em > < em > India < /em > ( SBI ) C.S . Setty say .'\n",
    "\n",
    "lemm_sentence = [lemmatizer.lemmatize(word, get_wordnet_pos(word)) for word in nltk.word_tokenize(sentence)]\n",
    "\n",
    "\" \".join(lemm_sentence)"
   ]
  },
  {
   "cell_type": "markdown",
   "id": "8ed1e040",
   "metadata": {},
   "source": [
    "### Lemmatization using spaCy"
   ]
  },
  {
   "cell_type": "code",
   "execution_count": 93,
   "id": "a9fc5934",
   "metadata": {
    "collapsed": true
   },
   "outputs": [
    {
     "name": "stdout",
     "output_type": "stream",
     "text": [
      "Requirement already satisfied: spacy in c:\\users\\prashant kajal\\.conda\\envs\\tensorflow2\\lib\\site-packages (3.8.2)\n",
      "Requirement already satisfied: spacy-legacy<3.1.0,>=3.0.11 in c:\\users\\prashant kajal\\.conda\\envs\\tensorflow2\\lib\\site-packages (from spacy) (3.0.12)\n",
      "Requirement already satisfied: spacy-loggers<2.0.0,>=1.0.0 in c:\\users\\prashant kajal\\.conda\\envs\\tensorflow2\\lib\\site-packages (from spacy) (1.0.5)\n",
      "Requirement already satisfied: murmurhash<1.1.0,>=0.28.0 in c:\\users\\prashant kajal\\.conda\\envs\\tensorflow2\\lib\\site-packages (from spacy) (1.0.10)\n",
      "Requirement already satisfied: cymem<2.1.0,>=2.0.2 in c:\\users\\prashant kajal\\.conda\\envs\\tensorflow2\\lib\\site-packages (from spacy) (2.0.8)\n",
      "Requirement already satisfied: preshed<3.1.0,>=3.0.2 in c:\\users\\prashant kajal\\.conda\\envs\\tensorflow2\\lib\\site-packages (from spacy) (3.0.9)\n",
      "Requirement already satisfied: thinc<8.4.0,>=8.3.0 in c:\\users\\prashant kajal\\.conda\\envs\\tensorflow2\\lib\\site-packages (from spacy) (8.3.2)\n",
      "Requirement already satisfied: wasabi<1.2.0,>=0.9.1 in c:\\users\\prashant kajal\\.conda\\envs\\tensorflow2\\lib\\site-packages (from spacy) (1.1.3)\n",
      "Requirement already satisfied: srsly<3.0.0,>=2.4.3 in c:\\users\\prashant kajal\\.conda\\envs\\tensorflow2\\lib\\site-packages (from spacy) (2.4.8)\n",
      "Requirement already satisfied: catalogue<2.1.0,>=2.0.6 in c:\\users\\prashant kajal\\.conda\\envs\\tensorflow2\\lib\\site-packages (from spacy) (2.0.10)\n",
      "Requirement already satisfied: weasel<0.5.0,>=0.1.0 in c:\\users\\prashant kajal\\.conda\\envs\\tensorflow2\\lib\\site-packages (from spacy) (0.4.1)\n",
      "Requirement already satisfied: typer<1.0.0,>=0.3.0 in c:\\users\\prashant kajal\\.conda\\envs\\tensorflow2\\lib\\site-packages (from spacy) (0.12.5)\n",
      "Requirement already satisfied: tqdm<5.0.0,>=4.38.0 in c:\\users\\prashant kajal\\.conda\\envs\\tensorflow2\\lib\\site-packages (from spacy) (4.66.2)\n",
      "Requirement already satisfied: requests<3.0.0,>=2.13.0 in c:\\users\\prashant kajal\\.conda\\envs\\tensorflow2\\lib\\site-packages (from spacy) (2.31.0)\n",
      "Requirement already satisfied: pydantic!=1.8,!=1.8.1,<3.0.0,>=1.7.4 in c:\\users\\prashant kajal\\.conda\\envs\\tensorflow2\\lib\\site-packages (from spacy) (2.6.3)\n",
      "Requirement already satisfied: jinja2 in c:\\users\\prashant kajal\\.conda\\envs\\tensorflow2\\lib\\site-packages (from spacy) (3.1.3)\n",
      "Requirement already satisfied: setuptools in c:\\users\\prashant kajal\\.conda\\envs\\tensorflow2\\lib\\site-packages (from spacy) (68.2.2)\n",
      "Requirement already satisfied: packaging>=20.0 in c:\\users\\prashant kajal\\.conda\\envs\\tensorflow2\\lib\\site-packages (from spacy) (23.1)\n",
      "Requirement already satisfied: langcodes<4.0.0,>=3.2.0 in c:\\users\\prashant kajal\\.conda\\envs\\tensorflow2\\lib\\site-packages (from spacy) (3.4.1)\n",
      "Requirement already satisfied: numpy>=1.19.0 in c:\\users\\prashant kajal\\.conda\\envs\\tensorflow2\\lib\\site-packages (from spacy) (2.0.2)\n",
      "Requirement already satisfied: language-data>=1.2 in c:\\users\\prashant kajal\\.conda\\envs\\tensorflow2\\lib\\site-packages (from langcodes<4.0.0,>=3.2.0->spacy) (1.2.0)\n",
      "Requirement already satisfied: annotated-types>=0.4.0 in c:\\users\\prashant kajal\\.conda\\envs\\tensorflow2\\lib\\site-packages (from pydantic!=1.8,!=1.8.1,<3.0.0,>=1.7.4->spacy) (0.6.0)\n",
      "Requirement already satisfied: pydantic-core==2.16.3 in c:\\users\\prashant kajal\\.conda\\envs\\tensorflow2\\lib\\site-packages (from pydantic!=1.8,!=1.8.1,<3.0.0,>=1.7.4->spacy) (2.16.3)\n",
      "Requirement already satisfied: typing-extensions>=4.6.1 in c:\\users\\prashant kajal\\.conda\\envs\\tensorflow2\\lib\\site-packages (from pydantic!=1.8,!=1.8.1,<3.0.0,>=1.7.4->spacy) (4.9.0)\n",
      "Requirement already satisfied: charset-normalizer<4,>=2 in c:\\users\\prashant kajal\\.conda\\envs\\tensorflow2\\lib\\site-packages (from requests<3.0.0,>=2.13.0->spacy) (2.0.4)\n",
      "Requirement already satisfied: idna<4,>=2.5 in c:\\users\\prashant kajal\\.conda\\envs\\tensorflow2\\lib\\site-packages (from requests<3.0.0,>=2.13.0->spacy) (3.4)\n",
      "Requirement already satisfied: urllib3<3,>=1.21.1 in c:\\users\\prashant kajal\\.conda\\envs\\tensorflow2\\lib\\site-packages (from requests<3.0.0,>=2.13.0->spacy) (2.1.0)\n",
      "Requirement already satisfied: certifi>=2017.4.17 in c:\\users\\prashant kajal\\.conda\\envs\\tensorflow2\\lib\\site-packages (from requests<3.0.0,>=2.13.0->spacy) (2024.2.2)\n",
      "Requirement already satisfied: blis<1.1.0,>=1.0.0 in c:\\users\\prashant kajal\\.conda\\envs\\tensorflow2\\lib\\site-packages (from thinc<8.4.0,>=8.3.0->spacy) (1.0.1)\n",
      "Requirement already satisfied: confection<1.0.0,>=0.0.1 in c:\\users\\prashant kajal\\.conda\\envs\\tensorflow2\\lib\\site-packages (from thinc<8.4.0,>=8.3.0->spacy) (0.1.5)\n",
      "Requirement already satisfied: colorama in c:\\users\\prashant kajal\\.conda\\envs\\tensorflow2\\lib\\site-packages (from tqdm<5.0.0,>=4.38.0->spacy) (0.4.6)\n",
      "Requirement already satisfied: click>=8.0.0 in c:\\users\\prashant kajal\\.conda\\envs\\tensorflow2\\lib\\site-packages (from typer<1.0.0,>=0.3.0->spacy) (8.1.7)\n",
      "Requirement already satisfied: shellingham>=1.3.0 in c:\\users\\prashant kajal\\.conda\\envs\\tensorflow2\\lib\\site-packages (from typer<1.0.0,>=0.3.0->spacy) (1.5.4)\n",
      "Requirement already satisfied: rich>=10.11.0 in c:\\users\\prashant kajal\\.conda\\envs\\tensorflow2\\lib\\site-packages (from typer<1.0.0,>=0.3.0->spacy) (13.9.1)\n",
      "Requirement already satisfied: cloudpathlib<1.0.0,>=0.7.0 in c:\\users\\prashant kajal\\.conda\\envs\\tensorflow2\\lib\\site-packages (from weasel<0.5.0,>=0.1.0->spacy) (0.19.0)\n",
      "Requirement already satisfied: smart-open<8.0.0,>=5.2.1 in c:\\users\\prashant kajal\\.conda\\envs\\tensorflow2\\lib\\site-packages (from weasel<0.5.0,>=0.1.0->spacy) (7.0.4)\n",
      "Requirement already satisfied: MarkupSafe>=2.0 in c:\\users\\prashant kajal\\.conda\\envs\\tensorflow2\\lib\\site-packages (from jinja2->spacy) (2.1.3)\n",
      "Requirement already satisfied: marisa-trie>=0.7.7 in c:\\users\\prashant kajal\\.conda\\envs\\tensorflow2\\lib\\site-packages (from language-data>=1.2->langcodes<4.0.0,>=3.2.0->spacy) (1.2.0)\n",
      "Requirement already satisfied: markdown-it-py>=2.2.0 in c:\\users\\prashant kajal\\.conda\\envs\\tensorflow2\\lib\\site-packages (from rich>=10.11.0->typer<1.0.0,>=0.3.0->spacy) (3.0.0)\n",
      "Requirement already satisfied: pygments<3.0.0,>=2.13.0 in c:\\users\\prashant kajal\\.conda\\envs\\tensorflow2\\lib\\site-packages (from rich>=10.11.0->typer<1.0.0,>=0.3.0->spacy) (2.15.1)\n",
      "Requirement already satisfied: wrapt in c:\\users\\prashant kajal\\.conda\\envs\\tensorflow2\\lib\\site-packages (from smart-open<8.0.0,>=5.2.1->weasel<0.5.0,>=0.1.0->spacy) (1.14.1)\n",
      "Requirement already satisfied: mdurl~=0.1 in c:\\users\\prashant kajal\\.conda\\envs\\tensorflow2\\lib\\site-packages (from markdown-it-py>=2.2.0->rich>=10.11.0->typer<1.0.0,>=0.3.0->spacy) (0.1.2)\n"
     ]
    }
   ],
   "source": [
    "!pip install --upgrade spacy"
   ]
  },
  {
   "cell_type": "code",
   "execution_count": 96,
   "id": "9b418908",
   "metadata": {
    "collapsed": true
   },
   "outputs": [
    {
     "name": "stdout",
     "output_type": "stream",
     "text": [
      "Requirement already satisfied: blis in c:\\users\\prashant kajal\\.conda\\envs\\tensorflow2\\lib\\site-packages (1.0.1)\n",
      "Requirement already satisfied: thinc in c:\\users\\prashant kajal\\.conda\\envs\\tensorflow2\\lib\\site-packages (8.3.2)\n",
      "Requirement already satisfied: numpy<3.0.0,>=2.0.0 in c:\\users\\prashant kajal\\.conda\\envs\\tensorflow2\\lib\\site-packages (from blis) (2.0.2)\n",
      "Requirement already satisfied: murmurhash<1.1.0,>=1.0.2 in c:\\users\\prashant kajal\\.conda\\envs\\tensorflow2\\lib\\site-packages (from thinc) (1.0.10)\n",
      "Requirement already satisfied: cymem<2.1.0,>=2.0.2 in c:\\users\\prashant kajal\\.conda\\envs\\tensorflow2\\lib\\site-packages (from thinc) (2.0.8)\n",
      "Requirement already satisfied: preshed<3.1.0,>=3.0.2 in c:\\users\\prashant kajal\\.conda\\envs\\tensorflow2\\lib\\site-packages (from thinc) (3.0.9)\n",
      "Requirement already satisfied: wasabi<1.2.0,>=0.8.1 in c:\\users\\prashant kajal\\.conda\\envs\\tensorflow2\\lib\\site-packages (from thinc) (1.1.3)\n",
      "Requirement already satisfied: srsly<3.0.0,>=2.4.0 in c:\\users\\prashant kajal\\.conda\\envs\\tensorflow2\\lib\\site-packages (from thinc) (2.4.8)\n",
      "Requirement already satisfied: catalogue<2.1.0,>=2.0.4 in c:\\users\\prashant kajal\\.conda\\envs\\tensorflow2\\lib\\site-packages (from thinc) (2.0.10)\n",
      "Requirement already satisfied: confection<1.0.0,>=0.0.1 in c:\\users\\prashant kajal\\.conda\\envs\\tensorflow2\\lib\\site-packages (from thinc) (0.1.5)\n",
      "Requirement already satisfied: setuptools in c:\\users\\prashant kajal\\.conda\\envs\\tensorflow2\\lib\\site-packages (from thinc) (68.2.2)\n",
      "Requirement already satisfied: pydantic!=1.8,!=1.8.1,<3.0.0,>=1.7.4 in c:\\users\\prashant kajal\\.conda\\envs\\tensorflow2\\lib\\site-packages (from thinc) (2.6.3)\n",
      "Requirement already satisfied: packaging>=20.0 in c:\\users\\prashant kajal\\.conda\\envs\\tensorflow2\\lib\\site-packages (from thinc) (23.1)\n",
      "Requirement already satisfied: annotated-types>=0.4.0 in c:\\users\\prashant kajal\\.conda\\envs\\tensorflow2\\lib\\site-packages (from pydantic!=1.8,!=1.8.1,<3.0.0,>=1.7.4->thinc) (0.6.0)\n",
      "Requirement already satisfied: pydantic-core==2.16.3 in c:\\users\\prashant kajal\\.conda\\envs\\tensorflow2\\lib\\site-packages (from pydantic!=1.8,!=1.8.1,<3.0.0,>=1.7.4->thinc) (2.16.3)\n",
      "Requirement already satisfied: typing-extensions>=4.6.1 in c:\\users\\prashant kajal\\.conda\\envs\\tensorflow2\\lib\\site-packages (from pydantic!=1.8,!=1.8.1,<3.0.0,>=1.7.4->thinc) (4.9.0)\n",
      "Requirement already satisfied: colorama>=0.4.6 in c:\\users\\prashant kajal\\.conda\\envs\\tensorflow2\\lib\\site-packages (from wasabi<1.2.0,>=0.8.1->thinc) (0.4.6)\n"
     ]
    }
   ],
   "source": [
    "!pip install blis thinc"
   ]
  },
  {
   "cell_type": "code",
   "execution_count": 97,
   "id": "7fcf124c",
   "metadata": {},
   "outputs": [
    {
     "ename": "ValueError",
     "evalue": "BLIS support requires blis: pip install blis",
     "output_type": "error",
     "traceback": [
      "\u001b[1;31m---------------------------------------------------------------------------\u001b[0m",
      "\u001b[1;31mValueError\u001b[0m                                Traceback (most recent call last)",
      "Cell \u001b[1;32mIn[97], line 1\u001b[0m\n\u001b[1;32m----> 1\u001b[0m \u001b[38;5;28;01mimport\u001b[39;00m \u001b[38;5;21;01mspacy\u001b[39;00m\n\u001b[0;32m      3\u001b[0m nlp \u001b[38;5;241m=\u001b[39m spacy\u001b[38;5;241m.\u001b[39mload(\u001b[38;5;124m'\u001b[39m\u001b[38;5;124men_core_web_sm\u001b[39m\u001b[38;5;124m'\u001b[39m)\n\u001b[0;32m      4\u001b[0m doc \u001b[38;5;241m=\u001b[39m nlp(sentence)\n",
      "File \u001b[1;32m~\\.conda\\envs\\tensorflow2\\lib\\site-packages\\spacy\\__init__.py:6\u001b[0m\n\u001b[0;32m      3\u001b[0m \u001b[38;5;28;01mfrom\u001b[39;00m \u001b[38;5;21;01mtyping\u001b[39;00m \u001b[38;5;28;01mimport\u001b[39;00m Any, Dict, Iterable, Union\n\u001b[0;32m      5\u001b[0m \u001b[38;5;66;03m# set library-specific custom warning handling before doing anything else\u001b[39;00m\n\u001b[1;32m----> 6\u001b[0m \u001b[38;5;28;01mfrom\u001b[39;00m \u001b[38;5;21;01m.\u001b[39;00m\u001b[38;5;21;01merrors\u001b[39;00m \u001b[38;5;28;01mimport\u001b[39;00m setup_default_warnings\n\u001b[0;32m      8\u001b[0m setup_default_warnings()  \u001b[38;5;66;03m# noqa: E402\u001b[39;00m\n\u001b[0;32m     10\u001b[0m \u001b[38;5;66;03m# These are imported as part of the API\u001b[39;00m\n",
      "File \u001b[1;32m~\\.conda\\envs\\tensorflow2\\lib\\site-packages\\spacy\\errors.py:3\u001b[0m\n\u001b[0;32m      1\u001b[0m \u001b[38;5;28;01mimport\u001b[39;00m \u001b[38;5;21;01mwarnings\u001b[39;00m\n\u001b[1;32m----> 3\u001b[0m \u001b[38;5;28;01mfrom\u001b[39;00m \u001b[38;5;21;01m.\u001b[39;00m\u001b[38;5;21;01mcompat\u001b[39;00m \u001b[38;5;28;01mimport\u001b[39;00m Literal\n\u001b[0;32m      6\u001b[0m \u001b[38;5;28;01mclass\u001b[39;00m \u001b[38;5;21;01mErrorsWithCodes\u001b[39;00m(\u001b[38;5;28mtype\u001b[39m):\n\u001b[0;32m      7\u001b[0m     \u001b[38;5;28;01mdef\u001b[39;00m \u001b[38;5;21m__getattribute__\u001b[39m(\u001b[38;5;28mself\u001b[39m, code):\n",
      "File \u001b[1;32m~\\.conda\\envs\\tensorflow2\\lib\\site-packages\\spacy\\compat.py:39\u001b[0m\n\u001b[0;32m     36\u001b[0m \u001b[38;5;28;01mexcept\u001b[39;00m \u001b[38;5;167;01mImportError\u001b[39;00m:\n\u001b[0;32m     37\u001b[0m     \u001b[38;5;28;01mfrom\u001b[39;00m \u001b[38;5;21;01mcatalogue\u001b[39;00m \u001b[38;5;28;01mimport\u001b[39;00m _importlib_metadata \u001b[38;5;28;01mas\u001b[39;00m importlib_metadata  \u001b[38;5;66;03m# type: ignore[no-redef]    # noqa: F401\u001b[39;00m\n\u001b[1;32m---> 39\u001b[0m \u001b[38;5;28;01mfrom\u001b[39;00m \u001b[38;5;21;01mthinc\u001b[39;00m\u001b[38;5;21;01m.\u001b[39;00m\u001b[38;5;21;01mapi\u001b[39;00m \u001b[38;5;28;01mimport\u001b[39;00m Optimizer  \u001b[38;5;66;03m# noqa: F401\u001b[39;00m\n\u001b[0;32m     41\u001b[0m pickle \u001b[38;5;241m=\u001b[39m pickle\n\u001b[0;32m     42\u001b[0m copy_reg \u001b[38;5;241m=\u001b[39m copy_reg\n",
      "File \u001b[1;32m~\\.conda\\envs\\tensorflow2\\lib\\site-packages\\thinc\\api.py:23\u001b[0m\n\u001b[0;32m     15\u001b[0m \u001b[38;5;28;01mfrom\u001b[39;00m \u001b[38;5;21;01m.\u001b[39;00m\u001b[38;5;21;01mconfig\u001b[39;00m \u001b[38;5;28;01mimport\u001b[39;00m Config, ConfigValidationError, registry\n\u001b[0;32m     16\u001b[0m \u001b[38;5;28;01mfrom\u001b[39;00m \u001b[38;5;21;01m.\u001b[39;00m\u001b[38;5;21;01minitializers\u001b[39;00m \u001b[38;5;28;01mimport\u001b[39;00m (\n\u001b[0;32m     17\u001b[0m     configure_normal_init,\n\u001b[0;32m     18\u001b[0m     glorot_uniform_init,\n\u001b[1;32m   (...)\u001b[0m\n\u001b[0;32m     21\u001b[0m     zero_init,\n\u001b[0;32m     22\u001b[0m )\n\u001b[1;32m---> 23\u001b[0m \u001b[38;5;28;01mfrom\u001b[39;00m \u001b[38;5;21;01m.\u001b[39;00m\u001b[38;5;21;01mlayers\u001b[39;00m \u001b[38;5;28;01mimport\u001b[39;00m (\n\u001b[0;32m     24\u001b[0m     LSTM,\n\u001b[0;32m     25\u001b[0m     CauchySimilarity,\n\u001b[0;32m     26\u001b[0m     ClippedLinear,\n\u001b[0;32m     27\u001b[0m     Dish,\n\u001b[0;32m     28\u001b[0m     Dropout,\n\u001b[0;32m     29\u001b[0m     Embed,\n\u001b[0;32m     30\u001b[0m     Gelu,\n\u001b[0;32m     31\u001b[0m     HardSigmoid,\n\u001b[0;32m     32\u001b[0m     HardSwish,\n\u001b[0;32m     33\u001b[0m     HardSwishMobilenet,\n\u001b[0;32m     34\u001b[0m     HardTanh,\n\u001b[0;32m     35\u001b[0m     HashEmbed,\n\u001b[0;32m     36\u001b[0m     LayerNorm,\n\u001b[0;32m     37\u001b[0m     Linear,\n\u001b[0;32m     38\u001b[0m     Logistic,\n\u001b[0;32m     39\u001b[0m     Maxout,\n\u001b[0;32m     40\u001b[0m     Mish,\n\u001b[0;32m     41\u001b[0m     MultiSoftmax,\n\u001b[0;32m     42\u001b[0m     MXNetWrapper,\n\u001b[0;32m     43\u001b[0m     ParametricAttention,\n\u001b[0;32m     44\u001b[0m     ParametricAttention_v2,\n\u001b[0;32m     45\u001b[0m     PyTorchLSTM,\n\u001b[0;32m     46\u001b[0m     PyTorchRNNWrapper,\n\u001b[0;32m     47\u001b[0m     PyTorchWrapper,\n\u001b[0;32m     48\u001b[0m     PyTorchWrapper_v2,\n\u001b[0;32m     49\u001b[0m     PyTorchWrapper_v3,\n\u001b[0;32m     50\u001b[0m     Relu,\n\u001b[0;32m     51\u001b[0m     ReluK,\n\u001b[0;32m     52\u001b[0m     Sigmoid,\n\u001b[0;32m     53\u001b[0m     Softmax,\n\u001b[0;32m     54\u001b[0m     Softmax_v2,\n\u001b[0;32m     55\u001b[0m     SparseLinear,\n\u001b[0;32m     56\u001b[0m     SparseLinear_v2,\n\u001b[0;32m     57\u001b[0m     Swish,\n\u001b[0;32m     58\u001b[0m     TensorFlowWrapper,\n\u001b[0;32m     59\u001b[0m     TorchScriptWrapper_v1,\n\u001b[0;32m     60\u001b[0m     add,\n\u001b[0;32m     61\u001b[0m     array_getitem,\n\u001b[0;32m     62\u001b[0m     bidirectional,\n\u001b[0;32m     63\u001b[0m     chain,\n\u001b[0;32m     64\u001b[0m     clone,\n\u001b[0;32m     65\u001b[0m     concatenate,\n\u001b[0;32m     66\u001b[0m     expand_window,\n\u001b[0;32m     67\u001b[0m     keras_subclass,\n\u001b[0;32m     68\u001b[0m     list2array,\n\u001b[0;32m     69\u001b[0m     list2padded,\n\u001b[0;32m     70\u001b[0m     list2ragged,\n\u001b[0;32m     71\u001b[0m     map_list,\n\u001b[0;32m     72\u001b[0m     noop,\n\u001b[0;32m     73\u001b[0m     padded2list,\n\u001b[0;32m     74\u001b[0m     premap_ids,\n\u001b[0;32m     75\u001b[0m     pytorch_to_torchscript_wrapper,\n\u001b[0;32m     76\u001b[0m     ragged2list,\n\u001b[0;32m     77\u001b[0m     reduce_first,\n\u001b[0;32m     78\u001b[0m     reduce_last,\n\u001b[0;32m     79\u001b[0m     reduce_max,\n\u001b[0;32m     80\u001b[0m     reduce_mean,\n\u001b[0;32m     81\u001b[0m     reduce_sum,\n\u001b[0;32m     82\u001b[0m     remap_ids,\n\u001b[0;32m     83\u001b[0m     remap_ids_v2,\n\u001b[0;32m     84\u001b[0m     residual,\n\u001b[0;32m     85\u001b[0m     resizable,\n\u001b[0;32m     86\u001b[0m     siamese,\n\u001b[0;32m     87\u001b[0m     sigmoid_activation,\n\u001b[0;32m     88\u001b[0m     softmax_activation,\n\u001b[0;32m     89\u001b[0m     strings2arrays,\n\u001b[0;32m     90\u001b[0m     tuplify,\n\u001b[0;32m     91\u001b[0m     uniqued,\n\u001b[0;32m     92\u001b[0m     with_array,\n\u001b[0;32m     93\u001b[0m     with_array2d,\n\u001b[0;32m     94\u001b[0m     with_cpu,\n\u001b[0;32m     95\u001b[0m     with_debug,\n\u001b[0;32m     96\u001b[0m     with_flatten,\n\u001b[0;32m     97\u001b[0m     with_flatten_v2,\n\u001b[0;32m     98\u001b[0m     with_getitem,\n\u001b[0;32m     99\u001b[0m     with_list,\n\u001b[0;32m    100\u001b[0m     with_nvtx_range,\n\u001b[0;32m    101\u001b[0m     with_padded,\n\u001b[0;32m    102\u001b[0m     with_ragged,\n\u001b[0;32m    103\u001b[0m     with_reshape,\n\u001b[0;32m    104\u001b[0m     with_signpost_interval,\n\u001b[0;32m    105\u001b[0m )\n\u001b[0;32m    106\u001b[0m \u001b[38;5;28;01mfrom\u001b[39;00m \u001b[38;5;21;01m.\u001b[39;00m\u001b[38;5;21;01mloss\u001b[39;00m \u001b[38;5;28;01mimport\u001b[39;00m (\n\u001b[0;32m    107\u001b[0m     CategoricalCrossentropy,\n\u001b[0;32m    108\u001b[0m     CosineDistance,\n\u001b[0;32m    109\u001b[0m     L2Distance,\n\u001b[0;32m    110\u001b[0m     SequenceCategoricalCrossentropy,\n\u001b[0;32m    111\u001b[0m )\n\u001b[0;32m    112\u001b[0m \u001b[38;5;28;01mfrom\u001b[39;00m \u001b[38;5;21;01m.\u001b[39;00m\u001b[38;5;21;01mmodel\u001b[39;00m \u001b[38;5;28;01mimport\u001b[39;00m (\n\u001b[0;32m    113\u001b[0m     Model,\n\u001b[0;32m    114\u001b[0m     change_attr_values,\n\u001b[1;32m   (...)\u001b[0m\n\u001b[0;32m    118\u001b[0m     wrap_model_recursive,\n\u001b[0;32m    119\u001b[0m )\n",
      "File \u001b[1;32m~\\.conda\\envs\\tensorflow2\\lib\\site-packages\\thinc\\layers\\__init__.py:12\u001b[0m\n\u001b[0;32m     10\u001b[0m \u001b[38;5;28;01mfrom\u001b[39;00m \u001b[38;5;21;01m.\u001b[39;00m\u001b[38;5;21;01mclipped_linear\u001b[39;00m \u001b[38;5;28;01mimport\u001b[39;00m ClippedLinear, HardSigmoid, HardTanh, ReluK\n\u001b[0;32m     11\u001b[0m \u001b[38;5;28;01mfrom\u001b[39;00m \u001b[38;5;21;01m.\u001b[39;00m\u001b[38;5;21;01mclone\u001b[39;00m \u001b[38;5;28;01mimport\u001b[39;00m clone\n\u001b[1;32m---> 12\u001b[0m \u001b[38;5;28;01mfrom\u001b[39;00m \u001b[38;5;21;01m.\u001b[39;00m\u001b[38;5;21;01mconcatenate\u001b[39;00m \u001b[38;5;28;01mimport\u001b[39;00m concatenate\n\u001b[0;32m     13\u001b[0m \u001b[38;5;28;01mfrom\u001b[39;00m \u001b[38;5;21;01m.\u001b[39;00m\u001b[38;5;21;01mdish\u001b[39;00m \u001b[38;5;28;01mimport\u001b[39;00m Dish\n\u001b[0;32m     14\u001b[0m \u001b[38;5;28;01mfrom\u001b[39;00m \u001b[38;5;21;01m.\u001b[39;00m\u001b[38;5;21;01mdropout\u001b[39;00m \u001b[38;5;28;01mimport\u001b[39;00m Dropout\n",
      "File \u001b[1;32m~\\.conda\\envs\\tensorflow2\\lib\\site-packages\\thinc\\layers\\concatenate.py:21\u001b[0m\n\u001b[0;32m     18\u001b[0m \u001b[38;5;28;01mfrom\u001b[39;00m \u001b[38;5;21;01m.\u001b[39;00m\u001b[38;5;21;01m.\u001b[39;00m\u001b[38;5;21;01mutil\u001b[39;00m \u001b[38;5;28;01mimport\u001b[39;00m get_width\n\u001b[0;32m     19\u001b[0m \u001b[38;5;28;01mfrom\u001b[39;00m \u001b[38;5;21;01m.\u001b[39;00m\u001b[38;5;21;01mnoop\u001b[39;00m \u001b[38;5;28;01mimport\u001b[39;00m noop\n\u001b[1;32m---> 21\u001b[0m NUMPY_OPS \u001b[38;5;241m=\u001b[39m \u001b[43mNumpyOps\u001b[49m\u001b[43m(\u001b[49m\u001b[43m)\u001b[49m\n\u001b[0;32m     24\u001b[0m InT \u001b[38;5;241m=\u001b[39m TypeVar(\u001b[38;5;124m\"\u001b[39m\u001b[38;5;124mInT\u001b[39m\u001b[38;5;124m\"\u001b[39m, bound\u001b[38;5;241m=\u001b[39mAny)\n\u001b[0;32m     25\u001b[0m OutT \u001b[38;5;241m=\u001b[39m TypeVar(\u001b[38;5;124m\"\u001b[39m\u001b[38;5;124mOutT\u001b[39m\u001b[38;5;124m\"\u001b[39m, bound\u001b[38;5;241m=\u001b[39mUnion[Array2d, Sequence[Array2d], Ragged])\n",
      "File \u001b[1;32m~\\.conda\\envs\\tensorflow2\\lib\\site-packages\\thinc\\backends\\numpy_ops.pyx:63\u001b[0m, in \u001b[0;36mthinc.backends.numpy_ops.NumpyOps.__init__\u001b[1;34m()\u001b[0m\n",
      "\u001b[1;31mValueError\u001b[0m: BLIS support requires blis: pip install blis"
     ]
    }
   ],
   "source": [
    "import spacy\n",
    "\n",
    "nlp = spacy.load('en_core_web_sm')\n",
    "doc = nlp(sentence)\n",
    "\n",
    "lemm_sentence = [token.lemma_ for token in doc]\n",
    "\n",
    "' '.join(lemm_sentence)"
   ]
  },
  {
   "cell_type": "markdown",
   "id": "82168cec",
   "metadata": {},
   "source": [
    "### Lemmatization"
   ]
  },
  {
   "cell_type": "code",
   "execution_count": null,
   "id": "fcbfc583",
   "metadata": {},
   "outputs": [],
   "source": [
    "ps = PorterStemmer()\n",
    "puncts = string.punctuation\n",
    "stop_words = set(stopwords.words('english'))\n",
    "lemmatizer = WordNetLemmatizer()\n",
    "tags = re.compile(r'<.*?>')\n",
    "remove_non_alpha = re.compile(r'\\W')\n",
    "spaces = re.compile(r'\\s+')\n",
    "not_alpha_numeric = re.compile(r'[^a-zA-Z0-9\\s]')\n",
    "urls = re.compile(r'http\\S+|www\\S+')\n",
    "remove_non_ascii = re.compile(r'[^\\x00-\\x7F]+')\n",
    "mentions = re.compile(r'[@#]\\w+')\n",
    "\n",
    "nlp = spacy.load('en_core_web_sm')\n",
    "\n",
    "def get_wordnet_pos(word):\n",
    "    tag = nltk.pos_tag([word])[0][1][0].upper()\n",
    "    tag_dict = {\n",
    "        'J' : wordnet.ADJ, \n",
    "        'N' : wordnet.NOUN,\n",
    "        'V' : wordnet.VERB,\n",
    "        'R' : wordnet.ADV\n",
    "    }\n",
    "    return tag_dict.get(tag, wordnet.NOUN)\n",
    "\n",
    "def cleaning(text, stemming = True):\n",
    "    text = text.lower()\n",
    "    text = tags.sub('', text)\n",
    "#     text = remove_notn_alpha.sub(, ' ', text) # we don't want to lose the numerical information\n",
    "    text = spaces.sub(' ', text)\n",
    "    text = not_alpha_numeric.sub(' ', text)\n",
    "    text = urls.sub('', text)\n",
    "#     text = re.sub(r'\\d+', '', text)\n",
    "    text = remove_non_ascii.sub('', text) # to remove non-ascii characters\n",
    "    text = mentions.sub('', text)\n",
    "    text = text.translate(str.maketrans('', '', string.punctuation))\n",
    "    \n",
    "    tokens = word_tokenize(text)\n",
    "    \n",
    "    # Stemming\n",
    "    if stemming:\n",
    "        s = [word for word in tokens if word not in stop_words]\n",
    "        s = [ps.stem(word) for word in s]\n",
    "        \n",
    "    # Lemmatization\n",
    "    else:\n",
    "        doc = nlp(text)\n",
    "        s = [token.lemma_ for token in doc]\n",
    "        \n",
    "    return ' '.join(s)"
   ]
  },
  {
   "cell_type": "code",
   "execution_count": null,
   "id": "02729457",
   "metadata": {},
   "outputs": [],
   "source": [
    "cleaning(df['article'][0], stemming=True)"
   ]
  },
  {
   "cell_type": "code",
   "execution_count": null,
   "id": "1044f464",
   "metadata": {},
   "outputs": [],
   "source": [
    "cleaning(df['article'][0], stemming=False)"
   ]
  },
  {
   "cell_type": "markdown",
   "id": "9600cad3",
   "metadata": {},
   "source": [
    "#### Enabling tqdm for pandas"
   ]
  },
  {
   "cell_type": "code",
   "execution_count": null,
   "id": "0dac4d78",
   "metadata": {},
   "outputs": [],
   "source": [
    "tqdm.pandas()"
   ]
  },
  {
   "cell_type": "code",
   "execution_count": null,
   "id": "36b3e13e",
   "metadata": {},
   "outputs": [],
   "source": [
    "df['article'] = df['article'].progress_apply(lambda x: cleaning(x, stemming = False))"
   ]
  },
  {
   "cell_type": "code",
   "execution_count": 567,
   "id": "6c5bd42f",
   "metadata": {},
   "outputs": [
    {
     "data": {
      "text/plain": [
       "'banking system low cost deposit could decline far   say sbi chairman setty sbi s casa ratio stand at 40 7   as on 30 june   down from 42 9   from the same period last year   its loan book expand by a robust 15 4   year on year   outpace deposit growth of 8 2   in the june quarter   mumbai   the share of low cost deposit in the banking system could decline far and go below the level see before covid 19 on the back of efficient cash management by the government   the chairman of india s large lender state bank of india   sbi   c s   setty say'"
      ]
     },
     "execution_count": 567,
     "metadata": {},
     "output_type": "execute_result"
    }
   ],
   "source": [
    "df['article'][0]"
   ]
  },
  {
   "cell_type": "markdown",
   "id": "403dcd6b",
   "metadata": {},
   "source": [
    "# feature engineering "
   ]
  },
  {
   "cell_type": "code",
   "execution_count": 568,
   "id": "aa2029c8",
   "metadata": {},
   "outputs": [
    {
     "data": {
      "text/html": [
       "<div>\n",
       "<style scoped>\n",
       "    .dataframe tbody tr th:only-of-type {\n",
       "        vertical-align: middle;\n",
       "    }\n",
       "\n",
       "    .dataframe tbody tr th {\n",
       "        vertical-align: top;\n",
       "    }\n",
       "\n",
       "    .dataframe thead th {\n",
       "        text-align: right;\n",
       "    }\n",
       "</style>\n",
       "<table border=\"1\" class=\"dataframe\">\n",
       "  <thead>\n",
       "    <tr style=\"text-align: right;\">\n",
       "      <th></th>\n",
       "      <th>uuid</th>\n",
       "      <th>sentiment_score</th>\n",
       "      <th>article</th>\n",
       "    </tr>\n",
       "  </thead>\n",
       "  <tbody>\n",
       "    <tr>\n",
       "      <th>0</th>\n",
       "      <td>bb5429b2-be36-4088-b04c-9f17e9003d2d</td>\n",
       "      <td>0.6124</td>\n",
       "      <td>banking system low cost deposit could decline ...</td>\n",
       "    </tr>\n",
       "    <tr>\n",
       "      <th>1</th>\n",
       "      <td>0b24d613-2705-4283-b45e-3b8942fc5762</td>\n",
       "      <td>0.0000</td>\n",
       "      <td>state bank of india raise rs 7 500 cr at 7 33 ...</td>\n",
       "    </tr>\n",
       "    <tr>\n",
       "      <th>2</th>\n",
       "      <td>9bcbd8e3-7f97-4d00-aae8-1f08f1a674fd</td>\n",
       "      <td>0.2960</td>\n",
       "      <td>sbi raise   15 000 cr via basel iii bond in a ...</td>\n",
       "    </tr>\n",
       "    <tr>\n",
       "      <th>3</th>\n",
       "      <td>0d05c075-706d-4a5e-920c-ae39a41b420b</td>\n",
       "      <td>0.7717</td>\n",
       "      <td>stock market sector   stock market update   mi...</td>\n",
       "    </tr>\n",
       "    <tr>\n",
       "      <th>4</th>\n",
       "      <td>6bf48528-aaf6-4c9d-93b8-303c23033b91</td>\n",
       "      <td>0.3612</td>\n",
       "      <td>bank   casa ratio may fall far as cos   govt c...</td>\n",
       "    </tr>\n",
       "  </tbody>\n",
       "</table>\n",
       "</div>"
      ],
      "text/plain": [
       "                                   uuid  sentiment_score  \\\n",
       "0  bb5429b2-be36-4088-b04c-9f17e9003d2d           0.6124   \n",
       "1  0b24d613-2705-4283-b45e-3b8942fc5762           0.0000   \n",
       "2  9bcbd8e3-7f97-4d00-aae8-1f08f1a674fd           0.2960   \n",
       "3  0d05c075-706d-4a5e-920c-ae39a41b420b           0.7717   \n",
       "4  6bf48528-aaf6-4c9d-93b8-303c23033b91           0.3612   \n",
       "\n",
       "                                             article  \n",
       "0  banking system low cost deposit could decline ...  \n",
       "1  state bank of india raise rs 7 500 cr at 7 33 ...  \n",
       "2  sbi raise   15 000 cr via basel iii bond in a ...  \n",
       "3  stock market sector   stock market update   mi...  \n",
       "4  bank   casa ratio may fall far as cos   govt c...  "
      ]
     },
     "execution_count": 568,
     "metadata": {},
     "output_type": "execute_result"
    }
   ],
   "source": [
    "df.head()"
   ]
  },
  {
   "cell_type": "code",
   "execution_count": 569,
   "id": "5d24541e",
   "metadata": {},
   "outputs": [
    {
     "data": {
      "text/html": [
       "<div>\n",
       "<style scoped>\n",
       "    .dataframe tbody tr th:only-of-type {\n",
       "        vertical-align: middle;\n",
       "    }\n",
       "\n",
       "    .dataframe tbody tr th {\n",
       "        vertical-align: top;\n",
       "    }\n",
       "\n",
       "    .dataframe thead th {\n",
       "        text-align: right;\n",
       "    }\n",
       "</style>\n",
       "<table border=\"1\" class=\"dataframe\">\n",
       "  <thead>\n",
       "    <tr style=\"text-align: right;\">\n",
       "      <th></th>\n",
       "      <th>sentiment_score</th>\n",
       "    </tr>\n",
       "  </thead>\n",
       "  <tbody>\n",
       "    <tr>\n",
       "      <th>count</th>\n",
       "      <td>13231.000000</td>\n",
       "    </tr>\n",
       "    <tr>\n",
       "      <th>mean</th>\n",
       "      <td>0.282974</td>\n",
       "    </tr>\n",
       "    <tr>\n",
       "      <th>std</th>\n",
       "      <td>0.391764</td>\n",
       "    </tr>\n",
       "    <tr>\n",
       "      <th>min</th>\n",
       "      <td>-0.960100</td>\n",
       "    </tr>\n",
       "    <tr>\n",
       "      <th>25%</th>\n",
       "      <td>0.000000</td>\n",
       "    </tr>\n",
       "    <tr>\n",
       "      <th>50%</th>\n",
       "      <td>0.340000</td>\n",
       "    </tr>\n",
       "    <tr>\n",
       "      <th>75%</th>\n",
       "      <td>0.588175</td>\n",
       "    </tr>\n",
       "    <tr>\n",
       "      <th>max</th>\n",
       "      <td>0.976400</td>\n",
       "    </tr>\n",
       "  </tbody>\n",
       "</table>\n",
       "</div>"
      ],
      "text/plain": [
       "       sentiment_score\n",
       "count     13231.000000\n",
       "mean          0.282974\n",
       "std           0.391764\n",
       "min          -0.960100\n",
       "25%           0.000000\n",
       "50%           0.340000\n",
       "75%           0.588175\n",
       "max           0.976400"
      ]
     },
     "execution_count": 569,
     "metadata": {},
     "output_type": "execute_result"
    }
   ],
   "source": [
    "df.describe()"
   ]
  },
  {
   "cell_type": "code",
   "execution_count": 570,
   "id": "97f438c1",
   "metadata": {},
   "outputs": [],
   "source": [
    "df['sentiment_score'] = np.round(df['sentiment_score'], 4)"
   ]
  },
  {
   "cell_type": "markdown",
   "id": "71c2aa13",
   "metadata": {},
   "source": [
    "### TFIDF"
   ]
  },
  {
   "cell_type": "code",
   "execution_count": 571,
   "id": "cd214d00",
   "metadata": {},
   "outputs": [
    {
     "data": {
      "text/html": [
       "<style>#sk-container-id-7 {color: black;}#sk-container-id-7 pre{padding: 0;}#sk-container-id-7 div.sk-toggleable {background-color: white;}#sk-container-id-7 label.sk-toggleable__label {cursor: pointer;display: block;width: 100%;margin-bottom: 0;padding: 0.3em;box-sizing: border-box;text-align: center;}#sk-container-id-7 label.sk-toggleable__label-arrow:before {content: \"▸\";float: left;margin-right: 0.25em;color: #696969;}#sk-container-id-7 label.sk-toggleable__label-arrow:hover:before {color: black;}#sk-container-id-7 div.sk-estimator:hover label.sk-toggleable__label-arrow:before {color: black;}#sk-container-id-7 div.sk-toggleable__content {max-height: 0;max-width: 0;overflow: hidden;text-align: left;background-color: #f0f8ff;}#sk-container-id-7 div.sk-toggleable__content pre {margin: 0.2em;color: black;border-radius: 0.25em;background-color: #f0f8ff;}#sk-container-id-7 input.sk-toggleable__control:checked~div.sk-toggleable__content {max-height: 200px;max-width: 100%;overflow: auto;}#sk-container-id-7 input.sk-toggleable__control:checked~label.sk-toggleable__label-arrow:before {content: \"▾\";}#sk-container-id-7 div.sk-estimator input.sk-toggleable__control:checked~label.sk-toggleable__label {background-color: #d4ebff;}#sk-container-id-7 div.sk-label input.sk-toggleable__control:checked~label.sk-toggleable__label {background-color: #d4ebff;}#sk-container-id-7 input.sk-hidden--visually {border: 0;clip: rect(1px 1px 1px 1px);clip: rect(1px, 1px, 1px, 1px);height: 1px;margin: -1px;overflow: hidden;padding: 0;position: absolute;width: 1px;}#sk-container-id-7 div.sk-estimator {font-family: monospace;background-color: #f0f8ff;border: 1px dotted black;border-radius: 0.25em;box-sizing: border-box;margin-bottom: 0.5em;}#sk-container-id-7 div.sk-estimator:hover {background-color: #d4ebff;}#sk-container-id-7 div.sk-parallel-item::after {content: \"\";width: 100%;border-bottom: 1px solid gray;flex-grow: 1;}#sk-container-id-7 div.sk-label:hover label.sk-toggleable__label {background-color: #d4ebff;}#sk-container-id-7 div.sk-serial::before {content: \"\";position: absolute;border-left: 1px solid gray;box-sizing: border-box;top: 0;bottom: 0;left: 50%;z-index: 0;}#sk-container-id-7 div.sk-serial {display: flex;flex-direction: column;align-items: center;background-color: white;padding-right: 0.2em;padding-left: 0.2em;position: relative;}#sk-container-id-7 div.sk-item {position: relative;z-index: 1;}#sk-container-id-7 div.sk-parallel {display: flex;align-items: stretch;justify-content: center;background-color: white;position: relative;}#sk-container-id-7 div.sk-item::before, #sk-container-id-7 div.sk-parallel-item::before {content: \"\";position: absolute;border-left: 1px solid gray;box-sizing: border-box;top: 0;bottom: 0;left: 50%;z-index: -1;}#sk-container-id-7 div.sk-parallel-item {display: flex;flex-direction: column;z-index: 1;position: relative;background-color: white;}#sk-container-id-7 div.sk-parallel-item:first-child::after {align-self: flex-end;width: 50%;}#sk-container-id-7 div.sk-parallel-item:last-child::after {align-self: flex-start;width: 50%;}#sk-container-id-7 div.sk-parallel-item:only-child::after {width: 0;}#sk-container-id-7 div.sk-dashed-wrapped {border: 1px dashed gray;margin: 0 0.4em 0.5em 0.4em;box-sizing: border-box;padding-bottom: 0.4em;background-color: white;}#sk-container-id-7 div.sk-label label {font-family: monospace;font-weight: bold;display: inline-block;line-height: 1.2em;}#sk-container-id-7 div.sk-label-container {text-align: center;}#sk-container-id-7 div.sk-container {/* jupyter's `normalize.less` sets `[hidden] { display: none; }` but bootstrap.min.css set `[hidden] { display: none !important; }` so we also need the `!important` here to be able to override the default hidden behavior on the sphinx rendered scikit-learn.org. See: https://github.com/scikit-learn/scikit-learn/issues/21755 */display: inline-block !important;position: relative;}#sk-container-id-7 div.sk-text-repr-fallback {display: none;}</style><div id=\"sk-container-id-7\" class=\"sk-top-container\"><div class=\"sk-text-repr-fallback\"><pre>TfidfVectorizer(max_features=1000, sublinear_tf=True)</pre><b>In a Jupyter environment, please rerun this cell to show the HTML representation or trust the notebook. <br />On GitHub, the HTML representation is unable to render, please try loading this page with nbviewer.org.</b></div><div class=\"sk-container\" hidden><div class=\"sk-item\"><div class=\"sk-estimator sk-toggleable\"><input class=\"sk-toggleable__control sk-hidden--visually\" id=\"sk-estimator-id-7\" type=\"checkbox\" checked><label for=\"sk-estimator-id-7\" class=\"sk-toggleable__label sk-toggleable__label-arrow\">TfidfVectorizer</label><div class=\"sk-toggleable__content\"><pre>TfidfVectorizer(max_features=1000, sublinear_tf=True)</pre></div></div></div></div></div>"
      ],
      "text/plain": [
       "TfidfVectorizer(max_features=1000, sublinear_tf=True)"
      ]
     },
     "execution_count": 571,
     "metadata": {},
     "output_type": "execute_result"
    }
   ],
   "source": [
    "# max_df = [1.0]\n",
    "# min_df = [1.0, 0.9, 0.8, 0.7, 0.6]\n",
    "# max_features : default = None\n",
    "\n",
    "tfidf = TfidfVectorizer(sublinear_tf = True, max_features = 1000)\n",
    "tfidf.fit(df['article'])"
   ]
  },
  {
   "cell_type": "code",
   "execution_count": 572,
   "id": "9f80ac30",
   "metadata": {},
   "outputs": [],
   "source": [
    "tf_data = tfidf.transform(df['article']).toarray()"
   ]
  },
  {
   "cell_type": "code",
   "execution_count": 573,
   "id": "04d7ffee",
   "metadata": {},
   "outputs": [
    {
     "data": {
      "text/plain": [
       "array([5.28090726, 3.23975791, 4.64975176, 4.72834203, 4.50897921,\n",
       "       4.62960719, 4.1932841 , 4.54759404, 4.50897921, 4.49892887,\n",
       "       4.23848953, 2.86431066, 4.646849  , 3.63287935, 3.49371193,\n",
       "       3.87299044, 3.86367567, 3.12965351, 3.76776362, 3.89188439,\n",
       "       3.91253206, 3.92372099, 6.00175705, 3.7872053 , 5.11511501,\n",
       "       5.42148922, 5.13853528, 4.92204891, 4.01342105, 3.51031748,\n",
       "       3.85313539, 4.05906234, 3.90009237, 4.02892524, 3.94648157,\n",
       "       3.47378373, 4.25011757, 4.20253486, 4.28988424, 4.19144417,\n",
       "       2.75277713, 5.58511864, 3.97716331, 4.54235843, 4.50394141,\n",
       "       4.39231914, 3.94504376, 4.54759404, 4.62676224, 4.50394141,\n",
       "       4.58776008, 4.41504739, 5.31990942, 4.4573072 , 4.40817451,\n",
       "       4.54759404, 4.39231914, 3.87969737, 4.56080427, 4.59599058,\n",
       "       4.4453881 , 4.57149956, 3.6276355 , 4.68525845, 4.60707103,\n",
       "       4.2919147 , 4.568815  , 4.501432  , 4.18960762, 4.55022216,\n",
       "       4.52168586, 4.68827504, 4.53455605, 4.48404026, 5.63058101,\n",
       "       4.63819094, 4.58776008, 4.60986043, 4.6210965 , 3.98013508,\n",
       "       4.62676224, 4.63246026, 4.69433567, 4.6210965 , 4.58231048,\n",
       "       4.53196872, 4.59049606, 4.62960719, 4.4453881 , 3.87165443,\n",
       "       4.45491198, 4.32497556, 4.80681365, 4.69737981, 4.64395464,\n",
       "       4.61546269, 4.6614478 , 4.68225093, 4.77666061, 4.19144417,\n",
       "       4.65851094, 4.75382112, 4.7096499 , 4.77008164, 4.75705214,\n",
       "       4.74100043, 4.67925242, 4.82743294, 4.82396673, 4.3124493 ,\n",
       "       4.88092162, 4.75382112, 4.74419023, 4.6614478 , 3.69692728,\n",
       "       4.67031049, 3.69133756, 3.75580176, 5.07429302, 5.64620633,\n",
       "       4.51913158, 5.27545766, 5.39052699, 4.95305915, 3.32877141,\n",
       "       4.0149607 , 4.88092162, 4.19882428, 3.22286799, 4.05906234,\n",
       "       5.48644711, 5.43414761, 4.54235843, 5.04797571, 3.62241901,\n",
       "       3.61516133, 4.66734752, 5.15767462, 5.44053741, 3.12016278,\n",
       "       5.61519609, 4.19697414, 2.53953856, 4.60707103, 6.0130566 ,\n",
       "       2.77437815, 4.88459135, 4.62392536, 1.15925235, 4.20625926,\n",
       "       5.42779838, 5.2592848 , 4.37229622, 5.04797571, 5.10132169,\n",
       "       5.07874737, 5.68637237, 5.09676587, 5.2592848 , 4.75382112,\n",
       "       4.67925242, 4.02269469, 1.85417352, 5.30860987, 3.89871969,\n",
       "       4.80003396, 3.78843305, 1.85470633, 4.94131733, 5.71970879,\n",
       "       4.89197146, 4.35482853, 5.21739386, 5.27545766, 4.88459135,\n",
       "       3.09283188, 4.38337053, 5.08771604, 3.25405407, 5.14805917,\n",
       "       4.89197146, 1.00204259, 4.86637591, 3.53670921, 3.34914829,\n",
       "       3.9028434 , 4.23081195, 1.30701323, 5.47975812, 4.88092162,\n",
       "       4.34620778, 5.22253526, 4.72834203, 3.89052292, 5.14805917,\n",
       "       4.26583499, 4.24622652, 3.67256285, 4.87726531, 3.52436923,\n",
       "       5.55591948, 4.03519485, 6.24189818, 4.46694582, 4.98506188,\n",
       "       3.62972975, 5.13380714, 5.28090726, 5.15285534, 4.57689041,\n",
       "       4.70656823, 4.47912624, 5.79904554, 5.02656161, 5.21227876,\n",
       "       4.85560381, 5.21739386, 5.33133812, 2.68614203, 5.19207605,\n",
       "       5.47311358, 5.54875099, 3.55697039, 4.01804712, 4.00575818,\n",
       "       1.98750201, 4.36790061, 3.43163526, 4.32287693, 4.34620778,\n",
       "       5.38444794, 3.94792146, 4.76680832, 5.11511501, 4.48158023,\n",
       "       4.6614478 , 4.58231048, 5.84600252, 5.99058375, 3.97568073,\n",
       "       2.69474688, 4.0984763 , 5.10589835, 5.04797571, 5.3604947 ,\n",
       "       4.08516496, 5.02656161, 4.59599058, 5.21739386, 5.19708859,\n",
       "       5.19207605, 4.36790061, 4.28583565, 5.63058101, 4.80003396,\n",
       "       4.84848635, 5.16251725, 5.27003759, 5.02233328, 4.4289365 ,\n",
       "       2.837373  , 4.84848635, 4.61546269, 4.78661094, 5.21227876,\n",
       "       3.97272214, 5.18212572, 5.21227876, 4.94912987, 5.11511501,\n",
       "       2.64341244, 4.83440161, 5.19207605, 5.1244174 , 5.02656161,\n",
       "       5.47975812, 5.71970879, 5.01392987, 4.97294052, 3.79089308,\n",
       "       4.36134321, 4.18594461, 5.21739386, 5.28090726, 4.59874921,\n",
       "       3.3050064 , 4.48897854, 4.40134854, 3.25117844, 5.52754879,\n",
       "       4.12392297, 3.91392385, 3.65520883, 5.42779838, 2.4163672 ,\n",
       "       5.28638673, 4.71895229, 4.3124493 , 4.99322519, 4.02269469,\n",
       "       5.10132169, 4.50645714, 3.83882154, 2.99152368, 5.74546129,\n",
       "       4.85918164, 6.0130566 , 4.3124493 , 4.28381749, 5.2592848 ,\n",
       "       4.57149956, 3.92936275, 5.67011185, 3.920912  , 5.52754879,\n",
       "       4.65851094, 5.47975812, 3.54630621, 5.54875099, 5.0654434 ,\n",
       "       4.1395077 , 4.42660821, 5.05667141, 4.12220623, 4.69737981,\n",
       "       5.31990942, 5.00559648, 4.2156314 , 5.82695432, 5.33133812,\n",
       "       6.146588  , 4.86637591, 4.12392297, 5.2592848 , 4.46937007,\n",
       "       5.4469683 , 2.67801521, 4.49643199, 5.60759149, 4.84848635,\n",
       "       4.95700393, 3.90975428, 3.96683111, 4.76029363, 4.08847622,\n",
       "       5.48644711, 4.15533917, 3.61206695, 4.9689325 , 5.11511501,\n",
       "       5.18212572, 4.68525845, 5.40898905, 4.93743383, 4.74100043,\n",
       "       4.7799664 , 5.42779838, 5.4665129 , 3.08307571, 4.43830425,\n",
       "       5.37840563, 3.87969737, 4.43595407, 3.68799865, 4.89568204,\n",
       "       4.94131733, 5.45344081, 4.87362232, 5.37840563, 3.99966988,\n",
       "       4.88092162, 5.43414761, 5.40898905, 4.05104305, 4.97294052,\n",
       "       4.405894  , 5.54875099, 5.91568244, 4.98913521, 4.77336572,\n",
       "       5.4665129 , 4.70043325, 5.10589835, 3.05909374, 4.568815  ,\n",
       "       4.61265764, 5.20718969, 5.4665129 , 4.53975086, 4.63246026,\n",
       "       5.47975812, 4.91823939, 5.09223072, 4.7799664 , 5.3604947 ,\n",
       "       2.98931129, 3.15410776, 5.72821948, 5.4469683 , 3.98760337,\n",
       "       5.49318114, 3.52531307, 3.49462726, 4.92971179, 4.52424668,\n",
       "       4.27778732, 4.69433567, 4.81707015, 3.51404535, 1.7678134 ,\n",
       "       4.30212929, 5.15767462, 4.88092162, 4.25598269, 5.34872986,\n",
       "       5.11049606, 4.83440161, 4.53196872, 4.1714253 , 2.28736318,\n",
       "       3.21176447, 5.16251725, 5.11975539, 5.14328589, 4.91444431,\n",
       "       4.6210965 , 3.72075144, 2.75583457, 4.49892887, 5.53456636,\n",
       "       4.87726531, 3.97124613, 4.20253486, 3.72535444, 4.09179848,\n",
       "       5.82695432, 4.51913158, 3.68688816, 5.15285534, 5.20718969,\n",
       "       4.38114583, 3.87969737, 5.57773853, 3.68688816, 4.6353215 ,\n",
       "       3.53862125, 5.73680323, 5.4599555 , 3.26491194, 1.8143179 ,\n",
       "       4.06552439, 2.43238262, 4.35699537, 4.95305915, 5.63058101,\n",
       "       4.67925242, 3.80578169, 4.57959677, 2.94131071, 5.28638673,\n",
       "       4.34192512, 4.36790061, 5.63058101, 3.65951918, 4.75382112,\n",
       "       4.18047514, 4.1932841 , 6.19993398, 4.62960719, 4.91066359,\n",
       "       5.23289805, 4.98506188, 4.35699537, 4.26188241, 2.70842018,\n",
       "       5.35459498, 4.40361869, 5.55591948, 4.32078268, 4.370096  ,\n",
       "       5.33710182, 4.54497281, 5.00975449, 1.2268915 , 2.95991342,\n",
       "       4.35916693, 5.70290167, 3.76656098, 2.98820693, 1.00226981,\n",
       "       3.07642313, 5.29743657, 4.1035141 , 5.57041249, 3.43077579,\n",
       "       4.06714645, 2.93396545, 4.85560381, 5.27545766, 4.67925242,\n",
       "       5.28090726, 4.12909094, 3.86235204, 5.63836315, 4.28583565,\n",
       "       5.42148922, 5.34289894, 5.06104779, 3.65091698, 3.24046788,\n",
       "       4.76354567, 4.08186463, 5.02233328, 5.30860987, 4.26980325,\n",
       "       3.91811087, 3.72305029, 5.57773853, 5.23289805, 3.78353108,\n",
       "       4.7799664 , 2.60055967, 3.4891478 , 2.41077539, 4.77008164,\n",
       "       5.73680323, 5.71970879, 4.72834203, 5.58511864, 4.17865861,\n",
       "       4.76680832, 4.07039849, 4.36352423, 4.92204891, 6.18632832,\n",
       "       4.87362232, 4.26385675, 4.68827504, 4.3124493 , 4.91823939,\n",
       "       3.31108545, 4.56346739, 5.47975812, 4.41734888, 3.96977229,\n",
       "       3.72650851, 2.96367586, 3.83882154, 3.29896409, 3.89597996,\n",
       "       4.41046022, 5.17718744, 3.40700557, 5.09676587, 2.70176735,\n",
       "       4.74100043, 5.15285534, 4.568815  , 4.4718002 , 3.51872481,\n",
       "       4.16067251, 4.30212929, 4.15711379, 5.4469683 , 4.67031049,\n",
       "       5.15767462, 5.78991305, 4.13602338, 4.54759404, 5.2592848 ,\n",
       "       3.00996511, 4.45491198, 4.16962512, 4.76354567, 3.78966231,\n",
       "       4.62676224, 3.5056771 , 4.97294052, 2.68655011, 5.36642944,\n",
       "       5.17227342, 2.80745025, 5.24336935, 3.77017326, 3.48369819,\n",
       "       4.51404251, 4.58231048, 5.33133812, 4.92204891, 3.85971003,\n",
       "       5.33710182, 5.57773853, 4.97696467, 2.02533598, 4.1153686 ,\n",
       "       4.41965569, 3.73812304, 4.8627723 , 5.68637237, 5.49996083,\n",
       "       5.33133812, 4.47667826, 5.27003759, 5.27545766, 5.55591948,\n",
       "       4.53975086, 4.8882746 , 4.72520231, 5.11049606, 5.73680323,\n",
       "       5.49318114, 4.02892524, 5.44053741, 4.46694582, 3.59775178,\n",
       "       3.26636861, 3.43940397, 4.60707103, 4.16424394, 4.09513182,\n",
       "       4.32707861, 6.12094556, 5.13853528, 5.35459498, 4.41504739,\n",
       "       5.09223072, 4.96494048, 5.08771604, 3.08977284, 4.70349604,\n",
       "       5.43414761, 4.60151546, 4.21940499, 5.07429302, 4.26781715,\n",
       "       3.96536376, 5.54875099, 3.17119096, 3.67146935, 4.57959677,\n",
       "       2.47738131, 4.17684537, 5.26464674, 4.59599058, 4.30418479,\n",
       "       3.57665607, 4.15889157, 4.76680832, 3.83366689, 5.63058101,\n",
       "       3.45776916, 3.74751278, 4.4718002 , 4.73149164, 1.00272438,\n",
       "       4.92971179, 3.4827928 , 5.23289805, 5.17227342, 4.41275117,\n",
       "       4.17503542, 1.48670828, 3.59369909, 5.30300761, 5.13853528,\n",
       "       4.44065996, 4.34406416, 5.47311358, 5.54163353, 5.20718969,\n",
       "       3.20625861, 4.49892887, 2.54980959, 4.18229498, 3.87835238,\n",
       "       5.54163353, 3.18722337, 5.23811999, 4.49145686, 3.97864809,\n",
       "       3.11827539, 4.33766072, 4.49145686, 5.10132169, 4.77336572,\n",
       "       5.05231411, 4.51404251, 3.84270504, 4.93356536, 5.44053741,\n",
       "       5.4599555 , 4.29394929, 2.47078062, 4.47667826, 5.30300761,\n",
       "       4.55022216, 4.44776058, 5.33710182, 5.83643307, 4.49643199,\n",
       "       4.77336572, 4.77336572, 5.3723996 , 4.77336572, 5.29743657,\n",
       "       5.19708859, 3.87969737, 5.11511501, 5.29743657, 6.00175705,\n",
       "       5.62285897, 4.50897921, 2.43969004, 4.77336572, 5.29189639,\n",
       "       4.09346376, 5.22770323, 5.13380714, 4.33766072, 4.33553532,\n",
       "       4.80341806, 3.23057381, 5.01392987, 3.53575455, 3.85313539,\n",
       "       4.6210965 , 4.4525225 , 3.86500105, 4.4525225 , 5.22770323,\n",
       "       5.62285897, 5.3723996 , 4.03048896, 5.10589835, 5.23811999,\n",
       "       4.38783482, 3.4454883 , 3.39698879, 5.22770323, 5.34872986,\n",
       "       5.37840563, 5.42148922, 5.39664322, 5.3604947 , 5.08322165,\n",
       "       3.79830967, 5.34872986, 4.90314476, 3.51031748, 4.45013871,\n",
       "       4.99733197, 5.39052699, 3.0977459 , 5.0308079 , 4.68225093,\n",
       "       3.40700557, 5.53456636, 4.97696467, 4.37892608, 4.6614478 ,\n",
       "       4.56080427, 4.93743383, 4.98100508, 5.48644711, 4.30212929,\n",
       "       5.04797571, 3.90422176, 5.32560744, 5.25395145, 5.13380714,\n",
       "       5.58511864, 5.49996083, 5.61519609, 5.1244174 , 5.28090726,\n",
       "       4.84848635, 3.19059605, 4.02736396, 5.34872986, 3.22496369,\n",
       "       5.51365967, 5.47975812, 4.63246026, 3.91253206, 5.00559648,\n",
       "       5.11975539, 4.30418479, 4.26781715, 5.38444794, 4.28583565,\n",
       "       5.14328589, 5.23289805, 5.05667141, 5.12910125, 3.04147731,\n",
       "       4.77336572, 5.45344081, 2.47176795, 5.02233328, 4.60707103,\n",
       "       4.37671124, 5.78086322, 4.26188241, 4.89568204, 5.61519609,\n",
       "       5.40279708, 5.06985842, 2.43523569, 1.81244285, 5.21227876,\n",
       "       4.22890173, 4.4718002 , 2.6065702 , 5.30860987, 4.40361869,\n",
       "       3.73113815, 4.20812667, 4.95305915, 5.40898905, 4.26980325,\n",
       "       4.41275117, 2.54448382, 5.04365605, 4.4289365 , 3.30956222,\n",
       "       4.56080427, 4.20625926, 4.19697414, 5.74546129, 6.15966008,\n",
       "       5.36642944, 5.0654434 , 5.00559648, 2.31456441, 4.90689711,\n",
       "       4.57419135, 4.50394141, 5.28638673, 5.07874737, 4.48650635,\n",
       "       5.91568244, 5.80826219, 5.00559648, 5.40279708, 3.97716331,\n",
       "       4.55022216, 5.47975812, 3.99663958, 4.53196872, 3.96097458,\n",
       "       4.34406416, 3.77622289, 4.82396673, 4.1932841 , 1.00439295,\n",
       "       4.9689325 , 4.77336572, 3.406167  , 5.27545766, 5.33710182,\n",
       "       5.34289894, 2.08569726, 5.39052699, 5.54875099, 4.86637591,\n",
       "       4.50394141, 5.12910125, 5.21227876, 5.17227342, 3.97864809,\n",
       "       4.88092162, 5.3604947 , 4.28988424, 5.21739386, 4.69737981,\n",
       "       4.50394141, 4.52168586, 5.63836315, 4.61265764, 4.60986043,\n",
       "       3.79583136, 4.72834203, 5.29189639, 4.41734888, 2.80423111,\n",
       "       4.89197146, 4.36134321, 3.85051758, 4.8627723 , 5.18212572,\n",
       "       4.02892524, 5.69460287, 4.80681365, 5.63836315, 4.87726531,\n",
       "       3.58765068, 3.69022335, 2.37069716, 1.03899099, 3.17650659,\n",
       "       4.38114583, 3.73229891, 3.71616953, 5.4665129 , 4.71274109,\n",
       "       2.84451759, 5.23289805, 3.75699153, 3.55307934, 4.30624453,\n",
       "       5.43414761, 5.08771604, 3.26418441, 4.77008164, 4.06552439,\n",
       "       1.32903323, 3.65413414, 5.08771604, 5.11975539, 2.38901875,\n",
       "       4.13776402, 3.85313539, 4.96096433, 2.88152279, 4.94131733,\n",
       "       4.43595407, 5.23289805, 4.41046022, 5.31424368, 5.48644711,\n",
       "       5.57041249, 4.49394133, 5.40279708, 5.33133812, 3.84011437,\n",
       "       5.53456636, 4.11878157, 4.0211431 , 3.72882065, 4.04626216,\n",
       "       5.29189639, 2.15041485, 5.63058101, 2.71427794, 4.80003396,\n",
       "       4.78994984, 4.55022216, 5.73680323, 4.29803093, 4.98506188,\n",
       "       5.66207968, 4.1932841 , 3.60590677, 4.99322519, 5.4469683 ,\n",
       "       4.65851094, 4.38114583, 5.09223072, 5.78991305, 4.48897854,\n",
       "       4.36571003, 5.31424368, 5.4599555 , 5.08322165, 4.94521597,\n",
       "       3.79583136, 4.69433567, 4.79666128, 4.30830851, 3.67914904,\n",
       "       4.03676842, 4.16424394, 5.17718744, 4.6210965 , 4.89940644,\n",
       "       3.02016928, 2.91378365, 4.4336094 , 5.10589835, 2.79372634,\n",
       "       5.3723996 , 5.19207605, 4.23848953, 2.09243431, 5.28638673,\n",
       "       5.16738344, 5.39664322, 4.61265764, 5.01812274, 4.40361869,\n",
       "       4.32287693, 5.18212572, 2.69105002, 4.1085774 , 5.65411151,\n",
       "       5.95779392, 3.77379864, 4.11878157, 5.2592848 , 4.36134321])"
      ]
     },
     "execution_count": 573,
     "metadata": {},
     "output_type": "execute_result"
    }
   ],
   "source": [
    "tfidf.idf_"
   ]
  },
  {
   "cell_type": "code",
   "execution_count": 574,
   "id": "d6bf1f2a",
   "metadata": {},
   "outputs": [
    {
     "data": {
      "text/plain": [
       "{'banking': 183,\n",
       " 'system': 879,\n",
       " 'low': 576,\n",
       " 'cost': 286,\n",
       " 'deposit': 317,\n",
       " 'could': 287,\n",
       " 'decline': 311,\n",
       " 'far': 384,\n",
       " 'say': 807,\n",
       " 'sbi': 808,\n",
       " 'chairman': 245,\n",
       " 'setty': 829,\n",
       " 'ratio': 754,\n",
       " 'stand': 851,\n",
       " 'at': 167,\n",
       " '40': 51,\n",
       " 'as': 162,\n",
       " 'on': 661,\n",
       " '30': 40,\n",
       " 'june': 532,\n",
       " 'down': 336,\n",
       " 'from': 419,\n",
       " '42': 54,\n",
       " 'the': 898,\n",
       " 'same': 803,\n",
       " 'period': 696,\n",
       " 'last': 548,\n",
       " 'year': 992,\n",
       " 'its': 523,\n",
       " 'loan': 570,\n",
       " 'book': 206,\n",
       " 'expand': 372,\n",
       " 'by': 225,\n",
       " 'robust': 796,\n",
       " '15': 17,\n",
       " 'growth': 445,\n",
       " 'of': 654,\n",
       " 'in': 483,\n",
       " 'quarter': 745,\n",
       " 'mumbai': 624,\n",
       " 'share': 833,\n",
       " 'and': 148,\n",
       " 'go': 434,\n",
       " 'below': 192,\n",
       " 'level': 557,\n",
       " 'see': 815,\n",
       " 'before': 190,\n",
       " '19': 21,\n",
       " 'back': 176,\n",
       " 'cash': 236,\n",
       " 'management': 586,\n",
       " 'government': 437,\n",
       " 'india': 489,\n",
       " 'large': 546,\n",
       " 'lender': 554,\n",
       " 'state': 854,\n",
       " 'bank': 181,\n",
       " 'raise': 748,\n",
       " 'rs': 797,\n",
       " '500': 63,\n",
       " 'cr': 291,\n",
       " '33': 44,\n",
       " 'via': 956,\n",
       " 'tier': 910,\n",
       " 'bond': 205,\n",
       " 'issuance': 518,\n",
       " 'this': 905,\n",
       " 'follow': 408,\n",
       " 'crore': 294,\n",
       " 'august': 170,\n",
       " '28': 38,\n",
       " 'high': 458,\n",
       " 'coupon': 289,\n",
       " 'rate': 752,\n",
       " 'per': 692,\n",
       " 'cent': 240,\n",
       " 'basis': 186,\n",
       " 'point': 712,\n",
       " 'wednesday': 968,\n",
       " 'through': 908,\n",
       " 'second': 811,\n",
       " 'for': 409,\n",
       " 'current': 297,\n",
       " 'financial': 396,\n",
       " '000': 1,\n",
       " 'month': 614,\n",
       " 'less': 556,\n",
       " 'than': 896,\n",
       " 'total': 920,\n",
       " 'two': 934,\n",
       " 'end': 358,\n",
       " 'after': 128,\n",
       " 'country': 288,\n",
       " 'commercial': 266,\n",
       " 'inform': 498,\n",
       " 'exchange': 369,\n",
       " 'that': 897,\n",
       " 'it': 521,\n",
       " 'stock': 861,\n",
       " 'market': 593,\n",
       " 'sector': 812,\n",
       " 'update': 943,\n",
       " 'mining': 606,\n",
       " 'fall': 383,\n",
       " 'bse': 218,\n",
       " 'sensex': 821,\n",
       " 'close': 260,\n",
       " '43': 55,\n",
       " '23': 33,\n",
       " 'up': 941,\n",
       " '29': 39,\n",
       " '26': 36,\n",
       " 'larsen': 547,\n",
       " 'toubro': 921,\n",
       " 'ltd': 578,\n",
       " '96': 110,\n",
       " 'indusind': 494,\n",
       " '95': 109,\n",
       " 'among': 142,\n",
       " 'top': 919,\n",
       " 'gainer': 427,\n",
       " 'nifty': 640,\n",
       " 'pack': 680,\n",
       " 'other': 672,\n",
       " 'hand': 448,\n",
       " 'tata': 884,\n",
       " 'consultancy': 279,\n",
       " '54': 67,\n",
       " 'hcl': 450,\n",
       " 'technologies': 889,\n",
       " '16': 18,\n",
       " 'infosys': 502,\n",
       " 'tech': 887,\n",
       " 'mahindra': 581,\n",
       " 'wipro': 982,\n",
       " 'may': 596,\n",
       " 'govt': 438,\n",
       " 'improve': 482,\n",
       " 'impact': 481,\n",
       " 'credit': 292,\n",
       " 'corporate': 284,\n",
       " 'financing': 397,\n",
       " 'strategy': 863,\n",
       " 'lead': 552,\n",
       " 'to': 915,\n",
       " 'account': 117,\n",
       " 'saving': 806,\n",
       " 'be': 187,\n",
       " 'rise': 794,\n",
       " '45': 57,\n",
       " 'post': 719,\n",
       " 'settle': 827,\n",
       " 'lower': 577,\n",
       " 'drag': 338,\n",
       " 'ahead': 132,\n",
       " 'we': 965,\n",
       " 'decision': 310,\n",
       " 'drop': 340,\n",
       " 'or': 670,\n",
       " '82': 96,\n",
       " 'during': 342,\n",
       " 'day': 303,\n",
       " 'climb': 259,\n",
       " '72': 86,\n",
       " 'new': 637,\n",
       " 'all': 135,\n",
       " 'time': 912,\n",
       " '83': 97,\n",
       " '38': 49,\n",
       " 'bajaj': 178,\n",
       " 'finance': 395,\n",
       " 'finserv': 399,\n",
       " 'nestle': 634,\n",
       " 'hdfc': 451,\n",
       " 'icici': 474,\n",
       " 'big': 199,\n",
       " 'asian': 164,\n",
       " 'tokyo': 918,\n",
       " 'shanghai': 832,\n",
       " 'trading': 924,\n",
       " 'hong': 469,\n",
       " 'kong': 539,\n",
       " 'national': 628,\n",
       " 'holiday': 467,\n",
       " 'trade': 923,\n",
       " 'us': 946,\n",
       " 'note': 646,\n",
       " 'tuesday': 931,\n",
       " 'issue': 519,\n",
       " 'tenor': 893,\n",
       " 'with': 983,\n",
       " 'call': 226,\n",
       " 'option': 669,\n",
       " '10': 11,\n",
       " 'each': 343,\n",
       " 'date': 301,\n",
       " 'outlook': 675,\n",
       " 'rating': 753,\n",
       " 'limit': 562,\n",
       " 'delhi': 313,\n",
       " 'bid': 198,\n",
       " 'trust': 930,\n",
       " 'investor': 516,\n",
       " 'place': 705,\n",
       " 'indice': 492,\n",
       " 'index': 488,\n",
       " 'advance': 127,\n",
       " '08': 9,\n",
       " '56': 69,\n",
       " 'idfc': 478,\n",
       " 'first': 402,\n",
       " '67': 81,\n",
       " 'baroda': 184,\n",
       " 'kotak': 540,\n",
       " 'group': 443,\n",
       " 'list': 567,\n",
       " 'consider': 277,\n",
       " 'ipo': 517,\n",
       " 'benefit': 194,\n",
       " 'value': 952,\n",
       " 'provide': 732,\n",
       " 'an': 145,\n",
       " 'rbi': 755,\n",
       " 'part': 682,\n",
       " 'however': 473,\n",
       " 'hit': 465,\n",
       " 'record': 764,\n",
       " 'fmcg': 406,\n",
       " 'will': 979,\n",
       " 'your': 997,\n",
       " 'get': 431,\n",
       " 'chief': 252,\n",
       " 'repo': 778,\n",
       " 'cut': 300,\n",
       " 'keep': 535,\n",
       " 'percent': 693,\n",
       " 'review': 791,\n",
       " 'amid': 141,\n",
       " 'risk': 795,\n",
       " 'inflation': 497,\n",
       " 'reserve': 783,\n",
       " 'benchmark': 193,\n",
       " 'policy': 713,\n",
       " '2024': 30,\n",
       " 'give': 432,\n",
       " 'over': 676,\n",
       " 'have': 449,\n",
       " 'federal': 389,\n",
       " 'interest': 509,\n",
       " 'more': 615,\n",
       " 'four': 413,\n",
       " 'expect': 373,\n",
       " 'central': 241,\n",
       " 'economy': 348,\n",
       " 'nine': 642,\n",
       " 'regulatory': 773,\n",
       " 'filing': 394,\n",
       " 'against': 129,\n",
       " 'base': 185,\n",
       " 'fertiliser': 391,\n",
       " 'invest': 514,\n",
       " 'buy': 224,\n",
       " 'price': 723,\n",
       " 'earning': 346,\n",
       " 'above': 115,\n",
       " 'long': 571,\n",
       " 'term': 895,\n",
       " '21': 31,\n",
       " 'valuation': 951,\n",
       " 'certain': 244,\n",
       " 'business': 222,\n",
       " 'today': 916,\n",
       " 'he': 452,\n",
       " 'lic': 558,\n",
       " 'psu': 735,\n",
       " 'would': 990,\n",
       " 'such': 869,\n",
       " 'private': 724,\n",
       " 'energy': 359,\n",
       " 'relate': 774,\n",
       " 'here': 456,\n",
       " 'how': 472,\n",
       " 'should': 835,\n",
       " 'domestic': 334,\n",
       " 'read': 758,\n",
       " 'hold': 466,\n",
       " 'significant': 838,\n",
       " 'q1': 740,\n",
       " 'report': 779,\n",
       " 'net': 635,\n",
       " 'income': 485,\n",
       " 'yoy': 998,\n",
       " '41': 53,\n",
       " 'despite': 319,\n",
       " 'margin': 590,\n",
       " 'due': 341,\n",
       " 'concern': 274,\n",
       " 'accord': 116,\n",
       " 'potential': 720,\n",
       " 'focus': 407,\n",
       " 'trend': 927,\n",
       " 'make': 584,\n",
       " 'any': 152,\n",
       " 'you': 996,\n",
       " 'can': 227,\n",
       " 'now': 648,\n",
       " 'subscribe': 867,\n",
       " 'our': 673,\n",
       " 'economic': 347,\n",
       " 'whatsapp': 972,\n",
       " 'channel': 248,\n",
       " 'late': 549,\n",
       " 'equity': 363,\n",
       " 'return': 789,\n",
       " 'check': 251,\n",
       " 'pension': 690,\n",
       " 'fund': 420,\n",
       " 'perform': 694,\n",
       " 'under': 937,\n",
       " 'scheme': 810,\n",
       " 'manager': 587,\n",
       " 'their': 899,\n",
       " 'money': 613,\n",
       " 'asset': 166,\n",
       " 'these': 901,\n",
       " 'limited': 563,\n",
       " 'reliance': 776,\n",
       " 'industry': 496,\n",
       " 'ceo': 243,\n",
       " 'no': 643,\n",
       " 'move': 620,\n",
       " 'into': 511,\n",
       " 'grow': 444,\n",
       " 'about': 114,\n",
       " 'company': 270,\n",
       " 'also': 139,\n",
       " 'former': 412,\n",
       " 'who': 977,\n",
       " 'operation': 667,\n",
       " 'leader': 553,\n",
       " 'come': 265,\n",
       " 'out': 674,\n",
       " 'world': 988,\n",
       " '93': 107,\n",
       " 'upbeat': 942,\n",
       " '65': 79,\n",
       " '57': 70,\n",
       " '66': 80,\n",
       " 'au': 168,\n",
       " 'small': 844,\n",
       " '11': 13,\n",
       " '24': 34,\n",
       " '18': 20,\n",
       " '14': 16,\n",
       " '81': 95,\n",
       " 'ltimindtree': 579,\n",
       " '61': 75,\n",
       " 'live': 568,\n",
       " '90': 104,\n",
       " 'volume': 960,\n",
       " 'liveblog': 569,\n",
       " 'real': 759,\n",
       " 'source': 848,\n",
       " 'comprehensive': 273,\n",
       " 'analysis': 146,\n",
       " 'prominent': 729,\n",
       " 'detail': 320,\n",
       " 'include': 484,\n",
       " 'capitalization': 233,\n",
       " '91': 105,\n",
       " '13': 15,\n",
       " '77': 91,\n",
       " 'offer': 656,\n",
       " 'complete': 272,\n",
       " 'fundamental': 421,\n",
       " 'technical': 888,\n",
       " 'indicator': 491,\n",
       " 'stay': 856,\n",
       " 'informed': 500,\n",
       " 'break': 213,\n",
       " 'news': 638,\n",
       " 'performance': 695,\n",
       " 'expert': 375,\n",
       " 'investment': 515,\n",
       " 'join': 527,\n",
       " 'ever': 368,\n",
       " 'change': 247,\n",
       " 'datum': 302,\n",
       " '09': 10,\n",
       " 'ist': 520,\n",
       " 'maharashtra': 580,\n",
       " 'public': 736,\n",
       " 'september': 823,\n",
       " 'so': 845,\n",
       " 'branch': 211,\n",
       " 'remain': 777,\n",
       " 'city': 256,\n",
       " 'extend': 379,\n",
       " 'support': 874,\n",
       " 'face': 381,\n",
       " 'default': 312,\n",
       " 'visit': 958,\n",
       " 'help': 455,\n",
       " 'foreign': 410,\n",
       " 'debt': 307,\n",
       " 'announce': 149,\n",
       " 'md': 599,\n",
       " '400': 52,\n",
       " 'million': 605,\n",
       " 'currency': 296,\n",
       " 'seek': 816,\n",
       " 'additional': 126,\n",
       " 'line': 564,\n",
       " '2019': 25,\n",
       " 'key': 536,\n",
       " 'development': 321,\n",
       " 'since': 839,\n",
       " 'november': 647,\n",
       " '2022': 28,\n",
       " 'request': 780,\n",
       " '100': 12,\n",
       " 'retail': 787,\n",
       " 'sale': 802,\n",
       " 'portfolio': 716,\n",
       " 'put': 739,\n",
       " 'secure': 813,\n",
       " 'acquire': 118,\n",
       " 'which': 975,\n",
       " 'capital': 231,\n",
       " 'partner': 683,\n",
       " 'international': 510,\n",
       " 'most': 616,\n",
       " 'firm': 401,\n",
       " 'add': 125,\n",
       " 'cap': 229,\n",
       " 'airtel': 134,\n",
       " 'bharti': 197,\n",
       " 'while': 976,\n",
       " 'itc': 522,\n",
       " 'loser': 574,\n",
       " 'session': 825,\n",
       " 'hindustan': 463,\n",
       " 'unilever': 938,\n",
       " 'industries': 495,\n",
       " 'ril': 793,\n",
       " 'tcs': 886,\n",
       " 'gain': 426,\n",
       " 'take': 880,\n",
       " 'capitalisation': 232,\n",
       " '46': 58,\n",
       " 'lakh': 545,\n",
       " '06': 7,\n",
       " '07': 8,\n",
       " '63': 77,\n",
       " '34': 45,\n",
       " '27': 37,\n",
       " 'overseas': 678,\n",
       " 'three': 907,\n",
       " 'non': 644,\n",
       " 'billion': 201,\n",
       " 'funding': 422,\n",
       " 'co': 261,\n",
       " 'service': 824,\n",
       " 'corp': 283,\n",
       " '300': 41,\n",
       " 'people': 691,\n",
       " 'do': 332,\n",
       " 'not': 645,\n",
       " 'pledge': 709,\n",
       " '25': 35,\n",
       " 'trillion': 929,\n",
       " 'green': 440,\n",
       " 'show': 836,\n",
       " 'worth': 989,\n",
       " 're': 756,\n",
       " 'indian': 490,\n",
       " 'union': 939,\n",
       " 'ministry': 608,\n",
       " 'run': 799,\n",
       " 'agency': 130,\n",
       " 'idbi': 475,\n",
       " 'consortium': 278,\n",
       " 'punjab': 737,\n",
       " 'canara': 228,\n",
       " 'lose': 573,\n",
       " 'monday': 611,\n",
       " 'emerge': 355,\n",
       " '73': 87,\n",
       " 'launch': 550,\n",
       " 'manage': 585,\n",
       " 'mutual': 625,\n",
       " 'joint': 528,\n",
       " 'venture': 954,\n",
       " 'between': 195,\n",
       " 'one': 662,\n",
       " 'open': 666,\n",
       " 'week': 969,\n",
       " 'axis': 175,\n",
       " 'power': 721,\n",
       " '39': 50,\n",
       " 'what': 971,\n",
       " '52': 65,\n",
       " 'need': 632,\n",
       " 'clear': 258,\n",
       " 'sign': 837,\n",
       " 'recovery': 765,\n",
       " 'some': 847,\n",
       " 'overall': 677,\n",
       " 'oil': 660,\n",
       " 'natural': 629,\n",
       " 'gas': 428,\n",
       " 'corporation': 285,\n",
       " 'ongc': 663,\n",
       " 'et': 365,\n",
       " 'both': 209,\n",
       " 'well': 970,\n",
       " 'mark': 592,\n",
       " 'several': 831,\n",
       " 'online': 664,\n",
       " 'continue': 281,\n",
       " 'know': 538,\n",
       " 'product': 726,\n",
       " 'range': 750,\n",
       " 'segment': 817,\n",
       " 'head': 453,\n",
       " 'currently': 298,\n",
       " 'yes': 993,\n",
       " 'individual': 493,\n",
       " 'customer': 299,\n",
       " 'technology': 890,\n",
       " 'drive': 339,\n",
       " 'profit': 727,\n",
       " 'aim': 133,\n",
       " 'ensure': 360,\n",
       " 'reach': 757,\n",
       " 'just': 533,\n",
       " 'tell': 892,\n",
       " 'look': 572,\n",
       " 'deliver': 314,\n",
       " '68': 82,\n",
       " 'increase': 487,\n",
       " '01': 2,\n",
       " '69': 83,\n",
       " '22': 32,\n",
       " '99': 113,\n",
       " '12': 14,\n",
       " '70': 84,\n",
       " 'infosy': 501,\n",
       " 'witness': 986,\n",
       " '17': 19,\n",
       " '49': 61,\n",
       " 'respectively': 785,\n",
       " 'life': 559,\n",
       " 'insurance': 508,\n",
       " 'only': 665,\n",
       " 'experience': 374,\n",
       " '76': 90,\n",
       " 'maintain': 582,\n",
       " 'position': 717,\n",
       " 'fix': 405,\n",
       " 'fiscal': 403,\n",
       " 'surge': 876,\n",
       " '64': 78,\n",
       " 'march': 589,\n",
       " 'combine': 264,\n",
       " 'jump': 531,\n",
       " 'broad': 216,\n",
       " 'nse': 650,\n",
       " 'telecom': 891,\n",
       " '92': 106,\n",
       " '05': 6,\n",
       " '20': 23,\n",
       " 'chart': 250,\n",
       " 'mcap': 597,\n",
       " 'together': 917,\n",
       " 'bullish': 221,\n",
       " 'want': 962,\n",
       " 'transaction': 925,\n",
       " 'debit': 306,\n",
       " 'card': 234,\n",
       " 'platform': 707,\n",
       " 'link': 565,\n",
       " 'if': 479,\n",
       " 'case': 235,\n",
       " 'pnb': 711,\n",
       " 'next': 639,\n",
       " 'feature': 387,\n",
       " 'good': 436,\n",
       " 'charge': 249,\n",
       " 'institution': 507,\n",
       " 'payment': 687,\n",
       " 'export': 377,\n",
       " 'plan': 706,\n",
       " 'december': 308,\n",
       " 'start': 853,\n",
       " 'russia': 801,\n",
       " 'marginal': 591,\n",
       " 'lending': 555,\n",
       " 'mclr': 598,\n",
       " 'october': 653,\n",
       " 'effective': 350,\n",
       " '75': 89,\n",
       " '50': 62,\n",
       " 'bps': 210,\n",
       " 'auto': 171,\n",
       " 'personal': 697,\n",
       " 'adani': 124,\n",
       " 'name': 626,\n",
       " 'employee': 356,\n",
       " 'revenue': 790,\n",
       " '55': 68,\n",
       " '86': 100,\n",
       " '85': 99,\n",
       " '60': 73,\n",
       " 'number': 652,\n",
       " 'centre': 242,\n",
       " 'own': 679,\n",
       " 'third': 904,\n",
       " 'fourth': 414,\n",
       " 'q3': 742,\n",
       " 'fy24': 425,\n",
       " 'compare': 271,\n",
       " 'fy23': 424,\n",
       " 'target': 883,\n",
       " 'gross': 442,\n",
       " 'february': 388,\n",
       " 'q4': 743,\n",
       " 'project': 728,\n",
       " 'major': 583,\n",
       " 'infrastructure': 504,\n",
       " 'friday': 418,\n",
       " '32': 43,\n",
       " '71': 85,\n",
       " '94': 108,\n",
       " 'intraday': 512,\n",
       " 'much': 622,\n",
       " '37': 48,\n",
       " 'dip': 325,\n",
       " 'positive': 718,\n",
       " 'global': 433,\n",
       " 'analyst': 147,\n",
       " 'port': 715,\n",
       " 'special': 849,\n",
       " 'zone': 999,\n",
       " 'coal': 262,\n",
       " 'consumer': 280,\n",
       " 'sugar': 870,\n",
       " 'court': 290,\n",
       " 'home': 468,\n",
       " 'transfer': 926,\n",
       " 'commission': 267,\n",
       " 'file': 393,\n",
       " 'approve': 159,\n",
       " 'pay': 686,\n",
       " 'uco': 935,\n",
       " 'executive': 370,\n",
       " 'director': 327,\n",
       " 'stake': 850,\n",
       " '47': 59,\n",
       " 'thursday': 909,\n",
       " '31': 42,\n",
       " 'order': 671,\n",
       " 'boost': 207,\n",
       " 'various': 953,\n",
       " 'but': 223,\n",
       " 'where': 974,\n",
       " 'require': 781,\n",
       " 'sanction': 804,\n",
       " 'propose': 731,\n",
       " 'set': 826,\n",
       " 'identify': 477,\n",
       " 'statement': 855,\n",
       " 'insight': 505,\n",
       " 'watch': 963,\n",
       " '59': 72,\n",
       " 'challenge': 246,\n",
       " '98': 112,\n",
       " 'strong': 865,\n",
       " '2020': 26,\n",
       " 'process': 725,\n",
       " '03': 4,\n",
       " 'general': 430,\n",
       " 'department': 316,\n",
       " 'result': 786,\n",
       " '600': 74,\n",
       " 'unit': 940,\n",
       " '80': 94,\n",
       " 'bring': 214,\n",
       " 'sc': 809,\n",
       " 'allow': 136,\n",
       " 'rule': 798,\n",
       " 'tribunal': 928,\n",
       " 'resolution': 784,\n",
       " 'insolvency': 506,\n",
       " 'nclt': 630,\n",
       " 'application': 155,\n",
       " 'rally': 749,\n",
       " '97': 111,\n",
       " 'etmarket': 366,\n",
       " 'fee': 390,\n",
       " 'gold': 435,\n",
       " 'ntpc': 651,\n",
       " 'jsw': 529,\n",
       " 'steel': 857,\n",
       " 'laggard': 544,\n",
       " 'supreme': 875,\n",
       " 'without': 985,\n",
       " 'direct': 326,\n",
       " 'appoint': 157,\n",
       " '200': 24,\n",
       " '51': 64,\n",
       " 'talk': 881,\n",
       " 'because': 188,\n",
       " 'nearly': 631,\n",
       " 'eight': 352,\n",
       " '88': 102,\n",
       " 'higher': 459,\n",
       " 'fresh': 417,\n",
       " 'medium': 600,\n",
       " 'suggest': 871,\n",
       " 'sell': 819,\n",
       " 'likely': 561,\n",
       " '58': 71,\n",
       " 'early': 344,\n",
       " 'motor': 618,\n",
       " 'paint': 681,\n",
       " 'seoul': 822,\n",
       " 'quote': 747,\n",
       " 'fd': 385,\n",
       " 'five': 404,\n",
       " 'fds': 386,\n",
       " 'like': 560,\n",
       " 'future': 423,\n",
       " 'enterprise': 361,\n",
       " 'winner': 981,\n",
       " 'network': 636,\n",
       " 'solution': 846,\n",
       " 'yono': 995,\n",
       " 'supply': 873,\n",
       " 'rupee': 800,\n",
       " '00': 0,\n",
       " 'asia': 163,\n",
       " 'track': 922,\n",
       " 'street': 864,\n",
       " '36': 47,\n",
       " '53': 66,\n",
       " 'subsidiary': 868,\n",
       " 'meet': 601,\n",
       " 'stop': 862,\n",
       " 'information': 499,\n",
       " 'explore': 376,\n",
       " 'mobile': 609,\n",
       " 'petroleum': 699,\n",
       " 'revise': 792,\n",
       " 'estimate': 364,\n",
       " 'cross': 295,\n",
       " 'deal': 305,\n",
       " 'tenure': 894,\n",
       " 'half': 447,\n",
       " 'they': 902,\n",
       " 'around': 161,\n",
       " 'yield': 994,\n",
       " 'become': 189,\n",
       " 'meeting': 602,\n",
       " 'hindalco': 461,\n",
       " '79': 93,\n",
       " 'bharat': 196,\n",
       " 'red': 766,\n",
       " 'motors': 619,\n",
       " 'tumble': 932,\n",
       " 'titan': 914,\n",
       " 'use': 948,\n",
       " 'across': 120,\n",
       " 'amount': 143,\n",
       " 'acquisition': 119,\n",
       " 'active': 123,\n",
       " '02': 3,\n",
       " 'bandhan': 180,\n",
       " 'vodafone': 959,\n",
       " 'idea': 476,\n",
       " 'negative': 633,\n",
       " 'brokerage': 217,\n",
       " 'loss': 575,\n",
       " 'recent': 761,\n",
       " 'demand': 315,\n",
       " 'pick': 703,\n",
       " 'standard': 852,\n",
       " 'matter': 595,\n",
       " 'view': 957,\n",
       " 'incorporate': 486,\n",
       " 'receive': 760,\n",
       " 'kumar': 541,\n",
       " 'vi': 955,\n",
       " 'purchase': 738,\n",
       " 'promoter': 730,\n",
       " '44': 56,\n",
       " 'npci': 649,\n",
       " 'off': 655,\n",
       " 'upi': 944,\n",
       " 'within': 984,\n",
       " 'user': 949,\n",
       " 'pilot': 704,\n",
       " 'recently': 762,\n",
       " 'way': 964,\n",
       " 'find': 398,\n",
       " 'his': 464,\n",
       " 'infra': 503,\n",
       " 'when': 973,\n",
       " 'refinance': 770,\n",
       " 'liquidity': 566,\n",
       " 'past': 685,\n",
       " '89': 103,\n",
       " '87': 101,\n",
       " '35': 46,\n",
       " 'another': 151,\n",
       " 'guarantee': 446,\n",
       " 'grid': 441,\n",
       " 'security': 814,\n",
       " 'phase': 702,\n",
       " 'build': 220,\n",
       " 'quality': 744,\n",
       " 'pharma': 700,\n",
       " 'why': 978,\n",
       " 'already': 138,\n",
       " 'hero': 457,\n",
       " 'motocorp': 617,\n",
       " 'bob': 204,\n",
       " 'reduce': 769,\n",
       " 'six': 842,\n",
       " 'still': 860,\n",
       " 'dial': 322,\n",
       " 'capex': 230,\n",
       " 'facility': 382,\n",
       " 'turn': 933,\n",
       " 'conduct': 275,\n",
       " 'uti': 950,\n",
       " 'act': 121,\n",
       " 'jio': 526,\n",
       " '2023': 29,\n",
       " '84': 98,\n",
       " 'modi': 610,\n",
       " 'housing': 471,\n",
       " 'psbs': 734,\n",
       " 'slip': 843,\n",
       " 'january': 524,\n",
       " 'july': 530,\n",
       " 'multiple': 623,\n",
       " '78': 92,\n",
       " 'tank': 882,\n",
       " 'weak': 966,\n",
       " 'fraud': 415,\n",
       " 'action': 122,\n",
       " 'saturday': 805,\n",
       " 'creditor': 293,\n",
       " '48': 60,\n",
       " 'app': 154,\n",
       " 'win': 980,\n",
       " 'there': 900,\n",
       " 'write': 991,\n",
       " 'bad': 177,\n",
       " 'release': 775,\n",
       " 'china': 253,\n",
       " 'earn': 345,\n",
       " 'few': 392,\n",
       " 'senior': 820,\n",
       " 'citizen': 255,\n",
       " 'website': 967,\n",
       " 'annual': 150,\n",
       " 'effect': 349,\n",
       " 'suzlon': 877,\n",
       " '74': 88,\n",
       " '04': 5,\n",
       " 'maruti': 594,\n",
       " 'com': 263,\n",
       " 'bo': 202,\n",
       " 'even': 367,\n",
       " 'ultratech': 936,\n",
       " 'cement': 239,\n",
       " 'till': 911,\n",
       " 'previous': 722,\n",
       " 'along': 137,\n",
       " 'nifty50': 641,\n",
       " 'short': 834,\n",
       " 'free': 416,\n",
       " 'those': 906,\n",
       " 'official': 659,\n",
       " 'minister': 607,\n",
       " 'sitharaman': 841,\n",
       " 'introduce': 513,\n",
       " 'msme': 621,\n",
       " 'exist': 371,\n",
       " 'digital': 323,\n",
       " 'double': 335,\n",
       " 'banker': 182,\n",
       " 'member': 603,\n",
       " 'approval': 158,\n",
       " 'deadline': 304,\n",
       " 'amrit': 144,\n",
       " 'kalash': 534,\n",
       " 'board': 203,\n",
       " 'decide': 309,\n",
       " 'britannia': 215,\n",
       " '62': 76,\n",
       " 'law': 551,\n",
       " 'officer': 658,\n",
       " 'average': 173,\n",
       " 'sun': 872,\n",
       " 'dr': 337,\n",
       " 'reddy': 767,\n",
       " 'laboratories': 542,\n",
       " 'tax': 885,\n",
       " 'healthy': 454,\n",
       " '1955': 22,\n",
       " 'discount': 329,\n",
       " 'bill': 200,\n",
       " 'balance': 179,\n",
       " 'provision': 733,\n",
       " 'q2': 741,\n",
       " 'select': 818,\n",
       " 'apply': 156,\n",
       " 'seven': 830,\n",
       " 'form': 411,\n",
       " 'disclose': 328,\n",
       " 'sterlite': 859,\n",
       " 'dividend': 330,\n",
       " 'recommend': 763,\n",
       " 'deputy': 318,\n",
       " 'dinesh': 324,\n",
       " 'khara': 537,\n",
       " 'entity': 362,\n",
       " 'regard': 771,\n",
       " 'april': 160,\n",
       " 'research': 782,\n",
       " 'gdp': 429,\n",
       " 'hike': 460,\n",
       " 'nation': 627,\n",
       " 'ask': 165,\n",
       " 'available': 172,\n",
       " 'opportunity': 668,\n",
       " 'fintech': 400,\n",
       " 'laboratory': 543,\n",
       " 'monetary': 612,\n",
       " 'submit': 866,\n",
       " 'budget': 219,\n",
       " 'begin': 191,\n",
       " 'thing': 903,\n",
       " 'upl': 945,\n",
       " 'step': 858,\n",
       " 'paytm': 688,\n",
       " '2021': 27,\n",
       " 'merchant': 604,\n",
       " 'office': 657,\n",
       " 'many': 588,\n",
       " 'borrower': 208,\n",
       " 'exposure': 378,\n",
       " 'retain': 788,\n",
       " 'pharmaceutical': 701,\n",
       " 'contract': 282,\n",
       " 'cipla': 254,\n",
       " 'ago': 131,\n",
       " 'auction': 169,\n",
       " 'vs': 961,\n",
       " 'party': 684,\n",
       " 'committee': 268,\n",
       " 'amc': 140,\n",
       " 'work': 987,\n",
       " 'claim': 257,\n",
       " 'quarterly': 746,\n",
       " 'plea': 708,\n",
       " 'pende': 689,\n",
       " 'immediate': 480,\n",
       " 'apollo': 153,\n",
       " 'external': 380,\n",
       " 'cbi': 238,\n",
       " 'register': 772,\n",
       " 'hindenburg': 462,\n",
       " 'congress': 276,\n",
       " 'settlement': 828,\n",
       " 'pm': 710,\n",
       " 'singapore': 840,\n",
       " 'grasim': 439,\n",
       " 'enable': 357,\n",
       " 'hospital': 470,\n",
       " 'ranking': 751,\n",
       " 'suzuki': 878,\n",
       " 'divis': 331,\n",
       " 'election': 353,\n",
       " 'petition': 698,\n",
       " 'political': 714,\n",
       " 'electoral': 354,\n",
       " 'dollar': 333,\n",
       " 'usd': 947,\n",
       " 'tip': 913,\n",
       " 'eicher': 351,\n",
       " 'brand': 212,\n",
       " 'aware': 174,\n",
       " 'communication': 269,\n",
       " 'jet': 525,\n",
       " 'cbdc': 237,\n",
       " 'reddys': 768}"
      ]
     },
     "execution_count": 574,
     "metadata": {},
     "output_type": "execute_result"
    }
   ],
   "source": [
    "tfidf.vocabulary_"
   ]
  },
  {
   "cell_type": "code",
   "execution_count": 575,
   "id": "061fa37b",
   "metadata": {},
   "outputs": [],
   "source": [
    "terms = []\n",
    "freq = []\n",
    "\n",
    "for k, v in tfidf.vocabulary_.items():\n",
    "    terms.append(k)\n",
    "    freq.append(v)"
   ]
  },
  {
   "cell_type": "markdown",
   "id": "1464fb3f",
   "metadata": {},
   "source": [
    "#### vocabulary size and minimum and highest frequencies"
   ]
  },
  {
   "cell_type": "code",
   "execution_count": 576,
   "id": "ee50bcfd",
   "metadata": {},
   "outputs": [
    {
     "name": "stdout",
     "output_type": "stream",
     "text": [
      "vocabulary :  1000\n",
      "Highest : 999\t lowest : 0\n"
     ]
    }
   ],
   "source": [
    "print(\"vocabulary : \", len(terms))\n",
    "print(f\"Highest : {max(freq)}\\t lowest : {min(freq)}\")"
   ]
  },
  {
   "cell_type": "markdown",
   "id": "d781fc24",
   "metadata": {},
   "source": [
    "#### out of 5000 values in a vector, only 61 Non-zero values are present for first sample"
   ]
  },
  {
   "cell_type": "code",
   "execution_count": 577,
   "id": "1e86787c",
   "metadata": {},
   "outputs": [
    {
     "data": {
      "text/plain": [
       "57"
      ]
     },
     "execution_count": 577,
     "metadata": {},
     "output_type": "execute_result"
    }
   ],
   "source": [
    "len([i for i in tf_data[0] if i != 0])"
   ]
  },
  {
   "cell_type": "markdown",
   "id": "25e49b18",
   "metadata": {},
   "source": [
    "### n-grams"
   ]
  },
  {
   "cell_type": "code",
   "execution_count": 578,
   "id": "9af5c880",
   "metadata": {},
   "outputs": [
    {
     "data": {
      "text/html": [
       "<style>#sk-container-id-8 {color: black;}#sk-container-id-8 pre{padding: 0;}#sk-container-id-8 div.sk-toggleable {background-color: white;}#sk-container-id-8 label.sk-toggleable__label {cursor: pointer;display: block;width: 100%;margin-bottom: 0;padding: 0.3em;box-sizing: border-box;text-align: center;}#sk-container-id-8 label.sk-toggleable__label-arrow:before {content: \"▸\";float: left;margin-right: 0.25em;color: #696969;}#sk-container-id-8 label.sk-toggleable__label-arrow:hover:before {color: black;}#sk-container-id-8 div.sk-estimator:hover label.sk-toggleable__label-arrow:before {color: black;}#sk-container-id-8 div.sk-toggleable__content {max-height: 0;max-width: 0;overflow: hidden;text-align: left;background-color: #f0f8ff;}#sk-container-id-8 div.sk-toggleable__content pre {margin: 0.2em;color: black;border-radius: 0.25em;background-color: #f0f8ff;}#sk-container-id-8 input.sk-toggleable__control:checked~div.sk-toggleable__content {max-height: 200px;max-width: 100%;overflow: auto;}#sk-container-id-8 input.sk-toggleable__control:checked~label.sk-toggleable__label-arrow:before {content: \"▾\";}#sk-container-id-8 div.sk-estimator input.sk-toggleable__control:checked~label.sk-toggleable__label {background-color: #d4ebff;}#sk-container-id-8 div.sk-label input.sk-toggleable__control:checked~label.sk-toggleable__label {background-color: #d4ebff;}#sk-container-id-8 input.sk-hidden--visually {border: 0;clip: rect(1px 1px 1px 1px);clip: rect(1px, 1px, 1px, 1px);height: 1px;margin: -1px;overflow: hidden;padding: 0;position: absolute;width: 1px;}#sk-container-id-8 div.sk-estimator {font-family: monospace;background-color: #f0f8ff;border: 1px dotted black;border-radius: 0.25em;box-sizing: border-box;margin-bottom: 0.5em;}#sk-container-id-8 div.sk-estimator:hover {background-color: #d4ebff;}#sk-container-id-8 div.sk-parallel-item::after {content: \"\";width: 100%;border-bottom: 1px solid gray;flex-grow: 1;}#sk-container-id-8 div.sk-label:hover label.sk-toggleable__label {background-color: #d4ebff;}#sk-container-id-8 div.sk-serial::before {content: \"\";position: absolute;border-left: 1px solid gray;box-sizing: border-box;top: 0;bottom: 0;left: 50%;z-index: 0;}#sk-container-id-8 div.sk-serial {display: flex;flex-direction: column;align-items: center;background-color: white;padding-right: 0.2em;padding-left: 0.2em;position: relative;}#sk-container-id-8 div.sk-item {position: relative;z-index: 1;}#sk-container-id-8 div.sk-parallel {display: flex;align-items: stretch;justify-content: center;background-color: white;position: relative;}#sk-container-id-8 div.sk-item::before, #sk-container-id-8 div.sk-parallel-item::before {content: \"\";position: absolute;border-left: 1px solid gray;box-sizing: border-box;top: 0;bottom: 0;left: 50%;z-index: -1;}#sk-container-id-8 div.sk-parallel-item {display: flex;flex-direction: column;z-index: 1;position: relative;background-color: white;}#sk-container-id-8 div.sk-parallel-item:first-child::after {align-self: flex-end;width: 50%;}#sk-container-id-8 div.sk-parallel-item:last-child::after {align-self: flex-start;width: 50%;}#sk-container-id-8 div.sk-parallel-item:only-child::after {width: 0;}#sk-container-id-8 div.sk-dashed-wrapped {border: 1px dashed gray;margin: 0 0.4em 0.5em 0.4em;box-sizing: border-box;padding-bottom: 0.4em;background-color: white;}#sk-container-id-8 div.sk-label label {font-family: monospace;font-weight: bold;display: inline-block;line-height: 1.2em;}#sk-container-id-8 div.sk-label-container {text-align: center;}#sk-container-id-8 div.sk-container {/* jupyter's `normalize.less` sets `[hidden] { display: none; }` but bootstrap.min.css set `[hidden] { display: none !important; }` so we also need the `!important` here to be able to override the default hidden behavior on the sphinx rendered scikit-learn.org. See: https://github.com/scikit-learn/scikit-learn/issues/21755 */display: inline-block !important;position: relative;}#sk-container-id-8 div.sk-text-repr-fallback {display: none;}</style><div id=\"sk-container-id-8\" class=\"sk-top-container\"><div class=\"sk-text-repr-fallback\"><pre>TfidfVectorizer(max_features=1000, ngram_range=(2, 3), sublinear_tf=True)</pre><b>In a Jupyter environment, please rerun this cell to show the HTML representation or trust the notebook. <br />On GitHub, the HTML representation is unable to render, please try loading this page with nbviewer.org.</b></div><div class=\"sk-container\" hidden><div class=\"sk-item\"><div class=\"sk-estimator sk-toggleable\"><input class=\"sk-toggleable__control sk-hidden--visually\" id=\"sk-estimator-id-8\" type=\"checkbox\" checked><label for=\"sk-estimator-id-8\" class=\"sk-toggleable__label sk-toggleable__label-arrow\">TfidfVectorizer</label><div class=\"sk-toggleable__content\"><pre>TfidfVectorizer(max_features=1000, ngram_range=(2, 3), sublinear_tf=True)</pre></div></div></div></div></div>"
      ],
      "text/plain": [
       "TfidfVectorizer(max_features=1000, ngram_range=(2, 3), sublinear_tf=True)"
      ]
     },
     "execution_count": 578,
     "metadata": {},
     "output_type": "execute_result"
    }
   ],
   "source": [
    "# ngrams : default = (1, 1)\n",
    "# max_features : default = None\n",
    "\n",
    "# considering the bigrams, trigrams and 4-grams\n",
    "ngrams = TfidfVectorizer(sublinear_tf=True, ngram_range = (2, 3), max_features = 1000)\n",
    "ngrams.fit(df['article'])"
   ]
  },
  {
   "cell_type": "markdown",
   "id": "bcf4c676",
   "metadata": {},
   "source": [
    "#### without setting max_features, vocabulary is 1514317 for (2, 4)"
   ]
  },
  {
   "cell_type": "code",
   "execution_count": 579,
   "id": "ca672109",
   "metadata": {},
   "outputs": [
    {
     "data": {
      "text/plain": [
       "1000"
      ]
     },
     "execution_count": 579,
     "metadata": {},
     "output_type": "execute_result"
    }
   ],
   "source": [
    "len([k for k in ngrams.vocabulary_.keys()])"
   ]
  },
  {
   "cell_type": "code",
   "execution_count": 580,
   "id": "189d54bc",
   "metadata": {},
   "outputs": [],
   "source": [
    "ng_data = ngrams.transform(df['article']).toarray()"
   ]
  },
  {
   "cell_type": "code",
   "execution_count": 581,
   "id": "a8dc6d9e",
   "metadata": {},
   "outputs": [
    {
     "data": {
      "text/plain": [
       "29"
      ]
     },
     "execution_count": 581,
     "metadata": {},
     "output_type": "execute_result"
    }
   ],
   "source": [
    "len([i for i in ng_data[0] if i != 0])"
   ]
  },
  {
   "cell_type": "markdown",
   "id": "bc5a4f36",
   "metadata": {},
   "source": [
    "### CBOW(continous bag-of-words)"
   ]
  },
  {
   "cell_type": "code",
   "execution_count": 393,
   "id": "c43fd01d",
   "metadata": {
    "collapsed": true
   },
   "outputs": [
    {
     "name": "stdout",
     "output_type": "stream",
     "text": [
      "Collecting gensim\n",
      "  Downloading gensim-4.3.3-cp39-cp39-win_amd64.whl.metadata (8.2 kB)\n",
      "Requirement already satisfied: numpy<2.0,>=1.18.5 in c:\\users\\prashant kajal\\.conda\\envs\\preprocess_env\\lib\\site-packages (from gensim) (1.23.5)\n",
      "Requirement already satisfied: scipy<1.14.0,>=1.7.0 in c:\\users\\prashant kajal\\.conda\\envs\\preprocess_env\\lib\\site-packages (from gensim) (1.9.3)\n",
      "Requirement already satisfied: smart-open>=1.8.1 in c:\\users\\prashant kajal\\.conda\\envs\\preprocess_env\\lib\\site-packages (from gensim) (7.0.4)\n",
      "Requirement already satisfied: wrapt in c:\\users\\prashant kajal\\.conda\\envs\\preprocess_env\\lib\\site-packages (from smart-open>=1.8.1->gensim) (1.16.0)\n",
      "Downloading gensim-4.3.3-cp39-cp39-win_amd64.whl (24.0 MB)\n",
      "   ---------------------------------------- 0.0/24.0 MB ? eta -:--:--\n",
      "   ---------------------------------------- 0.0/24.0 MB 1.9 MB/s eta 0:00:13\n",
      "   ---------------------------------------- 0.2/24.0 MB 2.0 MB/s eta 0:00:13\n",
      "    --------------------------------------- 0.4/24.0 MB 2.9 MB/s eta 0:00:09\n",
      "    --------------------------------------- 0.6/24.0 MB 3.1 MB/s eta 0:00:08\n",
      "   - -------------------------------------- 0.8/24.0 MB 3.5 MB/s eta 0:00:07\n",
      "   - -------------------------------------- 1.1/24.0 MB 3.7 MB/s eta 0:00:07\n",
      "   -- ------------------------------------- 1.3/24.0 MB 3.9 MB/s eta 0:00:06\n",
      "   -- ------------------------------------- 1.5/24.0 MB 4.0 MB/s eta 0:00:06\n",
      "   -- ------------------------------------- 1.7/24.0 MB 4.2 MB/s eta 0:00:06\n",
      "   --- ------------------------------------ 1.9/24.0 MB 4.2 MB/s eta 0:00:06\n",
      "   --- ------------------------------------ 2.2/24.0 MB 4.2 MB/s eta 0:00:06\n",
      "   ---- ----------------------------------- 2.4/24.0 MB 4.3 MB/s eta 0:00:06\n",
      "   ---- ----------------------------------- 2.6/24.0 MB 4.3 MB/s eta 0:00:05\n",
      "   ---- ----------------------------------- 2.9/24.0 MB 4.4 MB/s eta 0:00:05\n",
      "   ----- ---------------------------------- 3.1/24.0 MB 4.4 MB/s eta 0:00:05\n",
      "   ----- ---------------------------------- 3.3/24.0 MB 4.4 MB/s eta 0:00:05\n",
      "   ----- ---------------------------------- 3.5/24.0 MB 4.4 MB/s eta 0:00:05\n",
      "   ------ --------------------------------- 3.8/24.0 MB 4.4 MB/s eta 0:00:05\n",
      "   ------ --------------------------------- 4.0/24.0 MB 4.5 MB/s eta 0:00:05\n",
      "   ------ --------------------------------- 4.2/24.0 MB 4.5 MB/s eta 0:00:05\n",
      "   ------- -------------------------------- 4.4/24.0 MB 4.6 MB/s eta 0:00:05\n",
      "   ------- -------------------------------- 4.6/24.0 MB 4.4 MB/s eta 0:00:05\n",
      "   ------- -------------------------------- 4.8/24.0 MB 4.4 MB/s eta 0:00:05\n",
      "   -------- ------------------------------- 5.0/24.0 MB 4.4 MB/s eta 0:00:05\n",
      "   -------- ------------------------------- 5.2/24.0 MB 4.5 MB/s eta 0:00:05\n",
      "   --------- ------------------------------ 5.5/24.0 MB 4.5 MB/s eta 0:00:05\n",
      "   --------- ------------------------------ 5.7/24.0 MB 4.5 MB/s eta 0:00:05\n",
      "   --------- ------------------------------ 5.7/24.0 MB 4.5 MB/s eta 0:00:05\n",
      "   --------- ------------------------------ 5.7/24.0 MB 4.5 MB/s eta 0:00:05\n",
      "   --------- ------------------------------ 5.8/24.0 MB 4.2 MB/s eta 0:00:05\n",
      "   ---------- ----------------------------- 6.1/24.0 MB 4.2 MB/s eta 0:00:05\n",
      "   ---------- ----------------------------- 6.3/24.0 MB 4.2 MB/s eta 0:00:05\n",
      "   ---------- ----------------------------- 6.5/24.0 MB 4.2 MB/s eta 0:00:05\n",
      "   ----------- ---------------------------- 6.7/24.0 MB 4.2 MB/s eta 0:00:05\n",
      "   ----------- ---------------------------- 7.0/24.0 MB 4.2 MB/s eta 0:00:05\n",
      "   ------------ --------------------------- 7.2/24.0 MB 4.3 MB/s eta 0:00:04\n",
      "   ------------ --------------------------- 7.4/24.0 MB 4.3 MB/s eta 0:00:04\n",
      "   ------------ --------------------------- 7.7/24.0 MB 4.3 MB/s eta 0:00:04\n",
      "   ------------- -------------------------- 7.9/24.0 MB 4.3 MB/s eta 0:00:04\n",
      "   ------------- -------------------------- 8.0/24.0 MB 4.3 MB/s eta 0:00:04\n",
      "   ------------- -------------------------- 8.2/24.0 MB 4.2 MB/s eta 0:00:04\n",
      "   ------------- -------------------------- 8.4/24.0 MB 4.3 MB/s eta 0:00:04\n",
      "   -------------- ------------------------- 8.5/24.0 MB 4.2 MB/s eta 0:00:04\n",
      "   -------------- ------------------------- 8.7/24.0 MB 4.2 MB/s eta 0:00:04\n",
      "   -------------- ------------------------- 8.9/24.0 MB 4.2 MB/s eta 0:00:04\n",
      "   -------------- ------------------------- 9.0/24.0 MB 4.2 MB/s eta 0:00:04\n",
      "   --------------- ------------------------ 9.2/24.0 MB 4.2 MB/s eta 0:00:04\n",
      "   --------------- ------------------------ 9.3/24.0 MB 4.2 MB/s eta 0:00:04\n",
      "   --------------- ------------------------ 9.5/24.0 MB 4.1 MB/s eta 0:00:04\n",
      "   ---------------- ----------------------- 9.7/24.0 MB 4.2 MB/s eta 0:00:04\n",
      "   ---------------- ----------------------- 9.9/24.0 MB 4.2 MB/s eta 0:00:04\n",
      "   ---------------- ----------------------- 10.0/24.0 MB 4.1 MB/s eta 0:00:04\n",
      "   ----------------- ---------------------- 10.2/24.0 MB 4.1 MB/s eta 0:00:04\n",
      "   ----------------- ---------------------- 10.3/24.0 MB 4.2 MB/s eta 0:00:04\n",
      "   ----------------- ---------------------- 10.5/24.0 MB 4.2 MB/s eta 0:00:04\n",
      "   ----------------- ---------------------- 10.7/24.0 MB 4.2 MB/s eta 0:00:04\n",
      "   ----------------- ---------------------- 10.8/24.0 MB 4.2 MB/s eta 0:00:04\n",
      "   ------------------ --------------------- 11.0/24.0 MB 4.1 MB/s eta 0:00:04\n",
      "   ------------------ --------------------- 11.3/24.0 MB 4.1 MB/s eta 0:00:04\n",
      "   ------------------ --------------------- 11.3/24.0 MB 4.1 MB/s eta 0:00:04\n",
      "   ------------------- -------------------- 11.6/24.0 MB 4.0 MB/s eta 0:00:04\n",
      "   ------------------- -------------------- 11.8/24.0 MB 4.0 MB/s eta 0:00:04\n",
      "   ------------------- -------------------- 11.9/24.0 MB 4.0 MB/s eta 0:00:04\n",
      "   -------------------- ------------------- 12.1/24.0 MB 4.0 MB/s eta 0:00:03\n",
      "   -------------------- ------------------- 12.3/24.0 MB 4.0 MB/s eta 0:00:03\n",
      "   -------------------- ------------------- 12.5/24.0 MB 4.0 MB/s eta 0:00:03\n",
      "   --------------------- ------------------ 12.7/24.0 MB 4.0 MB/s eta 0:00:03\n",
      "   --------------------- ------------------ 12.7/24.0 MB 3.9 MB/s eta 0:00:03\n",
      "   --------------------- ------------------ 13.0/24.0 MB 3.9 MB/s eta 0:00:03\n",
      "   --------------------- ------------------ 13.1/24.0 MB 4.0 MB/s eta 0:00:03\n",
      "   ---------------------- ----------------- 13.2/24.0 MB 3.9 MB/s eta 0:00:03\n",
      "   ---------------------- ----------------- 13.4/24.0 MB 3.9 MB/s eta 0:00:03\n",
      "   ---------------------- ----------------- 13.6/24.0 MB 3.9 MB/s eta 0:00:03\n",
      "   ---------------------- ----------------- 13.7/24.0 MB 3.8 MB/s eta 0:00:03\n",
      "   ----------------------- ---------------- 13.9/24.0 MB 3.8 MB/s eta 0:00:03\n",
      "   ----------------------- ---------------- 14.1/24.0 MB 3.8 MB/s eta 0:00:03\n",
      "   ----------------------- ---------------- 14.4/24.0 MB 3.8 MB/s eta 0:00:03\n",
      "   ----------------------- ---------------- 14.4/24.0 MB 3.8 MB/s eta 0:00:03\n",
      "   ------------------------ --------------- 14.6/24.0 MB 3.8 MB/s eta 0:00:03\n",
      "   ------------------------ --------------- 14.8/24.0 MB 3.8 MB/s eta 0:00:03\n",
      "   ------------------------- -------------- 15.0/24.0 MB 3.8 MB/s eta 0:00:03\n",
      "   ------------------------- -------------- 15.2/24.0 MB 3.8 MB/s eta 0:00:03\n",
      "   ------------------------- -------------- 15.5/24.0 MB 3.8 MB/s eta 0:00:03\n",
      "   ------------------------- -------------- 15.5/24.0 MB 3.8 MB/s eta 0:00:03\n",
      "   -------------------------- ------------- 15.7/24.0 MB 3.7 MB/s eta 0:00:03\n",
      "   -------------------------- ------------- 16.0/24.0 MB 3.9 MB/s eta 0:00:03\n",
      "   -------------------------- ------------- 16.1/24.0 MB 3.9 MB/s eta 0:00:03\n",
      "   -------------------------- ------------- 16.2/24.0 MB 3.8 MB/s eta 0:00:03\n",
      "   --------------------------- ------------ 16.4/24.0 MB 3.8 MB/s eta 0:00:02\n",
      "   --------------------------- ------------ 16.7/24.0 MB 3.8 MB/s eta 0:00:02\n",
      "   --------------------------- ------------ 16.7/24.0 MB 3.8 MB/s eta 0:00:02\n",
      "   ---------------------------- ----------- 16.9/24.0 MB 3.8 MB/s eta 0:00:02\n",
      "   ---------------------------- ----------- 17.1/24.0 MB 3.7 MB/s eta 0:00:02\n",
      "   ---------------------------- ----------- 17.4/24.0 MB 3.7 MB/s eta 0:00:02\n",
      "   ----------------------------- ---------- 17.6/24.0 MB 3.8 MB/s eta 0:00:02\n",
      "   ----------------------------- ---------- 17.8/24.0 MB 3.8 MB/s eta 0:00:02\n",
      "   ----------------------------- ---------- 17.9/24.0 MB 3.7 MB/s eta 0:00:02\n",
      "   ------------------------------ --------- 18.0/24.0 MB 3.7 MB/s eta 0:00:02\n",
      "   ------------------------------ --------- 18.3/24.0 MB 3.7 MB/s eta 0:00:02\n",
      "   ------------------------------ --------- 18.4/24.0 MB 3.7 MB/s eta 0:00:02\n",
      "   ------------------------------ --------- 18.4/24.0 MB 3.7 MB/s eta 0:00:02\n",
      "   ------------------------------- -------- 18.7/24.0 MB 3.7 MB/s eta 0:00:02\n",
      "   ------------------------------- -------- 18.9/24.0 MB 3.7 MB/s eta 0:00:02\n",
      "   ------------------------------- -------- 19.0/24.0 MB 3.7 MB/s eta 0:00:02\n",
      "   ------------------------------- -------- 19.2/24.0 MB 3.7 MB/s eta 0:00:02\n",
      "   -------------------------------- ------- 19.4/24.0 MB 3.7 MB/s eta 0:00:02\n",
      "   -------------------------------- ------- 19.6/24.0 MB 3.7 MB/s eta 0:00:02\n",
      "   --------------------------------- ------ 19.9/24.0 MB 3.7 MB/s eta 0:00:02\n",
      "   --------------------------------- ------ 20.1/24.0 MB 3.7 MB/s eta 0:00:02\n",
      "   --------------------------------- ------ 20.2/24.0 MB 3.8 MB/s eta 0:00:02\n",
      "   --------------------------------- ------ 20.3/24.0 MB 3.7 MB/s eta 0:00:01\n",
      "   ---------------------------------- ----- 20.6/24.0 MB 3.8 MB/s eta 0:00:01\n",
      "   ---------------------------------- ----- 20.7/24.0 MB 3.8 MB/s eta 0:00:01\n",
      "   ---------------------------------- ----- 20.8/24.0 MB 3.7 MB/s eta 0:00:01\n",
      "   ---------------------------------- ----- 21.0/24.0 MB 3.7 MB/s eta 0:00:01\n",
      "   ----------------------------------- ---- 21.2/24.0 MB 3.7 MB/s eta 0:00:01\n",
      "   ----------------------------------- ---- 21.3/24.0 MB 3.8 MB/s eta 0:00:01\n",
      "   ----------------------------------- ---- 21.5/24.0 MB 3.7 MB/s eta 0:00:01\n",
      "   ------------------------------------ --- 21.7/24.0 MB 3.7 MB/s eta 0:00:01\n",
      "   ------------------------------------ --- 21.9/24.0 MB 3.7 MB/s eta 0:00:01\n",
      "   ------------------------------------ --- 22.1/24.0 MB 3.7 MB/s eta 0:00:01\n",
      "   ------------------------------------- -- 22.4/24.0 MB 3.8 MB/s eta 0:00:01\n",
      "   ------------------------------------- -- 22.4/24.0 MB 3.8 MB/s eta 0:00:01\n",
      "   ------------------------------------- -- 22.6/24.0 MB 3.7 MB/s eta 0:00:01\n",
      "   ------------------------------------- -- 22.8/24.0 MB 3.7 MB/s eta 0:00:01\n",
      "   -------------------------------------- - 23.0/24.0 MB 3.8 MB/s eta 0:00:01\n",
      "   -------------------------------------- - 23.1/24.0 MB 3.7 MB/s eta 0:00:01\n",
      "   -------------------------------------- - 23.3/24.0 MB 3.7 MB/s eta 0:00:01\n",
      "   ---------------------------------------  23.5/24.0 MB 3.8 MB/s eta 0:00:01\n",
      "   ---------------------------------------  23.6/24.0 MB 3.8 MB/s eta 0:00:01\n",
      "   ---------------------------------------  23.8/24.0 MB 3.7 MB/s eta 0:00:01\n",
      "   ---------------------------------------  24.0/24.0 MB 3.8 MB/s eta 0:00:01\n",
      "   ---------------------------------------  24.0/24.0 MB 3.8 MB/s eta 0:00:01\n",
      "   ---------------------------------------- 24.0/24.0 MB 3.7 MB/s eta 0:00:00\n",
      "Installing collected packages: gensim\n",
      "Successfully installed gensim-4.3.3\n"
     ]
    }
   ],
   "source": [
    "!pip install gensim"
   ]
  },
  {
   "cell_type": "code",
   "execution_count": 394,
   "id": "925ed510",
   "metadata": {},
   "outputs": [],
   "source": [
    "import gensim\n",
    "from gensim.models import Word2Vec"
   ]
  },
  {
   "cell_type": "code",
   "execution_count": 413,
   "id": "cffac53f",
   "metadata": {},
   "outputs": [
    {
     "name": "stderr",
     "output_type": "stream",
     "text": [
      "100%|████████████████████████████████████████| 13231/13231 [04:36<00:00, 47.85it/s]\n"
     ]
    }
   ],
   "source": [
    "# vector_size\n",
    "# window\n",
    "# min_count : ignore, having frequency below than this\n",
    "# epochs\n",
    "# alpha\n",
    "# negative : default = 5 (negative sampling for each positive class)\n",
    "\n",
    "# sg = 0 : CBOW ; sg = 1 : skip-gram\n",
    "# hs = 1 : softmax will be used; hs = 0 : softmax will not be used\n",
    "# epochs : default = 5\n",
    "\n",
    "def tokenize(text):\n",
    "    data = [word for word in word_tokenize(text) if word not in stop_words]\n",
    "    return data\n",
    "\n",
    "data = df['article'].progress_apply(tokenize)"
   ]
  },
  {
   "cell_type": "code",
   "execution_count": 415,
   "id": "4d6d387d",
   "metadata": {},
   "outputs": [],
   "source": [
    "cbow = Word2Vec(data, vector_size=200, workers=8, window = 5, sg = 0)"
   ]
  },
  {
   "cell_type": "code",
   "execution_count": 416,
   "id": "2c1b6b46",
   "metadata": {
    "collapsed": true
   },
   "outputs": [
    {
     "data": {
      "text/plain": [
       "['bank',\n",
       " 'india',\n",
       " 'state',\n",
       " '1',\n",
       " 'sbi',\n",
       " '0',\n",
       " 'market',\n",
       " 'stock',\n",
       " 'rs',\n",
       " 'crore',\n",
       " 'per',\n",
       " 'cent',\n",
       " 'ltd',\n",
       " '2',\n",
       " 'share',\n",
       " 'hdfc',\n",
       " 'nifty',\n",
       " 'point',\n",
       " 'rate',\n",
       " 'top',\n",
       " 'year',\n",
       " 'say',\n",
       " 'sensex',\n",
       " '5',\n",
       " '3',\n",
       " 'mahindra',\n",
       " 'loan',\n",
       " 'among',\n",
       " '7',\n",
       " 'company',\n",
       " 'bse',\n",
       " '10',\n",
       " 'close',\n",
       " 'icici',\n",
       " 'lender',\n",
       " 'tata',\n",
       " 'sector',\n",
       " '6',\n",
       " 'index',\n",
       " 'interest',\n",
       " 'industry',\n",
       " '4',\n",
       " 'update',\n",
       " '30',\n",
       " 'reliance',\n",
       " 'trade',\n",
       " 'high',\n",
       " 'day',\n",
       " 'deposit',\n",
       " '000',\n",
       " 'bond',\n",
       " 'gainer',\n",
       " 'adani',\n",
       " 'indian',\n",
       " 'finance',\n",
       " 'fund',\n",
       " 'large',\n",
       " '8',\n",
       " 'include',\n",
       " 'end',\n",
       " 'bajaj',\n",
       " 'report',\n",
       " 'rise',\n",
       " 'price',\n",
       " '15',\n",
       " 'financial',\n",
       " 'axis',\n",
       " 'fall',\n",
       " 'rbi',\n",
       " 'new',\n",
       " 'offer',\n",
       " 'national',\n",
       " 'firm',\n",
       " 'also',\n",
       " 'growth',\n",
       " 'raise',\n",
       " 'service',\n",
       " 'power',\n",
       " 'pack',\n",
       " 'time',\n",
       " 'corporation',\n",
       " 'steel',\n",
       " 'country',\n",
       " 'last',\n",
       " 'banking',\n",
       " '9',\n",
       " '25',\n",
       " 'itc',\n",
       " 'kotak',\n",
       " 'value',\n",
       " '2023',\n",
       " 'lakh',\n",
       " 'account',\n",
       " '50',\n",
       " 'baroda',\n",
       " 'credit',\n",
       " 'public',\n",
       " 'profit',\n",
       " 'lead',\n",
       " 'first',\n",
       " 'punjab',\n",
       " 'payment',\n",
       " 'hand',\n",
       " 'airtel',\n",
       " 'group',\n",
       " 'month',\n",
       " '12',\n",
       " 'quarter',\n",
       " 'low',\n",
       " 'life',\n",
       " 'week',\n",
       " 'indusind',\n",
       " 'big',\n",
       " 'bharti',\n",
       " 'hindustan',\n",
       " 'nse',\n",
       " 'make',\n",
       " 'net',\n",
       " 'term',\n",
       " 'today',\n",
       " 'business',\n",
       " '11',\n",
       " 'follow',\n",
       " 'limit',\n",
       " 'unilever',\n",
       " 'one',\n",
       " 'gain',\n",
       " 'government',\n",
       " 'valuation',\n",
       " 'insurance',\n",
       " 'equity',\n",
       " 'court',\n",
       " 'investor',\n",
       " 'asset',\n",
       " '16',\n",
       " 'global',\n",
       " 'issue',\n",
       " 'may',\n",
       " 'card',\n",
       " 'see',\n",
       " 'march',\n",
       " 'scheme',\n",
       " '2024',\n",
       " '75',\n",
       " 'increase',\n",
       " 'economic',\n",
       " 'billion',\n",
       " '20',\n",
       " 'buy',\n",
       " 'digital',\n",
       " 'major',\n",
       " 'datum',\n",
       " 'customer',\n",
       " 'accord',\n",
       " 'three',\n",
       " 'tip',\n",
       " 'plan',\n",
       " 'electoral',\n",
       " 'news',\n",
       " 'fix',\n",
       " 'investment',\n",
       " 'small',\n",
       " 'chairman',\n",
       " 'percent',\n",
       " 'infosys',\n",
       " 'yes',\n",
       " 'ntpc',\n",
       " 'private',\n",
       " 'tcs',\n",
       " 'take',\n",
       " '14',\n",
       " 'capital',\n",
       " 'base',\n",
       " 'consultancy',\n",
       " 'two',\n",
       " '13',\n",
       " 'exchange',\n",
       " '17',\n",
       " 'tech',\n",
       " '2022',\n",
       " 'rupee',\n",
       " 'loser',\n",
       " '35',\n",
       " 'earning',\n",
       " '19',\n",
       " 'asian',\n",
       " 'enterprise',\n",
       " 'decline',\n",
       " '45',\n",
       " 'special',\n",
       " '18',\n",
       " 'reserve',\n",
       " 'stand',\n",
       " '22',\n",
       " 'larsen',\n",
       " '24',\n",
       " 'laggard',\n",
       " 'toubro',\n",
       " 'note',\n",
       " '31',\n",
       " 'home',\n",
       " 'cr',\n",
       " 'benchmark',\n",
       " 'due',\n",
       " 'grid',\n",
       " 'sale',\n",
       " 'late',\n",
       " 'jump',\n",
       " 'stake',\n",
       " 'add',\n",
       " 'fd',\n",
       " 'cement',\n",
       " 'hike',\n",
       " 'union',\n",
       " 'delhi',\n",
       " 'expect',\n",
       " '65',\n",
       " 'target',\n",
       " 'debt',\n",
       " 'list',\n",
       " 'director',\n",
       " 'get',\n",
       " 'return',\n",
       " '23',\n",
       " 'come',\n",
       " 'cap',\n",
       " 'income',\n",
       " 'senior',\n",
       " 'technology',\n",
       " '21',\n",
       " 'live',\n",
       " 'finserv',\n",
       " 'upi',\n",
       " 'remain',\n",
       " 'result',\n",
       " 'detail',\n",
       " 'hit',\n",
       " 'red',\n",
       " 'retail',\n",
       " 'well',\n",
       " 'provide',\n",
       " 'infosy',\n",
       " 'central',\n",
       " 'monday',\n",
       " 'oil',\n",
       " 'early',\n",
       " 'lic',\n",
       " 'titan',\n",
       " 'total',\n",
       " 'industries',\n",
       " 'hold',\n",
       " 'basis',\n",
       " 'around',\n",
       " 'announce',\n",
       " 'hcl',\n",
       " 'go',\n",
       " 'maruti',\n",
       " 'sell',\n",
       " 'like',\n",
       " 'psu',\n",
       " 'motors',\n",
       " 'transaction',\n",
       " 'motor',\n",
       " 'project',\n",
       " 'ultratech',\n",
       " 'december',\n",
       " 'infrastructure',\n",
       " 'idea',\n",
       " 'settle',\n",
       " 'set',\n",
       " 'open',\n",
       " 'four',\n",
       " 'give',\n",
       " '05',\n",
       " 'port',\n",
       " '85',\n",
       " 'record',\n",
       " 'advance',\n",
       " 'friday',\n",
       " 'start',\n",
       " 'use',\n",
       " 'look',\n",
       " 'post',\n",
       " 'launch',\n",
       " '29',\n",
       " '55',\n",
       " 'canara',\n",
       " 'seek',\n",
       " '27',\n",
       " 'continue',\n",
       " 'june',\n",
       " 'chief',\n",
       " 'paytm',\n",
       " 'key',\n",
       " 'jsw',\n",
       " 'security',\n",
       " 'foreign',\n",
       " 'invest',\n",
       " '52',\n",
       " 'million',\n",
       " 'branch',\n",
       " 'need',\n",
       " 'green',\n",
       " '26',\n",
       " 'tax',\n",
       " 'amid',\n",
       " '09',\n",
       " 'board',\n",
       " 'wipro',\n",
       " 'indice',\n",
       " 'kumar',\n",
       " 'non',\n",
       " 'citizen',\n",
       " 'september',\n",
       " '28',\n",
       " 'likely',\n",
       " '95',\n",
       " 'would',\n",
       " 'order',\n",
       " 'nestle',\n",
       " 'vodafone',\n",
       " 'nifty50',\n",
       " 'number',\n",
       " 'current',\n",
       " 'thursday',\n",
       " 'supreme',\n",
       " 'pnb',\n",
       " 'call',\n",
       " 'bharat',\n",
       " 'people',\n",
       " 'worth',\n",
       " 'pay',\n",
       " 'move',\n",
       " 'official',\n",
       " 'volume',\n",
       " 'wednesday',\n",
       " 'energy',\n",
       " 'sun',\n",
       " 'khara',\n",
       " 'via',\n",
       " 'climb',\n",
       " 'idfc',\n",
       " 'overseas',\n",
       " '40',\n",
       " '34',\n",
       " 'mumbai',\n",
       " 'money',\n",
       " 'however',\n",
       " 'lending',\n",
       " 'bps',\n",
       " 'mcap',\n",
       " 'product',\n",
       " 'paint',\n",
       " 'positive',\n",
       " '77',\n",
       " 'rally',\n",
       " 'long',\n",
       " 'check',\n",
       " 'consumer',\n",
       " 'period',\n",
       " 'cost',\n",
       " 'back',\n",
       " 'know',\n",
       " 'fy24',\n",
       " 'strong',\n",
       " 'manage',\n",
       " 'could',\n",
       " '44',\n",
       " 'read',\n",
       " 'trend',\n",
       " '42',\n",
       " '48',\n",
       " 'tenure',\n",
       " 'auto',\n",
       " 'laboratory',\n",
       " 'expert',\n",
       " 'date',\n",
       " 'system',\n",
       " 'five',\n",
       " 'case',\n",
       " 'inflation',\n",
       " 'free',\n",
       " '60',\n",
       " 'development',\n",
       " 'second',\n",
       " 'across',\n",
       " 'domestic',\n",
       " 'good',\n",
       " 'r',\n",
       " 'e',\n",
       " 'research',\n",
       " 'corporate',\n",
       " 'change',\n",
       " 'cash',\n",
       " '70',\n",
       " '74',\n",
       " 'april',\n",
       " '41',\n",
       " 'since',\n",
       " 'entity',\n",
       " 'matter',\n",
       " 'stay',\n",
       " 'february',\n",
       " 'surge',\n",
       " 'demand',\n",
       " '03',\n",
       " 'receive',\n",
       " 'zone',\n",
       " 'hindalco',\n",
       " 'analyst',\n",
       " '54',\n",
       " 'currency',\n",
       " '49',\n",
       " 'dinesh',\n",
       " 'part',\n",
       " '07',\n",
       " 'us',\n",
       " 'management',\n",
       " 'meet',\n",
       " '59',\n",
       " 'session',\n",
       " '36',\n",
       " 'vi',\n",
       " 'source',\n",
       " '08',\n",
       " '500',\n",
       " '33',\n",
       " '76',\n",
       " '38',\n",
       " 'amount',\n",
       " 'show',\n",
       " '71',\n",
       " '43',\n",
       " 'former',\n",
       " 'next',\n",
       " 'performance',\n",
       " 'level',\n",
       " 'fresh',\n",
       " '100',\n",
       " '06',\n",
       " 'party',\n",
       " 'grow',\n",
       " 'impact',\n",
       " 'tuesday',\n",
       " '56',\n",
       " '32',\n",
       " '46',\n",
       " '57',\n",
       " '72',\n",
       " 'loss',\n",
       " 'policy',\n",
       " 'january',\n",
       " 'ahead',\n",
       " 'process',\n",
       " 'file',\n",
       " 'extend',\n",
       " '80',\n",
       " 'gas',\n",
       " 'dr',\n",
       " 'decision',\n",
       " 'saving',\n",
       " '62',\n",
       " 'weak',\n",
       " 'petroleum',\n",
       " 'risk',\n",
       " 'talk',\n",
       " 'run',\n",
       " 'support',\n",
       " '47',\n",
       " '39',\n",
       " 'work',\n",
       " 'far',\n",
       " 'july',\n",
       " '61',\n",
       " '63',\n",
       " '64',\n",
       " '81',\n",
       " 'nearly',\n",
       " '53',\n",
       " 'bid',\n",
       " '04',\n",
       " '01',\n",
       " 'co',\n",
       " 'pilot',\n",
       " 'minister',\n",
       " 'real',\n",
       " '51',\n",
       " '67',\n",
       " 'election',\n",
       " '66',\n",
       " '69',\n",
       " 'sugar',\n",
       " '82',\n",
       " 'resolution',\n",
       " '86',\n",
       " 'third',\n",
       " 'approve',\n",
       " '37',\n",
       " 'information',\n",
       " 'ratio',\n",
       " 'ask',\n",
       " 'line',\n",
       " '73',\n",
       " 'mutual',\n",
       " 'august',\n",
       " 'consortium',\n",
       " 'hero',\n",
       " 'november',\n",
       " 'allow',\n",
       " 'analysis',\n",
       " 'face',\n",
       " 'federal',\n",
       " '83',\n",
       " 'exposure',\n",
       " '99',\n",
       " '68',\n",
       " '88',\n",
       " 'coal',\n",
       " 'suzuki',\n",
       " 'lose',\n",
       " 'fraud',\n",
       " 'october',\n",
       " 'motocorp',\n",
       " 'liveblog',\n",
       " 'international',\n",
       " 'pharma',\n",
       " '02',\n",
       " 'fy23',\n",
       " '79',\n",
       " '90',\n",
       " '92',\n",
       " 'pick',\n",
       " 'rating',\n",
       " 'segment',\n",
       " 'help',\n",
       " 'estimate',\n",
       " 'deal',\n",
       " '89',\n",
       " '87',\n",
       " 'vs',\n",
       " '58',\n",
       " 'short',\n",
       " '91',\n",
       " '97',\n",
       " 'app',\n",
       " '98',\n",
       " 'focus',\n",
       " 'g',\n",
       " 'I',\n",
       " 'p',\n",
       " 'join',\n",
       " 'fiscal',\n",
       " 'website',\n",
       " 'fds',\n",
       " 'direct',\n",
       " 'user',\n",
       " 'charge',\n",
       " 'capitalisation',\n",
       " 'intraday',\n",
       " 'executive',\n",
       " 'fmcg',\n",
       " 'release',\n",
       " '78',\n",
       " 'economy',\n",
       " 'emerge',\n",
       " '84',\n",
       " 'eicher',\n",
       " 'committee',\n",
       " 'subscribe',\n",
       " 'ceo',\n",
       " 'standard',\n",
       " 'natural',\n",
       " 'yoy',\n",
       " '00',\n",
       " '93',\n",
       " 'compare',\n",
       " 'less',\n",
       " 'drive',\n",
       " 'trading',\n",
       " 'tell',\n",
       " '2021',\n",
       " 'additional',\n",
       " 'provision',\n",
       " 'general',\n",
       " '94',\n",
       " 'banker',\n",
       " 'housing',\n",
       " 'bob',\n",
       " 'appoint',\n",
       " 'become',\n",
       " 'com',\n",
       " 'revise',\n",
       " '96',\n",
       " 'book',\n",
       " 'borrower',\n",
       " 'budget',\n",
       " 'potential',\n",
       " 'lower',\n",
       " 'mclr',\n",
       " 'pharmaceutical',\n",
       " 'keep',\n",
       " 'name',\n",
       " 'even',\n",
       " 'application',\n",
       " 'commission',\n",
       " 'transfer',\n",
       " 'revenue',\n",
       " 'online',\n",
       " 'acquire',\n",
       " 'act',\n",
       " 'pension',\n",
       " 'ist',\n",
       " 'upl',\n",
       " 'rule',\n",
       " 'cipla',\n",
       " 'consider',\n",
       " 'street',\n",
       " 'quality',\n",
       " 'discount',\n",
       " 'balance',\n",
       " 'cut',\n",
       " 'statement',\n",
       " 'city',\n",
       " 'many',\n",
       " 'office',\n",
       " 'range',\n",
       " 'recovery',\n",
       " 'submit',\n",
       " 'britannia',\n",
       " 'q1',\n",
       " 'officer',\n",
       " 'mark',\n",
       " 'gold',\n",
       " 'technical',\n",
       " '200',\n",
       " 'et',\n",
       " 'bad',\n",
       " 'facility',\n",
       " 'way',\n",
       " 'partner',\n",
       " 'six',\n",
       " 'world',\n",
       " 'watch',\n",
       " 'psbs',\n",
       " 'centre',\n",
       " 'aware',\n",
       " 'divis',\n",
       " 'platform',\n",
       " 'political',\n",
       " 'future',\n",
       " 'reach',\n",
       " 'bandhan',\n",
       " 'challenge',\n",
       " 'concern',\n",
       " 'gdp',\n",
       " 'insolvency',\n",
       " 'improve',\n",
       " 'head',\n",
       " 'personal',\n",
       " 'active',\n",
       " 'hong',\n",
       " 'drop',\n",
       " 'recent',\n",
       " 'till',\n",
       " 'various',\n",
       " 'kong',\n",
       " 'ril',\n",
       " 'track',\n",
       " 'tier',\n",
       " 'reduce',\n",
       " 'recently',\n",
       " 'l',\n",
       " 'dollar',\n",
       " 'mining',\n",
       " 'link',\n",
       " 'plea',\n",
       " 'experience',\n",
       " 'funding',\n",
       " 'issuance',\n",
       " 'quote',\n",
       " 'currently',\n",
       " 'jio',\n",
       " 'au',\n",
       " 'previous',\n",
       " 'fertiliser',\n",
       " 'ministry',\n",
       " 'aim',\n",
       " 'subsidiary',\n",
       " '2020',\n",
       " 'effect',\n",
       " 'jet',\n",
       " 'law',\n",
       " 'institution',\n",
       " 'benefit',\n",
       " 'without',\n",
       " 'employee',\n",
       " 'nation',\n",
       " 'maharashtra',\n",
       " 'form',\n",
       " 'write',\n",
       " 'past',\n",
       " 'whatsapp',\n",
       " 'tribunal',\n",
       " 'regulatory',\n",
       " 'repo',\n",
       " 'several',\n",
       " 'creditor',\n",
       " 'informed',\n",
       " 'member',\n",
       " 'portfolio',\n",
       " 'nine',\n",
       " 'despite',\n",
       " 'leader',\n",
       " 'approval',\n",
       " 'position',\n",
       " 'break',\n",
       " 'q4',\n",
       " 'negative',\n",
       " 'comprehensive',\n",
       " 'effective',\n",
       " 'clear',\n",
       " 'bill',\n",
       " 'shanghai',\n",
       " 'meeting',\n",
       " 'complete',\n",
       " 'uti',\n",
       " 'sign',\n",
       " 'together',\n",
       " 'asia',\n",
       " 'amc',\n",
       " 'nclt',\n",
       " 'q3',\n",
       " 'option',\n",
       " 'apollo',\n",
       " 'winner',\n",
       " 'claim',\n",
       " 'purchase',\n",
       " 'seoul',\n",
       " '400',\n",
       " 'sc',\n",
       " 'communication',\n",
       " 'brand',\n",
       " 'secure',\n",
       " 'cross',\n",
       " 'brokerage',\n",
       " 'review',\n",
       " 'capitalization',\n",
       " 'suzlon',\n",
       " 'much',\n",
       " 'dial',\n",
       " 'margin',\n",
       " 'view',\n",
       " 'higher',\n",
       " 'step',\n",
       " 'significant',\n",
       " 'place',\n",
       " 'govt',\n",
       " 'trillion',\n",
       " 'average',\n",
       " 'contract',\n",
       " 'bo',\n",
       " 'russia',\n",
       " 'phase',\n",
       " 'chart',\n",
       " 'respectively',\n",
       " 'commercial',\n",
       " 'corp',\n",
       " 'maintain',\n",
       " 'yono',\n",
       " 'fee',\n",
       " 'unit',\n",
       " 'available',\n",
       " 'venture',\n",
       " 'q2',\n",
       " 'manager',\n",
       " 'tokyo',\n",
       " 'technologies',\n",
       " 'idbi',\n",
       " 'introduce',\n",
       " 'incorporate',\n",
       " 'saturday',\n",
       " 'begin',\n",
       " 'combine',\n",
       " 'along',\n",
       " 'refinance',\n",
       " 'inform',\n",
       " 'etmarket',\n",
       " 'tank',\n",
       " 'overall',\n",
       " 'cbdc',\n",
       " 'quarterly',\n",
       " 'propose',\n",
       " 'medium',\n",
       " 'bring',\n",
       " 'amrit',\n",
       " 'fundamental',\n",
       " 'fintech',\n",
       " 'channel',\n",
       " 'department',\n",
       " 'ipo',\n",
       " 'relate',\n",
       " 'fourth',\n",
       " 'congress',\n",
       " 'dividend',\n",
       " 'perform',\n",
       " 'solution',\n",
       " 'multiple',\n",
       " 'eight',\n",
       " 'md',\n",
       " 'broad',\n",
       " 'ongc',\n",
       " 'supply',\n",
       " 'within',\n",
       " 'hospital',\n",
       " 'another',\n",
       " 'deputy',\n",
       " 'turn',\n",
       " 'boost',\n",
       " 'npci',\n",
       " 'double',\n",
       " 'prominent',\n",
       " 'slip',\n",
       " 'grasim',\n",
       " 'decide',\n",
       " 'put',\n",
       " 'annual',\n",
       " 'seven',\n",
       " 'earn',\n",
       " 'merchant',\n",
       " 'stop',\n",
       " 'still',\n",
       " 'build',\n",
       " 'promoter',\n",
       " 'action',\n",
       " '2019',\n",
       " 'modi',\n",
       " 'reddy',\n",
       " 'win',\n",
       " 'dip',\n",
       " 'ever',\n",
       " 'ago',\n",
       " 'debit',\n",
       " 'filing',\n",
       " 'indicator',\n",
       " 'tumble',\n",
       " 'operation',\n",
       " 'monetary',\n",
       " 'certain',\n",
       " 'reddys',\n",
       " 'select',\n",
       " 'singapore',\n",
       " 'suggest',\n",
       " 'usd',\n",
       " 'trust',\n",
       " 'ensure',\n",
       " 'limited',\n",
       " '1955',\n",
       " 'coupon',\n",
       " 'settlement',\n",
       " 'witness',\n",
       " 'retain',\n",
       " 'feature',\n",
       " 'upbeat',\n",
       " 'acquisition',\n",
       " 'conduct',\n",
       " 'pm',\n",
       " 'pledge',\n",
       " 'mobile',\n",
       " 'recommend',\n",
       " 'agency',\n",
       " 'immediate',\n",
       " 'robust',\n",
       " 'insight',\n",
       " 'expand',\n",
       " 'explore',\n",
       " 'deadline',\n",
       " 'tenor',\n",
       " '600',\n",
       " 'ranking',\n",
       " 'exist',\n",
       " 'hindenburg',\n",
       " 'ltimindtree',\n",
       " 'want',\n",
       " 'kalash',\n",
       " 'auction',\n",
       " 'apply',\n",
       " 'sterlite',\n",
       " 'capex',\n",
       " 'sitharaman',\n",
       " 'joint',\n",
       " 'default',\n",
       " 'half',\n",
       " 'yield',\n",
       " 'already',\n",
       " 'marginal',\n",
       " 'network',\n",
       " 'setty',\n",
       " 'export',\n",
       " 'uco',\n",
       " 'enable',\n",
       " 'infra',\n",
       " 'deliver',\n",
       " 'sanction',\n",
       " 'disclose',\n",
       " 'strategy',\n",
       " 'msme',\n",
       " 'guarantee',\n",
       " 'financing',\n",
       " 'petition',\n",
       " 'gross',\n",
       " 'find',\n",
       " 'cbi',\n",
       " 'telecom',\n",
       " 'pende',\n",
       " '300',\n",
       " 'request',\n",
       " 'holiday',\n",
       " 'drag',\n",
       " 'bullish',\n",
       " 'register',\n",
       " 'identify',\n",
       " 'china',\n",
       " 'opportunity',\n",
       " 'laboratories',\n",
       " 'individual',\n",
       " 'require',\n",
       " 'external',\n",
       " 'liquidity',\n",
       " 'regard',\n",
       " 'visit',\n",
       " 'thing',\n",
       " 'airway',\n",
       " 'ghosh',\n",
       " 'healthy',\n",
       " 'prime',\n",
       " 'vedanta',\n",
       " 'outlook',\n",
       " 'invite',\n",
       " 'hsbc',\n",
       " 'towards',\n",
       " 'soon',\n",
       " 'governor',\n",
       " 'familiar',\n",
       " 'must',\n",
       " 'near',\n",
       " 'holding',\n",
       " 'peer',\n",
       " 'sebi',\n",
       " 'territory',\n",
       " 'space',\n",
       " 'provider',\n",
       " 'narcl',\n",
       " 'highlight',\n",
       " 'recommendation',\n",
       " 'electric',\n",
       " 'agreement',\n",
       " 'expectation',\n",
       " 'story',\n",
       " 'outstanding',\n",
       " 'partnership',\n",
       " 'indicate',\n",
       " 'shareholder',\n",
       " 'percentage',\n",
       " 'nbfc',\n",
       " 'status',\n",
       " 'save',\n",
       " 'access',\n",
       " 'create',\n",
       " 'fast',\n",
       " 'bombay',\n",
       " 'authorise',\n",
       " 'merger',\n",
       " 'vendor',\n",
       " 'covid',\n",
       " 'food',\n",
       " 'atm',\n",
       " '700',\n",
       " 'understand',\n",
       " 'motilal',\n",
       " 'poll',\n",
       " 'crude',\n",
       " 'size',\n",
       " 'economist',\n",
       " 'garner',\n",
       " 'enterprises',\n",
       " 'authority',\n",
       " 'unsecured',\n",
       " 'buying',\n",
       " 'rival',\n",
       " 'host',\n",
       " 'role',\n",
       " 'participate',\n",
       " 'aggregate',\n",
       " 'property',\n",
       " 'kanti',\n",
       " 'person',\n",
       " 'services',\n",
       " 'managing',\n",
       " 'tranche',\n",
       " 'remove',\n",
       " ...]"
      ]
     },
     "execution_count": 416,
     "metadata": {},
     "output_type": "execute_result"
    }
   ],
   "source": [
    "cbow.wv.index_to_key"
   ]
  },
  {
   "cell_type": "code",
   "execution_count": 417,
   "id": "d58a93b3",
   "metadata": {
    "scrolled": true
   },
   "outputs": [
    {
     "data": {
      "text/plain": [
       "[('pandemic', 0.8121364116668701),\n",
       " ('contraction', 0.713736891746521),\n",
       " ('vaccination', 0.7078325748443604),\n",
       " ('slow', 0.7073777318000793),\n",
       " ('robust', 0.6949485540390015),\n",
       " ('steady', 0.6739208698272705),\n",
       " ('tepid', 0.6675041317939758),\n",
       " ('pre', 0.6656627655029297),\n",
       " ('cycle', 0.6655044555664062),\n",
       " ('drive', 0.6619682312011719)]"
      ]
     },
     "execution_count": 417,
     "metadata": {},
     "output_type": "execute_result"
    }
   ],
   "source": [
    "cbow.wv.most_similar('covid')"
   ]
  },
  {
   "cell_type": "code",
   "execution_count": 422,
   "id": "503aad2c",
   "metadata": {},
   "outputs": [
    {
     "data": {
      "text/plain": [
       "[('canara', 0.6248539686203003),\n",
       " ('bob', 0.5749539732933044),\n",
       " ('baroda', 0.573883056640625),\n",
       " ('namely', 0.5660092830657959),\n",
       " ('lender', 0.5627161860466003),\n",
       " ('pnb', 0.5493518114089966),\n",
       " ('graphite', 0.5457668304443359),\n",
       " ('union', 0.544642448425293),\n",
       " ('hdfc', 0.5309991240501404),\n",
       " ('vs', 0.5242079496383667),\n",
       " ('idbi', 0.5222285389900208),\n",
       " ('axis', 0.5140102505683899),\n",
       " ('yes', 0.5087817907333374),\n",
       " ('uco', 0.5080928802490234),\n",
       " ('rbl', 0.5074078440666199),\n",
       " ('icici', 0.4936247766017914),\n",
       " ('idfc', 0.48486122488975525),\n",
       " ('punjab', 0.47666043043136597),\n",
       " ('four', 0.47547903656959534),\n",
       " ('overseas', 0.4706997871398926)]"
      ]
     },
     "execution_count": 422,
     "metadata": {},
     "output_type": "execute_result"
    }
   ],
   "source": [
    "cbow.wv.most_similar('bank', topn=20)"
   ]
  },
  {
   "cell_type": "code",
   "execution_count": 424,
   "id": "85f907e1",
   "metadata": {},
   "outputs": [
    {
     "data": {
      "text/plain": [
       "'recommendation'"
      ]
     },
     "execution_count": 424,
     "metadata": {},
     "output_type": "execute_result"
    }
   ],
   "source": [
    "cbow.wv.doesnt_match(['hdfc', 'sbi', 'bank', 'axis', 'recommendation'])"
   ]
  },
  {
   "cell_type": "code",
   "execution_count": 425,
   "id": "4ab259d3",
   "metadata": {
    "collapsed": true
   },
   "outputs": [
    {
     "data": {
      "text/plain": [
       "array([-0.3419571 ,  0.942922  ,  0.12081295,  0.9770466 ,  0.29877862,\n",
       "       -0.9295656 ,  0.44010848, -2.0481694 , -1.2386979 , -0.09676816,\n",
       "       -0.27453548,  0.14477713,  0.9966579 ,  0.6152951 ,  1.4462123 ,\n",
       "        0.19414756, -0.18690403, -0.14078994, -1.1615467 , -0.18985328,\n",
       "       -0.16481602,  0.69414574,  0.19649014, -0.23171845,  0.50778353,\n",
       "       -0.30567443,  0.23595282,  0.3195502 , -0.4107982 , -0.24158575,\n",
       "        0.7417271 , -0.33517244,  0.77078134, -0.44916627, -0.10828814,\n",
       "        1.5214555 , -0.32589406,  0.8483331 , -0.7042748 , -1.6357707 ,\n",
       "       -0.7766172 ,  0.6006711 , -1.1062084 ,  0.06038225, -0.2380952 ,\n",
       "        0.00388834,  0.15305936,  0.7452553 , -0.84791684, -0.6403822 ,\n",
       "        0.17754169, -0.30600974,  1.5978382 ,  0.01444121,  0.716702  ,\n",
       "       -0.7857714 , -0.70032734, -0.84229   ,  0.23330039, -0.47602293,\n",
       "       -0.01805501, -0.2784835 , -0.30944204, -0.09665971, -0.634286  ,\n",
       "        0.85298336,  0.46891588,  0.595928  , -0.76080734, -0.42530516,\n",
       "       -0.02167339,  0.48944294, -1.2732413 ,  1.2378676 , -0.5527447 ,\n",
       "        0.49555874, -0.06311341,  0.09717231,  0.23790966, -0.58574736,\n",
       "       -0.96511686, -1.2883881 ,  0.04201775, -0.29039437,  0.3371289 ,\n",
       "       -0.073869  , -0.2951316 , -0.864191  ,  0.7667221 ,  0.6314225 ,\n",
       "       -0.6386161 ,  0.78041327,  1.2149701 ,  0.43852907,  0.16779995,\n",
       "        0.83830214, -1.4851518 ,  0.687992  ,  0.32056537, -0.28182638,\n",
       "       -0.8534009 , -0.3259498 , -0.5253975 ,  0.569414  ,  0.8953693 ,\n",
       "       -0.876471  ,  0.257008  ,  0.9840866 , -0.35673895, -0.5820427 ,\n",
       "        1.033153  ,  0.26852053, -0.24959561, -0.52191794,  0.28035834,\n",
       "        1.3380468 ,  1.1157529 , -1.4468685 ,  0.47287732, -0.20936193,\n",
       "       -0.7167359 , -0.09798486, -0.11676032, -2.232285  ,  0.9006529 ,\n",
       "        0.54142   , -0.30368686,  1.3159661 ,  0.26338163, -0.82314074,\n",
       "        0.10798456,  0.2820867 , -0.8804382 ,  0.5601342 , -0.19796002,\n",
       "        0.127288  ,  0.32254407,  0.2616067 ,  0.73980564, -0.56468445,\n",
       "        1.0885458 ,  0.37611648,  0.9431316 ,  0.14573136, -0.384172  ,\n",
       "       -0.15559725,  0.48477444,  0.11225412, -0.6252454 ,  0.44787875,\n",
       "       -0.00763699, -0.29869714, -0.19229317,  1.026866  , -1.5446849 ,\n",
       "        0.4135248 , -0.604152  ,  1.0443447 , -0.49204028,  0.5121313 ,\n",
       "       -0.18851162,  0.21360195,  0.44944018, -0.12017787,  0.06028675,\n",
       "        0.63867474, -0.5035894 ,  0.6730595 ,  0.40440613,  0.04049046,\n",
       "        0.3916136 ,  0.07555784, -0.14521019,  0.01075678, -0.12917086,\n",
       "       -1.0428969 , -0.6714779 , -0.06583042,  1.2397907 ,  0.15466402,\n",
       "       -0.48684415, -0.0316423 ,  0.5511495 , -0.3421562 ,  0.21686389,\n",
       "       -1.3459063 ,  0.15305756,  0.3857664 ,  0.5999923 , -1.2107817 ,\n",
       "       -0.38324574,  1.6161504 , -0.39260986,  1.1972303 ,  1.581876  ,\n",
       "        0.09671587,  0.00338178, -0.3853306 ,  0.08648597,  0.38157594],\n",
       "      dtype=float32)"
      ]
     },
     "execution_count": 425,
     "metadata": {},
     "output_type": "execute_result"
    }
   ],
   "source": [
    "cbow.wv.get_vector('sbi')"
   ]
  },
  {
   "cell_type": "markdown",
   "id": "5988c9bb",
   "metadata": {},
   "source": [
    "### skip-grams"
   ]
  },
  {
   "cell_type": "code",
   "execution_count": 435,
   "id": "0514e56d",
   "metadata": {},
   "outputs": [],
   "source": [
    "sgram = Word2Vec(data, vector_size=200, workers=8, window = 5, sg = 1, hs = 0)"
   ]
  },
  {
   "cell_type": "code",
   "execution_count": 437,
   "id": "1309524f",
   "metadata": {
    "collapsed": true
   },
   "outputs": [
    {
     "data": {
      "text/plain": [
       "['bank',\n",
       " 'india',\n",
       " 'state',\n",
       " '1',\n",
       " 'sbi',\n",
       " '0',\n",
       " 'market',\n",
       " 'stock',\n",
       " 'rs',\n",
       " 'crore',\n",
       " 'per',\n",
       " 'cent',\n",
       " 'ltd',\n",
       " '2',\n",
       " 'share',\n",
       " 'hdfc',\n",
       " 'nifty',\n",
       " 'point',\n",
       " 'rate',\n",
       " 'top',\n",
       " 'year',\n",
       " 'say',\n",
       " 'sensex',\n",
       " '5',\n",
       " '3',\n",
       " 'mahindra',\n",
       " 'loan',\n",
       " 'among',\n",
       " '7',\n",
       " 'company',\n",
       " 'bse',\n",
       " '10',\n",
       " 'close',\n",
       " 'icici',\n",
       " 'lender',\n",
       " 'tata',\n",
       " 'sector',\n",
       " '6',\n",
       " 'index',\n",
       " 'interest',\n",
       " 'industry',\n",
       " '4',\n",
       " 'update',\n",
       " '30',\n",
       " 'reliance',\n",
       " 'trade',\n",
       " 'high',\n",
       " 'day',\n",
       " 'deposit',\n",
       " '000',\n",
       " 'bond',\n",
       " 'gainer',\n",
       " 'adani',\n",
       " 'indian',\n",
       " 'finance',\n",
       " 'fund',\n",
       " 'large',\n",
       " '8',\n",
       " 'include',\n",
       " 'end',\n",
       " 'bajaj',\n",
       " 'report',\n",
       " 'rise',\n",
       " 'price',\n",
       " '15',\n",
       " 'financial',\n",
       " 'axis',\n",
       " 'fall',\n",
       " 'rbi',\n",
       " 'new',\n",
       " 'offer',\n",
       " 'national',\n",
       " 'firm',\n",
       " 'also',\n",
       " 'growth',\n",
       " 'raise',\n",
       " 'service',\n",
       " 'power',\n",
       " 'pack',\n",
       " 'time',\n",
       " 'corporation',\n",
       " 'steel',\n",
       " 'country',\n",
       " 'last',\n",
       " 'banking',\n",
       " '9',\n",
       " '25',\n",
       " 'itc',\n",
       " 'kotak',\n",
       " 'value',\n",
       " '2023',\n",
       " 'lakh',\n",
       " 'account',\n",
       " '50',\n",
       " 'baroda',\n",
       " 'credit',\n",
       " 'public',\n",
       " 'profit',\n",
       " 'lead',\n",
       " 'first',\n",
       " 'punjab',\n",
       " 'payment',\n",
       " 'hand',\n",
       " 'airtel',\n",
       " 'group',\n",
       " 'month',\n",
       " '12',\n",
       " 'quarter',\n",
       " 'low',\n",
       " 'life',\n",
       " 'week',\n",
       " 'indusind',\n",
       " 'big',\n",
       " 'bharti',\n",
       " 'hindustan',\n",
       " 'nse',\n",
       " 'make',\n",
       " 'net',\n",
       " 'term',\n",
       " 'today',\n",
       " 'business',\n",
       " '11',\n",
       " 'follow',\n",
       " 'limit',\n",
       " 'unilever',\n",
       " 'one',\n",
       " 'gain',\n",
       " 'government',\n",
       " 'valuation',\n",
       " 'insurance',\n",
       " 'equity',\n",
       " 'court',\n",
       " 'investor',\n",
       " 'asset',\n",
       " '16',\n",
       " 'global',\n",
       " 'issue',\n",
       " 'may',\n",
       " 'card',\n",
       " 'see',\n",
       " 'march',\n",
       " 'scheme',\n",
       " '2024',\n",
       " '75',\n",
       " 'increase',\n",
       " 'economic',\n",
       " 'billion',\n",
       " '20',\n",
       " 'buy',\n",
       " 'digital',\n",
       " 'major',\n",
       " 'datum',\n",
       " 'customer',\n",
       " 'accord',\n",
       " 'three',\n",
       " 'tip',\n",
       " 'plan',\n",
       " 'electoral',\n",
       " 'news',\n",
       " 'fix',\n",
       " 'investment',\n",
       " 'small',\n",
       " 'chairman',\n",
       " 'percent',\n",
       " 'infosys',\n",
       " 'yes',\n",
       " 'ntpc',\n",
       " 'private',\n",
       " 'tcs',\n",
       " 'take',\n",
       " '14',\n",
       " 'capital',\n",
       " 'base',\n",
       " 'consultancy',\n",
       " 'two',\n",
       " '13',\n",
       " 'exchange',\n",
       " '17',\n",
       " 'tech',\n",
       " '2022',\n",
       " 'rupee',\n",
       " 'loser',\n",
       " '35',\n",
       " 'earning',\n",
       " '19',\n",
       " 'asian',\n",
       " 'enterprise',\n",
       " 'decline',\n",
       " '45',\n",
       " 'special',\n",
       " '18',\n",
       " 'reserve',\n",
       " 'stand',\n",
       " '22',\n",
       " 'larsen',\n",
       " '24',\n",
       " 'laggard',\n",
       " 'toubro',\n",
       " 'note',\n",
       " '31',\n",
       " 'home',\n",
       " 'cr',\n",
       " 'benchmark',\n",
       " 'due',\n",
       " 'grid',\n",
       " 'sale',\n",
       " 'late',\n",
       " 'jump',\n",
       " 'stake',\n",
       " 'add',\n",
       " 'fd',\n",
       " 'cement',\n",
       " 'hike',\n",
       " 'union',\n",
       " 'delhi',\n",
       " 'expect',\n",
       " '65',\n",
       " 'target',\n",
       " 'debt',\n",
       " 'list',\n",
       " 'director',\n",
       " 'get',\n",
       " 'return',\n",
       " '23',\n",
       " 'come',\n",
       " 'cap',\n",
       " 'income',\n",
       " 'senior',\n",
       " 'technology',\n",
       " '21',\n",
       " 'live',\n",
       " 'finserv',\n",
       " 'upi',\n",
       " 'remain',\n",
       " 'result',\n",
       " 'detail',\n",
       " 'hit',\n",
       " 'red',\n",
       " 'retail',\n",
       " 'well',\n",
       " 'provide',\n",
       " 'infosy',\n",
       " 'central',\n",
       " 'monday',\n",
       " 'oil',\n",
       " 'early',\n",
       " 'lic',\n",
       " 'titan',\n",
       " 'total',\n",
       " 'industries',\n",
       " 'hold',\n",
       " 'basis',\n",
       " 'around',\n",
       " 'announce',\n",
       " 'hcl',\n",
       " 'go',\n",
       " 'maruti',\n",
       " 'sell',\n",
       " 'like',\n",
       " 'psu',\n",
       " 'motors',\n",
       " 'transaction',\n",
       " 'motor',\n",
       " 'project',\n",
       " 'ultratech',\n",
       " 'december',\n",
       " 'infrastructure',\n",
       " 'idea',\n",
       " 'settle',\n",
       " 'set',\n",
       " 'open',\n",
       " 'four',\n",
       " 'give',\n",
       " '05',\n",
       " 'port',\n",
       " '85',\n",
       " 'record',\n",
       " 'advance',\n",
       " 'friday',\n",
       " 'start',\n",
       " 'use',\n",
       " 'look',\n",
       " 'post',\n",
       " 'launch',\n",
       " '29',\n",
       " '55',\n",
       " 'canara',\n",
       " 'seek',\n",
       " '27',\n",
       " 'continue',\n",
       " 'june',\n",
       " 'chief',\n",
       " 'paytm',\n",
       " 'key',\n",
       " 'jsw',\n",
       " 'security',\n",
       " 'foreign',\n",
       " 'invest',\n",
       " '52',\n",
       " 'million',\n",
       " 'branch',\n",
       " 'need',\n",
       " 'green',\n",
       " '26',\n",
       " 'tax',\n",
       " 'amid',\n",
       " '09',\n",
       " 'board',\n",
       " 'wipro',\n",
       " 'indice',\n",
       " 'kumar',\n",
       " 'non',\n",
       " 'citizen',\n",
       " 'september',\n",
       " '28',\n",
       " 'likely',\n",
       " '95',\n",
       " 'would',\n",
       " 'order',\n",
       " 'nestle',\n",
       " 'vodafone',\n",
       " 'nifty50',\n",
       " 'number',\n",
       " 'current',\n",
       " 'thursday',\n",
       " 'supreme',\n",
       " 'pnb',\n",
       " 'call',\n",
       " 'bharat',\n",
       " 'people',\n",
       " 'worth',\n",
       " 'pay',\n",
       " 'move',\n",
       " 'official',\n",
       " 'volume',\n",
       " 'wednesday',\n",
       " 'energy',\n",
       " 'sun',\n",
       " 'khara',\n",
       " 'via',\n",
       " 'climb',\n",
       " 'idfc',\n",
       " 'overseas',\n",
       " '40',\n",
       " '34',\n",
       " 'mumbai',\n",
       " 'money',\n",
       " 'however',\n",
       " 'lending',\n",
       " 'bps',\n",
       " 'mcap',\n",
       " 'product',\n",
       " 'paint',\n",
       " 'positive',\n",
       " '77',\n",
       " 'rally',\n",
       " 'long',\n",
       " 'check',\n",
       " 'consumer',\n",
       " 'period',\n",
       " 'cost',\n",
       " 'back',\n",
       " 'know',\n",
       " 'fy24',\n",
       " 'strong',\n",
       " 'manage',\n",
       " 'could',\n",
       " '44',\n",
       " 'read',\n",
       " 'trend',\n",
       " '42',\n",
       " '48',\n",
       " 'tenure',\n",
       " 'auto',\n",
       " 'laboratory',\n",
       " 'expert',\n",
       " 'date',\n",
       " 'system',\n",
       " 'five',\n",
       " 'case',\n",
       " 'inflation',\n",
       " 'free',\n",
       " '60',\n",
       " 'development',\n",
       " 'second',\n",
       " 'across',\n",
       " 'domestic',\n",
       " 'good',\n",
       " 'r',\n",
       " 'e',\n",
       " 'research',\n",
       " 'corporate',\n",
       " 'change',\n",
       " 'cash',\n",
       " '70',\n",
       " '74',\n",
       " 'april',\n",
       " '41',\n",
       " 'since',\n",
       " 'entity',\n",
       " 'matter',\n",
       " 'stay',\n",
       " 'february',\n",
       " 'surge',\n",
       " 'demand',\n",
       " '03',\n",
       " 'receive',\n",
       " 'zone',\n",
       " 'hindalco',\n",
       " 'analyst',\n",
       " '54',\n",
       " 'currency',\n",
       " '49',\n",
       " 'dinesh',\n",
       " 'part',\n",
       " '07',\n",
       " 'us',\n",
       " 'management',\n",
       " 'meet',\n",
       " '59',\n",
       " 'session',\n",
       " '36',\n",
       " 'vi',\n",
       " 'source',\n",
       " '08',\n",
       " '500',\n",
       " '33',\n",
       " '76',\n",
       " '38',\n",
       " 'amount',\n",
       " 'show',\n",
       " '71',\n",
       " '43',\n",
       " 'former',\n",
       " 'next',\n",
       " 'performance',\n",
       " 'level',\n",
       " 'fresh',\n",
       " '100',\n",
       " '06',\n",
       " 'party',\n",
       " 'grow',\n",
       " 'impact',\n",
       " 'tuesday',\n",
       " '56',\n",
       " '32',\n",
       " '46',\n",
       " '57',\n",
       " '72',\n",
       " 'loss',\n",
       " 'policy',\n",
       " 'january',\n",
       " 'ahead',\n",
       " 'process',\n",
       " 'file',\n",
       " 'extend',\n",
       " '80',\n",
       " 'gas',\n",
       " 'dr',\n",
       " 'decision',\n",
       " 'saving',\n",
       " '62',\n",
       " 'weak',\n",
       " 'petroleum',\n",
       " 'risk',\n",
       " 'talk',\n",
       " 'run',\n",
       " 'support',\n",
       " '47',\n",
       " '39',\n",
       " 'work',\n",
       " 'far',\n",
       " 'july',\n",
       " '61',\n",
       " '63',\n",
       " '64',\n",
       " '81',\n",
       " 'nearly',\n",
       " '53',\n",
       " 'bid',\n",
       " '04',\n",
       " '01',\n",
       " 'co',\n",
       " 'pilot',\n",
       " 'minister',\n",
       " 'real',\n",
       " '51',\n",
       " '67',\n",
       " 'election',\n",
       " '66',\n",
       " '69',\n",
       " 'sugar',\n",
       " '82',\n",
       " 'resolution',\n",
       " '86',\n",
       " 'third',\n",
       " 'approve',\n",
       " '37',\n",
       " 'information',\n",
       " 'ratio',\n",
       " 'ask',\n",
       " 'line',\n",
       " '73',\n",
       " 'mutual',\n",
       " 'august',\n",
       " 'consortium',\n",
       " 'hero',\n",
       " 'november',\n",
       " 'allow',\n",
       " 'analysis',\n",
       " 'face',\n",
       " 'federal',\n",
       " '83',\n",
       " 'exposure',\n",
       " '99',\n",
       " '68',\n",
       " '88',\n",
       " 'coal',\n",
       " 'suzuki',\n",
       " 'lose',\n",
       " 'fraud',\n",
       " 'october',\n",
       " 'motocorp',\n",
       " 'liveblog',\n",
       " 'international',\n",
       " 'pharma',\n",
       " '02',\n",
       " 'fy23',\n",
       " '79',\n",
       " '90',\n",
       " '92',\n",
       " 'pick',\n",
       " 'rating',\n",
       " 'segment',\n",
       " 'help',\n",
       " 'estimate',\n",
       " 'deal',\n",
       " '89',\n",
       " '87',\n",
       " 'vs',\n",
       " '58',\n",
       " 'short',\n",
       " '91',\n",
       " '97',\n",
       " 'app',\n",
       " '98',\n",
       " 'focus',\n",
       " 'g',\n",
       " 'I',\n",
       " 'p',\n",
       " 'join',\n",
       " 'fiscal',\n",
       " 'website',\n",
       " 'fds',\n",
       " 'direct',\n",
       " 'user',\n",
       " 'charge',\n",
       " 'capitalisation',\n",
       " 'intraday',\n",
       " 'executive',\n",
       " 'fmcg',\n",
       " 'release',\n",
       " '78',\n",
       " 'economy',\n",
       " 'emerge',\n",
       " '84',\n",
       " 'eicher',\n",
       " 'committee',\n",
       " 'subscribe',\n",
       " 'ceo',\n",
       " 'standard',\n",
       " 'natural',\n",
       " 'yoy',\n",
       " '00',\n",
       " '93',\n",
       " 'compare',\n",
       " 'less',\n",
       " 'drive',\n",
       " 'trading',\n",
       " 'tell',\n",
       " '2021',\n",
       " 'additional',\n",
       " 'provision',\n",
       " 'general',\n",
       " '94',\n",
       " 'banker',\n",
       " 'housing',\n",
       " 'bob',\n",
       " 'appoint',\n",
       " 'become',\n",
       " 'com',\n",
       " 'revise',\n",
       " '96',\n",
       " 'book',\n",
       " 'borrower',\n",
       " 'budget',\n",
       " 'potential',\n",
       " 'lower',\n",
       " 'mclr',\n",
       " 'pharmaceutical',\n",
       " 'keep',\n",
       " 'name',\n",
       " 'even',\n",
       " 'application',\n",
       " 'commission',\n",
       " 'transfer',\n",
       " 'revenue',\n",
       " 'online',\n",
       " 'acquire',\n",
       " 'act',\n",
       " 'pension',\n",
       " 'ist',\n",
       " 'upl',\n",
       " 'rule',\n",
       " 'cipla',\n",
       " 'consider',\n",
       " 'street',\n",
       " 'quality',\n",
       " 'discount',\n",
       " 'balance',\n",
       " 'cut',\n",
       " 'statement',\n",
       " 'city',\n",
       " 'many',\n",
       " 'office',\n",
       " 'range',\n",
       " 'recovery',\n",
       " 'submit',\n",
       " 'britannia',\n",
       " 'q1',\n",
       " 'officer',\n",
       " 'mark',\n",
       " 'gold',\n",
       " 'technical',\n",
       " '200',\n",
       " 'et',\n",
       " 'bad',\n",
       " 'facility',\n",
       " 'way',\n",
       " 'partner',\n",
       " 'six',\n",
       " 'world',\n",
       " 'watch',\n",
       " 'psbs',\n",
       " 'centre',\n",
       " 'aware',\n",
       " 'divis',\n",
       " 'platform',\n",
       " 'political',\n",
       " 'future',\n",
       " 'reach',\n",
       " 'bandhan',\n",
       " 'challenge',\n",
       " 'concern',\n",
       " 'gdp',\n",
       " 'insolvency',\n",
       " 'improve',\n",
       " 'head',\n",
       " 'personal',\n",
       " 'active',\n",
       " 'hong',\n",
       " 'drop',\n",
       " 'recent',\n",
       " 'till',\n",
       " 'various',\n",
       " 'kong',\n",
       " 'ril',\n",
       " 'track',\n",
       " 'tier',\n",
       " 'reduce',\n",
       " 'recently',\n",
       " 'l',\n",
       " 'dollar',\n",
       " 'mining',\n",
       " 'link',\n",
       " 'plea',\n",
       " 'experience',\n",
       " 'funding',\n",
       " 'issuance',\n",
       " 'quote',\n",
       " 'currently',\n",
       " 'jio',\n",
       " 'au',\n",
       " 'previous',\n",
       " 'fertiliser',\n",
       " 'ministry',\n",
       " 'aim',\n",
       " 'subsidiary',\n",
       " '2020',\n",
       " 'effect',\n",
       " 'jet',\n",
       " 'law',\n",
       " 'institution',\n",
       " 'benefit',\n",
       " 'without',\n",
       " 'employee',\n",
       " 'nation',\n",
       " 'maharashtra',\n",
       " 'form',\n",
       " 'write',\n",
       " 'past',\n",
       " 'whatsapp',\n",
       " 'tribunal',\n",
       " 'regulatory',\n",
       " 'repo',\n",
       " 'several',\n",
       " 'creditor',\n",
       " 'informed',\n",
       " 'member',\n",
       " 'portfolio',\n",
       " 'nine',\n",
       " 'despite',\n",
       " 'leader',\n",
       " 'approval',\n",
       " 'position',\n",
       " 'break',\n",
       " 'q4',\n",
       " 'negative',\n",
       " 'comprehensive',\n",
       " 'effective',\n",
       " 'clear',\n",
       " 'bill',\n",
       " 'shanghai',\n",
       " 'meeting',\n",
       " 'complete',\n",
       " 'uti',\n",
       " 'sign',\n",
       " 'together',\n",
       " 'asia',\n",
       " 'amc',\n",
       " 'nclt',\n",
       " 'q3',\n",
       " 'option',\n",
       " 'apollo',\n",
       " 'winner',\n",
       " 'claim',\n",
       " 'purchase',\n",
       " 'seoul',\n",
       " '400',\n",
       " 'sc',\n",
       " 'communication',\n",
       " 'brand',\n",
       " 'secure',\n",
       " 'cross',\n",
       " 'brokerage',\n",
       " 'review',\n",
       " 'capitalization',\n",
       " 'suzlon',\n",
       " 'much',\n",
       " 'dial',\n",
       " 'margin',\n",
       " 'view',\n",
       " 'higher',\n",
       " 'step',\n",
       " 'significant',\n",
       " 'place',\n",
       " 'govt',\n",
       " 'trillion',\n",
       " 'average',\n",
       " 'contract',\n",
       " 'bo',\n",
       " 'russia',\n",
       " 'phase',\n",
       " 'chart',\n",
       " 'respectively',\n",
       " 'commercial',\n",
       " 'corp',\n",
       " 'maintain',\n",
       " 'yono',\n",
       " 'fee',\n",
       " 'unit',\n",
       " 'available',\n",
       " 'venture',\n",
       " 'q2',\n",
       " 'manager',\n",
       " 'tokyo',\n",
       " 'technologies',\n",
       " 'idbi',\n",
       " 'introduce',\n",
       " 'incorporate',\n",
       " 'saturday',\n",
       " 'begin',\n",
       " 'combine',\n",
       " 'along',\n",
       " 'refinance',\n",
       " 'inform',\n",
       " 'etmarket',\n",
       " 'tank',\n",
       " 'overall',\n",
       " 'cbdc',\n",
       " 'quarterly',\n",
       " 'propose',\n",
       " 'medium',\n",
       " 'bring',\n",
       " 'amrit',\n",
       " 'fundamental',\n",
       " 'fintech',\n",
       " 'channel',\n",
       " 'department',\n",
       " 'ipo',\n",
       " 'relate',\n",
       " 'fourth',\n",
       " 'congress',\n",
       " 'dividend',\n",
       " 'perform',\n",
       " 'solution',\n",
       " 'multiple',\n",
       " 'eight',\n",
       " 'md',\n",
       " 'broad',\n",
       " 'ongc',\n",
       " 'supply',\n",
       " 'within',\n",
       " 'hospital',\n",
       " 'another',\n",
       " 'deputy',\n",
       " 'turn',\n",
       " 'boost',\n",
       " 'npci',\n",
       " 'double',\n",
       " 'prominent',\n",
       " 'slip',\n",
       " 'grasim',\n",
       " 'decide',\n",
       " 'put',\n",
       " 'annual',\n",
       " 'seven',\n",
       " 'earn',\n",
       " 'merchant',\n",
       " 'stop',\n",
       " 'still',\n",
       " 'build',\n",
       " 'promoter',\n",
       " 'action',\n",
       " '2019',\n",
       " 'modi',\n",
       " 'reddy',\n",
       " 'win',\n",
       " 'dip',\n",
       " 'ever',\n",
       " 'ago',\n",
       " 'debit',\n",
       " 'filing',\n",
       " 'indicator',\n",
       " 'tumble',\n",
       " 'operation',\n",
       " 'monetary',\n",
       " 'certain',\n",
       " 'reddys',\n",
       " 'select',\n",
       " 'singapore',\n",
       " 'suggest',\n",
       " 'usd',\n",
       " 'trust',\n",
       " 'ensure',\n",
       " 'limited',\n",
       " '1955',\n",
       " 'coupon',\n",
       " 'settlement',\n",
       " 'witness',\n",
       " 'retain',\n",
       " 'feature',\n",
       " 'upbeat',\n",
       " 'acquisition',\n",
       " 'conduct',\n",
       " 'pm',\n",
       " 'pledge',\n",
       " 'mobile',\n",
       " 'recommend',\n",
       " 'agency',\n",
       " 'immediate',\n",
       " 'robust',\n",
       " 'insight',\n",
       " 'expand',\n",
       " 'explore',\n",
       " 'deadline',\n",
       " 'tenor',\n",
       " '600',\n",
       " 'ranking',\n",
       " 'exist',\n",
       " 'hindenburg',\n",
       " 'ltimindtree',\n",
       " 'want',\n",
       " 'kalash',\n",
       " 'auction',\n",
       " 'apply',\n",
       " 'sterlite',\n",
       " 'capex',\n",
       " 'sitharaman',\n",
       " 'joint',\n",
       " 'default',\n",
       " 'half',\n",
       " 'yield',\n",
       " 'already',\n",
       " 'marginal',\n",
       " 'network',\n",
       " 'setty',\n",
       " 'export',\n",
       " 'uco',\n",
       " 'enable',\n",
       " 'infra',\n",
       " 'deliver',\n",
       " 'sanction',\n",
       " 'disclose',\n",
       " 'strategy',\n",
       " 'msme',\n",
       " 'guarantee',\n",
       " 'financing',\n",
       " 'petition',\n",
       " 'gross',\n",
       " 'find',\n",
       " 'cbi',\n",
       " 'telecom',\n",
       " 'pende',\n",
       " '300',\n",
       " 'request',\n",
       " 'holiday',\n",
       " 'drag',\n",
       " 'bullish',\n",
       " 'register',\n",
       " 'identify',\n",
       " 'china',\n",
       " 'opportunity',\n",
       " 'laboratories',\n",
       " 'individual',\n",
       " 'require',\n",
       " 'external',\n",
       " 'liquidity',\n",
       " 'regard',\n",
       " 'visit',\n",
       " 'thing',\n",
       " 'airway',\n",
       " 'ghosh',\n",
       " 'healthy',\n",
       " 'prime',\n",
       " 'vedanta',\n",
       " 'outlook',\n",
       " 'invite',\n",
       " 'hsbc',\n",
       " 'towards',\n",
       " 'soon',\n",
       " 'governor',\n",
       " 'familiar',\n",
       " 'must',\n",
       " 'near',\n",
       " 'holding',\n",
       " 'peer',\n",
       " 'sebi',\n",
       " 'territory',\n",
       " 'space',\n",
       " 'provider',\n",
       " 'narcl',\n",
       " 'highlight',\n",
       " 'recommendation',\n",
       " 'electric',\n",
       " 'agreement',\n",
       " 'expectation',\n",
       " 'story',\n",
       " 'outstanding',\n",
       " 'partnership',\n",
       " 'indicate',\n",
       " 'shareholder',\n",
       " 'percentage',\n",
       " 'nbfc',\n",
       " 'status',\n",
       " 'save',\n",
       " 'access',\n",
       " 'create',\n",
       " 'fast',\n",
       " 'bombay',\n",
       " 'authorise',\n",
       " 'merger',\n",
       " 'vendor',\n",
       " 'covid',\n",
       " 'food',\n",
       " 'atm',\n",
       " '700',\n",
       " 'understand',\n",
       " 'motilal',\n",
       " 'poll',\n",
       " 'crude',\n",
       " 'size',\n",
       " 'economist',\n",
       " 'garner',\n",
       " 'enterprises',\n",
       " 'authority',\n",
       " 'unsecured',\n",
       " 'buying',\n",
       " 'rival',\n",
       " 'host',\n",
       " 'role',\n",
       " 'participate',\n",
       " 'aggregate',\n",
       " 'property',\n",
       " 'kanti',\n",
       " 'person',\n",
       " 'services',\n",
       " 'managing',\n",
       " 'tranche',\n",
       " 'remove',\n",
       " ...]"
      ]
     },
     "execution_count": 437,
     "metadata": {},
     "output_type": "execute_result"
    }
   ],
   "source": [
    "sgram.wv.index_to_key"
   ]
  },
  {
   "cell_type": "code",
   "execution_count": 438,
   "id": "eca7609f",
   "metadata": {},
   "outputs": [
    {
     "data": {
      "text/plain": [
       "'work'"
      ]
     },
     "execution_count": 438,
     "metadata": {},
     "output_type": "execute_result"
    }
   ],
   "source": [
    "sgram.wv.doesnt_match(['bank', 'prepare', 'work', 'government'])"
   ]
  },
  {
   "cell_type": "code",
   "execution_count": 439,
   "id": "a2330a42",
   "metadata": {},
   "outputs": [
    {
     "data": {
      "text/plain": [
       "[('regulator', 0.7062761187553406),\n",
       " ('drhp', 0.6780863404273987),\n",
       " ('franklin', 0.6707900762557983),\n",
       " ('violation', 0.6625649333000183),\n",
       " ('templeton', 0.6589047312736511),\n",
       " ('allegation', 0.6474838852882385),\n",
       " ('nsdl', 0.645271897315979),\n",
       " ('investigate', 0.6427587270736694),\n",
       " ('probe', 0.6385255455970764),\n",
       " ('irregularity', 0.6377963423728943)]"
      ]
     },
     "execution_count": 439,
     "metadata": {},
     "output_type": "execute_result"
    }
   ],
   "source": [
    "sgram.wv.most_similar('sebi', topn=10)"
   ]
  },
  {
   "cell_type": "markdown",
   "id": "0c2942f7",
   "metadata": {},
   "source": [
    "#### creating vectors for CBOW and skip-grams"
   ]
  },
  {
   "cell_type": "markdown",
   "id": "76a66370",
   "metadata": {},
   "source": [
    "Alternate approach to create vectors for the whole sentence is to take the 'tfidf' weights for each word instead of computing the element-wise mean for all the words in a sentence"
   ]
  },
  {
   "cell_type": "code",
   "execution_count": 618,
   "id": "b2b2486e",
   "metadata": {},
   "outputs": [],
   "source": [
    "def sent_to_vector(tokens, model):\n",
    "    word_vectors = [model.wv.get_vector(word) for word in tokens if word in model.wv.key_to_index]\n",
    "    \n",
    "    if len(word_vectors) > 0:\n",
    "        emb_vector = np.mean(word_vectors, axis = 0)\n",
    "    else:\n",
    "        emb_vector = np.zeros(model.vector_size)\n",
    "    return emb_vector"
   ]
  },
  {
   "cell_type": "code",
   "execution_count": 619,
   "id": "f5bb7ef9",
   "metadata": {},
   "outputs": [],
   "source": [
    "cbow_data = data.apply(lambda x : sent_to_vector(x, cbow))"
   ]
  },
  {
   "cell_type": "code",
   "execution_count": 620,
   "id": "3d46c687",
   "metadata": {},
   "outputs": [],
   "source": [
    "sgram_data = data.apply(lambda x : sent_to_vector(x, sgram))"
   ]
  },
  {
   "cell_type": "code",
   "execution_count": 621,
   "id": "bfaf9610",
   "metadata": {},
   "outputs": [
    {
     "data": {
      "text/plain": [
       "0        [-0.120576695, 0.27348927, -0.19028719, 0.0396...\n",
       "1        [0.02034735, 0.092150845, -0.6677955, -0.05301...\n",
       "2        [0.054780457, 0.16940472, -0.60882956, 0.05160...\n",
       "3        [-0.23958161, 0.18202233, 0.23554286, -0.32710...\n",
       "4        [-0.19849703, 0.24552888, -0.14863239, 0.29899...\n",
       "                               ...                        \n",
       "13226    [-0.2725245, 0.4958529, -0.1313842, -0.3491033...\n",
       "13227    [-0.329945, 0.12768652, 0.077850215, 0.0956744...\n",
       "13228    [-0.1294556, 0.22967891, -0.08980837, 0.134809...\n",
       "13229    [-0.16898939, 0.2631964, 0.3120264, -0.4492970...\n",
       "13230    [-0.044863816, 0.009695958, -0.11595442, 0.247...\n",
       "Name: article, Length: 13231, dtype: object"
      ]
     },
     "execution_count": 621,
     "metadata": {},
     "output_type": "execute_result"
    }
   ],
   "source": [
    "cbow_data"
   ]
  },
  {
   "cell_type": "markdown",
   "id": "b3676a67",
   "metadata": {},
   "source": [
    "## GloVe"
   ]
  },
  {
   "cell_type": "markdown",
   "id": "53ebb589",
   "metadata": {},
   "source": [
    "### Using pre-trained Embeddings"
   ]
  },
  {
   "cell_type": "code",
   "execution_count": 442,
   "id": "e1dbc493",
   "metadata": {},
   "outputs": [
    {
     "name": "stdout",
     "output_type": "stream",
     "text": [
      "[==================================================] 100.0% 1662.8/1662.8MB downloaded\n"
     ]
    }
   ],
   "source": [
    "import gensim.downloader as api\n",
    "\n",
    "w2v_model = api.load(\"word2vec-google-news-300\")"
   ]
  },
  {
   "cell_type": "code",
   "execution_count": 443,
   "id": "dffce9aa",
   "metadata": {},
   "outputs": [],
   "source": [
    "import spacy"
   ]
  },
  {
   "cell_type": "code",
   "execution_count": 444,
   "id": "39337225",
   "metadata": {
    "collapsed": true
   },
   "outputs": [
    {
     "name": "stdout",
     "output_type": "stream",
     "text": [
      "Collecting en-core-web-md==3.7.1\n",
      "  Downloading https://github.com/explosion/spacy-models/releases/download/en_core_web_md-3.7.1/en_core_web_md-3.7.1-py3-none-any.whl (42.8 MB)\n",
      "     ---------------------------------------- 0.0/42.8 MB ? eta -:--:--\n",
      "     --------------------------------------- 0.0/42.8 MB 960.0 kB/s eta 0:00:45\n",
      "     --------------------------------------- 0.0/42.8 MB 960.0 kB/s eta 0:00:45\n",
      "     --------------------------------------- 0.0/42.8 MB 960.0 kB/s eta 0:00:45\n",
      "     --------------------------------------- 0.1/42.8 MB 774.0 kB/s eta 0:00:56\n",
      "     ---------------------------------------- 0.3/42.8 MB 1.4 MB/s eta 0:00:31\n",
      "      --------------------------------------- 0.6/42.8 MB 2.1 MB/s eta 0:00:21\n",
      "      --------------------------------------- 0.8/42.8 MB 2.3 MB/s eta 0:00:18\n",
      "      --------------------------------------- 1.0/42.8 MB 2.8 MB/s eta 0:00:16\n",
      "     - -------------------------------------- 1.2/42.8 MB 2.9 MB/s eta 0:00:15\n",
      "     - -------------------------------------- 1.4/42.8 MB 3.1 MB/s eta 0:00:14\n",
      "     - -------------------------------------- 1.7/42.8 MB 3.2 MB/s eta 0:00:13\n",
      "     - -------------------------------------- 1.9/42.8 MB 3.4 MB/s eta 0:00:13\n",
      "     - -------------------------------------- 2.1/42.8 MB 3.5 MB/s eta 0:00:12\n",
      "     -- ------------------------------------- 2.3/42.8 MB 3.6 MB/s eta 0:00:12\n",
      "     -- ------------------------------------- 2.6/42.8 MB 3.6 MB/s eta 0:00:12\n",
      "     -- ------------------------------------- 2.8/42.8 MB 3.7 MB/s eta 0:00:11\n",
      "     -- ------------------------------------- 3.1/42.8 MB 3.8 MB/s eta 0:00:11\n",
      "     --- ------------------------------------ 3.4/42.8 MB 3.9 MB/s eta 0:00:11\n",
      "     --- ------------------------------------ 3.6/42.8 MB 3.9 MB/s eta 0:00:10\n",
      "     --- ------------------------------------ 3.9/42.8 MB 4.0 MB/s eta 0:00:10\n",
      "     --- ------------------------------------ 4.1/42.8 MB 4.0 MB/s eta 0:00:10\n",
      "     ---- ----------------------------------- 4.3/42.8 MB 4.0 MB/s eta 0:00:10\n",
      "     ---- ----------------------------------- 4.5/42.8 MB 4.1 MB/s eta 0:00:10\n",
      "     ---- ----------------------------------- 4.8/42.8 MB 4.1 MB/s eta 0:00:10\n",
      "     ---- ----------------------------------- 5.0/42.8 MB 4.1 MB/s eta 0:00:10\n",
      "     ---- ----------------------------------- 5.2/42.8 MB 4.2 MB/s eta 0:00:10\n",
      "     ----- ---------------------------------- 5.4/42.8 MB 4.2 MB/s eta 0:00:09\n",
      "     ----- ---------------------------------- 5.7/42.8 MB 4.2 MB/s eta 0:00:09\n",
      "     ----- ---------------------------------- 5.9/42.8 MB 4.2 MB/s eta 0:00:09\n",
      "     ----- ---------------------------------- 6.1/42.8 MB 4.2 MB/s eta 0:00:09\n",
      "     ----- ---------------------------------- 6.3/42.8 MB 4.3 MB/s eta 0:00:09\n",
      "     ------ --------------------------------- 6.6/42.8 MB 4.3 MB/s eta 0:00:09\n",
      "     ------ --------------------------------- 6.8/42.8 MB 4.3 MB/s eta 0:00:09\n",
      "     ------ --------------------------------- 7.0/42.8 MB 4.3 MB/s eta 0:00:09\n",
      "     ------ --------------------------------- 7.2/42.8 MB 4.3 MB/s eta 0:00:09\n",
      "     ------ --------------------------------- 7.4/42.8 MB 4.3 MB/s eta 0:00:09\n",
      "     ------- -------------------------------- 7.7/42.8 MB 4.3 MB/s eta 0:00:09\n",
      "     ------- -------------------------------- 7.8/42.8 MB 4.3 MB/s eta 0:00:09\n",
      "     ------- -------------------------------- 8.0/42.8 MB 4.3 MB/s eta 0:00:09\n",
      "     ------- -------------------------------- 8.2/42.8 MB 4.3 MB/s eta 0:00:09\n",
      "     ------- -------------------------------- 8.4/42.8 MB 4.3 MB/s eta 0:00:08\n",
      "     -------- ------------------------------- 8.7/42.8 MB 4.3 MB/s eta 0:00:08\n",
      "     -------- ------------------------------- 8.9/42.8 MB 4.3 MB/s eta 0:00:08\n",
      "     -------- ------------------------------- 9.1/42.8 MB 4.3 MB/s eta 0:00:08\n",
      "     -------- ------------------------------- 9.3/42.8 MB 4.4 MB/s eta 0:00:08\n",
      "     -------- ------------------------------- 9.6/42.8 MB 4.4 MB/s eta 0:00:08\n",
      "     --------- ------------------------------ 9.8/42.8 MB 4.4 MB/s eta 0:00:08\n",
      "     --------- ------------------------------ 10.0/42.8 MB 4.4 MB/s eta 0:00:08\n",
      "     --------- ------------------------------ 10.2/42.8 MB 4.4 MB/s eta 0:00:08\n",
      "     --------- ------------------------------ 10.5/42.8 MB 4.7 MB/s eta 0:00:07\n",
      "     --------- ------------------------------ 10.7/42.8 MB 4.7 MB/s eta 0:00:07\n",
      "     ---------- ----------------------------- 10.9/42.8 MB 4.7 MB/s eta 0:00:07\n",
      "     ---------- ----------------------------- 11.1/42.8 MB 4.7 MB/s eta 0:00:07\n",
      "     ---------- ----------------------------- 11.4/42.8 MB 4.7 MB/s eta 0:00:07\n",
      "     ---------- ----------------------------- 11.6/42.8 MB 4.7 MB/s eta 0:00:07\n",
      "     ----------- ---------------------------- 11.8/42.8 MB 4.7 MB/s eta 0:00:07\n",
      "     ----------- ---------------------------- 12.1/42.8 MB 4.7 MB/s eta 0:00:07\n",
      "     ----------- ---------------------------- 12.3/42.8 MB 4.7 MB/s eta 0:00:07\n",
      "     ----------- ---------------------------- 12.5/42.8 MB 4.7 MB/s eta 0:00:07\n",
      "     ----------- ---------------------------- 12.7/42.8 MB 4.7 MB/s eta 0:00:07\n",
      "     ------------ --------------------------- 13.0/42.8 MB 4.7 MB/s eta 0:00:07\n",
      "     ------------ --------------------------- 13.2/42.8 MB 4.7 MB/s eta 0:00:07\n",
      "     ------------ --------------------------- 13.4/42.8 MB 4.7 MB/s eta 0:00:07\n",
      "     ------------ --------------------------- 13.6/42.8 MB 4.7 MB/s eta 0:00:07\n",
      "     ------------ --------------------------- 13.9/42.8 MB 4.7 MB/s eta 0:00:07\n",
      "     ------------- -------------------------- 14.1/42.8 MB 4.7 MB/s eta 0:00:07\n",
      "     ------------- -------------------------- 14.3/42.8 MB 4.7 MB/s eta 0:00:06\n",
      "     ------------- -------------------------- 14.5/42.8 MB 4.7 MB/s eta 0:00:06\n",
      "     ------------- -------------------------- 14.8/42.8 MB 4.7 MB/s eta 0:00:06\n",
      "     -------------- ------------------------- 15.0/42.8 MB 4.7 MB/s eta 0:00:06\n",
      "     -------------- ------------------------- 15.2/42.8 MB 4.7 MB/s eta 0:00:06\n",
      "     -------------- ------------------------- 15.5/42.8 MB 4.7 MB/s eta 0:00:06\n",
      "     -------------- ------------------------- 15.7/42.8 MB 4.7 MB/s eta 0:00:06\n",
      "     -------------- ------------------------- 15.9/42.8 MB 4.7 MB/s eta 0:00:06\n",
      "     --------------- ------------------------ 16.1/42.8 MB 4.7 MB/s eta 0:00:06\n",
      "     --------------- ------------------------ 16.4/42.8 MB 4.7 MB/s eta 0:00:06\n",
      "     --------------- ------------------------ 16.6/42.8 MB 4.7 MB/s eta 0:00:06\n",
      "     --------------- ------------------------ 16.8/42.8 MB 4.7 MB/s eta 0:00:06\n",
      "     --------------- ------------------------ 17.0/42.8 MB 4.7 MB/s eta 0:00:06\n",
      "     ---------------- ----------------------- 17.3/42.8 MB 4.7 MB/s eta 0:00:06\n",
      "     ---------------- ----------------------- 17.5/42.8 MB 4.7 MB/s eta 0:00:06\n",
      "     ---------------- ----------------------- 17.7/42.8 MB 4.7 MB/s eta 0:00:06\n",
      "     ---------------- ----------------------- 17.9/42.8 MB 4.8 MB/s eta 0:00:06\n",
      "     ---------------- ----------------------- 18.2/42.8 MB 4.7 MB/s eta 0:00:06\n",
      "     ----------------- ---------------------- 18.4/42.8 MB 4.8 MB/s eta 0:00:06\n",
      "     ----------------- ---------------------- 18.6/42.8 MB 4.8 MB/s eta 0:00:06\n",
      "     ----------------- ---------------------- 18.8/42.8 MB 4.8 MB/s eta 0:00:05\n",
      "     ----------------- ---------------------- 19.1/42.8 MB 4.8 MB/s eta 0:00:05\n",
      "     ------------------ --------------------- 19.3/42.8 MB 4.8 MB/s eta 0:00:05\n",
      "     ------------------ --------------------- 19.5/42.8 MB 4.8 MB/s eta 0:00:05\n",
      "     ------------------ --------------------- 19.8/42.8 MB 4.8 MB/s eta 0:00:05\n",
      "     ------------------ --------------------- 20.0/42.8 MB 4.8 MB/s eta 0:00:05\n",
      "     ------------------ --------------------- 20.2/42.8 MB 4.8 MB/s eta 0:00:05\n",
      "     ------------------- -------------------- 20.4/42.8 MB 4.8 MB/s eta 0:00:05\n",
      "     ------------------- -------------------- 20.7/42.8 MB 4.8 MB/s eta 0:00:05\n",
      "     ------------------- -------------------- 20.9/42.8 MB 4.8 MB/s eta 0:00:05\n",
      "     ------------------- -------------------- 21.1/42.8 MB 4.8 MB/s eta 0:00:05\n",
      "     ------------------- -------------------- 21.3/42.8 MB 4.9 MB/s eta 0:00:05\n",
      "     -------------------- ------------------- 21.6/42.8 MB 4.8 MB/s eta 0:00:05\n",
      "     -------------------- ------------------- 21.8/42.8 MB 4.8 MB/s eta 0:00:05\n",
      "     -------------------- ------------------- 22.0/42.8 MB 4.9 MB/s eta 0:00:05\n",
      "     -------------------- ------------------- 22.2/42.8 MB 4.8 MB/s eta 0:00:05\n",
      "     -------------------- ------------------- 22.4/42.8 MB 4.8 MB/s eta 0:00:05\n",
      "     --------------------- ------------------ 22.7/42.8 MB 4.8 MB/s eta 0:00:05\n",
      "     --------------------- ------------------ 22.9/42.8 MB 4.8 MB/s eta 0:00:05\n",
      "     --------------------- ------------------ 23.1/42.8 MB 4.8 MB/s eta 0:00:05\n",
      "     --------------------- ------------------ 23.3/42.8 MB 4.8 MB/s eta 0:00:05\n",
      "     ---------------------- ----------------- 23.6/42.8 MB 4.8 MB/s eta 0:00:04\n",
      "     ---------------------- ----------------- 23.8/42.8 MB 4.8 MB/s eta 0:00:04\n",
      "     ---------------------- ----------------- 24.0/42.8 MB 4.8 MB/s eta 0:00:04\n",
      "     ---------------------- ----------------- 24.2/42.8 MB 4.8 MB/s eta 0:00:04\n",
      "     ---------------------- ----------------- 24.5/42.8 MB 4.8 MB/s eta 0:00:04\n",
      "     ----------------------- ---------------- 24.7/42.8 MB 4.8 MB/s eta 0:00:04\n",
      "     ----------------------- ---------------- 24.9/42.8 MB 4.8 MB/s eta 0:00:04\n",
      "     ----------------------- ---------------- 25.1/42.8 MB 4.8 MB/s eta 0:00:04\n",
      "     ----------------------- ---------------- 25.4/42.8 MB 4.8 MB/s eta 0:00:04\n",
      "     ----------------------- ---------------- 25.6/42.8 MB 4.8 MB/s eta 0:00:04\n",
      "     ------------------------ --------------- 25.8/42.8 MB 4.8 MB/s eta 0:00:04\n",
      "     ------------------------ --------------- 26.0/42.8 MB 4.8 MB/s eta 0:00:04\n",
      "     ------------------------ --------------- 26.2/42.8 MB 4.8 MB/s eta 0:00:04\n",
      "     ------------------------ --------------- 26.4/42.8 MB 4.8 MB/s eta 0:00:04\n",
      "     ------------------------ --------------- 26.7/42.8 MB 4.8 MB/s eta 0:00:04\n",
      "     ------------------------- -------------- 26.9/42.8 MB 4.8 MB/s eta 0:00:04\n",
      "     ------------------------- -------------- 27.1/42.8 MB 4.8 MB/s eta 0:00:04\n",
      "     ------------------------- -------------- 27.3/42.8 MB 4.8 MB/s eta 0:00:04\n",
      "     ------------------------- -------------- 27.6/42.8 MB 4.8 MB/s eta 0:00:04\n",
      "     ------------------------- -------------- 27.8/42.8 MB 4.8 MB/s eta 0:00:04\n",
      "     -------------------------- ------------- 28.0/42.8 MB 4.8 MB/s eta 0:00:04\n",
      "     -------------------------- ------------- 28.3/42.8 MB 4.8 MB/s eta 0:00:04\n",
      "     -------------------------- ------------- 28.5/42.8 MB 4.8 MB/s eta 0:00:03\n",
      "     -------------------------- ------------- 28.7/42.8 MB 4.8 MB/s eta 0:00:03\n",
      "     --------------------------- ------------ 28.9/42.8 MB 4.8 MB/s eta 0:00:03\n",
      "     --------------------------- ------------ 29.1/42.8 MB 4.8 MB/s eta 0:00:03\n",
      "     --------------------------- ------------ 29.4/42.8 MB 4.8 MB/s eta 0:00:03\n",
      "     --------------------------- ------------ 29.6/42.8 MB 4.8 MB/s eta 0:00:03\n",
      "     --------------------------- ------------ 29.8/42.8 MB 4.8 MB/s eta 0:00:03\n",
      "     ---------------------------- ----------- 30.1/42.8 MB 4.8 MB/s eta 0:00:03\n",
      "     ---------------------------- ----------- 30.3/42.8 MB 4.8 MB/s eta 0:00:03\n",
      "     ---------------------------- ----------- 30.5/42.8 MB 4.8 MB/s eta 0:00:03\n",
      "     ---------------------------- ----------- 30.8/42.8 MB 4.8 MB/s eta 0:00:03\n",
      "     ---------------------------- ----------- 30.9/42.8 MB 4.8 MB/s eta 0:00:03\n",
      "     ----------------------------- ---------- 31.2/42.8 MB 4.8 MB/s eta 0:00:03\n",
      "     ----------------------------- ---------- 31.4/42.8 MB 4.8 MB/s eta 0:00:03\n",
      "     ----------------------------- ---------- 31.6/42.8 MB 4.8 MB/s eta 0:00:03\n",
      "     ----------------------------- ---------- 31.8/42.8 MB 4.8 MB/s eta 0:00:03\n",
      "     ----------------------------- ---------- 32.0/42.8 MB 4.8 MB/s eta 0:00:03\n",
      "     ------------------------------ --------- 32.3/42.8 MB 4.8 MB/s eta 0:00:03\n",
      "     ------------------------------ --------- 32.5/42.8 MB 4.8 MB/s eta 0:00:03\n",
      "     ------------------------------ --------- 32.7/42.8 MB 4.8 MB/s eta 0:00:03\n",
      "     ------------------------------ --------- 33.0/42.8 MB 4.8 MB/s eta 0:00:03\n",
      "     ------------------------------- -------- 33.2/42.8 MB 4.8 MB/s eta 0:00:02\n",
      "     ------------------------------- -------- 33.4/42.8 MB 4.8 MB/s eta 0:00:02\n",
      "     ------------------------------- -------- 33.7/42.8 MB 4.8 MB/s eta 0:00:02\n",
      "     ------------------------------- -------- 33.9/42.8 MB 4.8 MB/s eta 0:00:02\n",
      "     ------------------------------- -------- 34.1/42.8 MB 4.8 MB/s eta 0:00:02\n",
      "     -------------------------------- ------- 34.3/42.8 MB 4.8 MB/s eta 0:00:02\n",
      "     -------------------------------- ------- 34.6/42.8 MB 4.8 MB/s eta 0:00:02\n",
      "     -------------------------------- ------- 34.8/42.8 MB 4.8 MB/s eta 0:00:02\n",
      "     -------------------------------- ------- 35.0/42.8 MB 4.8 MB/s eta 0:00:02\n",
      "     -------------------------------- ------- 35.2/42.8 MB 4.8 MB/s eta 0:00:02\n",
      "     --------------------------------- ------ 35.5/42.8 MB 4.8 MB/s eta 0:00:02\n",
      "     --------------------------------- ------ 35.7/42.8 MB 4.8 MB/s eta 0:00:02\n",
      "     --------------------------------- ------ 35.9/42.8 MB 4.8 MB/s eta 0:00:02\n",
      "     --------------------------------- ------ 36.1/42.8 MB 4.8 MB/s eta 0:00:02\n",
      "     --------------------------------- ------ 36.4/42.8 MB 4.8 MB/s eta 0:00:02\n",
      "     ---------------------------------- ----- 36.6/42.8 MB 4.8 MB/s eta 0:00:02\n",
      "     ---------------------------------- ----- 36.8/42.8 MB 4.8 MB/s eta 0:00:02\n",
      "     ---------------------------------- ----- 37.0/42.8 MB 4.8 MB/s eta 0:00:02\n",
      "     ---------------------------------- ----- 37.2/42.8 MB 4.8 MB/s eta 0:00:02\n",
      "     ----------------------------------- ---- 37.4/42.8 MB 4.8 MB/s eta 0:00:02\n",
      "     ----------------------------------- ---- 37.7/42.8 MB 4.8 MB/s eta 0:00:02\n",
      "     ----------------------------------- ---- 37.9/42.8 MB 4.8 MB/s eta 0:00:02\n",
      "     ----------------------------------- ---- 38.2/42.8 MB 4.8 MB/s eta 0:00:01\n",
      "     ----------------------------------- ---- 38.4/42.8 MB 4.8 MB/s eta 0:00:01\n",
      "     ------------------------------------ --- 38.6/42.8 MB 4.8 MB/s eta 0:00:01\n",
      "     ------------------------------------ --- 38.8/42.8 MB 4.8 MB/s eta 0:00:01\n",
      "     ------------------------------------ --- 39.1/42.8 MB 4.8 MB/s eta 0:00:01\n",
      "     ------------------------------------ --- 39.3/42.8 MB 4.8 MB/s eta 0:00:01\n",
      "     ------------------------------------ --- 39.5/42.8 MB 4.8 MB/s eta 0:00:01\n",
      "     ------------------------------------- -- 39.7/42.8 MB 4.8 MB/s eta 0:00:01\n",
      "     ------------------------------------- -- 39.9/42.8 MB 4.8 MB/s eta 0:00:01\n",
      "     ------------------------------------- -- 40.2/42.8 MB 4.8 MB/s eta 0:00:01\n",
      "     ------------------------------------- -- 40.4/42.8 MB 4.8 MB/s eta 0:00:01\n",
      "     ------------------------------------- -- 40.6/42.8 MB 4.8 MB/s eta 0:00:01\n",
      "     -------------------------------------- - 40.8/42.8 MB 4.8 MB/s eta 0:00:01\n",
      "     -------------------------------------- - 41.1/42.8 MB 4.8 MB/s eta 0:00:01\n",
      "     -------------------------------------- - 41.3/42.8 MB 4.8 MB/s eta 0:00:01\n",
      "     -------------------------------------- - 41.5/42.8 MB 4.8 MB/s eta 0:00:01\n",
      "     ---------------------------------------  41.8/42.8 MB 4.8 MB/s eta 0:00:01\n",
      "     ---------------------------------------  41.9/42.8 MB 4.8 MB/s eta 0:00:01\n",
      "     ---------------------------------------  42.2/42.8 MB 4.8 MB/s eta 0:00:01\n",
      "     ---------------------------------------  42.4/42.8 MB 4.8 MB/s eta 0:00:01\n",
      "     ---------------------------------------  42.6/42.8 MB 4.8 MB/s eta 0:00:01\n",
      "     ---------------------------------------  42.8/42.8 MB 4.8 MB/s eta 0:00:01\n",
      "     ---------------------------------------  42.8/42.8 MB 4.8 MB/s eta 0:00:01\n",
      "     ---------------------------------------- 42.8/42.8 MB 4.6 MB/s eta 0:00:00\n",
      "Requirement already satisfied: spacy<3.8.0,>=3.7.2 in c:\\users\\prashant kajal\\.conda\\envs\\preprocess_env\\lib\\site-packages (from en-core-web-md==3.7.1) (3.7.6)\n",
      "Requirement already satisfied: spacy-legacy<3.1.0,>=3.0.11 in c:\\users\\prashant kajal\\.conda\\envs\\preprocess_env\\lib\\site-packages (from spacy<3.8.0,>=3.7.2->en-core-web-md==3.7.1) (3.0.12)\n",
      "Requirement already satisfied: spacy-loggers<2.0.0,>=1.0.0 in c:\\users\\prashant kajal\\.conda\\envs\\preprocess_env\\lib\\site-packages (from spacy<3.8.0,>=3.7.2->en-core-web-md==3.7.1) (1.0.5)\n",
      "Requirement already satisfied: murmurhash<1.1.0,>=0.28.0 in c:\\users\\prashant kajal\\.conda\\envs\\preprocess_env\\lib\\site-packages (from spacy<3.8.0,>=3.7.2->en-core-web-md==3.7.1) (1.0.10)\n",
      "Requirement already satisfied: cymem<2.1.0,>=2.0.2 in c:\\users\\prashant kajal\\.conda\\envs\\preprocess_env\\lib\\site-packages (from spacy<3.8.0,>=3.7.2->en-core-web-md==3.7.1) (2.0.8)\n",
      "Requirement already satisfied: preshed<3.1.0,>=3.0.2 in c:\\users\\prashant kajal\\.conda\\envs\\preprocess_env\\lib\\site-packages (from spacy<3.8.0,>=3.7.2->en-core-web-md==3.7.1) (3.0.9)\n",
      "Requirement already satisfied: thinc<8.3.0,>=8.2.2 in c:\\users\\prashant kajal\\.conda\\envs\\preprocess_env\\lib\\site-packages (from spacy<3.8.0,>=3.7.2->en-core-web-md==3.7.1) (8.2.5)\n",
      "Requirement already satisfied: wasabi<1.2.0,>=0.9.1 in c:\\users\\prashant kajal\\.conda\\envs\\preprocess_env\\lib\\site-packages (from spacy<3.8.0,>=3.7.2->en-core-web-md==3.7.1) (1.1.3)\n",
      "Requirement already satisfied: srsly<3.0.0,>=2.4.3 in c:\\users\\prashant kajal\\.conda\\envs\\preprocess_env\\lib\\site-packages (from spacy<3.8.0,>=3.7.2->en-core-web-md==3.7.1) (2.4.8)\n",
      "Requirement already satisfied: catalogue<2.1.0,>=2.0.6 in c:\\users\\prashant kajal\\.conda\\envs\\preprocess_env\\lib\\site-packages (from spacy<3.8.0,>=3.7.2->en-core-web-md==3.7.1) (2.0.10)\n",
      "Requirement already satisfied: weasel<0.5.0,>=0.1.0 in c:\\users\\prashant kajal\\.conda\\envs\\preprocess_env\\lib\\site-packages (from spacy<3.8.0,>=3.7.2->en-core-web-md==3.7.1) (0.4.1)\n",
      "Requirement already satisfied: typer<1.0.0,>=0.3.0 in c:\\users\\prashant kajal\\.conda\\envs\\preprocess_env\\lib\\site-packages (from spacy<3.8.0,>=3.7.2->en-core-web-md==3.7.1) (0.12.5)\n",
      "Requirement already satisfied: tqdm<5.0.0,>=4.38.0 in c:\\users\\prashant kajal\\.conda\\envs\\preprocess_env\\lib\\site-packages (from spacy<3.8.0,>=3.7.2->en-core-web-md==3.7.1) (4.64.1)\n",
      "Requirement already satisfied: requests<3.0.0,>=2.13.0 in c:\\users\\prashant kajal\\.conda\\envs\\preprocess_env\\lib\\site-packages (from spacy<3.8.0,>=3.7.2->en-core-web-md==3.7.1) (2.28.1)\n",
      "Requirement already satisfied: pydantic!=1.8,!=1.8.1,<3.0.0,>=1.7.4 in c:\\users\\prashant kajal\\.conda\\envs\\preprocess_env\\lib\\site-packages (from spacy<3.8.0,>=3.7.2->en-core-web-md==3.7.1) (1.10.12)\n",
      "Requirement already satisfied: jinja2 in c:\\users\\prashant kajal\\.conda\\envs\\preprocess_env\\lib\\site-packages (from spacy<3.8.0,>=3.7.2->en-core-web-md==3.7.1) (3.1.3)\n",
      "Requirement already satisfied: setuptools in c:\\users\\prashant kajal\\.conda\\envs\\preprocess_env\\lib\\site-packages (from spacy<3.8.0,>=3.7.2->en-core-web-md==3.7.1) (68.2.2)\n",
      "Requirement already satisfied: packaging>=20.0 in c:\\users\\prashant kajal\\.conda\\envs\\preprocess_env\\lib\\site-packages (from spacy<3.8.0,>=3.7.2->en-core-web-md==3.7.1) (23.2)\n",
      "Requirement already satisfied: langcodes<4.0.0,>=3.2.0 in c:\\users\\prashant kajal\\.conda\\envs\\preprocess_env\\lib\\site-packages (from spacy<3.8.0,>=3.7.2->en-core-web-md==3.7.1) (3.4.1)\n",
      "Requirement already satisfied: numpy>=1.19.0 in c:\\users\\prashant kajal\\.conda\\envs\\preprocess_env\\lib\\site-packages (from spacy<3.8.0,>=3.7.2->en-core-web-md==3.7.1) (1.23.5)\n",
      "Requirement already satisfied: language-data>=1.2 in c:\\users\\prashant kajal\\.conda\\envs\\preprocess_env\\lib\\site-packages (from langcodes<4.0.0,>=3.2.0->spacy<3.8.0,>=3.7.2->en-core-web-md==3.7.1) (1.2.0)\n",
      "Requirement already satisfied: typing-extensions>=4.2.0 in c:\\users\\prashant kajal\\.conda\\envs\\preprocess_env\\lib\\site-packages (from pydantic!=1.8,!=1.8.1,<3.0.0,>=1.7.4->spacy<3.8.0,>=3.7.2->en-core-web-md==3.7.1) (4.9.0)\n",
      "Requirement already satisfied: charset-normalizer<3,>=2 in c:\\users\\prashant kajal\\.conda\\envs\\preprocess_env\\lib\\site-packages (from requests<3.0.0,>=2.13.0->spacy<3.8.0,>=3.7.2->en-core-web-md==3.7.1) (2.0.4)\n",
      "Requirement already satisfied: idna<4,>=2.5 in c:\\users\\prashant kajal\\.conda\\envs\\preprocess_env\\lib\\site-packages (from requests<3.0.0,>=2.13.0->spacy<3.8.0,>=3.7.2->en-core-web-md==3.7.1) (3.4)\n",
      "Requirement already satisfied: urllib3<1.27,>=1.21.1 in c:\\users\\prashant kajal\\.conda\\envs\\preprocess_env\\lib\\site-packages (from requests<3.0.0,>=2.13.0->spacy<3.8.0,>=3.7.2->en-core-web-md==3.7.1) (1.26.18)\n",
      "Requirement already satisfied: certifi>=2017.4.17 in c:\\users\\prashant kajal\\.conda\\envs\\preprocess_env\\lib\\site-packages (from requests<3.0.0,>=2.13.0->spacy<3.8.0,>=3.7.2->en-core-web-md==3.7.1) (2024.2.2)\n",
      "Requirement already satisfied: blis<0.8.0,>=0.7.8 in c:\\users\\prashant kajal\\.conda\\envs\\preprocess_env\\lib\\site-packages (from thinc<8.3.0,>=8.2.2->spacy<3.8.0,>=3.7.2->en-core-web-md==3.7.1) (0.7.11)\n",
      "Requirement already satisfied: confection<1.0.0,>=0.0.1 in c:\\users\\prashant kajal\\.conda\\envs\\preprocess_env\\lib\\site-packages (from thinc<8.3.0,>=8.2.2->spacy<3.8.0,>=3.7.2->en-core-web-md==3.7.1) (0.1.5)\n",
      "Requirement already satisfied: colorama in c:\\users\\prashant kajal\\.conda\\envs\\preprocess_env\\lib\\site-packages (from tqdm<5.0.0,>=4.38.0->spacy<3.8.0,>=3.7.2->en-core-web-md==3.7.1) (0.4.6)\n",
      "Requirement already satisfied: click>=8.0.0 in c:\\users\\prashant kajal\\.conda\\envs\\preprocess_env\\lib\\site-packages (from typer<1.0.0,>=0.3.0->spacy<3.8.0,>=3.7.2->en-core-web-md==3.7.1) (8.1.7)\n",
      "Requirement already satisfied: shellingham>=1.3.0 in c:\\users\\prashant kajal\\.conda\\envs\\preprocess_env\\lib\\site-packages (from typer<1.0.0,>=0.3.0->spacy<3.8.0,>=3.7.2->en-core-web-md==3.7.1) (1.5.4)\n",
      "Requirement already satisfied: rich>=10.11.0 in c:\\users\\prashant kajal\\.conda\\envs\\preprocess_env\\lib\\site-packages (from typer<1.0.0,>=0.3.0->spacy<3.8.0,>=3.7.2->en-core-web-md==3.7.1) (13.8.1)\n",
      "Requirement already satisfied: cloudpathlib<1.0.0,>=0.7.0 in c:\\users\\prashant kajal\\.conda\\envs\\preprocess_env\\lib\\site-packages (from weasel<0.5.0,>=0.1.0->spacy<3.8.0,>=3.7.2->en-core-web-md==3.7.1) (0.19.0)\n",
      "Requirement already satisfied: smart-open<8.0.0,>=5.2.1 in c:\\users\\prashant kajal\\.conda\\envs\\preprocess_env\\lib\\site-packages (from weasel<0.5.0,>=0.1.0->spacy<3.8.0,>=3.7.2->en-core-web-md==3.7.1) (7.0.4)\n",
      "Requirement already satisfied: MarkupSafe>=2.0 in c:\\users\\prashant kajal\\.conda\\envs\\preprocess_env\\lib\\site-packages (from jinja2->spacy<3.8.0,>=3.7.2->en-core-web-md==3.7.1) (2.1.3)\n",
      "Requirement already satisfied: marisa-trie>=0.7.7 in c:\\users\\prashant kajal\\.conda\\envs\\preprocess_env\\lib\\site-packages (from language-data>=1.2->langcodes<4.0.0,>=3.2.0->spacy<3.8.0,>=3.7.2->en-core-web-md==3.7.1) (1.2.0)\n",
      "Requirement already satisfied: markdown-it-py>=2.2.0 in c:\\users\\prashant kajal\\.conda\\envs\\preprocess_env\\lib\\site-packages (from rich>=10.11.0->typer<1.0.0,>=0.3.0->spacy<3.8.0,>=3.7.2->en-core-web-md==3.7.1) (3.0.0)\n",
      "Requirement already satisfied: pygments<3.0.0,>=2.13.0 in c:\\users\\prashant kajal\\.conda\\envs\\preprocess_env\\lib\\site-packages (from rich>=10.11.0->typer<1.0.0,>=0.3.0->spacy<3.8.0,>=3.7.2->en-core-web-md==3.7.1) (2.15.1)\n",
      "Requirement already satisfied: wrapt in c:\\users\\prashant kajal\\.conda\\envs\\preprocess_env\\lib\\site-packages (from smart-open<8.0.0,>=5.2.1->weasel<0.5.0,>=0.1.0->spacy<3.8.0,>=3.7.2->en-core-web-md==3.7.1) (1.16.0)\n",
      "Requirement already satisfied: mdurl~=0.1 in c:\\users\\prashant kajal\\.conda\\envs\\preprocess_env\\lib\\site-packages (from markdown-it-py>=2.2.0->rich>=10.11.0->typer<1.0.0,>=0.3.0->spacy<3.8.0,>=3.7.2->en-core-web-md==3.7.1) (0.1.2)\n",
      "Installing collected packages: en-core-web-md\n",
      "Successfully installed en-core-web-md-3.7.1\n",
      "\u001b[38;5;2m[+] Download and installation successful\u001b[0m\n",
      "You can now load the package via spacy.load('en_core_web_md')\n"
     ]
    }
   ],
   "source": [
    "!python -m spacy download en_core_web_md"
   ]
  },
  {
   "cell_type": "code",
   "execution_count": 445,
   "id": "da41c68c",
   "metadata": {},
   "outputs": [],
   "source": [
    "glove_model = spacy.load('en_core_web_md')"
   ]
  },
  {
   "cell_type": "code",
   "execution_count": 448,
   "id": "8fb757aa",
   "metadata": {
    "collapsed": true
   },
   "outputs": [
    {
     "data": {
      "text/plain": [
       "array([-4.7267e+00, -3.2360e+00, -7.3710e+00, -1.0489e-01,  3.9620e+00,\n",
       "        3.6566e+00,  2.7841e+00,  5.8755e-01,  2.3712e+00,  3.5601e+00,\n",
       "        3.5018e+00,  3.3417e+00, -3.3269e+00,  4.9772e+00, -4.6630e+00,\n",
       "        5.1539e-01,  1.5147e+00,  1.7821e+00,  2.6395e+00,  1.5738e+00,\n",
       "        2.7575e+00,  1.3967e+00, -2.6283e+00,  3.8107e+00, -2.5779e+00,\n",
       "       -1.9897e+00, -1.0475e+00, -5.3496e+00,  3.6473e+00, -4.2020e+00,\n",
       "        8.3994e-01,  3.3382e+00, -4.0465e+00,  1.6089e+00,  2.7818e+00,\n",
       "       -1.5335e+00, -4.9039e+00, -7.3172e-01,  7.8021e+00,  4.0585e+00,\n",
       "       -4.5176e+00,  9.9998e-01, -2.3385e+00, -1.1560e-01,  6.0838e+00,\n",
       "       -2.3091e+00,  8.2888e+00, -3.1598e+00, -1.5010e+00,  3.5432e+00,\n",
       "       -1.9039e+00,  2.6200e+00, -1.0613e+00, -3.3889e+00, -4.2885e-01,\n",
       "       -1.1062e+00,  2.6952e+00,  2.6195e-01, -1.4376e+00, -2.4823e-01,\n",
       "        7.8905e+00, -2.9588e+00,  2.4996e+00, -7.9778e+00,  1.4914e+00,\n",
       "       -5.4918e+00, -4.1051e-01, -3.4404e+00, -2.1738e+00,  3.7633e+00,\n",
       "       -4.9177e+00,  3.1115e+00,  4.8611e+00, -6.8411e-02, -5.8316e-01,\n",
       "       -9.9359e-01, -4.9509e+00,  5.2751e+00,  3.6928e+00, -2.9372e+00,\n",
       "        5.1853e+00,  6.8636e+00,  3.5295e+00, -3.2271e+00, -1.0189e+00,\n",
       "       -4.1342e-01,  4.1983e-01, -1.8230e-01,  2.0841e+00, -1.9261e+00,\n",
       "        1.8335e+00,  8.3059e+00, -1.5206e+00,  1.3786e+00,  2.9189e+00,\n",
       "        2.6889e-01,  1.2188e+00,  4.4671e-01,  3.0075e+00, -9.6767e-01,\n",
       "        4.6413e+00, -3.9295e+00,  7.7651e-01, -6.0054e-02,  2.9589e+00,\n",
       "        2.7423e+00, -5.4439e-01, -6.4664e+00, -6.9471e-01, -8.6340e+00,\n",
       "       -3.2363e+00,  1.2117e+00, -1.1830e+00, -2.9775e-01,  2.4475e+00,\n",
       "        2.6052e+00, -5.0112e-01, -4.7557e+00,  8.1437e+00, -7.0195e+00,\n",
       "        4.7875e+00, -4.8565e+00,  1.1065e+00,  8.8501e+00,  2.2041e+00,\n",
       "       -6.9467e+00,  4.9249e+00,  4.9567e+00,  6.9943e+00,  5.4479e+00,\n",
       "        3.0411e+00, -8.9258e-01,  3.4978e+00,  3.7300e+00,  1.1830e+00,\n",
       "       -2.5819e+00,  1.7135e+00,  3.6446e-01, -9.0688e-01, -3.8056e+00,\n",
       "       -2.5748e+00, -1.0080e+00,  1.2176e+00,  2.6919e+00,  7.6714e-01,\n",
       "        4.1438e+00,  4.5939e-01,  2.5168e+00, -2.4842e+00,  2.8284e-01,\n",
       "       -3.4554e+00,  2.3289e-01,  4.9404e+00,  4.4888e+00,  1.4321e+00,\n",
       "       -3.9053e+00,  1.1424e+00, -3.1166e+00,  3.2050e+00,  1.2213e+00,\n",
       "       -2.0550e+00, -4.5924e+00, -3.6394e+00, -8.8730e-01, -3.3920e-01,\n",
       "       -1.1956e+00, -2.0828e+00,  4.4978e+00,  1.2897e+00,  4.0981e+00,\n",
       "       -2.9996e+00,  5.2617e+00, -4.8542e+00,  3.8454e+00, -3.1484e-01,\n",
       "       -1.3501e+00, -2.4705e+00, -5.6807e+00, -3.3297e+00, -2.3117e+00,\n",
       "        4.9364e+00,  7.8078e+00,  5.9824e+00,  4.7295e+00, -7.9942e-01,\n",
       "       -4.5071e+00,  3.0061e+00, -2.4747e+00,  1.8512e+00, -2.3487e+00,\n",
       "        4.5318e+00,  1.0667e+00, -3.2862e+00, -7.1928e+00,  6.2384e+00,\n",
       "        4.7078e+00, -2.1211e+00, -1.9504e+00, -4.0671e-03,  3.7244e+00,\n",
       "       -4.1888e+00,  1.1619e+00,  3.3075e+00, -2.0185e+00,  8.5334e+00,\n",
       "       -2.5387e+00, -1.8248e+00, -2.2403e+00,  2.8108e+00,  6.6446e-01,\n",
       "       -5.1114e+00, -2.2060e+00, -2.8970e+00,  5.2302e+00,  4.8739e+00,\n",
       "        4.7527e+00, -3.5439e+00, -1.1179e+00,  5.7906e+00, -1.7740e+00,\n",
       "       -2.5010e+00,  1.5865e+00,  3.2736e+00, -8.8398e+00, -5.6192e-01,\n",
       "       -5.8625e+00,  1.9217e+00,  3.3593e+00,  1.6412e+00,  1.1060e+00,\n",
       "        6.8428e+00, -4.1241e+00,  3.1285e+00,  6.9028e+00, -2.7369e+00,\n",
       "       -1.7004e+00, -5.7186e+00, -1.1807e+00, -2.0624e+00, -1.8390e+00,\n",
       "       -2.0719e+00,  2.0611e+00,  2.7883e+00, -1.3772e+00, -3.9429e+00,\n",
       "        1.5529e+00, -2.0376e-01, -1.8172e+00,  7.3459e+00, -1.9945e+00,\n",
       "       -3.5973e+00, -3.7659e+00, -6.8170e+00, -1.1889e+00, -7.3123e-01,\n",
       "       -8.2400e+00,  3.0724e+00, -4.4187e+00, -9.7902e-01,  3.5425e+00,\n",
       "       -3.5114e+00,  1.3792e+01, -2.2254e+00, -4.2824e+00,  4.4856e+00,\n",
       "        4.4416e+00, -1.9756e+00,  3.7500e+00,  1.7924e+00,  2.3932e-01,\n",
       "       -5.0073e+00, -1.5825e+00,  3.2331e+00, -1.8424e+00, -1.8875e+00,\n",
       "       -5.2827e+00, -5.0864e+00, -7.4896e+00, -3.0753e+00,  6.8471e+00,\n",
       "       -1.4828e+00,  4.2205e+00, -6.4889e+00, -1.7252e-01,  6.9198e+00,\n",
       "        7.3390e-01, -1.0560e+00,  2.7142e+00, -3.7472e+00, -4.7379e+00,\n",
       "        2.3180e-01, -3.3837e+00,  2.1463e+00,  2.8697e+00, -5.1533e+00,\n",
       "        9.4589e-01,  8.8868e-01,  1.6310e+00, -2.2419e+00,  4.2888e+00],\n",
       "      dtype=float32)"
      ]
     },
     "execution_count": 448,
     "metadata": {},
     "output_type": "execute_result"
    }
   ],
   "source": [
    "glove_model.vocab['bank'].vector"
   ]
  },
  {
   "cell_type": "code",
   "execution_count": 449,
   "id": "3cb7e77f",
   "metadata": {},
   "outputs": [],
   "source": [
    "def get_embedding(text):\n",
    "    emb = glove_model(text)\n",
    "    return emb.vector"
   ]
  },
  {
   "cell_type": "code",
   "execution_count": 455,
   "id": "edfd7af0",
   "metadata": {},
   "outputs": [
    {
     "name": "stderr",
     "output_type": "stream",
     "text": [
      "100%|████████████████████████████████████████| 13231/13231 [03:32<00:00, 62.19it/s]\n"
     ]
    }
   ],
   "source": [
    "glove_data = df['article'].progress_apply(lambda x : get_embedding(x))"
   ]
  },
  {
   "cell_type": "markdown",
   "id": "10487868",
   "metadata": {},
   "source": [
    "#### Internally GloVe takes mean for the all the words in a sentence passed to it"
   ]
  },
  {
   "cell_type": "code",
   "execution_count": 464,
   "id": "b9c5b1fc",
   "metadata": {},
   "outputs": [],
   "source": [
    "text1 = glove_model('all the news are for sbi').vector\n",
    "text2 = glove_model('collected data for more almost 4 years for the same company').vector\n",
    "text3 = glove_model('all the news are for sbi. collected data for more almost 4 years for the same company').vector"
   ]
  },
  {
   "cell_type": "code",
   "execution_count": 465,
   "id": "7fc73739",
   "metadata": {},
   "outputs": [],
   "source": [
    "mean_vector = (text1 + text2)/2"
   ]
  },
  {
   "cell_type": "code",
   "execution_count": 470,
   "id": "20afdf98",
   "metadata": {},
   "outputs": [
    {
     "data": {
      "text/plain": [
       "array([[0.987544]], dtype=float32)"
      ]
     },
     "execution_count": 470,
     "metadata": {},
     "output_type": "execute_result"
    }
   ],
   "source": [
    "from sklearn.metrics.pairwise import cosine_similarity\n",
    "\n",
    "cosine_similarity([mean_vector], [text3])"
   ]
  },
  {
   "cell_type": "code",
   "execution_count": 660,
   "id": "d1b69436",
   "metadata": {},
   "outputs": [
    {
     "data": {
      "text/plain": [
       "0        [-1.5232313, -1.3452632, -1.7712574, 1.138419,...\n",
       "1        [-1.7960392, -2.0483503, -2.6426113, 1.5941111...\n",
       "2        [-2.5876038, -1.4517138, -2.502686, 1.2334776,...\n",
       "3        [-0.49346185, -2.2923295, -1.2826152, 2.531905...\n",
       "4        [-0.9686833, -0.20538887, -2.265118, 1.1455958...\n",
       "                               ...                        \n",
       "13226    [-1.1346107, -1.7636762, -1.3233956, 2.0763075...\n",
       "13227    [-3.0870767, -1.1419549, -0.61456317, 0.974234...\n",
       "13228    [-1.7394482, 0.7237023, -3.0263448, 1.3411535,...\n",
       "13229    [-0.5185542, -2.3214946, -1.1179844, 2.8681738...\n",
       "13230    [-1.6557447, 1.260637, -2.5989487, 0.47640955,...\n",
       "Name: article, Length: 13231, dtype: object"
      ]
     },
     "execution_count": 660,
     "metadata": {},
     "output_type": "execute_result"
    }
   ],
   "source": [
    "glove_data"
   ]
  },
  {
   "cell_type": "markdown",
   "id": "8d11bb92",
   "metadata": {},
   "source": [
    "#### We can generate out dataset specific embeddings also"
   ]
  },
  {
   "cell_type": "markdown",
   "id": "af9fb0c0",
   "metadata": {},
   "source": [
    "# Model Building "
   ]
  },
  {
   "cell_type": "code",
   "execution_count": 664,
   "id": "a121eea3",
   "metadata": {},
   "outputs": [],
   "source": [
    "def correct_data(x_t):\n",
    "    x = x_t.to_list()\n",
    "    x = [i.tolist() for i in x]\n",
    "    return x"
   ]
  },
  {
   "cell_type": "markdown",
   "id": "e3b2415c",
   "metadata": {},
   "source": [
    "#### y_train, y_test"
   ]
  },
  {
   "cell_type": "code",
   "execution_count": 582,
   "id": "01cf27bb",
   "metadata": {},
   "outputs": [],
   "source": [
    "y_train = df['sentiment_score'][:10000]\n",
    "y_test = df['sentiment_score'][10000:]"
   ]
  },
  {
   "cell_type": "markdown",
   "id": "58f29dc0",
   "metadata": {},
   "source": [
    "#### tfidf: x_train_tf and x_test_tf"
   ]
  },
  {
   "cell_type": "code",
   "execution_count": 583,
   "id": "bceebe44",
   "metadata": {},
   "outputs": [],
   "source": [
    "x_train_tf = tf_data[:10000]\n",
    "x_test_tf = tf_data[10000:]"
   ]
  },
  {
   "cell_type": "markdown",
   "id": "1aec4a81",
   "metadata": {},
   "source": [
    "#### ngrams: x_train_ngram and x_test_ngram"
   ]
  },
  {
   "cell_type": "code",
   "execution_count": 584,
   "id": "426a9d70",
   "metadata": {},
   "outputs": [],
   "source": [
    "x_train_ngram = ng_data[:10000]\n",
    "x_test_ngram = ng_data[10000:]"
   ]
  },
  {
   "cell_type": "markdown",
   "id": "ba0a9fb4",
   "metadata": {},
   "source": [
    "#### CBOW: x_train_cbow and x_test_cbow"
   ]
  },
  {
   "cell_type": "code",
   "execution_count": 665,
   "id": "06485f31",
   "metadata": {},
   "outputs": [],
   "source": [
    "x_train_cbow = cbow_data[:10000]\n",
    "x_train_cbow = correct_data(x_train_cbow)\n",
    "x_test_cbow = cbow_data[10000:]\n",
    "x_test_cbow = correct_data(x_test_cbow)"
   ]
  },
  {
   "cell_type": "markdown",
   "id": "2887d903",
   "metadata": {},
   "source": [
    "#### skip-gram: x_train_sgram and x_test_sgram"
   ]
  },
  {
   "cell_type": "code",
   "execution_count": 666,
   "id": "941f9d6c",
   "metadata": {},
   "outputs": [],
   "source": [
    "x_train_sgram = sgram_data[:10000]\n",
    "x_train_sgram = correct_data(x_train_sgram)\n",
    "x_test_sgram = sgram_data[10000:]\n",
    "x_test_sgram = correct_data(x_test_sgram)"
   ]
  },
  {
   "cell_type": "markdown",
   "id": "e90a54fc",
   "metadata": {},
   "source": [
    "#### GloVe: x_train_glove and x_test_glove"
   ]
  },
  {
   "cell_type": "code",
   "execution_count": 667,
   "id": "1830177b",
   "metadata": {},
   "outputs": [],
   "source": [
    "x_train_glove = glove_data[:10000]\n",
    "x_train_glove = correct_data(x_train_glove)\n",
    "x_test_glove = glove_data[10000:]\n",
    "x_test_glove = correct_data(x_test_glove)"
   ]
  },
  {
   "cell_type": "markdown",
   "id": "25675c07",
   "metadata": {},
   "source": [
    "#### Creating dictionary for data"
   ]
  },
  {
   "cell_type": "code",
   "execution_count": 668,
   "id": "cd8107d9",
   "metadata": {},
   "outputs": [],
   "source": [
    "# Create a hierarchical dictionary structure\n",
    "df = {\n",
    "    'tfidf': {\n",
    "        'x_train': x_train_tf,\n",
    "        'x_test': x_test_tf\n",
    "    },\n",
    "    'ngrams': {\n",
    "        'x_train': x_train_ngram,\n",
    "        'x_test': x_test_ngram\n",
    "    },\n",
    "    'cbow': {\n",
    "        'x_train': x_train_cbow,\n",
    "        'x_test': x_test_cbow\n",
    "    },\n",
    "    'sgram': {\n",
    "        'x_train': x_train_sgram,\n",
    "        'x_test': x_test_sgram\n",
    "    },\n",
    "    'glove': {\n",
    "        'x_train': x_train_glove,\n",
    "        'x_test': x_test_glove\n",
    "    },\n",
    "    'y_train' : y_train,\n",
    "    'y_test' : y_test\n",
    "    \n",
    "}"
   ]
  },
  {
   "cell_type": "code",
   "execution_count": 669,
   "id": "336f968f",
   "metadata": {},
   "outputs": [
    {
     "data": {
      "text/plain": [
       "dict_keys(['tfidf', 'ngrams', 'cbow', 'sgram', 'glove', 'y_train', 'y_test'])"
      ]
     },
     "execution_count": 669,
     "metadata": {},
     "output_type": "execute_result"
    }
   ],
   "source": [
    "df.keys()"
   ]
  },
  {
   "cell_type": "code",
   "execution_count": null,
   "id": "e537483e",
   "metadata": {},
   "outputs": [],
   "source": []
  },
  {
   "cell_type": "markdown",
   "id": "8fa700fe",
   "metadata": {},
   "source": [
    "### Models \n",
    "\n",
    "    Kernel Ridge Regression\n",
    "\n",
    "    SVM\n",
    "\n",
    "    RandomForest\n",
    "    \n",
    "    Neural Networks\n",
    "\n",
    "    RNN & LSTM"
   ]
  },
  {
   "cell_type": "markdown",
   "id": "d810f3b2",
   "metadata": {},
   "source": [
    "#### Hyperparameters Tuning"
   ]
  },
  {
   "cell_type": "code",
   "execution_count": 13,
   "id": "96763b72",
   "metadata": {},
   "outputs": [],
   "source": [
    "# for future works"
   ]
  },
  {
   "cell_type": "code",
   "execution_count": null,
   "id": "43755045",
   "metadata": {},
   "outputs": [],
   "source": []
  },
  {
   "cell_type": "code",
   "execution_count": null,
   "id": "70ed8d2a",
   "metadata": {},
   "outputs": [],
   "source": []
  },
  {
   "cell_type": "code",
   "execution_count": null,
   "id": "765dba43",
   "metadata": {},
   "outputs": [],
   "source": []
  },
  {
   "cell_type": "markdown",
   "id": "b3c0788f",
   "metadata": {},
   "source": [
    "### extracting data"
   ]
  },
  {
   "cell_type": "code",
   "execution_count": 1,
   "id": "27d28c1d",
   "metadata": {},
   "outputs": [],
   "source": [
    "import pickle as pkl\n",
    "with open('dataset.pkl', 'rb') as pkl_file:\n",
    "    data = pkl.load(pkl_file)\n",
    "\n",
    "df = data"
   ]
  },
  {
   "cell_type": "code",
   "execution_count": null,
   "id": "2795e555",
   "metadata": {},
   "outputs": [],
   "source": []
  },
  {
   "cell_type": "markdown",
   "id": "4bb2b953",
   "metadata": {},
   "source": [
    "### Linear Regression"
   ]
  },
  {
   "cell_type": "code",
   "execution_count": 6,
   "id": "37612802",
   "metadata": {},
   "outputs": [],
   "source": [
    "from sklearn.preprocessing import PolynomialFeatures\n",
    "from sklearn.linear_model import LinearRegression\n",
    "from sklearn.decomposition import PCA\n",
    "from sklearn.metrics import mean_squared_error, r2_score, mean_absolute_error\n",
    "from scipy import sparse"
   ]
  },
  {
   "cell_type": "code",
   "execution_count": 4,
   "id": "0ff7716a",
   "metadata": {},
   "outputs": [],
   "source": [
    "np.random.seed(41)"
   ]
  },
  {
   "cell_type": "code",
   "execution_count": 10,
   "id": "5d5b149f",
   "metadata": {},
   "outputs": [],
   "source": [
    "lr_model = LinearRegression(n_jobs = 6)\n",
    "\n",
    "def Linear_regression(x_train, x_test, y_train, y_test):    \n",
    "    lr_model.fit(x_train, y_train*1000)\n",
    "    y_pred = lr_model.predict(x_test)\n",
    "    \n",
    "    return (mean_squared_error(y_test*1000, y_pred), mean_absolute_error(y_test*1000, y_pred), r2_score(y_test*1000, y_pred))"
   ]
  },
  {
   "cell_type": "code",
   "execution_count": 15,
   "id": "04dfee4d",
   "metadata": {},
   "outputs": [
    {
     "name": "stdout",
     "output_type": "stream",
     "text": [
      "\u001b[4m\u001b[1mTFIDF\u001b[0m\u001b[0m\n",
      "\n",
      "\t\u001b[1mMSE : \u001b[0m120851.63854833123\t\u001b[1mMAE : \u001b[0m265.19892056446463\t\u001b[1mR2_score : \u001b[0m0.3046476162086339\n",
      "\n",
      "\n",
      "\u001b[4m\u001b[1mNGRAMS\u001b[0m\u001b[0m\n",
      "\n",
      "\t\u001b[1mMSE : \u001b[0m2.7031007551269847e+26\t\u001b[1mMAE : \u001b[0m1009365486479.4626\t\u001b[1mR2_score : \u001b[0m-1.5553016709443242e+21\n",
      "\n",
      "\n",
      "\u001b[4m\u001b[1mCBOW\u001b[0m\u001b[0m\n",
      "\n",
      "\t\u001b[1mMSE : \u001b[0m178105.71432544774\t\u001b[1mMAE : \u001b[0m297.9738722374198\t\u001b[1mR2_score : \u001b[0m-0.024779097004425932\n",
      "\n",
      "\n",
      "\u001b[4m\u001b[1mSGRAM\u001b[0m\u001b[0m\n",
      "\n",
      "\t\u001b[1mMSE : \u001b[0m156532.86123902083\t\u001b[1mMAE : \u001b[0m295.69269602031295\t\u001b[1mR2_score : \u001b[0m0.09934611138344995\n",
      "\n",
      "\n",
      "\u001b[4m\u001b[1mGLOVE\u001b[0m\u001b[0m\n",
      "\n",
      "\t\u001b[1mMSE : \u001b[0m131810.61699835837\t\u001b[1mMAE : \u001b[0m280.60002424807436\t\u001b[1mR2_score : \u001b[0m0.2415921882419123\n",
      "\n",
      "\n"
     ]
    }
   ],
   "source": [
    "for tr in ['tfidf', 'ngrams', 'cbow', 'sgram', 'glove']:\n",
    "    print(f\"\\033[4m\\033[1m{tr.upper()}\\033[0m\\033[0m\\n\")\n",
    "    \n",
    "    x_train = df[tr]['x_train']\n",
    "    x_test = df[tr]['x_test']\n",
    "    mse, mae, r2 = Linear_regression(x_train, x_test, df['y_train'], df['y_test'])\n",
    "    print(f\"\\t\\033[1mMSE : \\033[0m{mse}\\t\\033[1mMAE : \\033[0m{mae}\\t\\033[1mR2_score : \\033[0m{r2}\\n\\n\")"
   ]
  },
  {
   "cell_type": "markdown",
   "id": "154074d2",
   "metadata": {},
   "source": [
    "### Ridge Regression\n",
    "alpha\n",
    "\n",
    "solver : 'auto', 'svd', 'cholesky', 'saga'\n",
    "\n",
    "Hyperparameter Tuning"
   ]
  },
  {
   "cell_type": "code",
   "execution_count": 69,
   "id": "f8f13758",
   "metadata": {},
   "outputs": [],
   "source": [
    "from sklearn.linear_model import Ridge"
   ]
  },
  {
   "cell_type": "code",
   "execution_count": 81,
   "id": "2ac12f66",
   "metadata": {},
   "outputs": [],
   "source": [
    "def ridge_reg(x_train, x_test, y_train, y_test):\n",
    "    model = Ridge(alpha = 1.0)\n",
    "    model.fit(x_train, y_train*1000)\n",
    "    y_pred = model.predict(x_test)\n",
    "    \n",
    "    return (mean_squared_error(y_test*1000, y_pred), mean_absolute_error(y_test*1000, y_pred), r2_score(y_test*1000, y_pred))"
   ]
  },
  {
   "cell_type": "code",
   "execution_count": 84,
   "id": "7aeb0663",
   "metadata": {},
   "outputs": [
    {
     "name": "stdout",
     "output_type": "stream",
     "text": [
      "\u001b[4m\u001b[1mTFIDF\u001b[0m\u001b[0m\n",
      "\n",
      "\t\u001b[1mMSE : \u001b[0m138537.0105  \u001b[1mMAE : \u001b[0m270.0668  \u001b[1mR2_score : \u001b[0m0.2029\n",
      "\n",
      "\n",
      "\u001b[4m\u001b[1mNGRAMS\u001b[0m\u001b[0m\n",
      "\n",
      "\t\u001b[1mMSE : \u001b[0m179464.4354  \u001b[1mMAE : \u001b[0m299.3846  \u001b[1mR2_score : \u001b[0m-0.0326\n",
      "\n",
      "\n",
      "\u001b[4m\u001b[1mCBOW\u001b[0m\u001b[0m\n",
      "\n",
      "\t\u001b[1mMSE : \u001b[0m170270.5029  \u001b[1mMAE : \u001b[0m300.1176  \u001b[1mR2_score : \u001b[0m0.0203\n",
      "\n",
      "\n",
      "\u001b[4m\u001b[1mSGRAM\u001b[0m\u001b[0m\n",
      "\n",
      "\t\u001b[1mMSE : \u001b[0m154526.7931  \u001b[1mMAE : \u001b[0m295.9903  \u001b[1mR2_score : \u001b[0m0.1109\n",
      "\n",
      "\n",
      "\u001b[4m\u001b[1mGLOVE\u001b[0m\u001b[0m\n",
      "\n",
      "\t\u001b[1mMSE : \u001b[0m131304.8267  \u001b[1mMAE : \u001b[0m280.2617  \u001b[1mR2_score : \u001b[0m0.2445\n",
      "\n",
      "\n"
     ]
    }
   ],
   "source": [
    "for tr in ['tfidf', 'ngrams', 'cbow', 'sgram', 'glove']:\n",
    "    print(f\"\\033[4m\\033[1m{tr.upper()}\\033[0m\\033[0m\\n\")\n",
    "    \n",
    "    x_train = df[tr]['x_train']\n",
    "    x_test = df[tr]['x_test']\n",
    "    mse, mae, r2 = ridge_reg(x_train, x_test, df['y_train'], df['y_test'])\n",
    "    print(f\"\\t\\033[1mMSE : \\033[0m{round(mse, 4)}  \\033[1mMAE : \\033[0m{round(mae, 4)}  \\033[1mR2_score : \\033[0m{round(r2, 4)}\\n\\n\")"
   ]
  },
  {
   "cell_type": "markdown",
   "id": "4e01caa2",
   "metadata": {},
   "source": [
    "### Kernel Ridge Regression\n",
    "alpha\n",
    "\n",
    "kernel : 'linear', 'poly'(degree), 'rbf'(gamma), 'sigmoid'\n",
    "\n",
    "coef0 : (for 'poly' and 'sigmoid') : Independent term in the kernel function. It helps control the trade-off between the linear and nonlinear terms."
   ]
  },
  {
   "cell_type": "code",
   "execution_count": 94,
   "id": "1b8c7f74",
   "metadata": {},
   "outputs": [],
   "source": [
    "from sklearn.kernel_ridge import KernelRidge"
   ]
  },
  {
   "cell_type": "code",
   "execution_count": 95,
   "id": "ef971e82",
   "metadata": {},
   "outputs": [
    {
     "name": "stdout",
     "output_type": "stream",
     "text": [
      "\u001b[4m\u001b[1mTFIDF\u001b[0m\u001b[0m\n",
      "\n",
      "\t\u001b[1mMSE : \u001b[0m167864.5285  \u001b[1mMAE : \u001b[0m321.9036  \u001b[1mR2_score : \u001b[0m0.0341\n",
      "\n",
      "\n",
      "\u001b[4m\u001b[1mNGRAMS\u001b[0m\u001b[0m\n",
      "\n",
      "\t\u001b[1mMSE : \u001b[0m168542.6197  \u001b[1mMAE : \u001b[0m321.124  \u001b[1mR2_score : \u001b[0m0.0302\n",
      "\n",
      "\n",
      "\u001b[4m\u001b[1mCBOW\u001b[0m\u001b[0m\n",
      "\n",
      "\t\u001b[1mMSE : \u001b[0m157454.7504  \u001b[1mMAE : \u001b[0m300.8135  \u001b[1mR2_score : \u001b[0m0.094\n",
      "\n",
      "\n",
      "\u001b[4m\u001b[1mSGRAM\u001b[0m\u001b[0m\n",
      "\n",
      "\t\u001b[1mMSE : \u001b[0m153195.9232  \u001b[1mMAE : \u001b[0m306.9686  \u001b[1mR2_score : \u001b[0m0.1185\n",
      "\n",
      "\n",
      "\u001b[4m\u001b[1mGLOVE\u001b[0m\u001b[0m\n",
      "\n",
      "\t\u001b[1mMSE : \u001b[0m138376.839  \u001b[1mMAE : \u001b[0m281.1349  \u001b[1mR2_score : \u001b[0m0.2038\n",
      "\n",
      "\n"
     ]
    }
   ],
   "source": [
    "def krr(x_train, x_test, y_train, y_test):\n",
    "    model = KernelRidge(alpha = 1.0, kernel = 'rbf')\n",
    "    model.fit(x_train, y_train*1000)\n",
    "    y_pred = model.predict(x_test)\n",
    "    \n",
    "    return (mean_squared_error(y_test*1000, y_pred), mean_absolute_error(y_test*1000, y_pred), r2_score(y_test*1000, y_pred))\n",
    "for tr in ['tfidf', 'ngrams', 'cbow', 'sgram', 'glove']:\n",
    "    print(f\"\\033[4m\\033[1m{tr.upper()}\\033[0m\\033[0m\\n\")\n",
    "    \n",
    "    x_train = df[tr]['x_train']\n",
    "    x_test = df[tr]['x_test']\n",
    "    mse, mae, r2 = krr(x_train, x_test, df['y_train'], df['y_test'])\n",
    "    print(f\"\\t\\033[1mMSE : \\033[0m{round(mse, 4)}  \\033[1mMAE : \\033[0m{round(mae, 4)}  \\033[1mR2_score : \\033[0m{round(r2, 4)}\\n\\n\")"
   ]
  },
  {
   "cell_type": "markdown",
   "id": "62ff8a74",
   "metadata": {},
   "source": [
    "### SVR\n",
    "C : regularization Parameter(default = 1.0)\n",
    "\n",
    "epsilon(default = 0.1) : Specifies the epsilon-tube within which no penalty           is associated in the training loss function.\n",
    "\n",
    "kernel : 'linear', 'poly'(degree), 'rbf'(gamma), 'sigmoid'"
   ]
  },
  {
   "cell_type": "code",
   "execution_count": 2,
   "id": "6a3fa992",
   "metadata": {},
   "outputs": [],
   "source": [
    "from sklearn.svm import SVR"
   ]
  },
  {
   "cell_type": "code",
   "execution_count": 6,
   "id": "bf19a54a",
   "metadata": {},
   "outputs": [
    {
     "name": "stdout",
     "output_type": "stream",
     "text": [
      "\u001b[4m\u001b[1mTFIDF\u001b[0m\u001b[0m\n",
      "\n",
      "\t\u001b[1mMSE : \u001b[0m171933.9742  \u001b[1mMAE : \u001b[0m316.9107  \u001b[1mR2_score : \u001b[0m0.0107\n",
      "\n",
      "\n",
      "\u001b[4m\u001b[1mNGRAMS\u001b[0m\u001b[0m\n",
      "\n",
      "\t\u001b[1mMSE : \u001b[0m172974.0581  \u001b[1mMAE : \u001b[0m317.2933  \u001b[1mR2_score : \u001b[0m0.0047\n",
      "\n",
      "\n",
      "\u001b[4m\u001b[1mCBOW\u001b[0m\u001b[0m\n",
      "\n",
      "\t\u001b[1mMSE : \u001b[0m164206.4428  \u001b[1mMAE : \u001b[0m308.9839  \u001b[1mR2_score : \u001b[0m0.0552\n",
      "\n",
      "\n",
      "\u001b[4m\u001b[1mSGRAM\u001b[0m\u001b[0m\n",
      "\n",
      "\t\u001b[1mMSE : \u001b[0m161852.8288  \u001b[1mMAE : \u001b[0m309.8637  \u001b[1mR2_score : \u001b[0m0.0687\n",
      "\n",
      "\n",
      "\u001b[4m\u001b[1mGLOVE\u001b[0m\u001b[0m\n",
      "\n",
      "\t\u001b[1mMSE : \u001b[0m144410.0952  \u001b[1mMAE : \u001b[0m287.5804  \u001b[1mR2_score : \u001b[0m0.1691\n",
      "\n",
      "\n"
     ]
    }
   ],
   "source": [
    "def svr(x_train, x_test, y_train, y_test):\n",
    "    model = SVR(kernel = 'linear', C=1.0, epsilon=1.0)\n",
    "    model.fit(x_train, y_train*1000)\n",
    "    y_pred = model.predict(x_test)\n",
    "    \n",
    "    return (mean_squared_error(y_test*1000, y_pred), mean_absolute_error(y_test*1000, y_pred), r2_score(y_test*1000, y_pred))\n",
    "for tr in ['tfidf', 'ngrams', 'cbow', 'sgram', 'glove']:\n",
    "    print(f\"\\033[4m\\033[1m{tr.upper()}\\033[0m\\033[0m\\n\")\n",
    "    \n",
    "    x_train = df[tr]['x_train']\n",
    "    x_test = df[tr]['x_test']\n",
    "    mse, mae, r2 = svr(x_train, x_test, df['y_train'], df['y_test'])\n",
    "    print(f\"\\t\\033[1mMSE : \\033[0m{round(mse, 4)}  \\033[1mMAE : \\033[0m{round(mae, 4)}  \\033[1mR2_score : \\033[0m{round(r2, 4)}\\n\\n\")"
   ]
  },
  {
   "cell_type": "code",
   "execution_count": 7,
   "id": "48db8966",
   "metadata": {},
   "outputs": [
    {
     "name": "stdout",
     "output_type": "stream",
     "text": [
      "\u001b[4m\u001b[1mTFIDF\u001b[0m\u001b[0m\n",
      "\n",
      "\t\u001b[1mMSE : \u001b[0m177257.9911  \u001b[1mMAE : \u001b[0m322.3641  \u001b[1mR2_score : \u001b[0m-0.0199\n",
      "\n",
      "\n",
      "\u001b[4m\u001b[1mNGRAMS\u001b[0m\u001b[0m\n",
      "\n",
      "\t\u001b[1mMSE : \u001b[0m176576.094  \u001b[1mMAE : \u001b[0m321.3702  \u001b[1mR2_score : \u001b[0m-0.016\n",
      "\n",
      "\n",
      "\u001b[4m\u001b[1mCBOW\u001b[0m\u001b[0m\n",
      "\n",
      "\t\u001b[1mMSE : \u001b[0m170577.1649  \u001b[1mMAE : \u001b[0m314.9122  \u001b[1mR2_score : \u001b[0m0.0185\n",
      "\n",
      "\n",
      "\u001b[4m\u001b[1mSGRAM\u001b[0m\u001b[0m\n",
      "\n",
      "\t\u001b[1mMSE : \u001b[0m173136.9753  \u001b[1mMAE : \u001b[0m318.6445  \u001b[1mR2_score : \u001b[0m0.0038\n",
      "\n",
      "\n",
      "\u001b[4m\u001b[1mGLOVE\u001b[0m\u001b[0m\n",
      "\n",
      "\t\u001b[1mMSE : \u001b[0m176068.0577  \u001b[1mMAE : \u001b[0m321.9092  \u001b[1mR2_score : \u001b[0m-0.0131\n",
      "\n",
      "\n"
     ]
    }
   ],
   "source": [
    "def svr(x_train, x_test, y_train, y_test):\n",
    "    model = SVR(kernel = 'rbf', C=1.0, epsilon=1.0)\n",
    "    model.fit(x_train, y_train*1000)\n",
    "    y_pred = model.predict(x_test)\n",
    "    \n",
    "    return (mean_squared_error(y_test*1000, y_pred), mean_absolute_error(y_test*1000, y_pred), r2_score(y_test*1000, y_pred))\n",
    "for tr in ['tfidf', 'ngrams', 'cbow', 'sgram', 'glove']:\n",
    "    print(f\"\\033[4m\\033[1m{tr.upper()}\\033[0m\\033[0m\\n\")\n",
    "    \n",
    "    x_train = df[tr]['x_train']\n",
    "    x_test = df[tr]['x_test']\n",
    "    mse, mae, r2 = svr(x_train, x_test, df['y_train'], df['y_test'])\n",
    "    print(f\"\\t\\033[1mMSE : \\033[0m{round(mse, 4)}  \\033[1mMAE : \\033[0m{round(mae, 4)}  \\033[1mR2_score : \\033[0m{round(r2, 4)}\\n\\n\")"
   ]
  },
  {
   "cell_type": "markdown",
   "id": "2398dc6a",
   "metadata": {},
   "source": [
    "### RandomForestRegressor\n",
    "n_estimators : The number of trees in the forest. More trees can improve performance but increase computation time. : 100\n",
    "\n",
    "max_depth : The maximum depth of each tree. Limits the growth of trees to control overfitting. : None\n",
    "\n",
    "min_samples_split : The minimum number of samples required to split an internal node. Higher values prevent overfitting.: 2\n",
    "\n",
    "min_samples_leaf : The minimum number of samples required to be at a leaf node. Higher values prevent splits that result in nodes with few samples.: 1\n",
    "\n",
    "max_features : The number of features to consider when looking for the best split. Options include an integer, float (fraction), 'sqrt', or 'log2'.\tNone\n",
    "\n",
    "bootstrap : Whether to use bootstrap samples when building trees. If False, the whole dataset is used to build each tree. : True\n",
    "\n",
    "criterion : The function to measure the quality of a split. Options are 'squared_error' (for regression) or 'absolute_error'.\t'squared_error'\n",
    "random_state\tControls the randomness of the estimator for reproducibility. : None\n",
    "\n",
    "max_samples : If bootstrap is True, the number of samples to draw from X to train each base estimator : None"
   ]
  },
  {
   "cell_type": "code",
   "execution_count": 8,
   "id": "87905de6",
   "metadata": {},
   "outputs": [],
   "source": [
    "from sklearn.ensemble import RandomForestRegressor"
   ]
  },
  {
   "cell_type": "code",
   "execution_count": 9,
   "id": "c3b48f3f",
   "metadata": {},
   "outputs": [
    {
     "name": "stdout",
     "output_type": "stream",
     "text": [
      "\u001b[4m\u001b[1mTFIDF\u001b[0m\u001b[0m\n",
      "\n"
     ]
    },
    {
     "name": "stderr",
     "output_type": "stream",
     "text": [
      "[Parallel(n_jobs=6)]: Using backend ThreadingBackend with 6 concurrent workers.\n",
      "[Parallel(n_jobs=6)]: Done  38 tasks      | elapsed:   56.1s\n",
      "[Parallel(n_jobs=6)]: Done 100 out of 100 | elapsed:  2.5min finished\n",
      "[Parallel(n_jobs=6)]: Using backend ThreadingBackend with 6 concurrent workers.\n",
      "[Parallel(n_jobs=6)]: Done  38 tasks      | elapsed:    0.0s\n",
      "[Parallel(n_jobs=6)]: Done 100 out of 100 | elapsed:    0.0s finished\n",
      "[Parallel(n_jobs=6)]: Using backend ThreadingBackend with 6 concurrent workers.\n"
     ]
    },
    {
     "name": "stdout",
     "output_type": "stream",
     "text": [
      "\t\u001b[1mMSE : \u001b[0m113502.3309  \u001b[1mMAE : \u001b[0m243.9789  \u001b[1mR2_score : \u001b[0m0.3469\n",
      "\n",
      "\n",
      "\u001b[4m\u001b[1mNGRAMS\u001b[0m\u001b[0m\n",
      "\n"
     ]
    },
    {
     "name": "stderr",
     "output_type": "stream",
     "text": [
      "[Parallel(n_jobs=6)]: Done  38 tasks      | elapsed:  1.5min\n",
      "[Parallel(n_jobs=6)]: Done 100 out of 100 | elapsed:  3.6min finished\n",
      "[Parallel(n_jobs=6)]: Using backend ThreadingBackend with 6 concurrent workers.\n",
      "[Parallel(n_jobs=6)]: Done  38 tasks      | elapsed:    0.0s\n",
      "[Parallel(n_jobs=6)]: Done 100 out of 100 | elapsed:    0.0s finished\n",
      "[Parallel(n_jobs=6)]: Using backend ThreadingBackend with 6 concurrent workers.\n"
     ]
    },
    {
     "name": "stdout",
     "output_type": "stream",
     "text": [
      "\t\u001b[1mMSE : \u001b[0m136664.9528  \u001b[1mMAE : \u001b[0m269.7001  \u001b[1mR2_score : \u001b[0m0.2137\n",
      "\n",
      "\n",
      "\u001b[4m\u001b[1mCBOW\u001b[0m\u001b[0m\n",
      "\n"
     ]
    },
    {
     "name": "stderr",
     "output_type": "stream",
     "text": [
      "[Parallel(n_jobs=6)]: Done  38 tasks      | elapsed:  1.4min\n",
      "[Parallel(n_jobs=6)]: Done 100 out of 100 | elapsed:  3.6min finished\n",
      "[Parallel(n_jobs=6)]: Using backend ThreadingBackend with 6 concurrent workers.\n",
      "[Parallel(n_jobs=6)]: Done  38 tasks      | elapsed:    0.0s\n",
      "[Parallel(n_jobs=6)]: Done 100 out of 100 | elapsed:    0.0s finished\n",
      "[Parallel(n_jobs=6)]: Using backend ThreadingBackend with 6 concurrent workers.\n"
     ]
    },
    {
     "name": "stdout",
     "output_type": "stream",
     "text": [
      "\t\u001b[1mMSE : \u001b[0m132316.4438  \u001b[1mMAE : \u001b[0m274.299  \u001b[1mR2_score : \u001b[0m0.2387\n",
      "\n",
      "\n",
      "\u001b[4m\u001b[1mSGRAM\u001b[0m\u001b[0m\n",
      "\n"
     ]
    },
    {
     "name": "stderr",
     "output_type": "stream",
     "text": [
      "[Parallel(n_jobs=6)]: Done  38 tasks      | elapsed:  1.4min\n",
      "[Parallel(n_jobs=6)]: Done 100 out of 100 | elapsed:  3.5min finished\n",
      "[Parallel(n_jobs=6)]: Using backend ThreadingBackend with 6 concurrent workers.\n",
      "[Parallel(n_jobs=6)]: Done  38 tasks      | elapsed:    0.0s\n",
      "[Parallel(n_jobs=6)]: Done 100 out of 100 | elapsed:    0.0s finished\n",
      "[Parallel(n_jobs=6)]: Using backend ThreadingBackend with 6 concurrent workers.\n"
     ]
    },
    {
     "name": "stdout",
     "output_type": "stream",
     "text": [
      "\t\u001b[1mMSE : \u001b[0m126594.4054  \u001b[1mMAE : \u001b[0m267.6136  \u001b[1mR2_score : \u001b[0m0.2716\n",
      "\n",
      "\n",
      "\u001b[4m\u001b[1mGLOVE\u001b[0m\u001b[0m\n",
      "\n"
     ]
    },
    {
     "name": "stderr",
     "output_type": "stream",
     "text": [
      "[Parallel(n_jobs=6)]: Done  38 tasks      | elapsed:  1.9min\n"
     ]
    },
    {
     "name": "stdout",
     "output_type": "stream",
     "text": [
      "\t\u001b[1mMSE : \u001b[0m139038.7497  \u001b[1mMAE : \u001b[0m280.809  \u001b[1mR2_score : \u001b[0m0.2\n",
      "\n",
      "\n"
     ]
    },
    {
     "name": "stderr",
     "output_type": "stream",
     "text": [
      "[Parallel(n_jobs=6)]: Done 100 out of 100 | elapsed:  4.8min finished\n",
      "[Parallel(n_jobs=6)]: Using backend ThreadingBackend with 6 concurrent workers.\n",
      "[Parallel(n_jobs=6)]: Done  38 tasks      | elapsed:    0.0s\n",
      "[Parallel(n_jobs=6)]: Done 100 out of 100 | elapsed:    0.0s finished\n"
     ]
    }
   ],
   "source": [
    "def rf(x_train, x_test, y_train, y_test):\n",
    "    model = RandomForestRegressor(n_estimators = 100, random_state = 42, n_jobs=6, verbose = 1, warm_start=True)\n",
    "    model.fit(x_train, y_train*1000)\n",
    "    y_pred = model.predict(x_test)\n",
    "    \n",
    "    return (mean_squared_error(y_test*1000, y_pred), mean_absolute_error(y_test*1000, y_pred), r2_score(y_test*1000, y_pred))\n",
    "for tr in ['tfidf', 'ngrams', 'cbow', 'sgram', 'glove']:\n",
    "    print(f\"\\033[4m\\033[1m{tr.upper()}\\033[0m\\033[0m\\n\")\n",
    "    \n",
    "    x_train = df[tr]['x_train']\n",
    "    x_test = df[tr]['x_test']\n",
    "    mse, mae, r2 = rf(x_train, x_test, df['y_train'], df['y_test'])\n",
    "    print(f\"\\t\\033[1mMSE : \\033[0m{round(mse, 4)}  \\033[1mMAE : \\033[0m{round(mae, 4)}  \\033[1mR2_score : \\033[0m{round(r2, 4)}\\n\\n\")"
   ]
  },
  {
   "cell_type": "markdown",
   "id": "8894ea40",
   "metadata": {},
   "source": [
    "### Neural Networks(regression)"
   ]
  },
  {
   "cell_type": "code",
   "execution_count": 110,
   "id": "89e8bc53",
   "metadata": {},
   "outputs": [],
   "source": [
    "from tensorflow import keras\n",
    "from tensorflow.keras import layers\n",
    "from tensorflow.keras.callbacks import EarlyStopping, ModelCheckpoint\n",
    "from tqdm import tqdm"
   ]
  },
  {
   "cell_type": "code",
   "execution_count": 10,
   "id": "221e5f83",
   "metadata": {},
   "outputs": [
    {
     "name": "stdout",
     "output_type": "stream",
     "text": [
      "\u001b[4m\u001b[1mTFIDF\u001b[0m\u001b[0m\n",
      "\n"
     ]
    },
    {
     "name": "stderr",
     "output_type": "stream",
     "text": [
      "Training: 100%|██████████████████████████████████████████████████████████████████████| 100/100 [01:07<00:00,  1.48it/s]\n"
     ]
    },
    {
     "name": "stdout",
     "output_type": "stream",
     "text": [
      "101/101 [==============================] - 0s 1ms/step\n",
      "\t\u001b[1mMSE : \u001b[0m117870.3387  \u001b[1mMAE : \u001b[0m261.383  \u001b[1mR2_score : \u001b[0m0.3218\n",
      "\n",
      "\n",
      "\u001b[4m\u001b[1mNGRAMS\u001b[0m\u001b[0m\n",
      "\n"
     ]
    },
    {
     "name": "stderr",
     "output_type": "stream",
     "text": [
      "Training: 100%|██████████████████████████████████████████████████████████████████████| 100/100 [02:41<00:00,  1.62s/it]\n"
     ]
    },
    {
     "name": "stdout",
     "output_type": "stream",
     "text": [
      "101/101 [==============================] - 1s 2ms/step\n",
      "\t\u001b[1mMSE : \u001b[0m147798.0689  \u001b[1mMAE : \u001b[0m285.1289  \u001b[1mR2_score : \u001b[0m0.1496\n",
      "\n",
      "\n"
     ]
    }
   ],
   "source": [
    "def SimpleNN(x_train, x_test, y_train, y_test):\n",
    "    def NN(x_train):\n",
    "        x_train = np.array(x_train)\n",
    "        model = keras.Sequential([\n",
    "            layers.Dense(128, activation='relu', input_shape=(x_train.shape[1],)),\n",
    "            layers.Dense(64, activation='relu'),\n",
    "            layers.Dense(32, activation='relu'),\n",
    "            layers.Dense(1)  # Single output for regression\n",
    "        ])\n",
    "        model.compile(optimizer = 'adam', loss = 'mean_squared_error', metrics = ['mae'])\n",
    "        return model\n",
    "    \n",
    "    x_test = np.array(x_test)\n",
    "    y_train = y_train*1000\n",
    "    y_test = y_test*1000\n",
    "    \n",
    "    model = NN(x_train)\n",
    "\n",
    "    early_stopping = EarlyStopping(\n",
    "        monitor='val_loss',\n",
    "        patience = 10,\n",
    "        restore_best_weights = True)\n",
    "    epochs = 100\n",
    "    batch_size = 32\n",
    "    val_split = 0.2\n",
    "\n",
    "    history = {\n",
    "        'loss' : [],\n",
    "        'val_loss' : []\n",
    "    }\n",
    "\n",
    "    for epoch in tqdm(range(epochs), desc = 'Training'):\n",
    "        history_epoch = model.fit(x_train, y_train, epochs = 1, batch_size = batch_size,\n",
    "                                 validation_split = val_split, verbose = 0, \n",
    "                                  callbacks = [early_stopping])\n",
    "\n",
    "        history['loss'].append(history_epoch.history['loss'][0])\n",
    "        history['val_loss'].append(history_epoch.history['val_loss'][0])\n",
    "\n",
    "        if early_stopping.stopped_epoch > 0:\n",
    "            print(f\"Training Stopped at epoch {epoch + 1}\")\n",
    "\n",
    "    y_pred = model.predict(x_test)\n",
    "    return (mean_squared_error(y_test, y_pred), mean_absolute_error(y_test, y_pred), r2_score(y_test, y_pred))\n",
    "\n",
    "for tr in ['tfidf', 'ngrams']:\n",
    "    print(f\"\\033[4m\\033[1m{tr.upper()}\\033[0m\\033[0m\\n\")\n",
    "    \n",
    "    x_train = df[tr]['x_train']\n",
    "    x_test = df[tr]['x_test']\n",
    "    mse, mae, r2 = SimpleNN(x_train, x_test, df['y_train'], df['y_test'])\n",
    "    print(f\"\\t\\033[1mMSE : \\033[0m{round(mse, 4)}  \\033[1mMAE : \\033[0m{round(mae, 4)}  \\033[1mR2_score : \\033[0m{round(r2, 4)}\\n\\n\")"
   ]
  },
  {
   "cell_type": "markdown",
   "id": "cede8401",
   "metadata": {},
   "source": [
    "### LSTM"
   ]
  },
  {
   "cell_type": "code",
   "execution_count": 100,
   "id": "e05a87cf",
   "metadata": {},
   "outputs": [],
   "source": [
    "from tensorflow.keras import layers, models\n",
    "from tensorflow.keras.preprocessing.sequence import pad_sequences\n",
    "from keras.preprocessing.text import Tokenizer"
   ]
  },
  {
   "cell_type": "code",
   "execution_count": 109,
   "id": "07848e64",
   "metadata": {},
   "outputs": [
    {
     "name": "stderr",
     "output_type": "stream",
     "text": [
      "Creating Embeddings: 100%|███████████████████████████████████████████████████| 18444/18444 [00:00<00:00, 271365.33it/s]\n",
      "Training:   1%|▋                                                                     | 1/100 [00:36<1:00:23, 36.60s/it]"
     ]
    },
    {
     "name": "stdout",
     "output_type": "stream",
     "text": [
      "Loss :  [213093.515625]\n"
     ]
    },
    {
     "name": "stderr",
     "output_type": "stream",
     "text": [
      "\r\n",
      "Training:   2%|█▍                                                                      | 2/100 [01:08<55:10, 33.78s/it]"
     ]
    },
    {
     "name": "stdout",
     "output_type": "stream",
     "text": [
      "Loss :  [162857.625]\n"
     ]
    },
    {
     "name": "stderr",
     "output_type": "stream",
     "text": [
      "\r\n",
      "Training:   3%|██▏                                                                     | 3/100 [01:38<52:00, 32.17s/it]"
     ]
    },
    {
     "name": "stdout",
     "output_type": "stream",
     "text": [
      "Loss :  [146414.203125]\n"
     ]
    },
    {
     "name": "stderr",
     "output_type": "stream",
     "text": [
      "\r\n",
      "Training:   4%|██▉                                                                     | 4/100 [02:08<49:58, 31.24s/it]"
     ]
    },
    {
     "name": "stdout",
     "output_type": "stream",
     "text": [
      "Loss :  [145583.703125]\n"
     ]
    },
    {
     "name": "stderr",
     "output_type": "stream",
     "text": [
      "\r\n",
      "Training:   5%|███▌                                                                    | 5/100 [02:38<48:40, 30.75s/it]"
     ]
    },
    {
     "name": "stdout",
     "output_type": "stream",
     "text": [
      "Loss :  [145577.65625]\n"
     ]
    },
    {
     "name": "stderr",
     "output_type": "stream",
     "text": [
      "\r\n",
      "Training:   6%|████▎                                                                   | 6/100 [03:07<47:22, 30.24s/it]"
     ]
    },
    {
     "name": "stdout",
     "output_type": "stream",
     "text": [
      "Loss :  [145576.71875]\n"
     ]
    },
    {
     "name": "stderr",
     "output_type": "stream",
     "text": [
      "\r\n",
      "Training:   7%|█████                                                                   | 7/100 [03:36<46:26, 29.96s/it]"
     ]
    },
    {
     "name": "stdout",
     "output_type": "stream",
     "text": [
      "Loss :  [145581.96875]\n"
     ]
    },
    {
     "name": "stderr",
     "output_type": "stream",
     "text": [
      "\r\n",
      "Training:   8%|█████▊                                                                  | 8/100 [04:06<45:36, 29.75s/it]"
     ]
    },
    {
     "name": "stdout",
     "output_type": "stream",
     "text": [
      "Loss :  [145570.890625]\n"
     ]
    },
    {
     "name": "stderr",
     "output_type": "stream",
     "text": [
      "\r\n",
      "Training:   9%|██████▍                                                                 | 9/100 [04:35<44:57, 29.64s/it]"
     ]
    },
    {
     "name": "stdout",
     "output_type": "stream",
     "text": [
      "Loss :  [145556.15625]\n"
     ]
    },
    {
     "name": "stderr",
     "output_type": "stream",
     "text": [
      "\r\n",
      "Training:  10%|███████                                                                | 10/100 [05:05<44:24, 29.61s/it]"
     ]
    },
    {
     "name": "stdout",
     "output_type": "stream",
     "text": [
      "Loss :  [141175.578125]\n"
     ]
    },
    {
     "name": "stderr",
     "output_type": "stream",
     "text": [
      "\r\n",
      "Training:  11%|███████▊                                                               | 11/100 [05:34<43:52, 29.58s/it]"
     ]
    },
    {
     "name": "stdout",
     "output_type": "stream",
     "text": [
      "Loss :  [131832.734375]\n"
     ]
    },
    {
     "name": "stderr",
     "output_type": "stream",
     "text": [
      "\r\n",
      "Training:  12%|████████▌                                                              | 12/100 [06:04<43:24, 29.60s/it]"
     ]
    },
    {
     "name": "stdout",
     "output_type": "stream",
     "text": [
      "Loss :  [112843.375]\n"
     ]
    },
    {
     "name": "stderr",
     "output_type": "stream",
     "text": [
      "\r\n",
      "Training:  13%|█████████▏                                                             | 13/100 [06:34<43:01, 29.67s/it]"
     ]
    },
    {
     "name": "stdout",
     "output_type": "stream",
     "text": [
      "Loss :  [82693.8203125]\n"
     ]
    },
    {
     "name": "stderr",
     "output_type": "stream",
     "text": [
      "\r\n",
      "Training:  14%|█████████▉                                                             | 14/100 [07:03<42:21, 29.55s/it]"
     ]
    },
    {
     "name": "stdout",
     "output_type": "stream",
     "text": [
      "Loss :  [62366.45703125]\n"
     ]
    },
    {
     "name": "stderr",
     "output_type": "stream",
     "text": [
      "\r\n",
      "Training:  15%|██████████▋                                                            | 15/100 [07:32<41:42, 29.45s/it]"
     ]
    },
    {
     "name": "stdout",
     "output_type": "stream",
     "text": [
      "Loss :  [48067.421875]\n"
     ]
    },
    {
     "name": "stderr",
     "output_type": "stream",
     "text": [
      "\r\n",
      "Training:  16%|███████████▎                                                           | 16/100 [08:02<41:17, 29.50s/it]"
     ]
    },
    {
     "name": "stdout",
     "output_type": "stream",
     "text": [
      "Loss :  [37235.00390625]\n"
     ]
    },
    {
     "name": "stderr",
     "output_type": "stream",
     "text": [
      "\r\n",
      "Training:  17%|████████████                                                           | 17/100 [08:31<40:45, 29.47s/it]"
     ]
    },
    {
     "name": "stdout",
     "output_type": "stream",
     "text": [
      "Loss :  [28574.69921875]\n"
     ]
    },
    {
     "name": "stderr",
     "output_type": "stream",
     "text": [
      "\r\n",
      "Training:  18%|████████████▊                                                          | 18/100 [09:02<40:46, 29.83s/it]"
     ]
    },
    {
     "name": "stdout",
     "output_type": "stream",
     "text": [
      "Loss :  [21833.685546875]\n"
     ]
    },
    {
     "name": "stderr",
     "output_type": "stream",
     "text": [
      "\r\n",
      "Training:  19%|█████████████▍                                                         | 19/100 [09:32<40:19, 29.87s/it]"
     ]
    },
    {
     "name": "stdout",
     "output_type": "stream",
     "text": [
      "Loss :  [16978.017578125]\n"
     ]
    },
    {
     "name": "stderr",
     "output_type": "stream",
     "text": [
      "\r\n",
      "Training:  20%|██████████████▏                                                        | 20/100 [10:02<39:55, 29.94s/it]"
     ]
    },
    {
     "name": "stdout",
     "output_type": "stream",
     "text": [
      "Loss :  [13067.1669921875]\n"
     ]
    },
    {
     "name": "stderr",
     "output_type": "stream",
     "text": [
      "\r\n",
      "Training:  21%|██████████████▉                                                        | 21/100 [10:32<39:20, 29.88s/it]"
     ]
    },
    {
     "name": "stdout",
     "output_type": "stream",
     "text": [
      "Loss :  [10234.2890625]\n"
     ]
    },
    {
     "name": "stderr",
     "output_type": "stream",
     "text": [
      "\r\n",
      "Training:  22%|███████████████▌                                                       | 22/100 [11:02<38:57, 29.97s/it]"
     ]
    },
    {
     "name": "stdout",
     "output_type": "stream",
     "text": [
      "Loss :  [8349.462890625]\n"
     ]
    },
    {
     "name": "stderr",
     "output_type": "stream",
     "text": [
      "\r\n",
      "Training:  23%|████████████████▎                                                      | 23/100 [11:32<38:30, 30.01s/it]"
     ]
    },
    {
     "name": "stdout",
     "output_type": "stream",
     "text": [
      "Loss :  [7651.80908203125]\n"
     ]
    },
    {
     "name": "stderr",
     "output_type": "stream",
     "text": [
      "\r\n",
      "Training:  24%|█████████████████                                                      | 24/100 [12:02<37:58, 29.98s/it]"
     ]
    },
    {
     "name": "stdout",
     "output_type": "stream",
     "text": [
      "Loss :  [8100.45068359375]\n"
     ]
    },
    {
     "name": "stderr",
     "output_type": "stream",
     "text": [
      "\r\n",
      "Training:  25%|█████████████████▊                                                     | 25/100 [12:32<37:39, 30.13s/it]"
     ]
    },
    {
     "name": "stdout",
     "output_type": "stream",
     "text": [
      "Loss :  [5358.736328125]\n"
     ]
    },
    {
     "name": "stderr",
     "output_type": "stream",
     "text": [
      "\r\n",
      "Training:  26%|██████████████████▍                                                    | 26/100 [13:03<37:11, 30.16s/it]"
     ]
    },
    {
     "name": "stdout",
     "output_type": "stream",
     "text": [
      "Loss :  [4969.2890625]\n"
     ]
    },
    {
     "name": "stderr",
     "output_type": "stream",
     "text": [
      "\r\n",
      "Training:  27%|███████████████████▏                                                   | 27/100 [13:33<36:50, 30.29s/it]"
     ]
    },
    {
     "name": "stdout",
     "output_type": "stream",
     "text": [
      "Loss :  [4392.05810546875]\n"
     ]
    },
    {
     "name": "stderr",
     "output_type": "stream",
     "text": [
      "\r\n",
      "Training:  28%|███████████████████▉                                                   | 28/100 [14:04<36:22, 30.31s/it]"
     ]
    },
    {
     "name": "stdout",
     "output_type": "stream",
     "text": [
      "Loss :  [4003.49609375]\n"
     ]
    },
    {
     "name": "stderr",
     "output_type": "stream",
     "text": [
      "\r\n",
      "Training:  29%|████████████████████▌                                                  | 29/100 [14:34<35:51, 30.30s/it]"
     ]
    },
    {
     "name": "stdout",
     "output_type": "stream",
     "text": [
      "Loss :  [6936.39013671875]\n"
     ]
    },
    {
     "name": "stderr",
     "output_type": "stream",
     "text": [
      "\r\n",
      "Training:  30%|█████████████████████▎                                                 | 30/100 [15:05<35:32, 30.47s/it]"
     ]
    },
    {
     "name": "stdout",
     "output_type": "stream",
     "text": [
      "Loss :  [4285.1357421875]\n"
     ]
    },
    {
     "name": "stderr",
     "output_type": "stream",
     "text": [
      "\r\n",
      "Training:  31%|██████████████████████                                                 | 31/100 [15:35<35:02, 30.47s/it]"
     ]
    },
    {
     "name": "stdout",
     "output_type": "stream",
     "text": [
      "Loss :  [3982.175537109375]\n"
     ]
    },
    {
     "name": "stderr",
     "output_type": "stream",
     "text": [
      "\r\n",
      "Training:  32%|██████████████████████▋                                                | 32/100 [16:06<34:32, 30.47s/it]"
     ]
    },
    {
     "name": "stdout",
     "output_type": "stream",
     "text": [
      "Loss :  [3564.2822265625]\n"
     ]
    },
    {
     "name": "stderr",
     "output_type": "stream",
     "text": [
      "\r\n",
      "Training:  33%|███████████████████████▍                                               | 33/100 [16:36<33:56, 30.40s/it]"
     ]
    },
    {
     "name": "stdout",
     "output_type": "stream",
     "text": [
      "Loss :  [3168.72412109375]\n"
     ]
    },
    {
     "name": "stderr",
     "output_type": "stream",
     "text": [
      "\r\n",
      "Training:  34%|████████████████████████▏                                              | 34/100 [17:06<33:19, 30.29s/it]"
     ]
    },
    {
     "name": "stdout",
     "output_type": "stream",
     "text": [
      "Loss :  [3021.114501953125]\n"
     ]
    },
    {
     "name": "stderr",
     "output_type": "stream",
     "text": [
      "\r\n",
      "Training:  35%|████████████████████████▊                                              | 35/100 [17:37<32:58, 30.44s/it]"
     ]
    },
    {
     "name": "stdout",
     "output_type": "stream",
     "text": [
      "Loss :  [2845.5126953125]\n"
     ]
    },
    {
     "name": "stderr",
     "output_type": "stream",
     "text": [
      "\r\n",
      "Training:  36%|█████████████████████████▌                                             | 36/100 [18:07<32:22, 30.35s/it]"
     ]
    },
    {
     "name": "stdout",
     "output_type": "stream",
     "text": [
      "Loss :  [2459.060302734375]\n"
     ]
    },
    {
     "name": "stderr",
     "output_type": "stream",
     "text": [
      "\r\n",
      "Training:  37%|██████████████████████████▎                                            | 37/100 [18:37<31:50, 30.33s/it]"
     ]
    },
    {
     "name": "stdout",
     "output_type": "stream",
     "text": [
      "Loss :  [2395.95458984375]\n"
     ]
    },
    {
     "name": "stderr",
     "output_type": "stream",
     "text": [
      "\r\n",
      "Training:  38%|██████████████████████████▉                                            | 38/100 [19:07<31:21, 30.35s/it]"
     ]
    },
    {
     "name": "stdout",
     "output_type": "stream",
     "text": [
      "Loss :  [2086.802978515625]\n"
     ]
    },
    {
     "name": "stderr",
     "output_type": "stream",
     "text": [
      "\r\n",
      "Training:  39%|███████████████████████████▋                                           | 39/100 [19:38<30:48, 30.30s/it]"
     ]
    },
    {
     "name": "stdout",
     "output_type": "stream",
     "text": [
      "Loss :  [7519.81103515625]\n"
     ]
    },
    {
     "name": "stderr",
     "output_type": "stream",
     "text": [
      "\r\n",
      "Training:  40%|████████████████████████████▍                                          | 40/100 [20:08<30:20, 30.34s/it]"
     ]
    },
    {
     "name": "stdout",
     "output_type": "stream",
     "text": [
      "Loss :  [4778.8388671875]\n"
     ]
    },
    {
     "name": "stderr",
     "output_type": "stream",
     "text": [
      "\r\n",
      "Training:  41%|█████████████████████████████                                          | 41/100 [20:39<29:51, 30.37s/it]"
     ]
    },
    {
     "name": "stdout",
     "output_type": "stream",
     "text": [
      "Loss :  [3137.606201171875]\n"
     ]
    },
    {
     "name": "stderr",
     "output_type": "stream",
     "text": [
      "\r\n",
      "Training:  42%|█████████████████████████████▊                                         | 42/100 [21:09<29:20, 30.35s/it]"
     ]
    },
    {
     "name": "stdout",
     "output_type": "stream",
     "text": [
      "Loss :  [2009.9271240234375]\n"
     ]
    },
    {
     "name": "stderr",
     "output_type": "stream",
     "text": [
      "\r\n",
      "Training:  43%|██████████████████████████████▌                                        | 43/100 [21:40<28:55, 30.44s/it]"
     ]
    },
    {
     "name": "stdout",
     "output_type": "stream",
     "text": [
      "Loss :  [1677.490478515625]\n"
     ]
    },
    {
     "name": "stderr",
     "output_type": "stream",
     "text": [
      "\r\n",
      "Training:  44%|███████████████████████████████▏                                       | 44/100 [22:10<28:24, 30.44s/it]"
     ]
    },
    {
     "name": "stdout",
     "output_type": "stream",
     "text": [
      "Loss :  [1537.4849853515625]\n"
     ]
    },
    {
     "name": "stderr",
     "output_type": "stream",
     "text": [
      "\r\n",
      "Training:  45%|███████████████████████████████▉                                       | 45/100 [22:40<27:50, 30.37s/it]"
     ]
    },
    {
     "name": "stdout",
     "output_type": "stream",
     "text": [
      "Loss :  [1414.49658203125]\n"
     ]
    },
    {
     "name": "stderr",
     "output_type": "stream",
     "text": [
      "\r\n",
      "Training:  46%|████████████████████████████████▋                                      | 46/100 [23:20<29:49, 33.15s/it]"
     ]
    },
    {
     "name": "stdout",
     "output_type": "stream",
     "text": [
      "Loss :  [1421.138427734375]\n"
     ]
    },
    {
     "name": "stderr",
     "output_type": "stream",
     "text": [
      "\r\n",
      "Training:  47%|█████████████████████████████████▎                                     | 47/100 [24:01<31:18, 35.44s/it]"
     ]
    },
    {
     "name": "stdout",
     "output_type": "stream",
     "text": [
      "Loss :  [1379.1131591796875]\n"
     ]
    },
    {
     "name": "stderr",
     "output_type": "stream",
     "text": [
      "\r\n",
      "Training:  48%|██████████████████████████████████                                     | 48/100 [24:41<32:03, 36.99s/it]"
     ]
    },
    {
     "name": "stdout",
     "output_type": "stream",
     "text": [
      "Loss :  [1610.4937744140625]\n"
     ]
    },
    {
     "name": "stderr",
     "output_type": "stream",
     "text": [
      "\r\n",
      "Training:  49%|██████████████████████████████████▊                                    | 49/100 [25:21<32:06, 37.78s/it]"
     ]
    },
    {
     "name": "stdout",
     "output_type": "stream",
     "text": [
      "Loss :  [1493.5728759765625]\n"
     ]
    },
    {
     "name": "stderr",
     "output_type": "stream",
     "text": [
      "\r\n",
      "Training:  50%|███████████████████████████████████▌                                   | 50/100 [26:02<32:13, 38.68s/it]"
     ]
    },
    {
     "name": "stdout",
     "output_type": "stream",
     "text": [
      "Loss :  [1233.078857421875]\n"
     ]
    },
    {
     "name": "stderr",
     "output_type": "stream",
     "text": [
      "\r\n",
      "Training:  51%|████████████████████████████████████▏                                  | 51/100 [26:42<31:55, 39.10s/it]"
     ]
    },
    {
     "name": "stdout",
     "output_type": "stream",
     "text": [
      "Loss :  [1041.845947265625]\n"
     ]
    },
    {
     "name": "stderr",
     "output_type": "stream",
     "text": [
      "\r\n",
      "Training:  52%|████████████████████████████████████▉                                  | 52/100 [27:22<31:37, 39.54s/it]"
     ]
    },
    {
     "name": "stdout",
     "output_type": "stream",
     "text": [
      "Loss :  [1343.937255859375]\n"
     ]
    },
    {
     "name": "stderr",
     "output_type": "stream",
     "text": [
      "\r\n",
      "Training:  53%|█████████████████████████████████████▋                                 | 53/100 [28:03<31:10, 39.80s/it]"
     ]
    },
    {
     "name": "stdout",
     "output_type": "stream",
     "text": [
      "Loss :  [2562.07861328125]\n"
     ]
    },
    {
     "name": "stderr",
     "output_type": "stream",
     "text": [
      "\r\n",
      "Training:  54%|██████████████████████████████████████▎                                | 54/100 [28:43<30:43, 40.07s/it]"
     ]
    },
    {
     "name": "stdout",
     "output_type": "stream",
     "text": [
      "Loss :  [1868.9857177734375]\n"
     ]
    },
    {
     "name": "stderr",
     "output_type": "stream",
     "text": [
      "\r\n",
      "Training:  55%|███████████████████████████████████████                                | 55/100 [29:25<30:21, 40.48s/it]"
     ]
    },
    {
     "name": "stdout",
     "output_type": "stream",
     "text": [
      "Loss :  [1305.904541015625]\n"
     ]
    },
    {
     "name": "stderr",
     "output_type": "stream",
     "text": [
      "\r\n",
      "Training:  56%|███████████████████████████████████████▊                               | 56/100 [30:05<29:43, 40.53s/it]"
     ]
    },
    {
     "name": "stdout",
     "output_type": "stream",
     "text": [
      "Loss :  [1101.8558349609375]\n"
     ]
    },
    {
     "name": "stderr",
     "output_type": "stream",
     "text": [
      "\r\n",
      "Training:  57%|████████████████████████████████████████▍                              | 57/100 [30:45<28:55, 40.37s/it]"
     ]
    },
    {
     "name": "stdout",
     "output_type": "stream",
     "text": [
      "Loss :  [1206.8489990234375]\n"
     ]
    },
    {
     "name": "stderr",
     "output_type": "stream",
     "text": [
      "\r\n",
      "Training:  58%|█████████████████████████████████████████▏                             | 58/100 [31:26<28:13, 40.32s/it]"
     ]
    },
    {
     "name": "stdout",
     "output_type": "stream",
     "text": [
      "Loss :  [931.2379150390625]\n"
     ]
    },
    {
     "name": "stderr",
     "output_type": "stream",
     "text": [
      "\r\n",
      "Training:  59%|█████████████████████████████████████████▉                             | 59/100 [32:06<27:36, 40.39s/it]"
     ]
    },
    {
     "name": "stdout",
     "output_type": "stream",
     "text": [
      "Loss :  [784.2937622070312]\n"
     ]
    },
    {
     "name": "stderr",
     "output_type": "stream",
     "text": [
      "\r\n",
      "Training:  60%|██████████████████████████████████████████▌                            | 60/100 [32:47<26:54, 40.37s/it]"
     ]
    },
    {
     "name": "stdout",
     "output_type": "stream",
     "text": [
      "Loss :  [768.3660888671875]\n"
     ]
    },
    {
     "name": "stderr",
     "output_type": "stream",
     "text": [
      "\r\n",
      "Training:  61%|███████████████████████████████████████████▎                           | 61/100 [33:27<26:13, 40.35s/it]"
     ]
    },
    {
     "name": "stdout",
     "output_type": "stream",
     "text": [
      "Loss :  [874.7066650390625]\n"
     ]
    },
    {
     "name": "stderr",
     "output_type": "stream",
     "text": [
      "\r\n",
      "Training:  62%|████████████████████████████████████████████                           | 62/100 [34:09<25:59, 41.04s/it]"
     ]
    },
    {
     "name": "stdout",
     "output_type": "stream",
     "text": [
      "Loss :  [874.6575927734375]\n"
     ]
    },
    {
     "name": "stderr",
     "output_type": "stream",
     "text": [
      "\r\n",
      "Training:  63%|████████████████████████████████████████████▋                          | 63/100 [34:54<25:58, 42.13s/it]"
     ]
    },
    {
     "name": "stdout",
     "output_type": "stream",
     "text": [
      "Loss :  [995.1165161132812]\n"
     ]
    },
    {
     "name": "stderr",
     "output_type": "stream",
     "text": [
      "\r\n",
      "Training:  64%|█████████████████████████████████████████████▍                         | 64/100 [35:35<25:07, 41.86s/it]"
     ]
    },
    {
     "name": "stdout",
     "output_type": "stream",
     "text": [
      "Loss :  [893.3494262695312]\n"
     ]
    },
    {
     "name": "stderr",
     "output_type": "stream",
     "text": [
      "\r\n",
      "Training:  65%|██████████████████████████████████████████████▏                        | 65/100 [36:16<24:10, 41.44s/it]"
     ]
    },
    {
     "name": "stdout",
     "output_type": "stream",
     "text": [
      "Loss :  [806.4595947265625]\n"
     ]
    },
    {
     "name": "stderr",
     "output_type": "stream",
     "text": [
      "\r\n",
      "Training:  66%|██████████████████████████████████████████████▊                        | 66/100 [36:58<23:31, 41.52s/it]"
     ]
    },
    {
     "name": "stdout",
     "output_type": "stream",
     "text": [
      "Loss :  [892.0398559570312]\n"
     ]
    },
    {
     "name": "stderr",
     "output_type": "stream",
     "text": [
      "\r\n",
      "Training:  67%|████████████████████████████████████████████▏                     | 67/100 [1:25:10<8:13:18, 896.92s/it]"
     ]
    },
    {
     "name": "stdout",
     "output_type": "stream",
     "text": [
      "Loss :  [907.6822509765625]\n"
     ]
    },
    {
     "name": "stderr",
     "output_type": "stream",
     "text": [
      "\r\n",
      "Training:  68%|████████████████████████████████████████████▉                     | 68/100 [1:26:06<5:43:43, 644.47s/it]"
     ]
    },
    {
     "name": "stdout",
     "output_type": "stream",
     "text": [
      "Loss :  [765.9224243164062]\n"
     ]
    },
    {
     "name": "stderr",
     "output_type": "stream",
     "text": [
      "\r\n",
      "Training:  69%|█████████████████████████████████████████████▌                    | 69/100 [1:26:52<4:00:17, 465.09s/it]"
     ]
    },
    {
     "name": "stdout",
     "output_type": "stream",
     "text": [
      "Loss :  [708.476806640625]\n"
     ]
    },
    {
     "name": "stderr",
     "output_type": "stream",
     "text": [
      "\r\n",
      "Training:  70%|██████████████████████████████████████████████▏                   | 70/100 [1:27:37<2:49:32, 339.08s/it]"
     ]
    },
    {
     "name": "stdout",
     "output_type": "stream",
     "text": [
      "Loss :  [771.5733032226562]\n"
     ]
    },
    {
     "name": "stderr",
     "output_type": "stream",
     "text": [
      "\r\n",
      "Training:  71%|██████████████████████████████████████████████▊                   | 71/100 [1:28:20<2:00:50, 250.00s/it]"
     ]
    },
    {
     "name": "stdout",
     "output_type": "stream",
     "text": [
      "Loss :  [819.3905029296875]\n"
     ]
    },
    {
     "name": "stderr",
     "output_type": "stream",
     "text": [
      "\r\n",
      "Training:  72%|███████████████████████████████████████████████▌                  | 72/100 [1:29:06<1:28:08, 188.86s/it]"
     ]
    },
    {
     "name": "stdout",
     "output_type": "stream",
     "text": [
      "Loss :  [740.4340209960938]\n"
     ]
    },
    {
     "name": "stderr",
     "output_type": "stream",
     "text": [
      "\r\n",
      "Training:  73%|████████████████████████████████████████████████▏                 | 73/100 [1:29:52<1:05:40, 145.94s/it]"
     ]
    },
    {
     "name": "stdout",
     "output_type": "stream",
     "text": [
      "Loss :  [717.5126953125]\n"
     ]
    },
    {
     "name": "stderr",
     "output_type": "stream",
     "text": [
      "\r\n",
      "Training:  74%|██████████████████████████████████████████████████▎                 | 74/100 [1:30:37<50:07, 115.68s/it]"
     ]
    },
    {
     "name": "stdout",
     "output_type": "stream",
     "text": [
      "Loss :  [656.5509643554688]\n"
     ]
    },
    {
     "name": "stderr",
     "output_type": "stream",
     "text": [
      "\r\n",
      "Training:  75%|███████████████████████████████████████████████████▊                 | 75/100 [1:31:24<39:41, 95.28s/it]"
     ]
    },
    {
     "name": "stdout",
     "output_type": "stream",
     "text": [
      "Loss :  [653.8307495117188]\n"
     ]
    },
    {
     "name": "stderr",
     "output_type": "stream",
     "text": [
      "\r\n",
      "Training:  76%|████████████████████████████████████████████████████▍                | 76/100 [1:32:10<32:06, 80.26s/it]"
     ]
    },
    {
     "name": "stdout",
     "output_type": "stream",
     "text": [
      "Loss :  [641.0252075195312]\n"
     ]
    },
    {
     "name": "stderr",
     "output_type": "stream",
     "text": [
      "\r\n",
      "Training:  77%|█████████████████████████████████████████████████████▏               | 77/100 [1:32:53<26:31, 69.18s/it]"
     ]
    },
    {
     "name": "stdout",
     "output_type": "stream",
     "text": [
      "Loss :  [765.6498413085938]\n"
     ]
    },
    {
     "name": "stderr",
     "output_type": "stream",
     "text": [
      "\r\n",
      "Training:  78%|█████████████████████████████████████████████████████▊               | 78/100 [1:33:36<22:27, 61.24s/it]"
     ]
    },
    {
     "name": "stdout",
     "output_type": "stream",
     "text": [
      "Loss :  [1129.3564453125]\n"
     ]
    },
    {
     "name": "stderr",
     "output_type": "stream",
     "text": [
      "\r\n",
      "Training:  79%|██████████████████████████████████████████████████████▌              | 79/100 [1:34:18<19:27, 55.61s/it]"
     ]
    },
    {
     "name": "stdout",
     "output_type": "stream",
     "text": [
      "Loss :  [1171.5440673828125]\n"
     ]
    },
    {
     "name": "stderr",
     "output_type": "stream",
     "text": [
      "\r\n",
      "Training:  80%|███████████████████████████████████████████████████████▏             | 80/100 [1:35:07<17:50, 53.54s/it]"
     ]
    },
    {
     "name": "stdout",
     "output_type": "stream",
     "text": [
      "Loss :  [760.5636596679688]\n"
     ]
    },
    {
     "name": "stderr",
     "output_type": "stream",
     "text": [
      "\r\n",
      "Training:  81%|███████████████████████████████████████████████████████▉             | 81/100 [1:35:59<16:49, 53.12s/it]"
     ]
    },
    {
     "name": "stdout",
     "output_type": "stream",
     "text": [
      "Loss :  [422.992431640625]\n"
     ]
    },
    {
     "name": "stderr",
     "output_type": "stream",
     "text": [
      "\r\n",
      "Training:  82%|████████████████████████████████████████████████████████▌            | 82/100 [1:36:50<15:46, 52.58s/it]"
     ]
    },
    {
     "name": "stdout",
     "output_type": "stream",
     "text": [
      "Loss :  [281.2176513671875]\n"
     ]
    },
    {
     "name": "stderr",
     "output_type": "stream",
     "text": [
      "\r\n",
      "Training:  83%|█████████████████████████████████████████████████████████▎           | 83/100 [1:37:40<14:40, 51.77s/it]"
     ]
    },
    {
     "name": "stdout",
     "output_type": "stream",
     "text": [
      "Loss :  [215.54794311523438]\n"
     ]
    },
    {
     "name": "stderr",
     "output_type": "stream",
     "text": [
      "\r\n",
      "Training:  84%|█████████████████████████████████████████████████████████▉           | 84/100 [1:38:29<13:34, 50.92s/it]"
     ]
    },
    {
     "name": "stdout",
     "output_type": "stream",
     "text": [
      "Loss :  [220.50643920898438]\n"
     ]
    },
    {
     "name": "stderr",
     "output_type": "stream",
     "text": [
      "\r\n",
      "Training:  85%|██████████████████████████████████████████████████████████▋          | 85/100 [1:39:19<12:38, 50.56s/it]"
     ]
    },
    {
     "name": "stdout",
     "output_type": "stream",
     "text": [
      "Loss :  [268.76837158203125]\n"
     ]
    },
    {
     "name": "stderr",
     "output_type": "stream",
     "text": [
      "\r\n",
      "Training:  86%|███████████████████████████████████████████████████████████▎         | 86/100 [1:40:07<11:36, 49.74s/it]"
     ]
    },
    {
     "name": "stdout",
     "output_type": "stream",
     "text": [
      "Loss :  [398.7582702636719]\n"
     ]
    },
    {
     "name": "stderr",
     "output_type": "stream",
     "text": [
      "\r\n",
      "Training:  87%|████████████████████████████████████████████████████████████         | 87/100 [1:40:50<10:21, 47.80s/it]"
     ]
    },
    {
     "name": "stdout",
     "output_type": "stream",
     "text": [
      "Loss :  [662.351806640625]\n"
     ]
    },
    {
     "name": "stderr",
     "output_type": "stream",
     "text": [
      "\r\n",
      "Training:  88%|████████████████████████████████████████████████████████████▋        | 88/100 [1:41:36<09:27, 47.32s/it]"
     ]
    },
    {
     "name": "stdout",
     "output_type": "stream",
     "text": [
      "Loss :  [1341.8157958984375]\n"
     ]
    },
    {
     "name": "stderr",
     "output_type": "stream",
     "text": [
      "\r\n",
      "Training:  89%|█████████████████████████████████████████████████████████████▍       | 89/100 [1:42:22<08:35, 46.84s/it]"
     ]
    },
    {
     "name": "stdout",
     "output_type": "stream",
     "text": [
      "Loss :  [1449.861572265625]\n"
     ]
    },
    {
     "name": "stderr",
     "output_type": "stream",
     "text": [
      "\r\n",
      "Training:  90%|██████████████████████████████████████████████████████████████       | 90/100 [1:43:08<07:45, 46.54s/it]"
     ]
    },
    {
     "name": "stdout",
     "output_type": "stream",
     "text": [
      "Loss :  [769.54443359375]\n"
     ]
    },
    {
     "name": "stderr",
     "output_type": "stream",
     "text": [
      "\r\n",
      "Training:  91%|██████████████████████████████████████████████████████████████▊      | 91/100 [1:43:53<06:55, 46.17s/it]"
     ]
    },
    {
     "name": "stdout",
     "output_type": "stream",
     "text": [
      "Loss :  [453.4833679199219]\n"
     ]
    },
    {
     "name": "stderr",
     "output_type": "stream",
     "text": [
      "\r\n",
      "Training:  92%|███████████████████████████████████████████████████████████████▍     | 92/100 [1:44:38<06:05, 45.74s/it]"
     ]
    },
    {
     "name": "stdout",
     "output_type": "stream",
     "text": [
      "Loss :  [267.1376037597656]\n"
     ]
    },
    {
     "name": "stderr",
     "output_type": "stream",
     "text": [
      "\r\n",
      "Training:  93%|████████████████████████████████████████████████████████████████▏    | 93/100 [1:45:23<05:18, 45.55s/it]"
     ]
    },
    {
     "name": "stdout",
     "output_type": "stream",
     "text": [
      "Loss :  [206.20172119140625]\n"
     ]
    },
    {
     "name": "stderr",
     "output_type": "stream",
     "text": [
      "\r\n",
      "Training:  94%|████████████████████████████████████████████████████████████████▊    | 94/100 [1:45:57<04:13, 42.17s/it]"
     ]
    },
    {
     "name": "stdout",
     "output_type": "stream",
     "text": [
      "Loss :  [192.84323120117188]\n"
     ]
    },
    {
     "name": "stderr",
     "output_type": "stream",
     "text": [
      "\r\n",
      "Training:  95%|█████████████████████████████████████████████████████████████████▌   | 95/100 [1:46:30<03:16, 39.29s/it]"
     ]
    },
    {
     "name": "stdout",
     "output_type": "stream",
     "text": [
      "Loss :  [233.01678466796875]\n"
     ]
    },
    {
     "name": "stderr",
     "output_type": "stream",
     "text": [
      "\r\n",
      "Training:  96%|██████████████████████████████████████████████████████████████████▏  | 96/100 [1:47:03<02:30, 37.50s/it]"
     ]
    },
    {
     "name": "stdout",
     "output_type": "stream",
     "text": [
      "Loss :  [311.5322570800781]\n"
     ]
    },
    {
     "name": "stderr",
     "output_type": "stream",
     "text": [
      "\r\n",
      "Training:  97%|██████████████████████████████████████████████████████████████████▉  | 97/100 [1:47:37<01:49, 36.46s/it]"
     ]
    },
    {
     "name": "stdout",
     "output_type": "stream",
     "text": [
      "Loss :  [470.0483093261719]\n"
     ]
    },
    {
     "name": "stderr",
     "output_type": "stream",
     "text": [
      "\r\n",
      "Training:  98%|███████████████████████████████████████████████████████████████████▌ | 98/100 [1:48:21<01:17, 38.77s/it]"
     ]
    },
    {
     "name": "stdout",
     "output_type": "stream",
     "text": [
      "Loss :  [961.5517578125]\n"
     ]
    },
    {
     "name": "stderr",
     "output_type": "stream",
     "text": [
      "\r\n",
      "Training:  99%|████████████████████████████████████████████████████████████████████▎| 99/100 [1:48:58<00:38, 38.17s/it]"
     ]
    },
    {
     "name": "stdout",
     "output_type": "stream",
     "text": [
      "Loss :  [1597.838623046875]\n"
     ]
    },
    {
     "name": "stderr",
     "output_type": "stream",
     "text": [
      "Training: 100%|████████████████████████████████████████████████████████████████████| 100/100 [1:49:34<00:00, 65.75s/it]"
     ]
    },
    {
     "name": "stdout",
     "output_type": "stream",
     "text": [
      "Loss :  [1298.4388427734375]\n"
     ]
    },
    {
     "name": "stderr",
     "output_type": "stream",
     "text": [
      "\n"
     ]
    },
    {
     "name": "stdout",
     "output_type": "stream",
     "text": [
      "79/79 [==============================] - 8s 38ms/step\n",
      "MSE :  90750.53364386059 \tMAE :  227.2926801374872 \tR2 :  0.5149566292298862\n"
     ]
    }
   ],
   "source": [
    "def load_glove_embeddings(file_path):\n",
    "    embeddings_index = {}    \n",
    "    with open(file_path, 'r', encoding = 'utf-8') as f:\n",
    "        for line in f:\n",
    "            values = line.split()\n",
    "            word = values[0]\n",
    "            coefs = np.asarray(values[1:], dtype = 'float32')\n",
    "            embeddings_index[word] = coefs\n",
    "    return embeddings_index\n",
    "\n",
    "def create_embedding_matrix(tokenizer, embeddings_index, embedding_dim = 300):\n",
    "    vocabulary_size = len(tokenizer.word_index) + 1\n",
    "    embedding_matrix = np.zeros((vocabulary_size, embedding_dim))\n",
    "    \n",
    "    for word, i in tqdm(tokenizer.word_index.items(), desc = 'Creating Embeddings'):\n",
    "        embedding_vector = embeddings_index.get(word)\n",
    "        if embedding_vector is not None:\n",
    "            embedding_matrix[i] = embedding_vector\n",
    "    return embedding_matrix\n",
    "\n",
    "def prepare_sequences(tokenizer, texts, max_length):\n",
    "    sequences = tokenizer.texts_to_sequences(texts)\n",
    "    padded_sequences = pad_sequences(sequences, maxlen=max_length)\n",
    "    return padded_sequences\n",
    "\n",
    "def LSTMModel(x_train, x_test, y_train, y_test, embedding_matrix, max_length=100):\n",
    "    model = models.Sequential([\n",
    "        layers.Embedding(input_dim=embedding_matrix.shape[0], \n",
    "                         output_dim=embedding_matrix.shape[1], \n",
    "                         weights=[embedding_matrix], \n",
    "                         input_length=max_length,\n",
    "                         trainable=False),\n",
    "        layers.LSTM(128, return_sequences=True),\n",
    "        layers.LSTM(64),\n",
    "        layers.Dense(32, activation='relu'),\n",
    "        layers.Dense(1)  # Single output for regression\n",
    "    ])\n",
    "    \n",
    "    model.compile(optimizer='adam', loss='mean_squared_error', metrics=['mae'])\n",
    "\n",
    "    # Convert to numpy arrays and adjust scale as needed\n",
    "    y_train = y_train * 1000  \n",
    "    y_test = y_test * 1000\n",
    "    \n",
    "    # Early stopping callback\n",
    "    early_stopping = EarlyStopping(\n",
    "        monitor='val_loss',\n",
    "        patience=10,\n",
    "        restore_best_weights=True\n",
    "    )\n",
    "    \n",
    "    epochs = 100\n",
    "    batch_size = 32\n",
    "    val_split = 0.2\n",
    "\n",
    "    history = {\n",
    "        'loss': [],\n",
    "        'val_loss': []\n",
    "    }\n",
    "\n",
    "    for epoch in tqdm(range(epochs), desc='Training'):\n",
    "        history_epoch = model.fit(x_train, y_train, epochs=1, batch_size=batch_size,\n",
    "                                  validation_split=val_split, verbose=0,\n",
    "                                  callbacks=[early_stopping])\n",
    "\n",
    "        history['loss'].append(history_epoch.history['loss'][0])\n",
    "        history['val_loss'].append(history_epoch.history['val_loss'][0])\n",
    "        print(\"Loss : \", history_epoch.history['loss'])\n",
    "\n",
    "        if early_stopping.stopped_epoch > 0:\n",
    "            print(f\"Training Stopped at epoch {epoch + 1}\")\n",
    "            break\n",
    "\n",
    "    y_pred = model.predict(x_test)\n",
    "    return (mean_squared_error(y_test, y_pred), \n",
    "            mean_absolute_error(y_test, y_pred), \n",
    "            r2_score(y_test, y_pred))\n",
    "\n",
    "if __name__ == \"__main__\":\n",
    "    glove_file_path = 'D:/DATA (D)/Glove/glove.6B/glove.6B.300d.txt'\n",
    "    glove_embeddings = load_glove_embeddings(glove_file_path)\n",
    "    \n",
    "    dataset = pd.read_csv('df.csv')\n",
    "    df_train = dataset.iloc[:10000, :]\n",
    "    df_test = dataset.iloc[10000:, :]\n",
    "    \n",
    "    train_texts = df_train['article'].values\n",
    "    test_texts = df_test['article'].values\n",
    "    \n",
    "    y_train = df_train['sentiment_score']\n",
    "    y_test = df_test['sentiment_score']\n",
    "    \n",
    "    tokenize = Tokenizer()\n",
    "    tokenize.fit_on_texts(train_texts)\n",
    "    \n",
    "    embedding_matrix = create_embedding_matrix(tokenize, glove_embeddings, embedding_dim = 300)\n",
    "    \n",
    "    max_length = 100\n",
    "    x_train = prepare_sequences(tokenize, train_texts, max_length)\n",
    "    x_test = prepare_sequences(tokenize, test_texts, max_length)\n",
    "\n",
    "    result = LSTMModel(x_train, x_test, y_train, y_test, embedding_matrix, max_length)\n",
    "    print(\"MSE : \", result[0], \"\\tMAE : \", result[1], \"\\tR2 : \", result[2])"
   ]
  },
  {
   "cell_type": "code",
   "execution_count": 98,
   "id": "6a933832",
   "metadata": {},
   "outputs": [],
   "source": [
    "dataset = pd.read_csv('df.csv')"
   ]
  },
  {
   "cell_type": "markdown",
   "id": "7cff4470",
   "metadata": {},
   "source": [
    "#### With best weights"
   ]
  },
  {
   "cell_type": "code",
   "execution_count": 112,
   "id": "670dad39",
   "metadata": {
    "scrolled": true
   },
   "outputs": [
    {
     "name": "stderr",
     "output_type": "stream",
     "text": [
      "Creating Embeddings: 100%|███████████████████████████████████████████████████| 18444/18444 [00:00<00:00, 396287.83it/s]\n"
     ]
    },
    {
     "name": "stdout",
     "output_type": "stream",
     "text": [
      "Model: \"sequential_9\"\n",
      "_________________________________________________________________\n",
      " Layer (type)                Output Shape              Param #   \n",
      "=================================================================\n",
      " embedding_3 (Embedding)     (None, 100, 300)          5533500   \n",
      "                                                                 \n",
      " lstm_6 (LSTM)               (None, 100, 128)          219648    \n",
      "                                                                 \n",
      " lstm_7 (LSTM)               (None, 64)                49408     \n",
      "                                                                 \n",
      " dense_30 (Dense)            (None, 32)                2080      \n",
      "                                                                 \n",
      " dense_31 (Dense)            (None, 1)                 33        \n",
      "                                                                 \n",
      "=================================================================\n",
      "Total params: 5,804,669\n",
      "Trainable params: 271,169\n",
      "Non-trainable params: 5,533,500\n",
      "_________________________________________________________________\n",
      "None\n"
     ]
    },
    {
     "name": "stderr",
     "output_type": "stream",
     "text": [
      "\r\n",
      "Training:   0%|                                                                                | 0/100 [00:00<?, ?it/s]"
     ]
    },
    {
     "name": "stdout",
     "output_type": "stream",
     "text": [
      "\n",
      "Epoch 1: val_loss improved from inf to 164810.85938, saving model to best_model_weights.h5\n"
     ]
    },
    {
     "name": "stderr",
     "output_type": "stream",
     "text": [
      "\r\n",
      "Training:   1%|▋                                                                    | 1/100 [02:46<4:34:40, 166.47s/it]"
     ]
    },
    {
     "name": "stdout",
     "output_type": "stream",
     "text": [
      "Loss :  [204525.09375]\n",
      "\n",
      "Epoch 1: val_loss improved from 164810.85938 to 149475.59375, saving model to best_model_weights.h5\n"
     ]
    },
    {
     "name": "stderr",
     "output_type": "stream",
     "text": [
      "\r\n",
      "Training:   2%|█▍                                                                   | 2/100 [05:03<4:03:41, 149.20s/it]"
     ]
    },
    {
     "name": "stdout",
     "output_type": "stream",
     "text": [
      "Loss :  [153423.921875]\n",
      "\n",
      "Epoch 1: val_loss did not improve from 149475.59375\n"
     ]
    },
    {
     "name": "stderr",
     "output_type": "stream",
     "text": [
      "\r\n",
      "Training:   3%|██                                                                   | 3/100 [07:22<3:53:43, 144.57s/it]"
     ]
    },
    {
     "name": "stdout",
     "output_type": "stream",
     "text": [
      "Loss :  [145590.765625]\n",
      "\n",
      "Epoch 1: val_loss did not improve from 149475.59375\n"
     ]
    },
    {
     "name": "stderr",
     "output_type": "stream",
     "text": [
      "\r\n",
      "Training:   4%|██▊                                                                  | 4/100 [09:46<3:51:01, 144.39s/it]"
     ]
    },
    {
     "name": "stdout",
     "output_type": "stream",
     "text": [
      "Loss :  [145571.109375]\n",
      "\n",
      "Epoch 1: val_loss did not improve from 149475.59375\n"
     ]
    },
    {
     "name": "stderr",
     "output_type": "stream",
     "text": [
      "\r\n",
      "Training:   5%|███▍                                                                 | 5/100 [11:59<3:42:12, 140.34s/it]"
     ]
    },
    {
     "name": "stdout",
     "output_type": "stream",
     "text": [
      "Loss :  [145567.953125]\n",
      "\n",
      "Epoch 1: val_loss did not improve from 149475.59375\n"
     ]
    },
    {
     "name": "stderr",
     "output_type": "stream",
     "text": [
      "\r\n",
      "Training:   6%|████▏                                                                | 6/100 [14:10<3:34:38, 137.00s/it]"
     ]
    },
    {
     "name": "stdout",
     "output_type": "stream",
     "text": [
      "Loss :  [145591.859375]\n",
      "\n",
      "Epoch 1: val_loss did not improve from 149475.59375\n"
     ]
    },
    {
     "name": "stderr",
     "output_type": "stream",
     "text": [
      "\r\n",
      "Training:   7%|████▊                                                                | 7/100 [16:23<3:30:30, 135.82s/it]"
     ]
    },
    {
     "name": "stdout",
     "output_type": "stream",
     "text": [
      "Loss :  [145587.21875]\n",
      "\n",
      "Epoch 1: val_loss did not improve from 149475.59375\n"
     ]
    },
    {
     "name": "stderr",
     "output_type": "stream",
     "text": [
      "\r\n",
      "Training:   8%|█████▌                                                               | 8/100 [18:40<3:28:35, 136.04s/it]"
     ]
    },
    {
     "name": "stdout",
     "output_type": "stream",
     "text": [
      "Loss :  [145543.109375]\n",
      "\n",
      "Epoch 1: val_loss improved from 149475.59375 to 148317.43750, saving model to best_model_weights.h5\n"
     ]
    },
    {
     "name": "stderr",
     "output_type": "stream",
     "text": [
      "\r\n",
      "Training:   9%|██████▏                                                              | 9/100 [21:00<3:28:08, 137.24s/it]"
     ]
    },
    {
     "name": "stdout",
     "output_type": "stream",
     "text": [
      "Loss :  [141156.734375]\n",
      "\n",
      "Epoch 1: val_loss improved from 148317.43750 to 139302.40625, saving model to best_model_weights.h5\n"
     ]
    },
    {
     "name": "stderr",
     "output_type": "stream",
     "text": [
      "\r\n",
      "Training:  10%|██████▊                                                             | 10/100 [23:22<3:28:23, 138.93s/it]"
     ]
    },
    {
     "name": "stdout",
     "output_type": "stream",
     "text": [
      "Loss :  [128703.7734375]\n",
      "\n",
      "Epoch 1: val_loss improved from 139302.40625 to 115556.02344, saving model to best_model_weights.h5\n"
     ]
    },
    {
     "name": "stderr",
     "output_type": "stream",
     "text": [
      "\r\n",
      "Training:  11%|███████▍                                                            | 11/100 [25:46<3:28:09, 140.34s/it]"
     ]
    },
    {
     "name": "stdout",
     "output_type": "stream",
     "text": [
      "Loss :  [101537.8125]\n",
      "\n",
      "Epoch 1: val_loss improved from 115556.02344 to 108797.00781, saving model to best_model_weights.h5\n"
     ]
    },
    {
     "name": "stderr",
     "output_type": "stream",
     "text": [
      "\r\n",
      "Training:  12%|████████▏                                                           | 12/100 [28:08<3:26:48, 141.01s/it]"
     ]
    },
    {
     "name": "stdout",
     "output_type": "stream",
     "text": [
      "Loss :  [76345.2421875]\n",
      "\n",
      "Epoch 1: val_loss improved from 108797.00781 to 101378.10938, saving model to best_model_weights.h5\n"
     ]
    },
    {
     "name": "stderr",
     "output_type": "stream",
     "text": [
      "\r\n",
      "Training:  13%|████████▊                                                           | 13/100 [30:26<3:22:55, 139.95s/it]"
     ]
    },
    {
     "name": "stdout",
     "output_type": "stream",
     "text": [
      "Loss :  [60433.73046875]\n",
      "\n",
      "Epoch 1: val_loss improved from 101378.10938 to 99800.17969, saving model to best_model_weights.h5\n"
     ]
    },
    {
     "name": "stderr",
     "output_type": "stream",
     "text": [
      "\r\n",
      "Training:  14%|█████████▌                                                          | 14/100 [32:40<3:18:02, 138.17s/it]"
     ]
    },
    {
     "name": "stdout",
     "output_type": "stream",
     "text": [
      "Loss :  [48627.8125]\n",
      "\n",
      "Epoch 1: val_loss improved from 99800.17969 to 88330.88281, saving model to best_model_weights.h5\n"
     ]
    },
    {
     "name": "stderr",
     "output_type": "stream",
     "text": [
      "\r\n",
      "Training:  15%|██████████▏                                                         | 15/100 [34:55<3:14:14, 137.11s/it]"
     ]
    },
    {
     "name": "stdout",
     "output_type": "stream",
     "text": [
      "Loss :  [37443.02734375]\n",
      "\n",
      "Epoch 1: val_loss improved from 88330.88281 to 86367.57031, saving model to best_model_weights.h5\n"
     ]
    },
    {
     "name": "stderr",
     "output_type": "stream",
     "text": [
      "\r\n",
      "Training:  16%|██████████▉                                                         | 16/100 [37:08<3:10:30, 136.07s/it]"
     ]
    },
    {
     "name": "stdout",
     "output_type": "stream",
     "text": [
      "Loss :  [29705.8671875]\n",
      "\n",
      "Epoch 1: val_loss did not improve from 86367.57031\n"
     ]
    },
    {
     "name": "stderr",
     "output_type": "stream",
     "text": [
      "\r\n",
      "Training:  17%|███████████▌                                                        | 17/100 [39:23<3:07:25, 135.49s/it]"
     ]
    },
    {
     "name": "stdout",
     "output_type": "stream",
     "text": [
      "Loss :  [23896.697265625]\n",
      "\n",
      "Epoch 1: val_loss did not improve from 86367.57031\n"
     ]
    },
    {
     "name": "stderr",
     "output_type": "stream",
     "text": [
      "\r\n",
      "Training:  18%|████████████▏                                                       | 18/100 [41:41<3:06:20, 136.34s/it]"
     ]
    },
    {
     "name": "stdout",
     "output_type": "stream",
     "text": [
      "Loss :  [19404.34765625]\n",
      "\n",
      "Epoch 1: val_loss did not improve from 86367.57031\n"
     ]
    },
    {
     "name": "stderr",
     "output_type": "stream",
     "text": [
      "\r\n",
      "Training:  19%|████████████▉                                                       | 19/100 [44:10<3:09:25, 140.32s/it]"
     ]
    },
    {
     "name": "stdout",
     "output_type": "stream",
     "text": [
      "Loss :  [15870.2958984375]\n",
      "\n",
      "Epoch 1: val_loss did not improve from 86367.57031\n"
     ]
    },
    {
     "name": "stderr",
     "output_type": "stream",
     "text": [
      "\r\n",
      "Training:  20%|█████████████▌                                                      | 20/100 [46:32<3:07:47, 140.84s/it]"
     ]
    },
    {
     "name": "stdout",
     "output_type": "stream",
     "text": [
      "Loss :  [14184.71484375]\n",
      "\n",
      "Epoch 1: val_loss did not improve from 86367.57031\n"
     ]
    },
    {
     "name": "stderr",
     "output_type": "stream",
     "text": [
      "\r\n",
      "Training:  21%|██████████████▎                                                     | 21/100 [48:49<3:03:41, 139.51s/it]"
     ]
    },
    {
     "name": "stdout",
     "output_type": "stream",
     "text": [
      "Loss :  [10663.84375]\n",
      "\n",
      "Epoch 1: val_loss did not improve from 86367.57031\n"
     ]
    },
    {
     "name": "stderr",
     "output_type": "stream",
     "text": [
      "\r\n",
      "Training:  22%|██████████████▉                                                     | 22/100 [51:12<3:02:35, 140.46s/it]"
     ]
    },
    {
     "name": "stdout",
     "output_type": "stream",
     "text": [
      "Loss :  [8857.693359375]\n",
      "\n",
      "Epoch 1: val_loss did not improve from 86367.57031\n"
     ]
    },
    {
     "name": "stderr",
     "output_type": "stream",
     "text": [
      "\r\n",
      "Training:  23%|███████████████▋                                                    | 23/100 [53:29<2:59:01, 139.50s/it]"
     ]
    },
    {
     "name": "stdout",
     "output_type": "stream",
     "text": [
      "Loss :  [7288.611328125]\n",
      "\n",
      "Epoch 1: val_loss did not improve from 86367.57031\n"
     ]
    },
    {
     "name": "stderr",
     "output_type": "stream",
     "text": [
      "\r\n",
      "Training:  24%|████████████████▎                                                   | 24/100 [55:49<2:56:58, 139.71s/it]"
     ]
    },
    {
     "name": "stdout",
     "output_type": "stream",
     "text": [
      "Loss :  [6193.869140625]\n",
      "\n",
      "Epoch 1: val_loss did not improve from 86367.57031\n"
     ]
    },
    {
     "name": "stderr",
     "output_type": "stream",
     "text": [
      "\r\n",
      "Training:  25%|█████████████████                                                   | 25/100 [58:08<2:54:27, 139.56s/it]"
     ]
    },
    {
     "name": "stdout",
     "output_type": "stream",
     "text": [
      "Loss :  [5166.2900390625]\n",
      "\n",
      "Epoch 1: val_loss did not improve from 86367.57031\n"
     ]
    },
    {
     "name": "stderr",
     "output_type": "stream",
     "text": [
      "\r\n",
      "Training:  26%|█████████████████▏                                                | 26/100 [1:00:28<2:52:10, 139.61s/it]"
     ]
    },
    {
     "name": "stdout",
     "output_type": "stream",
     "text": [
      "Loss :  [4446.55029296875]\n",
      "\n",
      "Epoch 1: val_loss did not improve from 86367.57031\n"
     ]
    },
    {
     "name": "stderr",
     "output_type": "stream",
     "text": [
      "\r\n",
      "Training:  27%|█████████████████▊                                                | 27/100 [1:02:51<2:51:07, 140.65s/it]"
     ]
    },
    {
     "name": "stdout",
     "output_type": "stream",
     "text": [
      "Loss :  [3804.9951171875]\n",
      "\n",
      "Epoch 1: val_loss did not improve from 86367.57031\n"
     ]
    },
    {
     "name": "stderr",
     "output_type": "stream",
     "text": [
      "\r\n",
      "Training:  28%|██████████████████▍                                               | 28/100 [1:05:12<2:48:47, 140.65s/it]"
     ]
    },
    {
     "name": "stdout",
     "output_type": "stream",
     "text": [
      "Loss :  [3527.920654296875]\n",
      "\n",
      "Epoch 1: val_loss did not improve from 86367.57031\n"
     ]
    },
    {
     "name": "stderr",
     "output_type": "stream",
     "text": [
      "\r\n",
      "Training:  29%|███████████████████▏                                              | 29/100 [1:07:29<2:45:24, 139.78s/it]"
     ]
    },
    {
     "name": "stdout",
     "output_type": "stream",
     "text": [
      "Loss :  [3401.916748046875]\n",
      "\n",
      "Epoch 1: val_loss did not improve from 86367.57031\n"
     ]
    },
    {
     "name": "stderr",
     "output_type": "stream",
     "text": [
      "\r\n",
      "Training:  30%|███████████████████▊                                              | 30/100 [1:09:46<2:41:52, 138.74s/it]"
     ]
    },
    {
     "name": "stdout",
     "output_type": "stream",
     "text": [
      "Loss :  [3131.637939453125]\n",
      "\n",
      "Epoch 1: val_loss did not improve from 86367.57031\n"
     ]
    },
    {
     "name": "stderr",
     "output_type": "stream",
     "text": [
      "\r\n",
      "Training:  31%|████████████████████▍                                             | 31/100 [1:12:03<2:39:01, 138.28s/it]"
     ]
    },
    {
     "name": "stdout",
     "output_type": "stream",
     "text": [
      "Loss :  [2693.71826171875]\n",
      "\n",
      "Epoch 1: val_loss did not improve from 86367.57031\n"
     ]
    },
    {
     "name": "stderr",
     "output_type": "stream",
     "text": [
      "\r\n",
      "Training:  32%|█████████████████████                                             | 32/100 [1:14:27<2:38:32, 139.89s/it]"
     ]
    },
    {
     "name": "stdout",
     "output_type": "stream",
     "text": [
      "Loss :  [2594.233154296875]\n",
      "\n",
      "Epoch 1: val_loss did not improve from 86367.57031\n"
     ]
    },
    {
     "name": "stderr",
     "output_type": "stream",
     "text": [
      "\r\n",
      "Training:  33%|█████████████████████▊                                            | 33/100 [1:16:49<2:37:03, 140.65s/it]"
     ]
    },
    {
     "name": "stdout",
     "output_type": "stream",
     "text": [
      "Loss :  [2438.21875]\n",
      "\n",
      "Epoch 1: val_loss did not improve from 86367.57031\n"
     ]
    },
    {
     "name": "stderr",
     "output_type": "stream",
     "text": [
      "\r\n",
      "Training:  34%|██████████████████████▍                                           | 34/100 [1:19:09<2:34:20, 140.30s/it]"
     ]
    },
    {
     "name": "stdout",
     "output_type": "stream",
     "text": [
      "Loss :  [2067.539306640625]\n",
      "\n",
      "Epoch 1: val_loss did not improve from 86367.57031\n"
     ]
    },
    {
     "name": "stderr",
     "output_type": "stream",
     "text": [
      "\r\n",
      "Training:  35%|███████████████████████                                           | 35/100 [1:21:28<2:31:50, 140.17s/it]"
     ]
    },
    {
     "name": "stdout",
     "output_type": "stream",
     "text": [
      "Loss :  [2055.045654296875]\n",
      "\n",
      "Epoch 1: val_loss did not improve from 86367.57031\n"
     ]
    },
    {
     "name": "stderr",
     "output_type": "stream",
     "text": [
      "\r\n",
      "Training:  36%|███████████████████████▊                                          | 36/100 [1:23:48<2:29:18, 139.98s/it]"
     ]
    },
    {
     "name": "stdout",
     "output_type": "stream",
     "text": [
      "Loss :  [2075.06787109375]\n",
      "\n",
      "Epoch 1: val_loss did not improve from 86367.57031\n"
     ]
    },
    {
     "name": "stderr",
     "output_type": "stream",
     "text": [
      "\r\n",
      "Training:  37%|████████████████████████▍                                         | 37/100 [1:26:02<2:25:07, 138.22s/it]"
     ]
    },
    {
     "name": "stdout",
     "output_type": "stream",
     "text": [
      "Loss :  [1987.4271240234375]\n",
      "\n",
      "Epoch 1: val_loss did not improve from 86367.57031\n"
     ]
    },
    {
     "name": "stderr",
     "output_type": "stream",
     "text": [
      "\r\n",
      "Training:  38%|█████████████████████████                                         | 38/100 [1:28:18<2:22:16, 137.69s/it]"
     ]
    },
    {
     "name": "stdout",
     "output_type": "stream",
     "text": [
      "Loss :  [1782.232177734375]\n",
      "\n",
      "Epoch 1: val_loss did not improve from 86367.57031\n"
     ]
    },
    {
     "name": "stderr",
     "output_type": "stream",
     "text": [
      "\r\n",
      "Training:  39%|█████████████████████████▋                                        | 39/100 [1:30:35<2:19:34, 137.29s/it]"
     ]
    },
    {
     "name": "stdout",
     "output_type": "stream",
     "text": [
      "Loss :  [1559.313720703125]\n",
      "\n",
      "Epoch 1: val_loss did not improve from 86367.57031\n"
     ]
    },
    {
     "name": "stderr",
     "output_type": "stream",
     "text": [
      "\r\n",
      "Training:  40%|██████████████████████████▍                                       | 40/100 [1:32:51<2:16:58, 136.98s/it]"
     ]
    },
    {
     "name": "stdout",
     "output_type": "stream",
     "text": [
      "Loss :  [1512.7606201171875]\n",
      "\n",
      "Epoch 1: val_loss did not improve from 86367.57031\n"
     ]
    },
    {
     "name": "stderr",
     "output_type": "stream",
     "text": [
      "\r\n",
      "Training:  41%|███████████████████████████                                       | 41/100 [1:35:08<2:14:43, 137.01s/it]"
     ]
    },
    {
     "name": "stdout",
     "output_type": "stream",
     "text": [
      "Loss :  [1507.88232421875]\n",
      "\n",
      "Epoch 1: val_loss did not improve from 86367.57031\n"
     ]
    },
    {
     "name": "stderr",
     "output_type": "stream",
     "text": [
      "\r\n",
      "Training:  42%|███████████████████████████▋                                      | 42/100 [1:37:26<2:12:32, 137.11s/it]"
     ]
    },
    {
     "name": "stdout",
     "output_type": "stream",
     "text": [
      "Loss :  [1473.4906005859375]\n",
      "\n",
      "Epoch 1: val_loss did not improve from 86367.57031\n"
     ]
    },
    {
     "name": "stderr",
     "output_type": "stream",
     "text": [
      "\r\n",
      "Training:  43%|████████████████████████████▍                                     | 43/100 [1:39:43<2:10:25, 137.29s/it]"
     ]
    },
    {
     "name": "stdout",
     "output_type": "stream",
     "text": [
      "Loss :  [1349.80712890625]\n",
      "\n",
      "Epoch 1: val_loss did not improve from 86367.57031\n"
     ]
    },
    {
     "name": "stderr",
     "output_type": "stream",
     "text": [
      "\r\n",
      "Training:  44%|█████████████████████████████                                     | 44/100 [1:42:00<2:07:58, 137.12s/it]"
     ]
    },
    {
     "name": "stdout",
     "output_type": "stream",
     "text": [
      "Loss :  [1331.435302734375]\n",
      "\n",
      "Epoch 1: val_loss did not improve from 86367.57031\n"
     ]
    },
    {
     "name": "stderr",
     "output_type": "stream",
     "text": [
      "\r\n",
      "Training:  45%|█████████████████████████████▋                                    | 45/100 [1:44:18<2:05:57, 137.42s/it]"
     ]
    },
    {
     "name": "stdout",
     "output_type": "stream",
     "text": [
      "Loss :  [1204.3304443359375]\n",
      "\n",
      "Epoch 1: val_loss improved from 86367.57031 to 86227.64844, saving model to best_model_weights.h5\n"
     ]
    },
    {
     "name": "stderr",
     "output_type": "stream",
     "text": [
      "\r\n",
      "Training:  46%|██████████████████████████████▎                                   | 46/100 [1:46:36<2:03:48, 137.56s/it]"
     ]
    },
    {
     "name": "stdout",
     "output_type": "stream",
     "text": [
      "Loss :  [1255.2337646484375]\n",
      "\n",
      "Epoch 1: val_loss did not improve from 86227.64844\n"
     ]
    },
    {
     "name": "stderr",
     "output_type": "stream",
     "text": [
      "\r\n",
      "Training:  47%|███████████████████████████████                                   | 47/100 [1:48:54<2:01:39, 137.72s/it]"
     ]
    },
    {
     "name": "stdout",
     "output_type": "stream",
     "text": [
      "Loss :  [1198.542724609375]\n",
      "\n",
      "Epoch 1: val_loss improved from 86227.64844 to 85572.21094, saving model to best_model_weights.h5\n"
     ]
    },
    {
     "name": "stderr",
     "output_type": "stream",
     "text": [
      "\r\n",
      "Training:  48%|███████████████████████████████▋                                  | 48/100 [1:51:12<1:59:18, 137.65s/it]"
     ]
    },
    {
     "name": "stdout",
     "output_type": "stream",
     "text": [
      "Loss :  [1318.28564453125]\n",
      "\n",
      "Epoch 1: val_loss did not improve from 85572.21094\n"
     ]
    },
    {
     "name": "stderr",
     "output_type": "stream",
     "text": [
      "\r\n",
      "Training:  49%|████████████████████████████████▎                                 | 49/100 [1:53:29<1:56:58, 137.61s/it]"
     ]
    },
    {
     "name": "stdout",
     "output_type": "stream",
     "text": [
      "Loss :  [1395.0479736328125]\n",
      "\n",
      "Epoch 1: val_loss did not improve from 85572.21094\n"
     ]
    },
    {
     "name": "stderr",
     "output_type": "stream",
     "text": [
      "\r\n",
      "Training:  50%|█████████████████████████████████                                 | 50/100 [1:55:47<1:54:39, 137.59s/it]"
     ]
    },
    {
     "name": "stdout",
     "output_type": "stream",
     "text": [
      "Loss :  [1529.51416015625]\n",
      "\n",
      "Epoch 1: val_loss did not improve from 85572.21094\n"
     ]
    },
    {
     "name": "stderr",
     "output_type": "stream",
     "text": [
      "\r\n",
      "Training:  51%|█████████████████████████████████▋                                | 51/100 [1:58:03<1:52:10, 137.36s/it]"
     ]
    },
    {
     "name": "stdout",
     "output_type": "stream",
     "text": [
      "Loss :  [1268.326904296875]\n",
      "\n",
      "Epoch 1: val_loss improved from 85572.21094 to 85444.23438, saving model to best_model_weights.h5\n"
     ]
    },
    {
     "name": "stderr",
     "output_type": "stream",
     "text": [
      "\r\n",
      "Training:  52%|██████████████████████████████████▎                               | 52/100 [2:00:21<1:49:58, 137.46s/it]"
     ]
    },
    {
     "name": "stdout",
     "output_type": "stream",
     "text": [
      "Loss :  [1010.0357055664062]\n",
      "\n",
      "Epoch 1: val_loss improved from 85444.23438 to 83660.32812, saving model to best_model_weights.h5\n"
     ]
    },
    {
     "name": "stderr",
     "output_type": "stream",
     "text": [
      "\r\n",
      "Training:  53%|██████████████████████████████████▉                               | 53/100 [2:02:38<1:47:35, 137.35s/it]"
     ]
    },
    {
     "name": "stdout",
     "output_type": "stream",
     "text": [
      "Loss :  [961.568115234375]\n",
      "\n",
      "Epoch 1: val_loss did not improve from 83660.32812\n"
     ]
    },
    {
     "name": "stderr",
     "output_type": "stream",
     "text": [
      "\r\n",
      "Training:  54%|███████████████████████████████████▋                              | 54/100 [2:04:56<1:45:21, 137.42s/it]"
     ]
    },
    {
     "name": "stdout",
     "output_type": "stream",
     "text": [
      "Loss :  [936.3602294921875]\n",
      "\n",
      "Epoch 1: val_loss did not improve from 83660.32812\n"
     ]
    },
    {
     "name": "stderr",
     "output_type": "stream",
     "text": [
      "\r\n",
      "Training:  55%|████████████████████████████████████▎                             | 55/100 [2:07:14<1:43:12, 137.60s/it]"
     ]
    },
    {
     "name": "stdout",
     "output_type": "stream",
     "text": [
      "Loss :  [858.1740112304688]\n",
      "\n",
      "Epoch 1: val_loss did not improve from 83660.32812\n"
     ]
    },
    {
     "name": "stderr",
     "output_type": "stream",
     "text": [
      "\r\n",
      "Training:  56%|████████████████████████████████████▉                             | 56/100 [2:09:47<1:44:13, 142.13s/it]"
     ]
    },
    {
     "name": "stdout",
     "output_type": "stream",
     "text": [
      "Loss :  [929.5484008789062]\n",
      "\n",
      "Epoch 1: val_loss did not improve from 83660.32812\n"
     ]
    },
    {
     "name": "stderr",
     "output_type": "stream",
     "text": [
      "\r\n",
      "Training:  57%|█████████████████████████████████████▌                            | 57/100 [2:12:14<1:42:55, 143.63s/it]"
     ]
    },
    {
     "name": "stdout",
     "output_type": "stream",
     "text": [
      "Loss :  [1573.233642578125]\n",
      "\n",
      "Epoch 1: val_loss did not improve from 83660.32812\n"
     ]
    },
    {
     "name": "stderr",
     "output_type": "stream",
     "text": [
      "\r\n",
      "Training:  58%|██████████████████████████████████████▎                           | 58/100 [2:14:33<1:39:35, 142.28s/it]"
     ]
    },
    {
     "name": "stdout",
     "output_type": "stream",
     "text": [
      "Loss :  [1431.0518798828125]\n",
      "\n",
      "Epoch 1: val_loss did not improve from 83660.32812\n"
     ]
    },
    {
     "name": "stderr",
     "output_type": "stream",
     "text": [
      "\r\n",
      "Training:  59%|██████████████████████████████████████▉                           | 59/100 [2:16:50<1:36:09, 140.71s/it]"
     ]
    },
    {
     "name": "stdout",
     "output_type": "stream",
     "text": [
      "Loss :  [1001.7313232421875]\n",
      "\n",
      "Epoch 1: val_loss did not improve from 83660.32812\n"
     ]
    },
    {
     "name": "stderr",
     "output_type": "stream",
     "text": [
      "\r\n",
      "Training:  60%|███████████████████████████████████████▌                          | 60/100 [2:19:04<1:32:28, 138.70s/it]"
     ]
    },
    {
     "name": "stdout",
     "output_type": "stream",
     "text": [
      "Loss :  [712.3018798828125]\n",
      "\n",
      "Epoch 1: val_loss did not improve from 83660.32812\n"
     ]
    },
    {
     "name": "stderr",
     "output_type": "stream",
     "text": [
      "\r\n",
      "Training:  61%|████████████████████████████████████████▎                         | 61/100 [2:21:22<1:30:07, 138.66s/it]"
     ]
    },
    {
     "name": "stdout",
     "output_type": "stream",
     "text": [
      "Loss :  [551.84228515625]\n",
      "\n",
      "Epoch 1: val_loss did not improve from 83660.32812\n"
     ]
    },
    {
     "name": "stderr",
     "output_type": "stream",
     "text": [
      "\r\n",
      "Training:  62%|████████████████████████████████████████▉                         | 62/100 [2:23:39<1:27:30, 138.17s/it]"
     ]
    },
    {
     "name": "stdout",
     "output_type": "stream",
     "text": [
      "Loss :  [438.04388427734375]\n",
      "\n",
      "Epoch 1: val_loss did not improve from 83660.32812\n"
     ]
    },
    {
     "name": "stderr",
     "output_type": "stream",
     "text": [
      "\r\n",
      "Training:  63%|█████████████████████████████████████████▌                        | 63/100 [2:25:54<1:24:26, 136.94s/it]"
     ]
    },
    {
     "name": "stdout",
     "output_type": "stream",
     "text": [
      "Loss :  [674.9714965820312]\n",
      "\n",
      "Epoch 1: val_loss did not improve from 83660.32812\n"
     ]
    },
    {
     "name": "stderr",
     "output_type": "stream",
     "text": [
      "\r\n",
      "Training:  64%|██████████████████████████████████████████▏                       | 64/100 [2:28:08<1:21:42, 136.19s/it]"
     ]
    },
    {
     "name": "stdout",
     "output_type": "stream",
     "text": [
      "Loss :  [847.5696411132812]\n",
      "\n",
      "Epoch 1: val_loss did not improve from 83660.32812\n"
     ]
    },
    {
     "name": "stderr",
     "output_type": "stream",
     "text": [
      "\r\n",
      "Training:  65%|██████████████████████████████████████████▉                       | 65/100 [2:30:22<1:18:58, 135.40s/it]"
     ]
    },
    {
     "name": "stdout",
     "output_type": "stream",
     "text": [
      "Loss :  [884.320556640625]\n",
      "\n",
      "Epoch 1: val_loss did not improve from 83660.32812\n"
     ]
    },
    {
     "name": "stderr",
     "output_type": "stream",
     "text": [
      "\r\n",
      "Training:  66%|███████████████████████████████████████████▌                      | 66/100 [2:32:33<1:16:03, 134.23s/it]"
     ]
    },
    {
     "name": "stdout",
     "output_type": "stream",
     "text": [
      "Loss :  [987.8463134765625]\n",
      "\n",
      "Epoch 1: val_loss did not improve from 83660.32812\n"
     ]
    },
    {
     "name": "stderr",
     "output_type": "stream",
     "text": [
      "\r\n",
      "Training:  67%|████████████████████████████████████████████▏                     | 67/100 [2:34:43<1:13:07, 132.95s/it]"
     ]
    },
    {
     "name": "stdout",
     "output_type": "stream",
     "text": [
      "Loss :  [1004.131103515625]\n",
      "\n",
      "Epoch 1: val_loss did not improve from 83660.32812\n"
     ]
    },
    {
     "name": "stderr",
     "output_type": "stream",
     "text": [
      "\r\n",
      "Training:  68%|████████████████████████████████████████████▉                     | 68/100 [2:36:54<1:10:38, 132.44s/it]"
     ]
    },
    {
     "name": "stdout",
     "output_type": "stream",
     "text": [
      "Loss :  [896.67138671875]\n",
      "\n",
      "Epoch 1: val_loss improved from 83660.32812 to 83594.35156, saving model to best_model_weights.h5\n"
     ]
    },
    {
     "name": "stderr",
     "output_type": "stream",
     "text": [
      "\r\n",
      "Training:  69%|█████████████████████████████████████████████▌                    | 69/100 [2:39:07<1:08:30, 132.58s/it]"
     ]
    },
    {
     "name": "stdout",
     "output_type": "stream",
     "text": [
      "Loss :  [782.5051879882812]\n",
      "\n",
      "Epoch 1: val_loss improved from 83594.35156 to 83135.61719, saving model to best_model_weights.h5\n"
     ]
    },
    {
     "name": "stderr",
     "output_type": "stream",
     "text": [
      "\r\n",
      "Training:  70%|██████████████████████████████████████████████▏                   | 70/100 [2:41:18<1:06:03, 132.13s/it]"
     ]
    },
    {
     "name": "stdout",
     "output_type": "stream",
     "text": [
      "Loss :  [691.01904296875]\n",
      "\n",
      "Epoch 1: val_loss improved from 83135.61719 to 82980.90625, saving model to best_model_weights.h5\n"
     ]
    },
    {
     "name": "stderr",
     "output_type": "stream",
     "text": [
      "\r\n",
      "Training:  71%|██████████████████████████████████████████████▊                   | 71/100 [2:43:29<1:03:41, 131.78s/it]"
     ]
    },
    {
     "name": "stdout",
     "output_type": "stream",
     "text": [
      "Loss :  [585.2443237304688]\n",
      "\n",
      "Epoch 1: val_loss did not improve from 82980.90625\n"
     ]
    },
    {
     "name": "stderr",
     "output_type": "stream",
     "text": [
      "\r\n",
      "Training:  72%|███████████████████████████████████████████████▌                  | 72/100 [2:45:42<1:01:35, 131.96s/it]"
     ]
    },
    {
     "name": "stdout",
     "output_type": "stream",
     "text": [
      "Loss :  [507.5086364746094]\n",
      "\n",
      "Epoch 1: val_loss improved from 82980.90625 to 82730.18750, saving model to best_model_weights.h5\n"
     ]
    },
    {
     "name": "stderr",
     "output_type": "stream",
     "text": [
      "\r\n",
      "Training:  73%|█████████████████████████████████████████████████▋                  | 73/100 [2:47:52<59:13, 131.59s/it]"
     ]
    },
    {
     "name": "stdout",
     "output_type": "stream",
     "text": [
      "Loss :  [420.79290771484375]\n",
      "\n",
      "Epoch 1: val_loss did not improve from 82730.18750\n"
     ]
    },
    {
     "name": "stderr",
     "output_type": "stream",
     "text": [
      "\r\n",
      "Training:  74%|██████████████████████████████████████████████████▎                 | 74/100 [2:50:07<57:22, 132.39s/it]"
     ]
    },
    {
     "name": "stdout",
     "output_type": "stream",
     "text": [
      "Loss :  [432.22930908203125]\n",
      "\n",
      "Epoch 1: val_loss did not improve from 82730.18750\n"
     ]
    },
    {
     "name": "stderr",
     "output_type": "stream",
     "text": [
      "\r\n",
      "Training:  75%|███████████████████████████████████████████████████                 | 75/100 [2:52:25<55:55, 134.22s/it]"
     ]
    },
    {
     "name": "stdout",
     "output_type": "stream",
     "text": [
      "Loss :  [540.0759887695312]\n",
      "\n",
      "Epoch 1: val_loss did not improve from 82730.18750\n"
     ]
    },
    {
     "name": "stderr",
     "output_type": "stream",
     "text": [
      "\r\n",
      "Training:  76%|███████████████████████████████████████████████████▋                | 76/100 [2:54:43<54:04, 135.21s/it]"
     ]
    },
    {
     "name": "stdout",
     "output_type": "stream",
     "text": [
      "Loss :  [1009.6923828125]\n",
      "\n",
      "Epoch 1: val_loss did not improve from 82730.18750\n"
     ]
    },
    {
     "name": "stderr",
     "output_type": "stream",
     "text": [
      "\r\n",
      "Training:  77%|████████████████████████████████████████████████████▎               | 77/100 [2:56:55<51:28, 134.27s/it]"
     ]
    },
    {
     "name": "stdout",
     "output_type": "stream",
     "text": [
      "Loss :  [1442.4083251953125]\n",
      "\n",
      "Epoch 1: val_loss did not improve from 82730.18750\n"
     ]
    },
    {
     "name": "stderr",
     "output_type": "stream",
     "text": [
      "\r\n",
      "Training:  78%|█████████████████████████████████████████████████████               | 78/100 [2:59:14<49:44, 135.67s/it]"
     ]
    },
    {
     "name": "stdout",
     "output_type": "stream",
     "text": [
      "Loss :  [1577.0013427734375]\n",
      "\n",
      "Epoch 1: val_loss improved from 82730.18750 to 82662.65625, saving model to best_model_weights.h5\n"
     ]
    },
    {
     "name": "stderr",
     "output_type": "stream",
     "text": [
      "\r\n",
      "Training:  79%|█████████████████████████████████████████████████████▋              | 79/100 [3:01:28<47:18, 135.18s/it]"
     ]
    },
    {
     "name": "stdout",
     "output_type": "stream",
     "text": [
      "Loss :  [918.1226196289062]\n",
      "\n",
      "Epoch 1: val_loss improved from 82662.65625 to 82517.15625, saving model to best_model_weights.h5\n"
     ]
    },
    {
     "name": "stderr",
     "output_type": "stream",
     "text": [
      "\r\n",
      "Training:  80%|██████████████████████████████████████████████████████▍             | 80/100 [3:03:44<45:11, 135.60s/it]"
     ]
    },
    {
     "name": "stdout",
     "output_type": "stream",
     "text": [
      "Loss :  [490.9365234375]\n",
      "\n",
      "Epoch 1: val_loss improved from 82517.15625 to 82142.89062, saving model to best_model_weights.h5\n"
     ]
    },
    {
     "name": "stderr",
     "output_type": "stream",
     "text": [
      "\r\n",
      "Training:  81%|███████████████████████████████████████████████████████             | 81/100 [3:05:57<42:42, 134.85s/it]"
     ]
    },
    {
     "name": "stdout",
     "output_type": "stream",
     "text": [
      "Loss :  [288.3812255859375]\n",
      "\n",
      "Epoch 1: val_loss did not improve from 82142.89062\n"
     ]
    },
    {
     "name": "stderr",
     "output_type": "stream",
     "text": [
      "\r\n",
      "Training:  82%|███████████████████████████████████████████████████████▊            | 82/100 [3:08:16<40:49, 136.11s/it]"
     ]
    },
    {
     "name": "stdout",
     "output_type": "stream",
     "text": [
      "Loss :  [193.2667999267578]\n",
      "\n",
      "Epoch 1: val_loss did not improve from 82142.89062\n"
     ]
    },
    {
     "name": "stderr",
     "output_type": "stream",
     "text": [
      "\r\n",
      "Training:  83%|████████████████████████████████████████████████████████▍           | 83/100 [3:10:37<38:54, 137.35s/it]"
     ]
    },
    {
     "name": "stdout",
     "output_type": "stream",
     "text": [
      "Loss :  [214.56634521484375]\n",
      "\n",
      "Epoch 1: val_loss did not improve from 82142.89062\n"
     ]
    },
    {
     "name": "stderr",
     "output_type": "stream",
     "text": [
      "\r\n",
      "Training:  84%|█████████████████████████████████████████████████████████           | 84/100 [3:12:56<36:48, 138.01s/it]"
     ]
    },
    {
     "name": "stdout",
     "output_type": "stream",
     "text": [
      "Loss :  [234.5863800048828]\n",
      "\n",
      "Epoch 1: val_loss did not improve from 82142.89062\n"
     ]
    },
    {
     "name": "stderr",
     "output_type": "stream",
     "text": [
      "\r\n",
      "Training:  85%|█████████████████████████████████████████████████████████▊          | 85/100 [3:15:10<34:13, 136.91s/it]"
     ]
    },
    {
     "name": "stdout",
     "output_type": "stream",
     "text": [
      "Loss :  [304.48101806640625]\n",
      "\n",
      "Epoch 1: val_loss improved from 82142.89062 to 82094.69531, saving model to best_model_weights.h5\n"
     ]
    },
    {
     "name": "stderr",
     "output_type": "stream",
     "text": [
      "\r\n",
      "Training:  86%|██████████████████████████████████████████████████████████▍         | 86/100 [3:17:25<31:45, 136.08s/it]"
     ]
    },
    {
     "name": "stdout",
     "output_type": "stream",
     "text": [
      "Loss :  [419.77056884765625]\n",
      "\n",
      "Epoch 1: val_loss did not improve from 82094.69531\n"
     ]
    },
    {
     "name": "stderr",
     "output_type": "stream",
     "text": [
      "\r\n",
      "Training:  87%|███████████████████████████████████████████████████████████▏        | 87/100 [3:19:35<29:07, 134.41s/it]"
     ]
    },
    {
     "name": "stdout",
     "output_type": "stream",
     "text": [
      "Loss :  [782.6936645507812]\n",
      "\n",
      "Epoch 1: val_loss did not improve from 82094.69531\n"
     ]
    },
    {
     "name": "stderr",
     "output_type": "stream",
     "text": [
      "\r\n",
      "Training:  88%|███████████████████████████████████████████████████████████▊        | 88/100 [3:21:48<26:47, 133.92s/it]"
     ]
    },
    {
     "name": "stdout",
     "output_type": "stream",
     "text": [
      "Loss :  [1215.8460693359375]\n",
      "\n",
      "Epoch 1: val_loss did not improve from 82094.69531\n"
     ]
    },
    {
     "name": "stderr",
     "output_type": "stream",
     "text": [
      "\r\n",
      "Training:  89%|████████████████████████████████████████████████████████████▌       | 89/100 [3:24:00<24:26, 133.34s/it]"
     ]
    },
    {
     "name": "stdout",
     "output_type": "stream",
     "text": [
      "Loss :  [1128.640380859375]\n",
      "\n",
      "Epoch 1: val_loss did not improve from 82094.69531\n"
     ]
    },
    {
     "name": "stderr",
     "output_type": "stream",
     "text": [
      "\r\n",
      "Training:  90%|█████████████████████████████████████████████████████████████▏      | 90/100 [3:26:15<22:18, 133.86s/it]"
     ]
    },
    {
     "name": "stdout",
     "output_type": "stream",
     "text": [
      "Loss :  [678.03955078125]\n",
      "\n",
      "Epoch 1: val_loss did not improve from 82094.69531\n"
     ]
    },
    {
     "name": "stderr",
     "output_type": "stream",
     "text": [
      "\r\n",
      "Training:  91%|█████████████████████████████████████████████████████████████▉      | 91/100 [3:28:28<20:01, 133.54s/it]"
     ]
    },
    {
     "name": "stdout",
     "output_type": "stream",
     "text": [
      "Loss :  [653.5504760742188]\n",
      "\n",
      "Epoch 1: val_loss improved from 82094.69531 to 81284.28906, saving model to best_model_weights.h5\n"
     ]
    },
    {
     "name": "stderr",
     "output_type": "stream",
     "text": [
      "\r\n",
      "Training:  92%|██████████████████████████████████████████████████████████████▌     | 92/100 [3:30:40<17:45, 133.17s/it]"
     ]
    },
    {
     "name": "stdout",
     "output_type": "stream",
     "text": [
      "Loss :  [825.0529174804688]\n",
      "\n",
      "Epoch 1: val_loss did not improve from 81284.28906\n"
     ]
    },
    {
     "name": "stderr",
     "output_type": "stream",
     "text": [
      "\r\n",
      "Training:  93%|███████████████████████████████████████████████████████████████▏    | 93/100 [3:32:54<15:33, 133.37s/it]"
     ]
    },
    {
     "name": "stdout",
     "output_type": "stream",
     "text": [
      "Loss :  [533.0183715820312]\n",
      "\n",
      "Epoch 1: val_loss did not improve from 81284.28906\n"
     ]
    },
    {
     "name": "stderr",
     "output_type": "stream",
     "text": [
      "\r\n",
      "Training:  94%|███████████████████████████████████████████████████████████████▉    | 94/100 [3:35:05<13:15, 132.67s/it]"
     ]
    },
    {
     "name": "stdout",
     "output_type": "stream",
     "text": [
      "Loss :  [274.89886474609375]\n",
      "\n",
      "Epoch 1: val_loss did not improve from 81284.28906\n"
     ]
    },
    {
     "name": "stderr",
     "output_type": "stream",
     "text": [
      "\r\n",
      "Training:  95%|████████████████████████████████████████████████████████████████▌   | 95/100 [3:37:16<11:01, 132.23s/it]"
     ]
    },
    {
     "name": "stdout",
     "output_type": "stream",
     "text": [
      "Loss :  [183.92591857910156]\n",
      "\n",
      "Epoch 1: val_loss did not improve from 81284.28906\n"
     ]
    },
    {
     "name": "stderr",
     "output_type": "stream",
     "text": [
      "\r\n",
      "Training:  96%|█████████████████████████████████████████████████████████████████▎  | 96/100 [3:39:32<08:53, 133.25s/it]"
     ]
    },
    {
     "name": "stdout",
     "output_type": "stream",
     "text": [
      "Loss :  [151.6776885986328]\n",
      "\n",
      "Epoch 1: val_loss did not improve from 81284.28906\n"
     ]
    },
    {
     "name": "stderr",
     "output_type": "stream",
     "text": [
      "\r\n",
      "Training:  97%|█████████████████████████████████████████████████████████████████▉  | 97/100 [3:41:51<06:44, 134.96s/it]"
     ]
    },
    {
     "name": "stdout",
     "output_type": "stream",
     "text": [
      "Loss :  [143.62461853027344]\n",
      "\n",
      "Epoch 1: val_loss did not improve from 81284.28906\n"
     ]
    },
    {
     "name": "stderr",
     "output_type": "stream",
     "text": [
      "\r\n",
      "Training:  98%|██████████████████████████████████████████████████████████████████▋ | 98/100 [3:44:08<04:31, 135.51s/it]"
     ]
    },
    {
     "name": "stdout",
     "output_type": "stream",
     "text": [
      "Loss :  [184.63235473632812]\n",
      "\n",
      "Epoch 1: val_loss did not improve from 81284.28906\n"
     ]
    },
    {
     "name": "stderr",
     "output_type": "stream",
     "text": [
      "\r\n",
      "Training:  99%|███████████████████████████████████████████████████████████████████▎| 99/100 [3:46:18<02:13, 133.93s/it]"
     ]
    },
    {
     "name": "stdout",
     "output_type": "stream",
     "text": [
      "Loss :  [310.6312561035156]\n",
      "\n",
      "Epoch 1: val_loss did not improve from 81284.28906\n"
     ]
    },
    {
     "name": "stderr",
     "output_type": "stream",
     "text": [
      "\r\n",
      "Training: 100%|███████████████████████████████████████████████████████████████████| 100/100 [3:48:25<00:00, 132.05s/it]"
     ]
    },
    {
     "name": "stdout",
     "output_type": "stream",
     "text": [
      "Loss :  [1012.8612060546875]\n"
     ]
    },
    {
     "name": "stderr",
     "output_type": "stream",
     "text": [
      "Training: 100%|███████████████████████████████████████████████████████████████████| 100/100 [3:48:26<00:00, 137.06s/it]\n"
     ]
    },
    {
     "name": "stdout",
     "output_type": "stream",
     "text": [
      "79/79 [==============================] - 17s 148ms/step\n",
      "MSE :  89491.47586404636 \tMAE :  226.46459103309564 \tR2 :  0.5216860401214192\n"
     ]
    }
   ],
   "source": [
    "def load_glove_embeddings(file_path):\n",
    "    embeddings_index = {}    \n",
    "    with open(file_path, 'r', encoding = 'utf-8') as f:\n",
    "        for line in f:\n",
    "            values = line.split()\n",
    "            word = values[0]\n",
    "            coefs = np.asarray(values[1:], dtype = 'float32')\n",
    "            embeddings_index[word] = coefs\n",
    "    return embeddings_index\n",
    "\n",
    "def create_embedding_matrix(tokenizer, embeddings_index, embedding_dim = 300):\n",
    "    vocabulary_size = len(tokenizer.word_index) + 1\n",
    "    embedding_matrix = np.zeros((vocabulary_size, embedding_dim))\n",
    "    \n",
    "    for word, i in tqdm(tokenizer.word_index.items(), desc = 'Creating Embeddings'):\n",
    "        embedding_vector = embeddings_index.get(word)\n",
    "        if embedding_vector is not None:\n",
    "            embedding_matrix[i] = embedding_vector\n",
    "    return embedding_matrix\n",
    "\n",
    "def prepare_sequences(tokenizer, texts, max_length):\n",
    "    sequences = tokenizer.texts_to_sequences(texts)\n",
    "    padded_sequences = pad_sequences(sequences, maxlen=max_length)\n",
    "    return padded_sequences\n",
    "\n",
    "def LSTMModel(x_train, x_test, y_train, y_test, embedding_matrix, max_length=100):\n",
    "    model = models.Sequential([\n",
    "        layers.Embedding(input_dim=embedding_matrix.shape[0], \n",
    "                         output_dim=embedding_matrix.shape[1], \n",
    "                         weights=[embedding_matrix], \n",
    "                         input_length=max_length,\n",
    "                         trainable=False),\n",
    "        layers.LSTM(128, return_sequences=True),\n",
    "        layers.LSTM(64),\n",
    "        layers.Dense(32, activation='relu'),\n",
    "        layers.Dense(1)  # Single output for regression\n",
    "    ])\n",
    "    \n",
    "    model.compile(optimizer='adam', loss='mean_squared_error', metrics=['mae'])\n",
    "    \n",
    "    print(model.summary())\n",
    "    \n",
    "    # Convert to numpy arrays and adjust scale as needed\n",
    "    y_train = y_train * 1000  \n",
    "    y_test = y_test * 1000\n",
    "    \n",
    "    # Early stopping callback\n",
    "    early_stopping = EarlyStopping(\n",
    "        monitor='val_loss',\n",
    "        patience=10,\n",
    "        restore_best_weights=True\n",
    "    )\n",
    "    \n",
    "    model_checkpoint = ModelCheckpoint('best_model_weights.h5',\n",
    "                                      save_best_only=True,\n",
    "                                      save_weights_only=True,\n",
    "                                      monitor = 'val_loss',\n",
    "                                      mode = 'min',\n",
    "                                      verbose = 1)\n",
    "    \n",
    "    epochs = 100\n",
    "    batch_size = 32\n",
    "    val_split = 0.2\n",
    "\n",
    "    history = {\n",
    "        'loss': [],\n",
    "        'val_loss': []\n",
    "    }\n",
    "\n",
    "    for epoch in tqdm(range(epochs), desc='Training'):\n",
    "        history_epoch = model.fit(x_train, y_train, epochs=1, batch_size=batch_size,\n",
    "                                  validation_split=val_split, verbose=0,\n",
    "                                  callbacks=[early_stopping, model_checkpoint])\n",
    "\n",
    "        history['loss'].append(history_epoch.history['loss'][0])\n",
    "        history['val_loss'].append(history_epoch.history['val_loss'][0])\n",
    "        print(\"Loss : \", history_epoch.history['loss'])\n",
    "\n",
    "        if early_stopping.stopped_epoch > 0:\n",
    "            print(f\"Training Stopped at epoch {epoch + 1}\")\n",
    "            break\n",
    "    \n",
    "    model.load_weights('best_model_weights.h5')\n",
    "\n",
    "    y_pred = model.predict(x_test)\n",
    "    return (mean_squared_error(y_test, y_pred), \n",
    "            mean_absolute_error(y_test, y_pred), \n",
    "            r2_score(y_test, y_pred))\n",
    "\n",
    "if __name__ == \"__main__\":\n",
    "    glove_file_path = 'D:/DATA (D)/Glove/glove.6B/glove.6B.300d.txt'\n",
    "    glove_embeddings = load_glove_embeddings(glove_file_path)\n",
    "    \n",
    "    dataset = pd.read_csv('df.csv')\n",
    "    df_train = dataset.iloc[:10000, :]\n",
    "    df_test = dataset.iloc[10000:, :]\n",
    "    \n",
    "    train_texts = df_train['article'].values\n",
    "    test_texts = df_test['article'].values\n",
    "    \n",
    "    y_train = df_train['sentiment_score']\n",
    "    y_test = df_test['sentiment_score']\n",
    "    \n",
    "    tokenize = Tokenizer()\n",
    "    tokenize.fit_on_texts(train_texts)\n",
    "    \n",
    "    embedding_matrix = create_embedding_matrix(tokenize, glove_embeddings, embedding_dim = 300)\n",
    "    \n",
    "    max_length = 100\n",
    "    x_train = prepare_sequences(tokenize, train_texts, max_length)\n",
    "    x_test = prepare_sequences(tokenize, test_texts, max_length)\n",
    "\n",
    "    result = LSTMModel(x_train, x_test, y_train, y_test, embedding_matrix, max_length)\n",
    "    print(\"MSE : \", result[0], \"\\tMAE : \", result[1], \"\\tR2 : \", result[2])"
   ]
  },
  {
   "cell_type": "code",
   "execution_count": 113,
   "id": "69fe098e",
   "metadata": {},
   "outputs": [],
   "source": [
    "import pickle as pkl"
   ]
  },
  {
   "cell_type": "code",
   "execution_count": null,
   "id": "f69767e4",
   "metadata": {},
   "outputs": [],
   "source": [
    "with open('lstm.pkl', 'wb') as file:\n",
    "    file.dump(model)"
   ]
  },
  {
   "cell_type": "code",
   "execution_count": null,
   "id": "b2b46256",
   "metadata": {},
   "outputs": [],
   "source": []
  },
  {
   "cell_type": "code",
   "execution_count": null,
   "id": "56be9e0f",
   "metadata": {},
   "outputs": [],
   "source": []
  },
  {
   "cell_type": "code",
   "execution_count": null,
   "id": "9e8e74ff",
   "metadata": {},
   "outputs": [],
   "source": []
  }
 ],
 "metadata": {
  "kernelspec": {
   "display_name": "Python 3 (ipykernel)",
   "language": "python",
   "name": "python3"
  },
  "language_info": {
   "codemirror_mode": {
    "name": "ipython",
    "version": 3
   },
   "file_extension": ".py",
   "mimetype": "text/x-python",
   "name": "python",
   "nbconvert_exporter": "python",
   "pygments_lexer": "ipython3",
   "version": "3.9.19"
  }
 },
 "nbformat": 4,
 "nbformat_minor": 5
}
