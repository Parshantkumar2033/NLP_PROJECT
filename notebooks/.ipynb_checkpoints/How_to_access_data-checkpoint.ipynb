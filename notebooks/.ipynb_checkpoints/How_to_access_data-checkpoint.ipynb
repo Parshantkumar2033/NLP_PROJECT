{
 "cells": [
  {
   "cell_type": "code",
   "execution_count": 77,
   "id": "66114497",
   "metadata": {},
   "outputs": [
    {
     "ename": "ModuleNotFoundError",
     "evalue": "No module named 'tensorflow'",
     "output_type": "error",
     "traceback": [
      "\u001b[1;31m---------------------------------------------------------------------------\u001b[0m",
      "\u001b[1;31mModuleNotFoundError\u001b[0m                       Traceback (most recent call last)",
      "Cell \u001b[1;32mIn[77], line 34\u001b[0m\n\u001b[0;32m     31\u001b[0m \u001b[38;5;28;01mfrom\u001b[39;00m \u001b[38;5;21;01msklearn\u001b[39;00m\u001b[38;5;21;01m.\u001b[39;00m\u001b[38;5;21;01mcompose\u001b[39;00m \u001b[38;5;28;01mimport\u001b[39;00m ColumnTransformer\n\u001b[0;32m     32\u001b[0m \u001b[38;5;28;01mfrom\u001b[39;00m \u001b[38;5;21;01msklearn\u001b[39;00m\u001b[38;5;21;01m.\u001b[39;00m\u001b[38;5;21;01mbase\u001b[39;00m \u001b[38;5;28;01mimport\u001b[39;00m BaseEstimator, TransformerMixin\n\u001b[1;32m---> 34\u001b[0m \u001b[38;5;28;01mfrom\u001b[39;00m \u001b[38;5;21;01mtensorflow\u001b[39;00m\u001b[38;5;21;01m.\u001b[39;00m\u001b[38;5;21;01mkeras\u001b[39;00m \u001b[38;5;28;01mimport\u001b[39;00m layers, models\n\u001b[0;32m     35\u001b[0m \u001b[38;5;28;01mfrom\u001b[39;00m \u001b[38;5;21;01mtensorflow\u001b[39;00m\u001b[38;5;21;01m.\u001b[39;00m\u001b[38;5;21;01mkeras\u001b[39;00m\u001b[38;5;21;01m.\u001b[39;00m\u001b[38;5;21;01mpreprocessing\u001b[39;00m\u001b[38;5;21;01m.\u001b[39;00m\u001b[38;5;21;01msequence\u001b[39;00m \u001b[38;5;28;01mimport\u001b[39;00m pad_sequences\n\u001b[0;32m     36\u001b[0m \u001b[38;5;28;01mfrom\u001b[39;00m \u001b[38;5;21;01mkeras\u001b[39;00m\u001b[38;5;21;01m.\u001b[39;00m\u001b[38;5;21;01mpreprocessing\u001b[39;00m\u001b[38;5;21;01m.\u001b[39;00m\u001b[38;5;21;01mtext\u001b[39;00m \u001b[38;5;28;01mimport\u001b[39;00m Tokenizer\n",
      "\u001b[1;31mModuleNotFoundError\u001b[0m: No module named 'tensorflow'"
     ]
    }
   ],
   "source": [
    "import pandas as pd\n",
    "import numpy as np\n",
    "from sklearn.feature_extraction.text import TfidfVectorizer\n",
    "import gensim\n",
    "from gensim.models import Word2Vec\n",
    "import nltk\n",
    "from nltk.tokenize import word_tokenize, sent_tokenize\n",
    "from tqdm import tqdm\n",
    "from nltk.corpus import stopwords\n",
    "\n",
    "import numpy as np\n",
    "import pandas as pd\n",
    "import matplotlib.pyplot as plt\n",
    "import nltk\n",
    "from sklearn.utils import shuffle\n",
    "import string\n",
    "import spacy\n",
    "import re\n",
    "import os\n",
    "from tqdm import tqdm\n",
    "from nltk.corpus import stopwords\n",
    "from nltk.tokenize import word_tokenize, sent_tokenize\n",
    "from nltk.stem import PorterStemmer, WordNetLemmatizer\n",
    "from sklearn.feature_extraction.text import CountVectorizer\n",
    "from sklearn.feature_extraction.text import TfidfVectorizer\n",
    "from sklearn.linear_model import LogisticRegressionCV, LogisticRegression\n",
    "from sklearn.model_selection import StratifiedKFold\n",
    "from sklearn.metrics import confusion_matrix, ConfusionMatrixDisplay, classification_report\n",
    "from sklearn.pipeline import Pipeline, make_pipeline\n",
    "from sklearn.preprocessing import FunctionTransformer\n",
    "from sklearn.compose import ColumnTransformer\n",
    "from sklearn.base import BaseEstimator, TransformerMixin\n",
    "\n",
    "from tensorflow.keras import layers, models\n",
    "from tensorflow.keras.preprocessing.sequence import pad_sequences\n",
    "from keras.preprocessing.text import Tokenizer"
   ]
  },
  {
   "cell_type": "code",
   "execution_count": 30,
   "id": "c2c3b57d",
   "metadata": {},
   "outputs": [],
   "source": [
    "ps = PorterStemmer()\n",
    "puncts = string.punctuation\n",
    "stop_words = set(stopwords.words('english'))\n",
    "lemmatizer = WordNetLemmatizer()\n",
    "tags = re.compile(r'<.*?>')\n",
    "remove_non_alpha = re.compile(r'\\W')\n",
    "spaces = re.compile(r'\\s+')\n",
    "not_alpha_numeric = re.compile(r'[^a-zA-Z0-9\\s]')\n",
    "urls = re.compile(r'http\\S+|www\\S+')\n",
    "remove_non_ascii = re.compile(r'[^\\x00-\\x7F]+')\n",
    "mentions = re.compile(r'[@#]\\w+')\n",
    "\n",
    "nlp = spacy.load('en_core_web_sm')\n",
    "\n",
    "def get_wordnet_pos(word):\n",
    "    tag = nltk.pos_tag([word])[0][1][0].upper()\n",
    "    tag_dict = {\n",
    "        'J' : wordnet.ADJ, \n",
    "        'N' : wordnet.NOUN,\n",
    "        'V' : wordnet.VERB,\n",
    "        'R' : wordnet.ADV\n",
    "    }\n",
    "    return tag_dict.get(tag, wordnet.NOUN)\n",
    "\n",
    "def cleaning(text, stemming = True):\n",
    "    text = text.lower()\n",
    "    text = tags.sub('', text)\n",
    "#     text = remove_notn_alpha.sub(, ' ', text) # we don't want to lose the numerical information\n",
    "    text = spaces.sub(' ', text)\n",
    "    text = not_alpha_numeric.sub(' ', text)\n",
    "    text = urls.sub('', text)\n",
    "#     text = re.sub(r'\\d+', '', text)\n",
    "    text = remove_non_ascii.sub('', text) # to remove non-ascii characters\n",
    "    text = mentions.sub('', text)\n",
    "    text = text.translate(str.maketrans('', '', string.punctuation))\n",
    "    \n",
    "    tokens = word_tokenize(text)\n",
    "    \n",
    "    # Stemming\n",
    "    if stemming:\n",
    "        s = [word for word in tokens if word not in stop_words]\n",
    "        s = [ps.stem(word) for word in s]\n",
    "        \n",
    "    # Lemmatization\n",
    "    else:\n",
    "        doc = nlp(text)\n",
    "        s = [token.lemma_ for token in doc]\n",
    "        \n",
    "    return ' '.join(s)"
   ]
  },
  {
   "cell_type": "code",
   "execution_count": 35,
   "id": "ab76ecab",
   "metadata": {},
   "outputs": [],
   "source": [
    "txt = 'Banking system low-cost deposits could decline further, says SBI chairman Setty SBI’s Casa ratio stood at 40.7% as on 30 June, down from 42.9% from the same period last year. Its loan book by a robust 15.4% year-on-year, outpacing deposit growth of 8.2% in the June quarter. Mumbai: The share of low-cost deposits in the banking system could decline further and go below the levels seen before covid-19 on the back of efficient cash management by the government, the chairman of India’s largest lender SBI C.S. Setty said.' \n",
    "\n",
    "\n",
    "sample = cleaning(txt, stemming=False)"
   ]
  },
  {
   "cell_type": "code",
   "execution_count": 36,
   "id": "0023e616",
   "metadata": {},
   "outputs": [
    {
     "data": {
      "text/plain": [
       "'banking system low cost deposit could decline far   say sbi chairman setty sbi s casa ratio stand at 40 7   as on 30 june   down from 42 9   from the same period last year   its loan book by a robust 15 4   year on year   outpace deposit growth of 8 2   in the june quarter   mumbai   the share of low cost deposit in the banking system could decline far and go below the level see before covid 19 on the back of efficient cash management by the government   the chairman of india s large lender sbi c s   setty say'"
      ]
     },
     "execution_count": 36,
     "metadata": {},
     "output_type": "execute_result"
    }
   ],
   "source": [
    "sample"
   ]
  },
  {
   "cell_type": "code",
   "execution_count": 75,
   "id": "66bebb22",
   "metadata": {},
   "outputs": [
    {
     "name": "stderr",
     "output_type": "stream",
     "text": [
      "100%|████████████████████████████████████████████████████████████████████████████| 12502/12502 [07:27<00:00, 27.92it/s]\n"
     ]
    }
   ],
   "source": [
    "cleaned_data = data['article'].progress_apply(lambda x : cleaning(x, stemming = False))"
   ]
  },
  {
   "cell_type": "code",
   "execution_count": null,
   "id": "7e3e45f1",
   "metadata": {},
   "outputs": [],
   "source": []
  },
  {
   "cell_type": "code",
   "execution_count": null,
   "id": "68a8682a",
   "metadata": {},
   "outputs": [],
   "source": []
  },
  {
   "cell_type": "code",
   "execution_count": 70,
   "id": "98df9f0d",
   "metadata": {},
   "outputs": [],
   "source": [
    "data = pd.read_csv('dataset.csv')"
   ]
  },
  {
   "cell_type": "code",
   "execution_count": 71,
   "id": "3b6e7222",
   "metadata": {},
   "outputs": [],
   "source": [
    "data.dropna(inplace = True)"
   ]
  },
  {
   "cell_type": "code",
   "execution_count": 72,
   "id": "f8dd0d43",
   "metadata": {},
   "outputs": [
    {
     "data": {
      "text/plain": [
       "published_at       0\n",
       "uuid               0\n",
       "sentiment_score    0\n",
       "article            0\n",
       "dtype: int64"
      ]
     },
     "execution_count": 72,
     "metadata": {},
     "output_type": "execute_result"
    }
   ],
   "source": [
    "data.isnull().sum()"
   ]
  },
  {
   "cell_type": "code",
   "execution_count": 12,
   "id": "94c5fd92",
   "metadata": {},
   "outputs": [
    {
     "name": "stderr",
     "output_type": "stream",
     "text": [
      "100%|████████████████████████████████████████████████████████████████████████████| 12502/12502 [03:50<00:00, 54.19it/s]\n"
     ]
    }
   ],
   "source": [
    "tqdm.pandas()\n",
    "stop_words = set(stopwords.words('english'))\n",
    "\n",
    "def tokenize(text):\n",
    "    data = [word for word in word_tokenize(text) if word not in stop_words]\n",
    "    return data\n",
    "\n",
    "df = data['article'].progress_apply(tokenize)"
   ]
  },
  {
   "cell_type": "code",
   "execution_count": 14,
   "id": "b19497ed",
   "metadata": {},
   "outputs": [],
   "source": [
    "def sent_to_vector(tokens, model):\n",
    "    word_vectors = [model.wv.get_vector(word) for word in tokens if word in model.wv.key_to_index]\n",
    "    \n",
    "    if len(word_vectors) > 0:\n",
    "        emb_vector = np.mean(word_vectors, axis = 0)\n",
    "    else:\n",
    "        emb_vector = np.zeros(model.vector_size)\n",
    "    return emb_vector"
   ]
  },
  {
   "cell_type": "code",
   "execution_count": 67,
   "id": "489465fb",
   "metadata": {},
   "outputs": [],
   "source": [
    "cbow = Word2Vec(df, vector_size=20, workers=8, window = 5, sg = 1)"
   ]
  },
  {
   "cell_type": "code",
   "execution_count": 68,
   "id": "3254480c",
   "metadata": {},
   "outputs": [],
   "source": [
    "cbow_data = sent_to_vector(sample, cbow)"
   ]
  },
  {
   "cell_type": "code",
   "execution_count": 69,
   "id": "bc5606dd",
   "metadata": {},
   "outputs": [
    {
     "data": {
      "text/plain": [
       "array([ 0.15, -0.31,  0.16,  0.22,  0.22, -0.7 ,  0.38,  0.17, -0.25,\n",
       "        0.05,  0.27, -0.23, -0.01, -0.19, -0.21,  0.65,  0.67, -0.54,\n",
       "       -0.26, -0.84], dtype=float32)"
      ]
     },
     "execution_count": 69,
     "metadata": {},
     "output_type": "execute_result"
    }
   ],
   "source": [
    "np.round(cbow_data, 2)"
   ]
  },
  {
   "cell_type": "code",
   "execution_count": null,
   "id": "78cf072d",
   "metadata": {},
   "outputs": [],
   "source": [
    "[ 0.15, -0.31,  0.16,  0.22,  0.22, -0.7 ,  0.38,  0.17, -0.25, 0.05,  0.27, -0.23, -0.01, -0.19, -0.21,  0.65,  0.67, -0.54, -0.26, -0.84]"
   ]
  },
  {
   "cell_type": "code",
   "execution_count": null,
   "id": "5c8667b7",
   "metadata": {},
   "outputs": [],
   "source": []
  },
  {
   "cell_type": "code",
   "execution_count": null,
   "id": "b1396e70",
   "metadata": {},
   "outputs": [],
   "source": []
  },
  {
   "cell_type": "code",
   "execution_count": 59,
   "id": "ffb06cd9",
   "metadata": {},
   "outputs": [
    {
     "data": {
      "text/html": [
       "<style>#sk-container-id-8 {color: black;}#sk-container-id-8 pre{padding: 0;}#sk-container-id-8 div.sk-toggleable {background-color: white;}#sk-container-id-8 label.sk-toggleable__label {cursor: pointer;display: block;width: 100%;margin-bottom: 0;padding: 0.3em;box-sizing: border-box;text-align: center;}#sk-container-id-8 label.sk-toggleable__label-arrow:before {content: \"▸\";float: left;margin-right: 0.25em;color: #696969;}#sk-container-id-8 label.sk-toggleable__label-arrow:hover:before {color: black;}#sk-container-id-8 div.sk-estimator:hover label.sk-toggleable__label-arrow:before {color: black;}#sk-container-id-8 div.sk-toggleable__content {max-height: 0;max-width: 0;overflow: hidden;text-align: left;background-color: #f0f8ff;}#sk-container-id-8 div.sk-toggleable__content pre {margin: 0.2em;color: black;border-radius: 0.25em;background-color: #f0f8ff;}#sk-container-id-8 input.sk-toggleable__control:checked~div.sk-toggleable__content {max-height: 200px;max-width: 100%;overflow: auto;}#sk-container-id-8 input.sk-toggleable__control:checked~label.sk-toggleable__label-arrow:before {content: \"▾\";}#sk-container-id-8 div.sk-estimator input.sk-toggleable__control:checked~label.sk-toggleable__label {background-color: #d4ebff;}#sk-container-id-8 div.sk-label input.sk-toggleable__control:checked~label.sk-toggleable__label {background-color: #d4ebff;}#sk-container-id-8 input.sk-hidden--visually {border: 0;clip: rect(1px 1px 1px 1px);clip: rect(1px, 1px, 1px, 1px);height: 1px;margin: -1px;overflow: hidden;padding: 0;position: absolute;width: 1px;}#sk-container-id-8 div.sk-estimator {font-family: monospace;background-color: #f0f8ff;border: 1px dotted black;border-radius: 0.25em;box-sizing: border-box;margin-bottom: 0.5em;}#sk-container-id-8 div.sk-estimator:hover {background-color: #d4ebff;}#sk-container-id-8 div.sk-parallel-item::after {content: \"\";width: 100%;border-bottom: 1px solid gray;flex-grow: 1;}#sk-container-id-8 div.sk-label:hover label.sk-toggleable__label {background-color: #d4ebff;}#sk-container-id-8 div.sk-serial::before {content: \"\";position: absolute;border-left: 1px solid gray;box-sizing: border-box;top: 0;bottom: 0;left: 50%;z-index: 0;}#sk-container-id-8 div.sk-serial {display: flex;flex-direction: column;align-items: center;background-color: white;padding-right: 0.2em;padding-left: 0.2em;position: relative;}#sk-container-id-8 div.sk-item {position: relative;z-index: 1;}#sk-container-id-8 div.sk-parallel {display: flex;align-items: stretch;justify-content: center;background-color: white;position: relative;}#sk-container-id-8 div.sk-item::before, #sk-container-id-8 div.sk-parallel-item::before {content: \"\";position: absolute;border-left: 1px solid gray;box-sizing: border-box;top: 0;bottom: 0;left: 50%;z-index: -1;}#sk-container-id-8 div.sk-parallel-item {display: flex;flex-direction: column;z-index: 1;position: relative;background-color: white;}#sk-container-id-8 div.sk-parallel-item:first-child::after {align-self: flex-end;width: 50%;}#sk-container-id-8 div.sk-parallel-item:last-child::after {align-self: flex-start;width: 50%;}#sk-container-id-8 div.sk-parallel-item:only-child::after {width: 0;}#sk-container-id-8 div.sk-dashed-wrapped {border: 1px dashed gray;margin: 0 0.4em 0.5em 0.4em;box-sizing: border-box;padding-bottom: 0.4em;background-color: white;}#sk-container-id-8 div.sk-label label {font-family: monospace;font-weight: bold;display: inline-block;line-height: 1.2em;}#sk-container-id-8 div.sk-label-container {text-align: center;}#sk-container-id-8 div.sk-container {/* jupyter's `normalize.less` sets `[hidden] { display: none; }` but bootstrap.min.css set `[hidden] { display: none !important; }` so we also need the `!important` here to be able to override the default hidden behavior on the sphinx rendered scikit-learn.org. See: https://github.com/scikit-learn/scikit-learn/issues/21755 */display: inline-block !important;position: relative;}#sk-container-id-8 div.sk-text-repr-fallback {display: none;}</style><div id=\"sk-container-id-8\" class=\"sk-top-container\"><div class=\"sk-text-repr-fallback\"><pre>TfidfVectorizer(max_features=100, ngram_range=(2, 2), stop_words=&#x27;english&#x27;,\n",
       "                sublinear_tf=True)</pre><b>In a Jupyter environment, please rerun this cell to show the HTML representation or trust the notebook. <br />On GitHub, the HTML representation is unable to render, please try loading this page with nbviewer.org.</b></div><div class=\"sk-container\" hidden><div class=\"sk-item\"><div class=\"sk-estimator sk-toggleable\"><input class=\"sk-toggleable__control sk-hidden--visually\" id=\"sk-estimator-id-8\" type=\"checkbox\" checked><label for=\"sk-estimator-id-8\" class=\"sk-toggleable__label sk-toggleable__label-arrow\">TfidfVectorizer</label><div class=\"sk-toggleable__content\"><pre>TfidfVectorizer(max_features=100, ngram_range=(2, 2), stop_words=&#x27;english&#x27;,\n",
       "                sublinear_tf=True)</pre></div></div></div></div></div>"
      ],
      "text/plain": [
       "TfidfVectorizer(max_features=100, ngram_range=(2, 2), stop_words='english',\n",
       "                sublinear_tf=True)"
      ]
     },
     "execution_count": 59,
     "metadata": {},
     "output_type": "execute_result"
    }
   ],
   "source": [
    "tf = TfidfVectorizer(sublinear_tf = True, ngram_range=(2, 2), max_features = 100, stop_words='english')\n",
    "tf.fit(data)"
   ]
  },
  {
   "cell_type": "code",
   "execution_count": 60,
   "id": "d0c8b0f6",
   "metadata": {
    "collapsed": true
   },
   "outputs": [
    {
     "data": {
      "text/plain": [
       "{'sensex nifty': 81,\n",
       " 'stock market': 86,\n",
       " 'tata consultancy': 88,\n",
       " 'consultancy service': 22,\n",
       " 'state bank': 85,\n",
       " 'bank india': 14,\n",
       " 'ultratech cement': 93,\n",
       " 'larsen toubro': 50,\n",
       " 'adani port': 4,\n",
       " 'bajaj finance': 7,\n",
       " 'mahindra mahindra': 55,\n",
       " 'reliance industry': 73,\n",
       " 'bharti airtel': 17,\n",
       " 'icici bank': 35,\n",
       " 'hdfc bank': 32,\n",
       " 'psu bank': 70,\n",
       " 'bank index': 13,\n",
       " 'tata motors': 90,\n",
       " 'bajaj finserv': 8,\n",
       " 'india sbi': 41,\n",
       " 'punjab national': 72,\n",
       " 'national bank': 61,\n",
       " 'cent state': 20,\n",
       " 'tata motor': 89,\n",
       " 'bank hdfc': 11,\n",
       " 'bse sensex': 18,\n",
       " 'asian paint': 5,\n",
       " 'hindustan unilever': 33,\n",
       " 'india bank': 39,\n",
       " 'rs 000': 76,\n",
       " '000 crore': 0,\n",
       " 'fix deposit': 30,\n",
       " 'senior citizen': 79,\n",
       " 'axis bank': 6,\n",
       " 'share price': 83,\n",
       " 'crore state': 26,\n",
       " 'include state': 36,\n",
       " 'life insurance': 52,\n",
       " 'union bank': 94,\n",
       " 'lender state': 51,\n",
       " 'bank state': 15,\n",
       " 'indusind bank': 45,\n",
       " 'public sector': 71,\n",
       " 'reserve bank': 74,\n",
       " 'country large': 24,\n",
       " 'large lender': 49,\n",
       " 'new delhi': 63,\n",
       " 'basis point': 16,\n",
       " 'bank icici': 12,\n",
       " 'india large': 40,\n",
       " 'canara bank': 19,\n",
       " 'sector bank': 77,\n",
       " 'indian bank': 43,\n",
       " 'kotak mahindra': 47,\n",
       " 'mahindra bank': 54,\n",
       " 'vodafone idea': 98,\n",
       " 'home loan': 34,\n",
       " 'lakh crore': 48,\n",
       " 'supreme court': 87,\n",
       " 'bank baroda': 10,\n",
       " 'tech mahindra': 92,\n",
       " 'india stock': 42,\n",
       " 'nifty bank': 64,\n",
       " 'bank bank': 9,\n",
       " 'yes bank': 99,\n",
       " 'central bank': 21,\n",
       " 'crore rs': 25,\n",
       " 'tata steel': 91,\n",
       " 'power grid': 69,\n",
       " 'gainer nifty': 31,\n",
       " 'index trade': 38,\n",
       " 'fd rate': 29,\n",
       " 'corporation india': 23,\n",
       " 'net profit': 62,\n",
       " 'market update': 59,\n",
       " 'adani enterprise': 2,\n",
       " 'live update': 53,\n",
       " 'share bse': 82,\n",
       " 'sensex close': 80,\n",
       " 'market valuation': 60,\n",
       " '30 share': 1,\n",
       " 'nse nifty': 66,\n",
       " 'value firm': 97,\n",
       " 'sector stock': 78,\n",
       " 'update nifty': 95,\n",
       " 'nse nifty50': 67,\n",
       " 'jsw steel': 46,\n",
       " 'market sector': 58,\n",
       " 'market fall': 56,\n",
       " 'fall 30': 28,\n",
       " 'nifty pack': 65,\n",
       " 'pack hand': 68,\n",
       " 'indice stock': 44,\n",
       " 'index close': 37,\n",
       " 'stand gainer': 84,\n",
       " 'market rise': 57,\n",
       " 'rise 30': 75,\n",
       " 'adani group': 3,\n",
       " 'electoral bond': 27,\n",
       " 'update state': 96}"
      ]
     },
     "execution_count": 60,
     "metadata": {},
     "output_type": "execute_result"
    }
   ],
   "source": [
    "tf.vocabulary_"
   ]
  },
  {
   "cell_type": "code",
   "execution_count": 61,
   "id": "01424a7c",
   "metadata": {},
   "outputs": [
    {
     "data": {
      "text/plain": [
       "array([[0.  , 0.  , 0.  , 0.  , 0.  , 0.  , 0.  , 0.  , 0.  , 0.  , 0.  ,\n",
       "        0.  , 0.  , 0.  , 0.  , 0.  , 0.  , 0.  , 0.  , 0.  , 0.  , 0.  ,\n",
       "        0.  , 0.  , 0.  , 0.  , 0.  , 0.  , 0.  , 0.  , 0.  , 0.  , 0.  ,\n",
       "        0.  , 0.  , 0.  , 0.  , 0.  , 0.  , 0.  , 0.75, 0.  , 0.  , 0.  ,\n",
       "        0.  , 0.  , 0.  , 0.  , 0.  , 0.66, 0.  , 0.  , 0.  , 0.  , 0.  ,\n",
       "        0.  , 0.  , 0.  , 0.  , 0.  , 0.  , 0.  , 0.  , 0.  , 0.  , 0.  ,\n",
       "        0.  , 0.  , 0.  , 0.  , 0.  , 0.  , 0.  , 0.  , 0.  , 0.  , 0.  ,\n",
       "        0.  , 0.  , 0.  , 0.  , 0.  , 0.  , 0.  , 0.  , 0.  , 0.  , 0.  ,\n",
       "        0.  , 0.  , 0.  , 0.  , 0.  , 0.  , 0.  , 0.  , 0.  , 0.  , 0.  ,\n",
       "        0.  ]])"
      ]
     },
     "execution_count": 61,
     "metadata": {},
     "output_type": "execute_result"
    }
   ],
   "source": [
    "np.round(tf.transform([sample]).toarray(), 2)"
   ]
  },
  {
   "cell_type": "code",
   "execution_count": null,
   "id": "dbef503d",
   "metadata": {},
   "outputs": [],
   "source": [
    "[[0.  , 0.  , 0.  ,...... , 0.75, 0.  , 0.  ,... , 0.  , 0.66, 0.  , 0. , 0, ......]]"
   ]
  },
  {
   "cell_type": "code",
   "execution_count": null,
   "id": "37b2aaa0",
   "metadata": {},
   "outputs": [],
   "source": []
  },
  {
   "cell_type": "code",
   "execution_count": 76,
   "id": "b95bfc35",
   "metadata": {},
   "outputs": [
    {
     "ename": "NameError",
     "evalue": "name 'Tokenizer' is not defined",
     "output_type": "error",
     "traceback": [
      "\u001b[1;31m---------------------------------------------------------------------------\u001b[0m",
      "\u001b[1;31mNameError\u001b[0m                                 Traceback (most recent call last)",
      "Cell \u001b[1;32mIn[76], line 31\u001b[0m\n\u001b[0;32m     27\u001b[0m glove_embeddings \u001b[38;5;241m=\u001b[39m load_glove_embeddings(glove_file_path)\n\u001b[0;32m     29\u001b[0m train_texts \u001b[38;5;241m=\u001b[39m cleaned_data\n\u001b[1;32m---> 31\u001b[0m tokenize \u001b[38;5;241m=\u001b[39m \u001b[43mTokenizer\u001b[49m()\n\u001b[0;32m     32\u001b[0m tokenize\u001b[38;5;241m.\u001b[39mfit_on_texts(train_texts)\n\u001b[0;32m     34\u001b[0m embedding_matrix \u001b[38;5;241m=\u001b[39m create_embedding_matrix(tokenize, glove_embeddings, embedding_dim \u001b[38;5;241m=\u001b[39m \u001b[38;5;241m300\u001b[39m)\n",
      "\u001b[1;31mNameError\u001b[0m: name 'Tokenizer' is not defined"
     ]
    }
   ],
   "source": [
    "def load_glove_embeddings(file_path):\n",
    "    embeddings_index = {}    \n",
    "    with open(file_path, 'r', encoding = 'utf-8') as f:\n",
    "        for line in f:\n",
    "            values = line.split()\n",
    "            word = values[0]\n",
    "            coefs = np.asarray(values[1:], dtype = 'float32')\n",
    "            embeddings_index[word] = coefs\n",
    "    return embeddings_index\n",
    "\n",
    "def create_embedding_matrix(tokenizer, embeddings_index, embedding_dim = 300):\n",
    "    vocabulary_size = len(tokenizer.word_index) + 1\n",
    "    embedding_matrix = np.zeros((vocabulary_size, embedding_dim))\n",
    "    \n",
    "    for word, i in tqdm(tokenizer.word_index.items(), desc = 'Creating Embeddings'):\n",
    "        embedding_vector = embeddings_index.get(word)\n",
    "        if embedding_vector is not None:\n",
    "            embedding_matrix[i] = embedding_vector\n",
    "    return embedding_matrix\n",
    "\n",
    "def prepare_sequences(tokenizer, texts, max_length):\n",
    "    sequences = tokenizer.texts_to_sequences(texts)\n",
    "    padded_sequences = pad_sequences(sequences, maxlen=max_length)\n",
    "    return padded_sequences\n",
    "\n",
    "glove_file_path = 'D:/DATA (D)/Glove/glove.6B/glove.6B.300d.txt'\n",
    "glove_embeddings = load_glove_embeddings(glove_file_path)\n",
    "\n",
    "train_texts = cleaned_data\n",
    "\n",
    "tokenize = Tokenizer()\n",
    "tokenize.fit_on_texts(train_texts)\n",
    "\n",
    "embedding_matrix = create_embedding_matrix(tokenize, glove_embeddings, embedding_dim = 300)"
   ]
  },
  {
   "cell_type": "code",
   "execution_count": 74,
   "id": "5e124dad",
   "metadata": {},
   "outputs": [
    {
     "data": {
      "text/plain": [
       "'Sensex, Nifty Open New Year On Bright Note (RTTNews) - The Indian stock market opened the first trading session of Calendar year 2021 on a buoyant note Friday morning, and the benchmark BSE... Tata Consultancy Services, <em>State</em> <em>Bank</em> <em>of</em> <em>India</em>, UltraTech Cement, UPL and HDFC are gaining 1 to 1.8%. ITC, Infosys, Larsen & Toubro, Shree Cement, Adani Ports and Bajaj Finance are up with modest gains.\\n\\nBEL shares are up 5.4% on strong volumes.'"
      ]
     },
     "execution_count": 74,
     "metadata": {},
     "output_type": "execute_result"
    }
   ],
   "source": [
    "max_length = 100\n",
    "glove_data = prepare_sequences(tokenize, sample, max_length)\n"
   ]
  },
  {
   "cell_type": "code",
   "execution_count": null,
   "id": "6246d762",
   "metadata": {},
   "outputs": [],
   "source": []
  },
  {
   "cell_type": "code",
   "execution_count": null,
   "id": "8838501c",
   "metadata": {},
   "outputs": [],
   "source": []
  },
  {
   "cell_type": "code",
   "execution_count": null,
   "id": "edcefa56",
   "metadata": {},
   "outputs": [],
   "source": []
  },
  {
   "cell_type": "code",
   "execution_count": null,
   "id": "5e067169",
   "metadata": {},
   "outputs": [],
   "source": []
  },
  {
   "cell_type": "code",
   "execution_count": null,
   "id": "9f5bd5de",
   "metadata": {},
   "outputs": [],
   "source": []
  },
  {
   "cell_type": "code",
   "execution_count": null,
   "id": "9e7dd23f",
   "metadata": {},
   "outputs": [],
   "source": []
  },
  {
   "cell_type": "code",
   "execution_count": null,
   "id": "38342995",
   "metadata": {},
   "outputs": [],
   "source": []
  },
  {
   "cell_type": "code",
   "execution_count": null,
   "id": "35082198",
   "metadata": {},
   "outputs": [],
   "source": []
  },
  {
   "cell_type": "code",
   "execution_count": null,
   "id": "19e1d189",
   "metadata": {},
   "outputs": [],
   "source": []
  },
  {
   "cell_type": "code",
   "execution_count": null,
   "id": "d15501f6",
   "metadata": {},
   "outputs": [],
   "source": []
  },
  {
   "cell_type": "code",
   "execution_count": null,
   "id": "f383f21e",
   "metadata": {},
   "outputs": [],
   "source": []
  },
  {
   "cell_type": "code",
   "execution_count": null,
   "id": "b7a7a0d2",
   "metadata": {},
   "outputs": [],
   "source": []
  },
  {
   "cell_type": "code",
   "execution_count": null,
   "id": "ea9a42cc",
   "metadata": {},
   "outputs": [],
   "source": []
  },
  {
   "cell_type": "code",
   "execution_count": null,
   "id": "0a2ec38c",
   "metadata": {},
   "outputs": [],
   "source": []
  },
  {
   "cell_type": "code",
   "execution_count": null,
   "id": "4a3d7a7f",
   "metadata": {},
   "outputs": [],
   "source": []
  },
  {
   "cell_type": "code",
   "execution_count": null,
   "id": "f17e4d78",
   "metadata": {},
   "outputs": [],
   "source": []
  },
  {
   "cell_type": "code",
   "execution_count": null,
   "id": "cdfb0005",
   "metadata": {},
   "outputs": [],
   "source": []
  },
  {
   "cell_type": "code",
   "execution_count": null,
   "id": "83e7b157",
   "metadata": {},
   "outputs": [],
   "source": []
  }
 ],
 "metadata": {
  "kernelspec": {
   "display_name": "Python 3 (ipykernel)",
   "language": "python",
   "name": "python3"
  },
  "language_info": {
   "codemirror_mode": {
    "name": "ipython",
    "version": 3
   },
   "file_extension": ".py",
   "mimetype": "text/x-python",
   "name": "python",
   "nbconvert_exporter": "python",
   "pygments_lexer": "ipython3",
   "version": "3.9.19"
  }
 },
 "nbformat": 4,
 "nbformat_minor": 5
}
